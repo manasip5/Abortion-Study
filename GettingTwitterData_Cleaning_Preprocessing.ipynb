{
 "cells": [
  {
   "cell_type": "code",
   "execution_count": 39,
   "id": "8cbb36fc",
   "metadata": {},
   "outputs": [
    {
     "name": "stderr",
     "output_type": "stream",
     "text": [
      "[nltk_data] Downloading package stopwords to\n",
      "[nltk_data]     C:\\Users\\mayar\\AppData\\Roaming\\nltk_data...\n",
      "[nltk_data]   Unzipping corpora\\stopwords.zip.\n",
      "[nltk_data] Downloading package wordnet to\n",
      "[nltk_data]     C:\\Users\\mayar\\AppData\\Roaming\\nltk_data...\n",
      "[nltk_data]   Unzipping corpora\\wordnet.zip.\n"
     ]
    }
   ],
   "source": [
    "import tweepy\n",
    "import webbrowser \n",
    "import time\n",
    "import pandas as pd\n",
    "import re\n",
    "import seaborn as sns\n",
    "import matplotlib.pyplot as plt\n",
    "from bs4 import BeautifulSoup\n",
    "import html\n",
    "import preprocessor as pp\n",
    "import string\n",
    "import nltk\n",
    "nltk.download('stopwords')\n",
    "nltk.download('wordnet')\n",
    "from nltk.tokenize import TweetTokenizer\n",
    "from nltk.stem import WordNetLemmatizer\n",
    "from wordcloud import WordCloud"
   ]
  },
  {
   "cell_type": "markdown",
   "id": "4b7bb509",
   "metadata": {},
   "source": [
    "## Getting data from SNScrape"
   ]
  },
  {
   "cell_type": "code",
   "execution_count": null,
   "id": "0a1852c2",
   "metadata": {},
   "outputs": [],
   "source": [
    "import snscrape.modules.twitter as sntwitter\n",
    "import pandas as pd\n",
    "\n",
    "hashtags = ['abortion', 'prolife', 'prochoice']\n",
    "years = ['2016','2017','2018','2019']\n",
    "\n",
    "for hashtag in hashtags:\n",
    "    for year in years:\n",
    "        \n",
    "        # Creating list to append tweet data to\n",
    "        tweets_list = []\n",
    "        # Using TwitterSearchScraper to scrape data and append tweets to list\n",
    "        for i,tweet in enumerate(sntwitter.TwitterSearchScraper('{} since:{}-01-01 until:{}-12-31 lang:\"en\"'.format(hashtag, year, year)).get_items()):\n",
    "            if i>50000:\n",
    "                break\n",
    "            tweets_list.append([tweet.date, tweet.id, tweet.content, tweet.username]) \n",
    "            if i % 1000 == 0 and i != 0:\n",
    "                print(i)\n",
    "        # Creating a dataframe from the tweets list above \n",
    "        tweets_df = pd.DataFrame(tweets_list, columns=['Datetime', 'Tweet Id', 'Text', 'Username'])\n",
    "        tweets_df.to_csv(\"{}_{}.csv\".format(hashtag, year), encoding='utf-8-sig', index=False)"
   ]
  },
  {
   "cell_type": "markdown",
   "id": "bb7ad948",
   "metadata": {},
   "source": [
    "## Setting Twitter API"
   ]
  },
  {
   "cell_type": "code",
   "execution_count": null,
   "id": "9cf5a178",
   "metadata": {},
   "outputs": [],
   "source": [
    "consumer_apikey = \"Fkv4Ky7IFutEzVYVjLAosoG86\"\n",
    "consumer_apisecretkey = \"jr0IpDuFR5tcDGAhoIuQgR0ZU0w2iLHeFU5wVbwGb0xJFQtCHN\"\n",
    "callback_url = \"oob\" #https://cfe.sh/twitter/callback\n",
    "auth = tweepy.OAuthHandler(consumer_apikey, consumer_apisecretkey, callback_url)\n",
    "redirect_url = auth.get_authorization_url()"
   ]
  },
  {
   "cell_type": "code",
   "execution_count": null,
   "id": "a539970f",
   "metadata": {},
   "outputs": [],
   "source": [
    "webbrowser.open(redirect_url)"
   ]
  },
  {
   "cell_type": "code",
   "execution_count": null,
   "id": "f7ee1452",
   "metadata": {},
   "outputs": [],
   "source": [
    "user_pint_input = input(\"What's the pin value? \")"
   ]
  },
  {
   "cell_type": "code",
   "execution_count": null,
   "id": "8651a2e0",
   "metadata": {},
   "outputs": [],
   "source": [
    "auth.get_access_token(user_pint_input)"
   ]
  },
  {
   "cell_type": "code",
   "execution_count": null,
   "id": "9ad4b8cb",
   "metadata": {},
   "outputs": [],
   "source": [
    "api = tweepy.API(auth, wait_on_rate_limit=True)"
   ]
  },
  {
   "cell_type": "markdown",
   "id": "eb75bc0e",
   "metadata": {},
   "source": [
    "## Detecting Gender "
   ]
  },
  {
   "cell_type": "code",
   "execution_count": null,
   "id": "3f3ab0c3",
   "metadata": {},
   "outputs": [],
   "source": [
    "df"
   ]
  },
  {
   "cell_type": "code",
   "execution_count": null,
   "id": "1ca64512",
   "metadata": {},
   "outputs": [],
   "source": [
    "from gender_detector import gender_detector as gd"
   ]
  },
  {
   "cell_type": "code",
   "execution_count": null,
   "id": "e2ed69be",
   "metadata": {},
   "outputs": [],
   "source": [
    "detector = gd.GenderDetector('us') # It can also be ar, uk, uy."
   ]
  },
  {
   "cell_type": "code",
   "execution_count": null,
   "id": "42c4ffe2",
   "metadata": {},
   "outputs": [],
   "source": [
    "gender = []\n",
    "for name in list(df['Name']):\n",
    "    gender.append(detector.guess(name))\n",
    "df['Gender'] = gender"
   ]
  },
  {
   "cell_type": "code",
   "execution_count": null,
   "id": "f06298da",
   "metadata": {},
   "outputs": [],
   "source": [
    "df"
   ]
  },
  {
   "cell_type": "code",
   "execution_count": null,
   "id": "45530e56",
   "metadata": {},
   "outputs": [],
   "source": [
    "import gender_guesser.detector as gender\n"
   ]
  },
  {
   "cell_type": "code",
   "execution_count": null,
   "id": "90e4ead1",
   "metadata": {},
   "outputs": [],
   "source": [
    "d = gender.Detector(case_sensitive=False)"
   ]
  },
  {
   "cell_type": "code",
   "execution_count": null,
   "id": "7038b738",
   "metadata": {},
   "outputs": [],
   "source": [
    "gender2 = []\n",
    "for name in list(df['Name']):\n",
    "    gender2.append(d.get_gender(u\"{}\".format(name), u'usa'))\n",
    "df['Gender2'] = gender2"
   ]
  },
  {
   "cell_type": "code",
   "execution_count": null,
   "id": "1e48c216",
   "metadata": {},
   "outputs": [],
   "source": [
    "df"
   ]
  },
  {
   "cell_type": "markdown",
   "id": "3c60852e",
   "metadata": {},
   "source": [
    "## Getting Info fromTwitter API"
   ]
  },
  {
   "cell_type": "code",
   "execution_count": null,
   "id": "c15a79cd",
   "metadata": {},
   "outputs": [],
   "source": [
    "def GettingAddInfo(df):\n",
    "    locations = []\n",
    "    names = []\n",
    "    user_ids = []\n",
    "    for i,tweet in enumerate(list(df['Tweet Id'])):\n",
    "        try:\n",
    "            tweet_info = api.get_status(tweet)\n",
    "            locations.append(tweet_info.user.location)\n",
    "            names.append(tweet_info.user.name)\n",
    "            user_ids.append(tweet_info.user.id)\n",
    "            print(i)\n",
    "        except tweepy.TweepError:\n",
    "            locations.append(\"\")\n",
    "            names.append(\"\")\n",
    "            user_ids.append(\"\")\n",
    "            print(\"Failed to run the command on that user, Skipping...\")\n",
    "    df['Location'] = locations\n",
    "    df['Name'] = names\n",
    "    df['User_Id'] = user_ids\n",
    "    \n",
    "    return df"
   ]
  },
  {
   "cell_type": "markdown",
   "id": "8a0da590",
   "metadata": {},
   "source": [
    "#### Abortion 2016"
   ]
  },
  {
   "cell_type": "code",
   "execution_count": null,
   "id": "59f4b15c",
   "metadata": {},
   "outputs": [],
   "source": [
    "import pandas as pd\n",
    "file = \"abortion_2016.csv\"\n",
    "df = pd.read_csv(file)\n",
    "df['Noisy'] =  file.split('_')[0]\n",
    "df = GettingAddInfo(df)\n",
    "df.to_csv(\"{}_extended.csv\".format(file.split('.')[0]), encoding='utf-8-sig', index=False)"
   ]
  },
  {
   "cell_type": "markdown",
   "id": "99e6bc8f",
   "metadata": {},
   "source": [
    "#### Abortion 2017"
   ]
  },
  {
   "cell_type": "code",
   "execution_count": null,
   "id": "7bbd326e",
   "metadata": {},
   "outputs": [],
   "source": [
    "import pandas as pd\n",
    "file = \"abortion_2017.csv\"\n",
    "df = pd.read_csv(file)\n",
    "df['Noisy'] =  file.split('_')[0]\n",
    "df = GettingAddInfo(df)\n",
    "df.to_csv(\"{}_extended.csv\".format(file.split('.')[0]), encoding='utf-8-sig', index=False)"
   ]
  },
  {
   "cell_type": "markdown",
   "id": "3954623e",
   "metadata": {},
   "source": [
    "#### Abortion 2018"
   ]
  },
  {
   "cell_type": "code",
   "execution_count": null,
   "id": "d206d71d",
   "metadata": {},
   "outputs": [],
   "source": [
    "import pandas as pd\n",
    "file = \"abortion_2018.csv\"\n",
    "df = pd.read_csv(file)\n",
    "df['Noisy'] =  file.split('_')[0]\n",
    "df = GettingAddInfo(df)\n",
    "df.to_csv(\"{}_extended.csv\".format(file.split('.')[0]), encoding='utf-8-sig', index=False)"
   ]
  },
  {
   "cell_type": "markdown",
   "id": "d76c8312",
   "metadata": {},
   "source": [
    "#### Prolife 2016"
   ]
  },
  {
   "cell_type": "code",
   "execution_count": null,
   "id": "d4ef116b",
   "metadata": {},
   "outputs": [],
   "source": [
    "import pandas as pd\n",
    "file = \"prolife_2016.csv\"\n",
    "df = pd.read_csv(file)\n",
    "df['Noisy'] =  file.split('_')[0]\n",
    "df = GettingAddInfo(df)\n",
    "df.to_csv(\"{}_extended.csv\".format(file.split('.')[0]), encoding='utf-8-sig', index=False)"
   ]
  },
  {
   "cell_type": "markdown",
   "id": "6965f708",
   "metadata": {},
   "source": [
    "#### Prolife 2017"
   ]
  },
  {
   "cell_type": "code",
   "execution_count": null,
   "id": "31ed5ff0",
   "metadata": {},
   "outputs": [],
   "source": [
    "import pandas as pd\n",
    "file = \"prolife_2017.csv\"\n",
    "df = pd.read_csv(file)\n",
    "df['Noisy'] =  file.split('_')[0]\n",
    "df = GettingAddInfo(df)\n",
    "df.to_csv(\"{}_extended.csv\".format(file.split('.')[0]), encoding='utf-8-sig', index=False)"
   ]
  },
  {
   "cell_type": "markdown",
   "id": "eb164e3f",
   "metadata": {},
   "source": [
    "#### Prolife 2018"
   ]
  },
  {
   "cell_type": "code",
   "execution_count": null,
   "id": "938ddd5e",
   "metadata": {},
   "outputs": [],
   "source": [
    "import pandas as pd\n",
    "file = \"prolife_2018.csv\"\n",
    "df = pd.read_csv(file)\n",
    "df['Noisy'] =  file.split('_')[0]\n",
    "df = GettingAddInfo(df)\n",
    "df.to_csv(\"{}_extended.csv\".format(file.split('.')[0]), encoding='utf-8-sig', index=False)"
   ]
  },
  {
   "cell_type": "markdown",
   "id": "28b304ed",
   "metadata": {},
   "source": [
    "#### Prochoice 2016"
   ]
  },
  {
   "cell_type": "code",
   "execution_count": null,
   "id": "ab860168",
   "metadata": {
    "scrolled": false
   },
   "outputs": [],
   "source": [
    "import pandas as pd\n",
    "file = \"prochoice_2016.csv\"\n",
    "df = pd.read_csv(file)\n",
    "df['Noisy'] =  file.split('_')[0]\n",
    "df = GettingAddInfo(df)\n",
    "df.to_csv(\"{}_extended.csv\".format(file.split('.')[0]), encoding='utf-8-sig', index=False)"
   ]
  },
  {
   "cell_type": "markdown",
   "id": "036225be",
   "metadata": {},
   "source": [
    "#### Prochoice 2017"
   ]
  },
  {
   "cell_type": "code",
   "execution_count": null,
   "id": "bc95cf33",
   "metadata": {},
   "outputs": [],
   "source": [
    "import pandas as pd\n",
    "file = \"prochoice_2017.csv\"\n",
    "df = pd.read_csv(file)\n",
    "df['Noisy'] =  file.split('_')[0]\n",
    "df = GettingAddInfo(df)\n",
    "df.to_csv(\"{}_extended.csv\".format(file.split('.')[0]), encoding='utf-8-sig', index=False)"
   ]
  },
  {
   "cell_type": "markdown",
   "id": "ba251318",
   "metadata": {},
   "source": [
    "#### Prochoice 2018"
   ]
  },
  {
   "cell_type": "code",
   "execution_count": null,
   "id": "c1ebd8eb",
   "metadata": {},
   "outputs": [],
   "source": [
    "import pandas as pd\n",
    "file = \"prochoice_2018.csv\"\n",
    "df = pd.read_csv(file)\n",
    "df['Noisy'] =  file.split('_')[0]\n",
    "df = GettingAddInfo(df)\n",
    "df.to_csv(\"{}_extended.csv\".format(file.split('.')[0]), encoding='utf-8-sig', index=False)"
   ]
  },
  {
   "cell_type": "markdown",
   "id": "0e02e622",
   "metadata": {},
   "source": [
    "## Putting Data together and Filtering by Location"
   ]
  },
  {
   "cell_type": "code",
   "execution_count": 155,
   "id": "fa0150f8",
   "metadata": {},
   "outputs": [],
   "source": [
    "hashtags = ['abortion', 'prolife', 'prochoice']\n",
    "years = ['2016','2017','2018']\n",
    "\n",
    "file_names = []\n",
    "for hashtag in hashtags:\n",
    "    for year in years:\n",
    "        file_names.append(hashtag+'_'+year+'_extended.csv')"
   ]
  },
  {
   "cell_type": "code",
   "execution_count": 156,
   "id": "674bc41f",
   "metadata": {},
   "outputs": [],
   "source": [
    "#Concatenating the files\n",
    "temp_df = (pd.read_csv(f) for f in file_names)\n",
    "final_df = pd.concat(temp_df, ignore_index=True)"
   ]
  },
  {
   "cell_type": "code",
   "execution_count": 157,
   "id": "b66ce80b",
   "metadata": {},
   "outputs": [],
   "source": [
    "#Dictionary to filter by location\n",
    "dictionary = {'States': 'Alaska|Alabama|Arkansas|Arizona|California|Colorado|Connecticut|District|of|Columbia|Delaware|Florida|Georgia|Hawaii|Iowa|Idaho|Illinois|Indiana|Kansas|Kentucky|Louisiana|Massachusetts|Maryland|Maine|Michigan|Minnesota|Missouri|Mississippi|Montana|North|Carolina|North|Dakota|Nebraska|New|Hampshire|New|Jersey|New|Mexico|Nevada|New|York|Ohio|Oklahoma|Oregon|Pennsylvania|Rhode|Island|South|Carolina|South|Dakota|Tennessee|Texas|Utah|Virginia|Vermont|Washington|Wisconsin|West|Virginia|Wyoming|AL|AK|AZ|AR|CA|CO|CT|DC|DE|FL|GA|HI|ID|IL|IN|IA|KS|KY|LA|ME|MD|MA|MI|MN|MS|MO|MT|NE|NV|NH|NJ|NM|NY|NC|ND|OH|OK|OR|PA|RI|SC|SD|TN|TX|UT|VT|VA|WA|WV|WI|WY|US|USA|United States'}"
   ]
  },
  {
   "cell_type": "code",
   "execution_count": 158,
   "id": "540410fe",
   "metadata": {},
   "outputs": [],
   "source": [
    "final_df['Location'] = final_df['Location'].replace({None: \" \"})\n",
    "df_filtered = final_df.loc[(final_df['Location'].str.contains(dictionary['States']))].reset_index(drop=True)"
   ]
  },
  {
   "cell_type": "code",
   "execution_count": 159,
   "id": "bf4ef73f",
   "metadata": {},
   "outputs": [],
   "source": [
    "df_filtered['Datetime']= pd.to_datetime(df_filtered['Datetime'])\n",
    "df_filtered['Year'] = pd.DatetimeIndex(df_filtered['Datetime']).year\n",
    "del df_filtered[\"Datetime\"]"
   ]
  },
  {
   "cell_type": "code",
   "execution_count": 163,
   "id": "b20344a9",
   "metadata": {},
   "outputs": [
    {
     "data": {
      "text/plain": [
       "(198215, 8)"
      ]
     },
     "execution_count": 163,
     "metadata": {},
     "output_type": "execute_result"
    }
   ],
   "source": [
    "df_filtered.shape"
   ]
  },
  {
   "cell_type": "code",
   "execution_count": 165,
   "id": "c2a7ae9e",
   "metadata": {},
   "outputs": [],
   "source": [
    "df_filtered.drop_duplicates(subset=['Tweet Id'], inplace=True)"
   ]
  },
  {
   "cell_type": "code",
   "execution_count": 166,
   "id": "59b0973a",
   "metadata": {},
   "outputs": [],
   "source": [
    "df_filtered.to_csv(\"df_filtered.csv\", index=False)"
   ]
  },
  {
   "cell_type": "code",
   "execution_count": 168,
   "id": "1ed988c5",
   "metadata": {},
   "outputs": [
    {
     "data": {
      "text/plain": [
       "(174389, 8)"
      ]
     },
     "execution_count": 168,
     "metadata": {},
     "output_type": "execute_result"
    }
   ],
   "source": [
    "df_filtered.shape"
   ]
  },
  {
   "cell_type": "markdown",
   "id": "771f3d5c",
   "metadata": {},
   "source": [
    "## Cleaning the data"
   ]
  },
  {
   "cell_type": "code",
   "execution_count": 199,
   "id": "cdbe1ae3",
   "metadata": {},
   "outputs": [],
   "source": [
    "df = pd.read_csv(\"df_filtered.csv\")"
   ]
  },
  {
   "cell_type": "code",
   "execution_count": 200,
   "id": "d5bf291b",
   "metadata": {},
   "outputs": [
    {
     "data": {
      "text/html": [
       "<div>\n",
       "<style scoped>\n",
       "    .dataframe tbody tr th:only-of-type {\n",
       "        vertical-align: middle;\n",
       "    }\n",
       "\n",
       "    .dataframe tbody tr th {\n",
       "        vertical-align: top;\n",
       "    }\n",
       "\n",
       "    .dataframe thead th {\n",
       "        text-align: right;\n",
       "    }\n",
       "</style>\n",
       "<table border=\"1\" class=\"dataframe\">\n",
       "  <thead>\n",
       "    <tr style=\"text-align: right;\">\n",
       "      <th></th>\n",
       "      <th>Tweet Id</th>\n",
       "      <th>Text</th>\n",
       "      <th>Username</th>\n",
       "      <th>Noisy</th>\n",
       "      <th>Location</th>\n",
       "      <th>Name</th>\n",
       "      <th>User_Id</th>\n",
       "      <th>Year</th>\n",
       "    </tr>\n",
       "  </thead>\n",
       "  <tbody>\n",
       "    <tr>\n",
       "      <th>0</th>\n",
       "      <td>8.150000e+17</td>\n",
       "      <td>Women Deserve the Truth About Down Syndrome an...</td>\n",
       "      <td>LifeNewsToo</td>\n",
       "      <td>abortion</td>\n",
       "      <td>USA</td>\n",
       "      <td>LifeNews</td>\n",
       "      <td>7.455226e+07</td>\n",
       "      <td>2016</td>\n",
       "    </tr>\n",
       "    <tr>\n",
       "      <th>1</th>\n",
       "      <td>8.140000e+17</td>\n",
       "      <td>@Cagsil @ivotedhillary \\nHow about Abortion yo...</td>\n",
       "      <td>itzMeiVo</td>\n",
       "      <td>abortion</td>\n",
       "      <td>Indianapolis, IN USA</td>\n",
       "      <td>MAGAFAM</td>\n",
       "      <td>8.090000e+17</td>\n",
       "      <td>2016</td>\n",
       "    </tr>\n",
       "    <tr>\n",
       "      <th>2</th>\n",
       "      <td>8.130000e+17</td>\n",
       "      <td>@SenSanders. I hate abortion, but same people ...</td>\n",
       "      <td>Batt6C</td>\n",
       "      <td>abortion</td>\n",
       "      <td>United States</td>\n",
       "      <td>Will 2017</td>\n",
       "      <td>7.870000e+17</td>\n",
       "      <td>2016</td>\n",
       "    </tr>\n",
       "    <tr>\n",
       "      <th>3</th>\n",
       "      <td>8.120000e+17</td>\n",
       "      <td>If only pro-life activists spent as much time ...</td>\n",
       "      <td>danielle_browni</td>\n",
       "      <td>abortion</td>\n",
       "      <td>Boulder, CO</td>\n",
       "      <td>🌻 danielle</td>\n",
       "      <td>2.830944e+09</td>\n",
       "      <td>2016</td>\n",
       "    </tr>\n",
       "    <tr>\n",
       "      <th>4</th>\n",
       "      <td>8.110000e+17</td>\n",
       "      <td>@TIME @motto I wish her mom had an abortion.</td>\n",
       "      <td>DioxaV</td>\n",
       "      <td>abortion</td>\n",
       "      <td>New York, NY</td>\n",
       "      <td>Dioxazine Violet</td>\n",
       "      <td>2.204231e+09</td>\n",
       "      <td>2016</td>\n",
       "    </tr>\n",
       "  </tbody>\n",
       "</table>\n",
       "</div>"
      ],
      "text/plain": [
       "       Tweet Id                                               Text  \\\n",
       "0  8.150000e+17  Women Deserve the Truth About Down Syndrome an...   \n",
       "1  8.140000e+17  @Cagsil @ivotedhillary \\nHow about Abortion yo...   \n",
       "2  8.130000e+17  @SenSanders. I hate abortion, but same people ...   \n",
       "3  8.120000e+17  If only pro-life activists spent as much time ...   \n",
       "4  8.110000e+17       @TIME @motto I wish her mom had an abortion.   \n",
       "\n",
       "          Username     Noisy              Location              Name  \\\n",
       "0      LifeNewsToo  abortion                   USA          LifeNews   \n",
       "1         itzMeiVo  abortion  Indianapolis, IN USA           MAGAFAM   \n",
       "2           Batt6C  abortion         United States         Will 2017   \n",
       "3  danielle_browni  abortion           Boulder, CO        🌻 danielle   \n",
       "4           DioxaV  abortion          New York, NY  Dioxazine Violet   \n",
       "\n",
       "        User_Id  Year  \n",
       "0  7.455226e+07  2016  \n",
       "1  8.090000e+17  2016  \n",
       "2  7.870000e+17  2016  \n",
       "3  2.830944e+09  2016  \n",
       "4  2.204231e+09  2016  "
      ]
     },
     "execution_count": 200,
     "metadata": {},
     "output_type": "execute_result"
    }
   ],
   "source": [
    "df.head()"
   ]
  },
  {
   "cell_type": "markdown",
   "id": "8cd8d59d",
   "metadata": {},
   "source": [
    "#### Extract hashtags from Tweets"
   ]
  },
  {
   "cell_type": "code",
   "execution_count": 201,
   "id": "7bf69f64",
   "metadata": {},
   "outputs": [],
   "source": [
    "df['hashtags'] = df.Text.apply(lambda x: re.findall(r\"#(\\w+)\", x)) "
   ]
  },
  {
   "cell_type": "code",
   "execution_count": 202,
   "id": "cd6370ce",
   "metadata": {},
   "outputs": [
    {
     "data": {
      "text/html": [
       "<div>\n",
       "<style scoped>\n",
       "    .dataframe tbody tr th:only-of-type {\n",
       "        vertical-align: middle;\n",
       "    }\n",
       "\n",
       "    .dataframe tbody tr th {\n",
       "        vertical-align: top;\n",
       "    }\n",
       "\n",
       "    .dataframe thead th {\n",
       "        text-align: right;\n",
       "    }\n",
       "</style>\n",
       "<table border=\"1\" class=\"dataframe\">\n",
       "  <thead>\n",
       "    <tr style=\"text-align: right;\">\n",
       "      <th></th>\n",
       "      <th>Tweet Id</th>\n",
       "      <th>Text</th>\n",
       "      <th>Username</th>\n",
       "      <th>Noisy</th>\n",
       "      <th>Location</th>\n",
       "      <th>Name</th>\n",
       "      <th>User_Id</th>\n",
       "      <th>Year</th>\n",
       "      <th>hashtags</th>\n",
       "    </tr>\n",
       "  </thead>\n",
       "  <tbody>\n",
       "    <tr>\n",
       "      <th>0</th>\n",
       "      <td>8.150000e+17</td>\n",
       "      <td>Women Deserve the Truth About Down Syndrome an...</td>\n",
       "      <td>LifeNewsToo</td>\n",
       "      <td>abortion</td>\n",
       "      <td>USA</td>\n",
       "      <td>LifeNews</td>\n",
       "      <td>7.455226e+07</td>\n",
       "      <td>2016</td>\n",
       "      <td>[Downsyndrome, Abortion]</td>\n",
       "    </tr>\n",
       "    <tr>\n",
       "      <th>1</th>\n",
       "      <td>8.140000e+17</td>\n",
       "      <td>@Cagsil @ivotedhillary \\nHow about Abortion yo...</td>\n",
       "      <td>itzMeiVo</td>\n",
       "      <td>abortion</td>\n",
       "      <td>Indianapolis, IN USA</td>\n",
       "      <td>MAGAFAM</td>\n",
       "      <td>8.090000e+17</td>\n",
       "      <td>2016</td>\n",
       "      <td>[ProLife]</td>\n",
       "    </tr>\n",
       "    <tr>\n",
       "      <th>2</th>\n",
       "      <td>8.130000e+17</td>\n",
       "      <td>@SenSanders. I hate abortion, but same people ...</td>\n",
       "      <td>Batt6C</td>\n",
       "      <td>abortion</td>\n",
       "      <td>United States</td>\n",
       "      <td>Will 2017</td>\n",
       "      <td>7.870000e+17</td>\n",
       "      <td>2016</td>\n",
       "      <td>[]</td>\n",
       "    </tr>\n",
       "    <tr>\n",
       "      <th>3</th>\n",
       "      <td>8.120000e+17</td>\n",
       "      <td>If only pro-life activists spent as much time ...</td>\n",
       "      <td>danielle_browni</td>\n",
       "      <td>abortion</td>\n",
       "      <td>Boulder, CO</td>\n",
       "      <td>🌻 danielle</td>\n",
       "      <td>2.830944e+09</td>\n",
       "      <td>2016</td>\n",
       "      <td>[]</td>\n",
       "    </tr>\n",
       "    <tr>\n",
       "      <th>4</th>\n",
       "      <td>8.110000e+17</td>\n",
       "      <td>@TIME @motto I wish her mom had an abortion.</td>\n",
       "      <td>DioxaV</td>\n",
       "      <td>abortion</td>\n",
       "      <td>New York, NY</td>\n",
       "      <td>Dioxazine Violet</td>\n",
       "      <td>2.204231e+09</td>\n",
       "      <td>2016</td>\n",
       "      <td>[]</td>\n",
       "    </tr>\n",
       "  </tbody>\n",
       "</table>\n",
       "</div>"
      ],
      "text/plain": [
       "       Tweet Id                                               Text  \\\n",
       "0  8.150000e+17  Women Deserve the Truth About Down Syndrome an...   \n",
       "1  8.140000e+17  @Cagsil @ivotedhillary \\nHow about Abortion yo...   \n",
       "2  8.130000e+17  @SenSanders. I hate abortion, but same people ...   \n",
       "3  8.120000e+17  If only pro-life activists spent as much time ...   \n",
       "4  8.110000e+17       @TIME @motto I wish her mom had an abortion.   \n",
       "\n",
       "          Username     Noisy              Location              Name  \\\n",
       "0      LifeNewsToo  abortion                   USA          LifeNews   \n",
       "1         itzMeiVo  abortion  Indianapolis, IN USA           MAGAFAM   \n",
       "2           Batt6C  abortion         United States         Will 2017   \n",
       "3  danielle_browni  abortion           Boulder, CO        🌻 danielle   \n",
       "4           DioxaV  abortion          New York, NY  Dioxazine Violet   \n",
       "\n",
       "        User_Id  Year                  hashtags  \n",
       "0  7.455226e+07  2016  [Downsyndrome, Abortion]  \n",
       "1  8.090000e+17  2016                 [ProLife]  \n",
       "2  7.870000e+17  2016                        []  \n",
       "3  2.830944e+09  2016                        []  \n",
       "4  2.204231e+09  2016                        []  "
      ]
     },
     "execution_count": 202,
     "metadata": {},
     "output_type": "execute_result"
    }
   ],
   "source": [
    "df.head()"
   ]
  },
  {
   "cell_type": "markdown",
   "id": "51ae9bc5",
   "metadata": {},
   "source": [
    "#### Get top 15 hashtags"
   ]
  },
  {
   "cell_type": "code",
   "execution_count": 203,
   "id": "fe8bbe58",
   "metadata": {},
   "outputs": [
    {
     "data": {
      "text/html": [
       "<div>\n",
       "<style scoped>\n",
       "    .dataframe tbody tr th:only-of-type {\n",
       "        vertical-align: middle;\n",
       "    }\n",
       "\n",
       "    .dataframe tbody tr th {\n",
       "        vertical-align: top;\n",
       "    }\n",
       "\n",
       "    .dataframe thead th {\n",
       "        text-align: right;\n",
       "    }\n",
       "</style>\n",
       "<table border=\"1\" class=\"dataframe\">\n",
       "  <thead>\n",
       "    <tr style=\"text-align: right;\">\n",
       "      <th></th>\n",
       "      <th>Count</th>\n",
       "    </tr>\n",
       "  </thead>\n",
       "  <tbody>\n",
       "    <tr>\n",
       "      <th>prochoice</th>\n",
       "      <td>45831</td>\n",
       "    </tr>\n",
       "    <tr>\n",
       "      <th>prolife</th>\n",
       "      <td>45609</td>\n",
       "    </tr>\n",
       "    <tr>\n",
       "      <th>abortion</th>\n",
       "      <td>14748</td>\n",
       "    </tr>\n",
       "    <tr>\n",
       "      <th>uniteblue</th>\n",
       "      <td>11140</td>\n",
       "    </tr>\n",
       "    <tr>\n",
       "      <th>feminism</th>\n",
       "      <td>7396</td>\n",
       "    </tr>\n",
       "    <tr>\n",
       "      <th>plannedparenthood</th>\n",
       "      <td>5869</td>\n",
       "    </tr>\n",
       "    <tr>\n",
       "      <th>pjnet</th>\n",
       "      <td>4086</td>\n",
       "    </tr>\n",
       "    <tr>\n",
       "      <th>unbornlivesmatter</th>\n",
       "      <td>3895</td>\n",
       "    </tr>\n",
       "    <tr>\n",
       "      <th>tcot</th>\n",
       "      <td>2551</td>\n",
       "    </tr>\n",
       "    <tr>\n",
       "      <th>maga</th>\n",
       "      <td>2081</td>\n",
       "    </tr>\n",
       "    <tr>\n",
       "      <th>defundpp</th>\n",
       "      <td>1539</td>\n",
       "    </tr>\n",
       "    <tr>\n",
       "      <th>womensrights</th>\n",
       "      <td>1526</td>\n",
       "    </tr>\n",
       "    <tr>\n",
       "      <th>pro</th>\n",
       "      <td>1448</td>\n",
       "    </tr>\n",
       "    <tr>\n",
       "      <th>catholic</th>\n",
       "      <td>1448</td>\n",
       "    </tr>\n",
       "    <tr>\n",
       "      <th>praytoendabortion</th>\n",
       "      <td>1227</td>\n",
       "    </tr>\n",
       "  </tbody>\n",
       "</table>\n",
       "</div>"
      ],
      "text/plain": [
       "                   Count\n",
       "prochoice          45831\n",
       "prolife            45609\n",
       "abortion           14748\n",
       "uniteblue          11140\n",
       "feminism            7396\n",
       "plannedparenthood   5869\n",
       "pjnet               4086\n",
       "unbornlivesmatter   3895\n",
       "tcot                2551\n",
       "maga                2081\n",
       "defundpp            1539\n",
       "womensrights        1526\n",
       "pro                 1448\n",
       "catholic            1448\n",
       "praytoendabortion   1227"
      ]
     },
     "execution_count": 203,
     "metadata": {},
     "output_type": "execute_result"
    }
   ],
   "source": [
    "hashtag_series = df.hashtags\n",
    "hashtag_series = hashtag_series.apply(pd.Series).stack().reset_index(drop=True)\n",
    "hashtag_series = hashtag_series.str.lower()\n",
    "df_hashtag = hashtag_series.value_counts().to_frame().rename(columns={0: \"Count\"})\n",
    "df_hashtag[:15]"
   ]
  },
  {
   "cell_type": "code",
   "execution_count": 256,
   "id": "43860c0e",
   "metadata": {},
   "outputs": [
    {
     "data": {
      "image/png": "[encoded data removed]",
      "text/plain": [
       "<Figure size 432x288 with 1 Axes>"
      ]
     },
     "metadata": {
      "needs_background": "light"
     },
     "output_type": "display_data"
    }
   ],
   "source": [
    "fig, ax = plt.subplots()\n",
    "\n",
    "ax.bar(df_hashtag[:10].index, df_hashtag[:10].Count, \\\n",
    "       align=\"center\", \\\n",
    "      color=\"lightsteelblue\")\n",
    "\n",
    "plt.ylabel('Tweet Occurence')\n",
    "plt.title('Figure 1. Most Common Hashtags')\n",
    "fig.autofmt_xdate()\n",
    "\n",
    "plt.show()"
   ]
  },
  {
   "cell_type": "markdown",
   "id": "a15de577",
   "metadata": {},
   "source": [
    "#### User Statistics"
   ]
  },
  {
   "cell_type": "code",
   "execution_count": 205,
   "id": "75b1f2ae",
   "metadata": {},
   "outputs": [
    {
     "data": {
      "text/plain": [
       "62101"
      ]
     },
     "execution_count": 205,
     "metadata": {},
     "output_type": "execute_result"
    }
   ],
   "source": [
    "df.User_Id.nunique()"
   ]
  },
  {
   "cell_type": "code",
   "execution_count": 206,
   "id": "a11e2334",
   "metadata": {},
   "outputs": [
    {
     "data": {
      "text/plain": [
       "2.8081512375002013"
      ]
     },
     "execution_count": 206,
     "metadata": {},
     "output_type": "execute_result"
    }
   ],
   "source": [
    "df.User_Id.value_counts().mean()"
   ]
  },
  {
   "cell_type": "code",
   "execution_count": 207,
   "id": "4e435991",
   "metadata": {},
   "outputs": [
    {
     "data": {
      "text/plain": [
       "47.67622996433315"
      ]
     },
     "execution_count": 207,
     "metadata": {},
     "output_type": "execute_result"
    }
   ],
   "source": [
    "df.User_Id.value_counts().std()"
   ]
  },
  {
   "cell_type": "markdown",
   "id": "36eca922",
   "metadata": {},
   "source": [
    "## Preprocessing Data"
   ]
  },
  {
   "cell_type": "markdown",
   "id": "c17fb556",
   "metadata": {},
   "source": [
    "1. re.sub('@[^\\s]+','',Tweet)\n",
    "2. df['Great'] = df[\"Summary\"].str.contains(\"great\", case=False, na=False).astype(int) - check text processing https://stackoverflow.com/questions/32398024/read-tweets-extracted-with-python - try encoding when reading file\n",
    "3. Did basic sanity checks to detect presence of UTF-BOM characters. None found.\n",
    "4.Replace '\\n', '\\r' with \"\" at some point - https://stackoverflow.com/questions/16566268/remove-all-line-breaks-from-a-long-string-of-text\n",
    "5.These did not work for punctuations: df.clean_tweet = df.clean_tweet.apply(lambda x: x.replace('[{}]'.format(string.punctuation), '')) ----- str.replace('[{}]'.format(string.punctuation), '') ----df.clean_tweet = df.clean_tweet.apply(lambda x: x.replace('[^\\w\\s]',''))"
   ]
  },
  {
   "cell_type": "code",
   "execution_count": 220,
   "id": "3b61e708",
   "metadata": {},
   "outputs": [],
   "source": [
    "df[\"Clean_tweet\"] = df.Text"
   ]
  },
  {
   "cell_type": "code",
   "execution_count": 221,
   "id": "8888e29a",
   "metadata": {},
   "outputs": [],
   "source": [
    "#Step 1: Decode html escape characters: &amp &quote etc - should remove these altogether?\n",
    "#df.test2 = df.test2.apply(lambda x: html.unescape(x))\n",
    "df.Clean_tweet = df.Clean_tweet.apply(lambda x: re.sub(r'&[a-z]+;', '', x))"
   ]
  },
  {
   "cell_type": "code",
   "execution_count": 223,
   "id": "7b20b358",
   "metadata": {},
   "outputs": [
    {
     "name": "stdout",
     "output_type": "stream",
     "text": [
      "0\n"
     ]
    }
   ],
   "source": [
    "#Sanity check\n",
    "df['Check'] = df.Clean_tweet.str.contains(\"&\", case=False, na=False).astype(int) # Checked for &gt, &amp &#62 &quote\n",
    "print(sum(df.Check))"
   ]
  },
  {
   "cell_type": "code",
   "execution_count": 224,
   "id": "f66b01b5",
   "metadata": {},
   "outputs": [],
   "source": [
    "#Step 2: Remove @mentions\n",
    "df.Clean_tweet = df.Clean_tweet.apply(lambda x: re.sub('@[^\\s]+','',x))\n",
    "df.Clean_tweet = df.Clean_tweet.apply(lambda x: re.sub('@[^\\w]+','',x))\n",
    "df.Clean_tweet = df.Clean_tweet.apply(lambda x: re.sub('@','',x))"
   ]
  },
  {
   "cell_type": "code",
   "execution_count": 225,
   "id": "2a4cb3d7",
   "metadata": {},
   "outputs": [],
   "source": [
    "#Step 3 Remove \\n \\t \\r\n",
    "df.Clean_tweet = df.Clean_tweet.apply(lambda x: x.replace('\\n', '').replace('\\t', '').replace('\\r', ''))"
   ]
  },
  {
   "cell_type": "code",
   "execution_count": 226,
   "id": "a9113bde",
   "metadata": {},
   "outputs": [],
   "source": [
    "#Step 4: Tweet-preprocessor to remove, urls, emojis, hashtags, reserved words, mentions (if any), smileys\n",
    "df.Clean_tweet = df.Clean_tweet.apply(lambda x: pp.clean(x))"
   ]
  },
  {
   "cell_type": "code",
   "execution_count": 227,
   "id": "2d4b0de5",
   "metadata": {},
   "outputs": [],
   "source": [
    "#Step 5: Remove Placeholders\n",
    "df.Clean_tweet = df.Clean_tweet.apply(lambda x: re.sub(r'{link}', '', x))\n",
    "df.Clean_tweet = df.Clean_tweet.apply(lambda x: re.sub(r\"\\[video\\]\", '', x))"
   ]
  },
  {
   "cell_type": "code",
   "execution_count": 228,
   "id": "1ff840e8",
   "metadata": {},
   "outputs": [],
   "source": [
    "#Step 6: Remove punctuations, digits\n",
    "#Create helper function\n",
    "def remove_punctuations(text):\n",
    "    for punctuation in string.punctuation:\n",
    "        text = text.replace(punctuation, '')\n",
    "    return text\n",
    "\n",
    "def remove_digits(text):\n",
    "    for digit in string.digits:\n",
    "        text = text.replace(digit, '')\n",
    "    return text\n",
    "\n",
    "df.Clean_tweet = df.Clean_tweet.apply(remove_punctuations)\n",
    "df.Clean_tweet = df.Clean_tweet.apply(remove_digits)"
   ]
  },
  {
   "cell_type": "code",
   "execution_count": 229,
   "id": "4656bb0b",
   "metadata": {},
   "outputs": [
    {
     "data": {
      "text/html": [
       "<div>\n",
       "<style scoped>\n",
       "    .dataframe tbody tr th:only-of-type {\n",
       "        vertical-align: middle;\n",
       "    }\n",
       "\n",
       "    .dataframe tbody tr th {\n",
       "        vertical-align: top;\n",
       "    }\n",
       "\n",
       "    .dataframe thead th {\n",
       "        text-align: right;\n",
       "    }\n",
       "</style>\n",
       "<table border=\"1\" class=\"dataframe\">\n",
       "  <thead>\n",
       "    <tr style=\"text-align: right;\">\n",
       "      <th></th>\n",
       "      <th>Tweet Id</th>\n",
       "      <th>Text</th>\n",
       "      <th>Username</th>\n",
       "      <th>Noisy</th>\n",
       "      <th>Location</th>\n",
       "      <th>Name</th>\n",
       "      <th>User_Id</th>\n",
       "      <th>Year</th>\n",
       "      <th>hashtags</th>\n",
       "      <th>Clean_tweet</th>\n",
       "      <th>Check</th>\n",
       "    </tr>\n",
       "  </thead>\n",
       "  <tbody>\n",
       "    <tr>\n",
       "      <th>0</th>\n",
       "      <td>8.150000e+17</td>\n",
       "      <td>Women Deserve the Truth About Down Syndrome an...</td>\n",
       "      <td>LifeNewsToo</td>\n",
       "      <td>abortion</td>\n",
       "      <td>USA</td>\n",
       "      <td>LifeNews</td>\n",
       "      <td>7.455226e+07</td>\n",
       "      <td>2016</td>\n",
       "      <td>[Downsyndrome, Abortion]</td>\n",
       "      <td>Women Deserve the Truth About Down Syndrome an...</td>\n",
       "      <td>0</td>\n",
       "    </tr>\n",
       "    <tr>\n",
       "      <th>1</th>\n",
       "      <td>8.140000e+17</td>\n",
       "      <td>@Cagsil @ivotedhillary \\nHow about Abortion yo...</td>\n",
       "      <td>itzMeiVo</td>\n",
       "      <td>abortion</td>\n",
       "      <td>Indianapolis, IN USA</td>\n",
       "      <td>MAGAFAM</td>\n",
       "      <td>8.090000e+17</td>\n",
       "      <td>2016</td>\n",
       "      <td>[ProLife]</td>\n",
       "      <td>How about Abortion you advocate forThats curre...</td>\n",
       "      <td>0</td>\n",
       "    </tr>\n",
       "    <tr>\n",
       "      <th>2</th>\n",
       "      <td>8.130000e+17</td>\n",
       "      <td>@SenSanders. I hate abortion, but same people ...</td>\n",
       "      <td>Batt6C</td>\n",
       "      <td>abortion</td>\n",
       "      <td>United States</td>\n",
       "      <td>Will 2017</td>\n",
       "      <td>7.870000e+17</td>\n",
       "      <td>2016</td>\n",
       "      <td>[]</td>\n",
       "      <td>I hate abortion but same people that would for...</td>\n",
       "      <td>0</td>\n",
       "    </tr>\n",
       "    <tr>\n",
       "      <th>3</th>\n",
       "      <td>8.120000e+17</td>\n",
       "      <td>If only pro-life activists spent as much time ...</td>\n",
       "      <td>danielle_browni</td>\n",
       "      <td>abortion</td>\n",
       "      <td>Boulder, CO</td>\n",
       "      <td>🌻 danielle</td>\n",
       "      <td>2.830944e+09</td>\n",
       "      <td>2016</td>\n",
       "      <td>[]</td>\n",
       "      <td>If only prolife activists spent as much time t...</td>\n",
       "      <td>0</td>\n",
       "    </tr>\n",
       "    <tr>\n",
       "      <th>4</th>\n",
       "      <td>8.110000e+17</td>\n",
       "      <td>@TIME @motto I wish her mom had an abortion.</td>\n",
       "      <td>DioxaV</td>\n",
       "      <td>abortion</td>\n",
       "      <td>New York, NY</td>\n",
       "      <td>Dioxazine Violet</td>\n",
       "      <td>2.204231e+09</td>\n",
       "      <td>2016</td>\n",
       "      <td>[]</td>\n",
       "      <td>I wish her mom had an abortion</td>\n",
       "      <td>0</td>\n",
       "    </tr>\n",
       "  </tbody>\n",
       "</table>\n",
       "</div>"
      ],
      "text/plain": [
       "       Tweet Id                                               Text  \\\n",
       "0  8.150000e+17  Women Deserve the Truth About Down Syndrome an...   \n",
       "1  8.140000e+17  @Cagsil @ivotedhillary \\nHow about Abortion yo...   \n",
       "2  8.130000e+17  @SenSanders. I hate abortion, but same people ...   \n",
       "3  8.120000e+17  If only pro-life activists spent as much time ...   \n",
       "4  8.110000e+17       @TIME @motto I wish her mom had an abortion.   \n",
       "\n",
       "          Username     Noisy              Location              Name  \\\n",
       "0      LifeNewsToo  abortion                   USA          LifeNews   \n",
       "1         itzMeiVo  abortion  Indianapolis, IN USA           MAGAFAM   \n",
       "2           Batt6C  abortion         United States         Will 2017   \n",
       "3  danielle_browni  abortion           Boulder, CO        🌻 danielle   \n",
       "4           DioxaV  abortion          New York, NY  Dioxazine Violet   \n",
       "\n",
       "        User_Id  Year                  hashtags  \\\n",
       "0  7.455226e+07  2016  [Downsyndrome, Abortion]   \n",
       "1  8.090000e+17  2016                 [ProLife]   \n",
       "2  7.870000e+17  2016                        []   \n",
       "3  2.830944e+09  2016                        []   \n",
       "4  2.204231e+09  2016                        []   \n",
       "\n",
       "                                         Clean_tweet  Check  \n",
       "0  Women Deserve the Truth About Down Syndrome an...      0  \n",
       "1  How about Abortion you advocate forThats curre...      0  \n",
       "2  I hate abortion but same people that would for...      0  \n",
       "3  If only prolife activists spent as much time t...      0  \n",
       "4                     I wish her mom had an abortion      0  "
      ]
     },
     "execution_count": 229,
     "metadata": {},
     "output_type": "execute_result"
    }
   ],
   "source": [
    "df.head()"
   ]
  },
  {
   "cell_type": "code",
   "execution_count": 230,
   "id": "0b6901f2",
   "metadata": {},
   "outputs": [],
   "source": [
    "#Step 7 Lowercase before tokenization\n",
    "df.Clean_tweet = df.Clean_tweet.str.lower()"
   ]
  },
  {
   "cell_type": "code",
   "execution_count": 231,
   "id": "2777af05",
   "metadata": {},
   "outputs": [],
   "source": [
    "#Step 7 Tokenization\n",
    "tknzr = TweetTokenizer(strip_handles=True, reduce_len=True)"
   ]
  },
  {
   "cell_type": "code",
   "execution_count": 232,
   "id": "83d61794",
   "metadata": {},
   "outputs": [
    {
     "data": {
      "text/html": [
       "<div>\n",
       "<style scoped>\n",
       "    .dataframe tbody tr th:only-of-type {\n",
       "        vertical-align: middle;\n",
       "    }\n",
       "\n",
       "    .dataframe tbody tr th {\n",
       "        vertical-align: top;\n",
       "    }\n",
       "\n",
       "    .dataframe thead th {\n",
       "        text-align: right;\n",
       "    }\n",
       "</style>\n",
       "<table border=\"1\" class=\"dataframe\">\n",
       "  <thead>\n",
       "    <tr style=\"text-align: right;\">\n",
       "      <th></th>\n",
       "      <th>Tweet Id</th>\n",
       "      <th>Text</th>\n",
       "      <th>Username</th>\n",
       "      <th>Noisy</th>\n",
       "      <th>Location</th>\n",
       "      <th>Name</th>\n",
       "      <th>User_Id</th>\n",
       "      <th>Year</th>\n",
       "      <th>hashtags</th>\n",
       "      <th>Clean_tweet</th>\n",
       "      <th>Check</th>\n",
       "    </tr>\n",
       "  </thead>\n",
       "  <tbody>\n",
       "    <tr>\n",
       "      <th>0</th>\n",
       "      <td>8.150000e+17</td>\n",
       "      <td>Women Deserve the Truth About Down Syndrome an...</td>\n",
       "      <td>LifeNewsToo</td>\n",
       "      <td>abortion</td>\n",
       "      <td>USA</td>\n",
       "      <td>LifeNews</td>\n",
       "      <td>7.455226e+07</td>\n",
       "      <td>2016</td>\n",
       "      <td>[Downsyndrome, Abortion]</td>\n",
       "      <td>women deserve the truth about down syndrome an...</td>\n",
       "      <td>0</td>\n",
       "    </tr>\n",
       "    <tr>\n",
       "      <th>1</th>\n",
       "      <td>8.140000e+17</td>\n",
       "      <td>@Cagsil @ivotedhillary \\nHow about Abortion yo...</td>\n",
       "      <td>itzMeiVo</td>\n",
       "      <td>abortion</td>\n",
       "      <td>Indianapolis, IN USA</td>\n",
       "      <td>MAGAFAM</td>\n",
       "      <td>8.090000e+17</td>\n",
       "      <td>2016</td>\n",
       "      <td>[ProLife]</td>\n",
       "      <td>how about abortion you advocate forthats curre...</td>\n",
       "      <td>0</td>\n",
       "    </tr>\n",
       "    <tr>\n",
       "      <th>2</th>\n",
       "      <td>8.130000e+17</td>\n",
       "      <td>@SenSanders. I hate abortion, but same people ...</td>\n",
       "      <td>Batt6C</td>\n",
       "      <td>abortion</td>\n",
       "      <td>United States</td>\n",
       "      <td>Will 2017</td>\n",
       "      <td>7.870000e+17</td>\n",
       "      <td>2016</td>\n",
       "      <td>[]</td>\n",
       "      <td>i hate abortion but same people that would for...</td>\n",
       "      <td>0</td>\n",
       "    </tr>\n",
       "    <tr>\n",
       "      <th>3</th>\n",
       "      <td>8.120000e+17</td>\n",
       "      <td>If only pro-life activists spent as much time ...</td>\n",
       "      <td>danielle_browni</td>\n",
       "      <td>abortion</td>\n",
       "      <td>Boulder, CO</td>\n",
       "      <td>🌻 danielle</td>\n",
       "      <td>2.830944e+09</td>\n",
       "      <td>2016</td>\n",
       "      <td>[]</td>\n",
       "      <td>if only prolife activists spent as much time t...</td>\n",
       "      <td>0</td>\n",
       "    </tr>\n",
       "    <tr>\n",
       "      <th>4</th>\n",
       "      <td>8.110000e+17</td>\n",
       "      <td>@TIME @motto I wish her mom had an abortion.</td>\n",
       "      <td>DioxaV</td>\n",
       "      <td>abortion</td>\n",
       "      <td>New York, NY</td>\n",
       "      <td>Dioxazine Violet</td>\n",
       "      <td>2.204231e+09</td>\n",
       "      <td>2016</td>\n",
       "      <td>[]</td>\n",
       "      <td>i wish her mom had an abortion</td>\n",
       "      <td>0</td>\n",
       "    </tr>\n",
       "  </tbody>\n",
       "</table>\n",
       "</div>"
      ],
      "text/plain": [
       "       Tweet Id                                               Text  \\\n",
       "0  8.150000e+17  Women Deserve the Truth About Down Syndrome an...   \n",
       "1  8.140000e+17  @Cagsil @ivotedhillary \\nHow about Abortion yo...   \n",
       "2  8.130000e+17  @SenSanders. I hate abortion, but same people ...   \n",
       "3  8.120000e+17  If only pro-life activists spent as much time ...   \n",
       "4  8.110000e+17       @TIME @motto I wish her mom had an abortion.   \n",
       "\n",
       "          Username     Noisy              Location              Name  \\\n",
       "0      LifeNewsToo  abortion                   USA          LifeNews   \n",
       "1         itzMeiVo  abortion  Indianapolis, IN USA           MAGAFAM   \n",
       "2           Batt6C  abortion         United States         Will 2017   \n",
       "3  danielle_browni  abortion           Boulder, CO        🌻 danielle   \n",
       "4           DioxaV  abortion          New York, NY  Dioxazine Violet   \n",
       "\n",
       "        User_Id  Year                  hashtags  \\\n",
       "0  7.455226e+07  2016  [Downsyndrome, Abortion]   \n",
       "1  8.090000e+17  2016                 [ProLife]   \n",
       "2  7.870000e+17  2016                        []   \n",
       "3  2.830944e+09  2016                        []   \n",
       "4  2.204231e+09  2016                        []   \n",
       "\n",
       "                                         Clean_tweet  Check  \n",
       "0  women deserve the truth about down syndrome an...      0  \n",
       "1  how about abortion you advocate forthats curre...      0  \n",
       "2  i hate abortion but same people that would for...      0  \n",
       "3  if only prolife activists spent as much time t...      0  \n",
       "4                     i wish her mom had an abortion      0  "
      ]
     },
     "execution_count": 232,
     "metadata": {},
     "output_type": "execute_result"
    }
   ],
   "source": [
    "df.head()"
   ]
  },
  {
   "cell_type": "code",
   "execution_count": 233,
   "id": "aced5759",
   "metadata": {},
   "outputs": [],
   "source": [
    "df[\"Tok_tweet\"] = df.Clean_tweet.apply(lambda x: tknzr.tokenize(x))"
   ]
  },
  {
   "cell_type": "code",
   "execution_count": 234,
   "id": "206eae05",
   "metadata": {},
   "outputs": [],
   "source": [
    "#Step 8 Remove stopwords \n",
    "#Create helper function\n",
    "\n",
    "stopword = nltk.corpus.stopwords.words('english')\n",
    "\n",
    "def remove_stopwords(text):\n",
    "    text = [word for word in text if word not in stopword]\n",
    "    return text\n",
    "\n",
    "df.Tok_tweet = df.Tok_tweet.apply(lambda x: remove_stopwords(x))"
   ]
  },
  {
   "cell_type": "code",
   "execution_count": 235,
   "id": "bbe32da3",
   "metadata": {},
   "outputs": [],
   "source": [
    "#Step 9 Lemmatization\n",
    "#Create helper function\n",
    "\n",
    "lem = nltk.WordNetLemmatizer()\n",
    "\n",
    "def lemmat(text):\n",
    "    text = [lem.lemmatize(word) for word in text]\n",
    "    return text\n",
    "\n",
    "df.Tok_tweet = df.Tok_tweet.apply(lambda x: lemmat(x))"
   ]
  },
  {
   "cell_type": "code",
   "execution_count": 236,
   "id": "581eb4c4",
   "metadata": {},
   "outputs": [
    {
     "data": {
      "text/html": [
       "<div>\n",
       "<style scoped>\n",
       "    .dataframe tbody tr th:only-of-type {\n",
       "        vertical-align: middle;\n",
       "    }\n",
       "\n",
       "    .dataframe tbody tr th {\n",
       "        vertical-align: top;\n",
       "    }\n",
       "\n",
       "    .dataframe thead th {\n",
       "        text-align: right;\n",
       "    }\n",
       "</style>\n",
       "<table border=\"1\" class=\"dataframe\">\n",
       "  <thead>\n",
       "    <tr style=\"text-align: right;\">\n",
       "      <th></th>\n",
       "      <th>Tweet Id</th>\n",
       "      <th>Text</th>\n",
       "      <th>Username</th>\n",
       "      <th>Noisy</th>\n",
       "      <th>Location</th>\n",
       "      <th>Name</th>\n",
       "      <th>User_Id</th>\n",
       "      <th>Year</th>\n",
       "      <th>hashtags</th>\n",
       "      <th>Clean_tweet</th>\n",
       "      <th>Check</th>\n",
       "      <th>Tok_tweet</th>\n",
       "    </tr>\n",
       "  </thead>\n",
       "  <tbody>\n",
       "    <tr>\n",
       "      <th>0</th>\n",
       "      <td>8.150000e+17</td>\n",
       "      <td>Women Deserve the Truth About Down Syndrome an...</td>\n",
       "      <td>LifeNewsToo</td>\n",
       "      <td>abortion</td>\n",
       "      <td>USA</td>\n",
       "      <td>LifeNews</td>\n",
       "      <td>7.455226e+07</td>\n",
       "      <td>2016</td>\n",
       "      <td>[Downsyndrome, Abortion]</td>\n",
       "      <td>women deserve the truth about down syndrome an...</td>\n",
       "      <td>0</td>\n",
       "      <td>[woman, deserve, truth, syndrome, prenatal, te...</td>\n",
       "    </tr>\n",
       "    <tr>\n",
       "      <th>1</th>\n",
       "      <td>8.140000e+17</td>\n",
       "      <td>@Cagsil @ivotedhillary \\nHow about Abortion yo...</td>\n",
       "      <td>itzMeiVo</td>\n",
       "      <td>abortion</td>\n",
       "      <td>Indianapolis, IN USA</td>\n",
       "      <td>MAGAFAM</td>\n",
       "      <td>8.090000e+17</td>\n",
       "      <td>2016</td>\n",
       "      <td>[ProLife]</td>\n",
       "      <td>how about abortion you advocate forthats curre...</td>\n",
       "      <td>0</td>\n",
       "      <td>[abortion, advocate, forthats, current, mass, ...</td>\n",
       "    </tr>\n",
       "    <tr>\n",
       "      <th>2</th>\n",
       "      <td>8.130000e+17</td>\n",
       "      <td>@SenSanders. I hate abortion, but same people ...</td>\n",
       "      <td>Batt6C</td>\n",
       "      <td>abortion</td>\n",
       "      <td>United States</td>\n",
       "      <td>Will 2017</td>\n",
       "      <td>7.870000e+17</td>\n",
       "      <td>2016</td>\n",
       "      <td>[]</td>\n",
       "      <td>i hate abortion but same people that would for...</td>\n",
       "      <td>0</td>\n",
       "      <td>[hate, abortion, people, would, force, child, ...</td>\n",
       "    </tr>\n",
       "    <tr>\n",
       "      <th>3</th>\n",
       "      <td>8.120000e+17</td>\n",
       "      <td>If only pro-life activists spent as much time ...</td>\n",
       "      <td>danielle_browni</td>\n",
       "      <td>abortion</td>\n",
       "      <td>Boulder, CO</td>\n",
       "      <td>🌻 danielle</td>\n",
       "      <td>2.830944e+09</td>\n",
       "      <td>2016</td>\n",
       "      <td>[]</td>\n",
       "      <td>if only prolife activists spent as much time t...</td>\n",
       "      <td>0</td>\n",
       "      <td>[prolife, activist, spent, much, time, trying,...</td>\n",
       "    </tr>\n",
       "    <tr>\n",
       "      <th>4</th>\n",
       "      <td>8.110000e+17</td>\n",
       "      <td>@TIME @motto I wish her mom had an abortion.</td>\n",
       "      <td>DioxaV</td>\n",
       "      <td>abortion</td>\n",
       "      <td>New York, NY</td>\n",
       "      <td>Dioxazine Violet</td>\n",
       "      <td>2.204231e+09</td>\n",
       "      <td>2016</td>\n",
       "      <td>[]</td>\n",
       "      <td>i wish her mom had an abortion</td>\n",
       "      <td>0</td>\n",
       "      <td>[wish, mom, abortion]</td>\n",
       "    </tr>\n",
       "  </tbody>\n",
       "</table>\n",
       "</div>"
      ],
      "text/plain": [
       "       Tweet Id                                               Text  \\\n",
       "0  8.150000e+17  Women Deserve the Truth About Down Syndrome an...   \n",
       "1  8.140000e+17  @Cagsil @ivotedhillary \\nHow about Abortion yo...   \n",
       "2  8.130000e+17  @SenSanders. I hate abortion, but same people ...   \n",
       "3  8.120000e+17  If only pro-life activists spent as much time ...   \n",
       "4  8.110000e+17       @TIME @motto I wish her mom had an abortion.   \n",
       "\n",
       "          Username     Noisy              Location              Name  \\\n",
       "0      LifeNewsToo  abortion                   USA          LifeNews   \n",
       "1         itzMeiVo  abortion  Indianapolis, IN USA           MAGAFAM   \n",
       "2           Batt6C  abortion         United States         Will 2017   \n",
       "3  danielle_browni  abortion           Boulder, CO        🌻 danielle   \n",
       "4           DioxaV  abortion          New York, NY  Dioxazine Violet   \n",
       "\n",
       "        User_Id  Year                  hashtags  \\\n",
       "0  7.455226e+07  2016  [Downsyndrome, Abortion]   \n",
       "1  8.090000e+17  2016                 [ProLife]   \n",
       "2  7.870000e+17  2016                        []   \n",
       "3  2.830944e+09  2016                        []   \n",
       "4  2.204231e+09  2016                        []   \n",
       "\n",
       "                                         Clean_tweet  Check  \\\n",
       "0  women deserve the truth about down syndrome an...      0   \n",
       "1  how about abortion you advocate forthats curre...      0   \n",
       "2  i hate abortion but same people that would for...      0   \n",
       "3  if only prolife activists spent as much time t...      0   \n",
       "4                     i wish her mom had an abortion      0   \n",
       "\n",
       "                                           Tok_tweet  \n",
       "0  [woman, deserve, truth, syndrome, prenatal, te...  \n",
       "1  [abortion, advocate, forthats, current, mass, ...  \n",
       "2  [hate, abortion, people, would, force, child, ...  \n",
       "3  [prolife, activist, spent, much, time, trying,...  \n",
       "4                              [wish, mom, abortion]  "
      ]
     },
     "execution_count": 236,
     "metadata": {},
     "output_type": "execute_result"
    }
   ],
   "source": [
    "df.head()"
   ]
  },
  {
   "cell_type": "code",
   "execution_count": 237,
   "id": "15a46d1f",
   "metadata": {},
   "outputs": [],
   "source": [
    "##Create word cloud\n",
    "df[\"cloud\"] = df.Tok_tweet.apply(lambda x: ' '.join([str(elem) for elem in x]))"
   ]
  },
  {
   "cell_type": "code",
   "execution_count": 238,
   "id": "064a38e3",
   "metadata": {},
   "outputs": [
    {
     "data": {
      "image/png": "[encoded data removed]",
      "text/plain": [
       "<Figure size 720x504 with 1 Axes>"
      ]
     },
     "metadata": {
      "needs_background": "light"
     },
     "output_type": "display_data"
    }
   ],
   "source": [
    "all_words = ' '.join([text for text in df.cloud])\n",
    "\n",
    "wordcloud = WordCloud(width=800, height=500, random_state=21, max_font_size=110).generate(all_words)\n",
    "\n",
    "plt.figure(figsize=(10, 7))\n",
    "plt.imshow(wordcloud, interpolation=\"bilinear\")\n",
    "plt.axis('off')\n",
    "plt.show()"
   ]
  },
  {
   "cell_type": "code",
   "execution_count": 239,
   "id": "f0220f7e",
   "metadata": {},
   "outputs": [
    {
     "data": {
      "text/html": [
       "<div>\n",
       "<style scoped>\n",
       "    .dataframe tbody tr th:only-of-type {\n",
       "        vertical-align: middle;\n",
       "    }\n",
       "\n",
       "    .dataframe tbody tr th {\n",
       "        vertical-align: top;\n",
       "    }\n",
       "\n",
       "    .dataframe thead th {\n",
       "        text-align: right;\n",
       "    }\n",
       "</style>\n",
       "<table border=\"1\" class=\"dataframe\">\n",
       "  <thead>\n",
       "    <tr style=\"text-align: right;\">\n",
       "      <th></th>\n",
       "      <th>Tweet Id</th>\n",
       "      <th>Text</th>\n",
       "      <th>Username</th>\n",
       "      <th>Noisy</th>\n",
       "      <th>Location</th>\n",
       "      <th>Name</th>\n",
       "      <th>User_Id</th>\n",
       "      <th>Year</th>\n",
       "      <th>hashtags</th>\n",
       "      <th>Clean_tweet</th>\n",
       "      <th>Check</th>\n",
       "      <th>Tok_tweet</th>\n",
       "      <th>cloud</th>\n",
       "    </tr>\n",
       "  </thead>\n",
       "  <tbody>\n",
       "    <tr>\n",
       "      <th>0</th>\n",
       "      <td>8.150000e+17</td>\n",
       "      <td>Women Deserve the Truth About Down Syndrome an...</td>\n",
       "      <td>LifeNewsToo</td>\n",
       "      <td>abortion</td>\n",
       "      <td>USA</td>\n",
       "      <td>LifeNews</td>\n",
       "      <td>7.455226e+07</td>\n",
       "      <td>2016</td>\n",
       "      <td>[Downsyndrome, Abortion]</td>\n",
       "      <td>women deserve the truth about down syndrome an...</td>\n",
       "      <td>0</td>\n",
       "      <td>[woman, deserve, truth, syndrome, prenatal, te...</td>\n",
       "      <td>woman deserve truth syndrome prenatal testing</td>\n",
       "    </tr>\n",
       "    <tr>\n",
       "      <th>1</th>\n",
       "      <td>8.140000e+17</td>\n",
       "      <td>@Cagsil @ivotedhillary \\nHow about Abortion yo...</td>\n",
       "      <td>itzMeiVo</td>\n",
       "      <td>abortion</td>\n",
       "      <td>Indianapolis, IN USA</td>\n",
       "      <td>MAGAFAM</td>\n",
       "      <td>8.090000e+17</td>\n",
       "      <td>2016</td>\n",
       "      <td>[ProLife]</td>\n",
       "      <td>how about abortion you advocate forthats curre...</td>\n",
       "      <td>0</td>\n",
       "      <td>[abortion, advocate, forthats, current, mass, ...</td>\n",
       "      <td>abortion advocate forthats current mass killin...</td>\n",
       "    </tr>\n",
       "    <tr>\n",
       "      <th>2</th>\n",
       "      <td>8.130000e+17</td>\n",
       "      <td>@SenSanders. I hate abortion, but same people ...</td>\n",
       "      <td>Batt6C</td>\n",
       "      <td>abortion</td>\n",
       "      <td>United States</td>\n",
       "      <td>Will 2017</td>\n",
       "      <td>7.870000e+17</td>\n",
       "      <td>2016</td>\n",
       "      <td>[]</td>\n",
       "      <td>i hate abortion but same people that would for...</td>\n",
       "      <td>0</td>\n",
       "      <td>[hate, abortion, people, would, force, child, ...</td>\n",
       "      <td>hate abortion people would force child young g...</td>\n",
       "    </tr>\n",
       "    <tr>\n",
       "      <th>3</th>\n",
       "      <td>8.120000e+17</td>\n",
       "      <td>If only pro-life activists spent as much time ...</td>\n",
       "      <td>danielle_browni</td>\n",
       "      <td>abortion</td>\n",
       "      <td>Boulder, CO</td>\n",
       "      <td>🌻 danielle</td>\n",
       "      <td>2.830944e+09</td>\n",
       "      <td>2016</td>\n",
       "      <td>[]</td>\n",
       "      <td>if only prolife activists spent as much time t...</td>\n",
       "      <td>0</td>\n",
       "      <td>[prolife, activist, spent, much, time, trying,...</td>\n",
       "      <td>prolife activist spent much time trying help k...</td>\n",
       "    </tr>\n",
       "    <tr>\n",
       "      <th>4</th>\n",
       "      <td>8.110000e+17</td>\n",
       "      <td>@TIME @motto I wish her mom had an abortion.</td>\n",
       "      <td>DioxaV</td>\n",
       "      <td>abortion</td>\n",
       "      <td>New York, NY</td>\n",
       "      <td>Dioxazine Violet</td>\n",
       "      <td>2.204231e+09</td>\n",
       "      <td>2016</td>\n",
       "      <td>[]</td>\n",
       "      <td>i wish her mom had an abortion</td>\n",
       "      <td>0</td>\n",
       "      <td>[wish, mom, abortion]</td>\n",
       "      <td>wish mom abortion</td>\n",
       "    </tr>\n",
       "  </tbody>\n",
       "</table>\n",
       "</div>"
      ],
      "text/plain": [
       "       Tweet Id                                               Text  \\\n",
       "0  8.150000e+17  Women Deserve the Truth About Down Syndrome an...   \n",
       "1  8.140000e+17  @Cagsil @ivotedhillary \\nHow about Abortion yo...   \n",
       "2  8.130000e+17  @SenSanders. I hate abortion, but same people ...   \n",
       "3  8.120000e+17  If only pro-life activists spent as much time ...   \n",
       "4  8.110000e+17       @TIME @motto I wish her mom had an abortion.   \n",
       "\n",
       "          Username     Noisy              Location              Name  \\\n",
       "0      LifeNewsToo  abortion                   USA          LifeNews   \n",
       "1         itzMeiVo  abortion  Indianapolis, IN USA           MAGAFAM   \n",
       "2           Batt6C  abortion         United States         Will 2017   \n",
       "3  danielle_browni  abortion           Boulder, CO        🌻 danielle   \n",
       "4           DioxaV  abortion          New York, NY  Dioxazine Violet   \n",
       "\n",
       "        User_Id  Year                  hashtags  \\\n",
       "0  7.455226e+07  2016  [Downsyndrome, Abortion]   \n",
       "1  8.090000e+17  2016                 [ProLife]   \n",
       "2  7.870000e+17  2016                        []   \n",
       "3  2.830944e+09  2016                        []   \n",
       "4  2.204231e+09  2016                        []   \n",
       "\n",
       "                                         Clean_tweet  Check  \\\n",
       "0  women deserve the truth about down syndrome an...      0   \n",
       "1  how about abortion you advocate forthats curre...      0   \n",
       "2  i hate abortion but same people that would for...      0   \n",
       "3  if only prolife activists spent as much time t...      0   \n",
       "4                     i wish her mom had an abortion      0   \n",
       "\n",
       "                                           Tok_tweet  \\\n",
       "0  [woman, deserve, truth, syndrome, prenatal, te...   \n",
       "1  [abortion, advocate, forthats, current, mass, ...   \n",
       "2  [hate, abortion, people, would, force, child, ...   \n",
       "3  [prolife, activist, spent, much, time, trying,...   \n",
       "4                              [wish, mom, abortion]   \n",
       "\n",
       "                                               cloud  \n",
       "0      woman deserve truth syndrome prenatal testing  \n",
       "1  abortion advocate forthats current mass killin...  \n",
       "2  hate abortion people would force child young g...  \n",
       "3  prolife activist spent much time trying help k...  \n",
       "4                                  wish mom abortion  "
      ]
     },
     "execution_count": 239,
     "metadata": {},
     "output_type": "execute_result"
    }
   ],
   "source": [
    "df.head()"
   ]
  },
  {
   "cell_type": "code",
   "execution_count": 240,
   "id": "54e5f7b8",
   "metadata": {},
   "outputs": [],
   "source": [
    "#df.to_csv('df_final.csv', encoding='utf-8-sig', index=False)"
   ]
  },
  {
   "cell_type": "markdown",
   "id": "f56dfdfb",
   "metadata": {},
   "source": [
    "## VADER Sentiment Analysis Identification"
   ]
  },
  {
   "cell_type": "code",
   "execution_count": 241,
   "id": "516bc4bd",
   "metadata": {},
   "outputs": [],
   "source": [
    "import pandas as pd\n",
    "import seaborn as sns\n",
    "import matplotlib.pyplot as plt\n",
    "from vaderSentiment.vaderSentiment import SentimentIntensityAnalyzer"
   ]
  },
  {
   "cell_type": "code",
   "execution_count": 242,
   "id": "3d4fcc42",
   "metadata": {},
   "outputs": [],
   "source": [
    "def sentiment_class(x):\n",
    "    if x['compound'] >= 0.05:\n",
    "        return \"positive\"\n",
    "    elif (x['compound'] > -0.05) and (x['compound']<0.05):\n",
    "        return \"neutral\"\n",
    "    elif x['compound']<=-0.05:\n",
    "        return \"negative\"\n",
    "    \n",
    "analyzer = SentimentIntensityAnalyzer()\n",
    "\n",
    "def sentiment(x):\n",
    "    return analyzer.polarity_scores(x)   "
   ]
  },
  {
   "cell_type": "code",
   "execution_count": 243,
   "id": "49cfa3f9",
   "metadata": {},
   "outputs": [],
   "source": [
    "df['sentiment'] = df['Text'].apply(sentiment)"
   ]
  },
  {
   "cell_type": "code",
   "execution_count": 244,
   "id": "005d2379",
   "metadata": {},
   "outputs": [],
   "source": [
    "df['sentimentclass']= df['sentiment'].apply(sentiment_class)"
   ]
  },
  {
   "cell_type": "code",
   "execution_count": 245,
   "id": "6fecf90a",
   "metadata": {},
   "outputs": [
    {
     "data": {
      "text/html": [
       "<div>\n",
       "<style scoped>\n",
       "    .dataframe tbody tr th:only-of-type {\n",
       "        vertical-align: middle;\n",
       "    }\n",
       "\n",
       "    .dataframe tbody tr th {\n",
       "        vertical-align: top;\n",
       "    }\n",
       "\n",
       "    .dataframe thead th {\n",
       "        text-align: right;\n",
       "    }\n",
       "</style>\n",
       "<table border=\"1\" class=\"dataframe\">\n",
       "  <thead>\n",
       "    <tr style=\"text-align: right;\">\n",
       "      <th></th>\n",
       "      <th>Tweet Id</th>\n",
       "      <th>Text</th>\n",
       "      <th>Username</th>\n",
       "      <th>Noisy</th>\n",
       "      <th>Location</th>\n",
       "      <th>Name</th>\n",
       "      <th>User_Id</th>\n",
       "      <th>Year</th>\n",
       "      <th>hashtags</th>\n",
       "      <th>Clean_tweet</th>\n",
       "      <th>Check</th>\n",
       "      <th>Tok_tweet</th>\n",
       "      <th>cloud</th>\n",
       "      <th>sentiment</th>\n",
       "      <th>sentimentclass</th>\n",
       "    </tr>\n",
       "  </thead>\n",
       "  <tbody>\n",
       "    <tr>\n",
       "      <th>5</th>\n",
       "      <td>8.100000e+17</td>\n",
       "      <td>@summerbrennan Here in Kentucky, abortion is t...</td>\n",
       "      <td>BurnettCynthia</td>\n",
       "      <td>abortion</td>\n",
       "      <td>United States</td>\n",
       "      <td>🛸👽Cynthia Burnett👽🛸</td>\n",
       "      <td>8.099379e+08</td>\n",
       "      <td>2016</td>\n",
       "      <td>[]</td>\n",
       "      <td>here in kentucky abortion is the only reason t...</td>\n",
       "      <td>0</td>\n",
       "      <td>[kentucky, abortion, reason, vote, nothing, el...</td>\n",
       "      <td>kentucky abortion reason vote nothing else pro...</td>\n",
       "      <td>{'neg': 0.0, 'neu': 1.0, 'pos': 0.0, 'compound...</td>\n",
       "      <td>neutral</td>\n",
       "    </tr>\n",
       "    <tr>\n",
       "      <th>21</th>\n",
       "      <td>9.472533e+17</td>\n",
       "      <td>@FrMatthewLC Teaching and living the sacrednes...</td>\n",
       "      <td>BethCioffoletti</td>\n",
       "      <td>abortion</td>\n",
       "      <td>United States</td>\n",
       "      <td>🌾b q</td>\n",
       "      <td>8.825177e+08</td>\n",
       "      <td>2017</td>\n",
       "      <td>[]</td>\n",
       "      <td>teaching and living the sacredness of all life...</td>\n",
       "      <td>0</td>\n",
       "      <td>[teaching, living, sacredness, life, end, abor...</td>\n",
       "      <td>teaching living sacredness life end abortion m...</td>\n",
       "      <td>{'neg': 0.0, 'neu': 1.0, 'pos': 0.0, 'compound...</td>\n",
       "      <td>neutral</td>\n",
       "    </tr>\n",
       "    <tr>\n",
       "      <th>25</th>\n",
       "      <td>9.472528e+17</td>\n",
       "      <td>@Suntimes Yet he wouldn’t veto the abortion bi...</td>\n",
       "      <td>JohnPlanklife</td>\n",
       "      <td>abortion</td>\n",
       "      <td>Tuscola, IL</td>\n",
       "      <td>John Plank</td>\n",
       "      <td>8.747884e+17</td>\n",
       "      <td>2017</td>\n",
       "      <td>[]</td>\n",
       "      <td>yet he wouldn’t veto the abortion billhe’s way...</td>\n",
       "      <td>0</td>\n",
       "      <td>[yet, ’, veto, abortion, billhe, ’, way]</td>\n",
       "      <td>yet ’ veto abortion billhe ’ way</td>\n",
       "      <td>{'neg': 0.0, 'neu': 1.0, 'pos': 0.0, 'compound...</td>\n",
       "      <td>neutral</td>\n",
       "    </tr>\n",
       "    <tr>\n",
       "      <th>35</th>\n",
       "      <td>9.472503e+17</td>\n",
       "      <td>@Sistik2009 @David_Leavitt Except for the rece...</td>\n",
       "      <td>nothankyou01</td>\n",
       "      <td>abortion</td>\n",
       "      <td>USA</td>\n",
       "      <td>hmmmm</td>\n",
       "      <td>9.960280e+08</td>\n",
       "      <td>2017</td>\n",
       "      <td>[]</td>\n",
       "      <td>except for the recent abortion law in his state</td>\n",
       "      <td>0</td>\n",
       "      <td>[except, recent, abortion, law, state]</td>\n",
       "      <td>except recent abortion law state</td>\n",
       "      <td>{'neg': 0.0, 'neu': 1.0, 'pos': 0.0, 'compound...</td>\n",
       "      <td>neutral</td>\n",
       "    </tr>\n",
       "    <tr>\n",
       "      <th>36</th>\n",
       "      <td>9.472497e+17</td>\n",
       "      <td>Judge Allows Illinois to Spend Taxpayer Money ...</td>\n",
       "      <td>prolife4</td>\n",
       "      <td>abortion</td>\n",
       "      <td>South Dakota, USA</td>\n",
       "      <td>Paula Rose Parmelee</td>\n",
       "      <td>9.553344e+07</td>\n",
       "      <td>2017</td>\n",
       "      <td>[]</td>\n",
       "      <td>judge allows illinois to spend taayer money it...</td>\n",
       "      <td>0</td>\n",
       "      <td>[judge, allows, illinois, spend, taayer, money...</td>\n",
       "      <td>judge allows illinois spend taayer money ’ abo...</td>\n",
       "      <td>{'neg': 0.0, 'neu': 1.0, 'pos': 0.0, 'compound...</td>\n",
       "      <td>neutral</td>\n",
       "    </tr>\n",
       "    <tr>\n",
       "      <th>...</th>\n",
       "      <td>...</td>\n",
       "      <td>...</td>\n",
       "      <td>...</td>\n",
       "      <td>...</td>\n",
       "      <td>...</td>\n",
       "      <td>...</td>\n",
       "      <td>...</td>\n",
       "      <td>...</td>\n",
       "      <td>...</td>\n",
       "      <td>...</td>\n",
       "      <td>...</td>\n",
       "      <td>...</td>\n",
       "      <td>...</td>\n",
       "      <td>...</td>\n",
       "      <td>...</td>\n",
       "    </tr>\n",
       "    <tr>\n",
       "      <th>174364</th>\n",
       "      <td>9.483577e+17</td>\n",
       "      <td>B.C. to cover cost of abortion pill Mifegymiso...</td>\n",
       "      <td>chrismarkevich</td>\n",
       "      <td>prochoice</td>\n",
       "      <td>British Columbia, Canada</td>\n",
       "      <td>Chris Markevich</td>\n",
       "      <td>1.219329e+08</td>\n",
       "      <td>2018</td>\n",
       "      <td>[bcpoli, prochoice]</td>\n",
       "      <td>bc to cover cost of abortion pill mifegymiso</td>\n",
       "      <td>0</td>\n",
       "      <td>[bc, cover, cost, abortion, pill, mifegymiso]</td>\n",
       "      <td>bc cover cost abortion pill mifegymiso</td>\n",
       "      <td>{'neg': 0.0, 'neu': 1.0, 'pos': 0.0, 'compound...</td>\n",
       "      <td>neutral</td>\n",
       "    </tr>\n",
       "    <tr>\n",
       "      <th>174365</th>\n",
       "      <td>9.483384e+17</td>\n",
       "      <td>Women only have one brain, two arms, two legs,...</td>\n",
       "      <td>fulyRelyonGod</td>\n",
       "      <td>prochoice</td>\n",
       "      <td>WI</td>\n",
       "      <td>American Citizen</td>\n",
       "      <td>1.107905e+09</td>\n",
       "      <td>2018</td>\n",
       "      <td>[EndAbortion, ProLife, ProChoice]</td>\n",
       "      <td>women only have one brain two arms two legs et...</td>\n",
       "      <td>0</td>\n",
       "      <td>[woman, one, brain, two, arm, two, leg, etc, b...</td>\n",
       "      <td>woman one brain two arm two leg etc body baby ...</td>\n",
       "      <td>{'neg': 0.0, 'neu': 1.0, 'pos': 0.0, 'compound...</td>\n",
       "      <td>neutral</td>\n",
       "    </tr>\n",
       "    <tr>\n",
       "      <th>174367</th>\n",
       "      <td>9.483242e+17</td>\n",
       "      <td>@ProChoice_HN @ABprochoice @AbortionRights Yikes.</td>\n",
       "      <td>AccessBC</td>\n",
       "      <td>prochoice</td>\n",
       "      <td>British Columbia, Canada</td>\n",
       "      <td>AccessBC Campaign for Free Contraception</td>\n",
       "      <td>8.350610e+17</td>\n",
       "      <td>2018</td>\n",
       "      <td>[]</td>\n",
       "      <td>yikes</td>\n",
       "      <td>0</td>\n",
       "      <td>[yikes]</td>\n",
       "      <td>yikes</td>\n",
       "      <td>{'neg': 0.0, 'neu': 1.0, 'pos': 0.0, 'compound...</td>\n",
       "      <td>neutral</td>\n",
       "    </tr>\n",
       "    <tr>\n",
       "      <th>174376</th>\n",
       "      <td>9.480956e+17</td>\n",
       "      <td>They say you can do this on your lunchbreak &amp;a...</td>\n",
       "      <td>gotspeed2burn</td>\n",
       "      <td>prochoice</td>\n",
       "      <td>The Kentucky Bluegrass</td>\n",
       "      <td>Barb🏇O'🇺🇸</td>\n",
       "      <td>8.423787e+08</td>\n",
       "      <td>2018</td>\n",
       "      <td>[AbortionIsMurder, prochoice, ProLife]</td>\n",
       "      <td>they say you can do this on your lunchbreak th...</td>\n",
       "      <td>0</td>\n",
       "      <td>[say, lunchbreak, go, back, work, im, guessing...</td>\n",
       "      <td>say lunchbreak go back work im guessing thats ...</td>\n",
       "      <td>{'neg': 0.03, 'neu': 0.938, 'pos': 0.032, 'com...</td>\n",
       "      <td>neutral</td>\n",
       "    </tr>\n",
       "    <tr>\n",
       "      <th>174385</th>\n",
       "      <td>9.477087e+17</td>\n",
       "      <td>#ProLife #ProChoice #theaxe #writing #prolifeg...</td>\n",
       "      <td>YeomansMelissa</td>\n",
       "      <td>prochoice</td>\n",
       "      <td>Michigan, United States</td>\n",
       "      <td>Melissa Yeomans</td>\n",
       "      <td>2.344416e+09</td>\n",
       "      <td>2018</td>\n",
       "      <td>[ProLife, ProChoice, theaxe, writing, prolifeg...</td>\n",
       "      <td>this is life this is survival</td>\n",
       "      <td>0</td>\n",
       "      <td>[life, survival]</td>\n",
       "      <td>life survival</td>\n",
       "      <td>{'neg': 0.0, 'neu': 1.0, 'pos': 0.0, 'compound...</td>\n",
       "      <td>neutral</td>\n",
       "    </tr>\n",
       "  </tbody>\n",
       "</table>\n",
       "<p>44472 rows × 15 columns</p>\n",
       "</div>"
      ],
      "text/plain": [
       "            Tweet Id                                               Text  \\\n",
       "5       8.100000e+17  @summerbrennan Here in Kentucky, abortion is t...   \n",
       "21      9.472533e+17  @FrMatthewLC Teaching and living the sacrednes...   \n",
       "25      9.472528e+17  @Suntimes Yet he wouldn’t veto the abortion bi...   \n",
       "35      9.472503e+17  @Sistik2009 @David_Leavitt Except for the rece...   \n",
       "36      9.472497e+17  Judge Allows Illinois to Spend Taxpayer Money ...   \n",
       "...              ...                                                ...   \n",
       "174364  9.483577e+17  B.C. to cover cost of abortion pill Mifegymiso...   \n",
       "174365  9.483384e+17  Women only have one brain, two arms, two legs,...   \n",
       "174367  9.483242e+17  @ProChoice_HN @ABprochoice @AbortionRights Yikes.   \n",
       "174376  9.480956e+17  They say you can do this on your lunchbreak &a...   \n",
       "174385  9.477087e+17  #ProLife #ProChoice #theaxe #writing #prolifeg...   \n",
       "\n",
       "               Username      Noisy                  Location  \\\n",
       "5        BurnettCynthia   abortion             United States   \n",
       "21      BethCioffoletti   abortion             United States   \n",
       "25        JohnPlanklife   abortion               Tuscola, IL   \n",
       "35         nothankyou01   abortion                       USA   \n",
       "36             prolife4   abortion         South Dakota, USA   \n",
       "...                 ...        ...                       ...   \n",
       "174364   chrismarkevich  prochoice  British Columbia, Canada   \n",
       "174365    fulyRelyonGod  prochoice                        WI   \n",
       "174367         AccessBC  prochoice  British Columbia, Canada   \n",
       "174376    gotspeed2burn  prochoice    The Kentucky Bluegrass   \n",
       "174385   YeomansMelissa  prochoice   Michigan, United States   \n",
       "\n",
       "                                            Name       User_Id  Year  \\\n",
       "5                            🛸👽Cynthia Burnett👽🛸  8.099379e+08  2016   \n",
       "21                                          🌾b q  8.825177e+08  2017   \n",
       "25                                    John Plank  8.747884e+17  2017   \n",
       "35                                         hmmmm  9.960280e+08  2017   \n",
       "36                           Paula Rose Parmelee  9.553344e+07  2017   \n",
       "...                                          ...           ...   ...   \n",
       "174364                           Chris Markevich  1.219329e+08  2018   \n",
       "174365                          American Citizen  1.107905e+09  2018   \n",
       "174367  AccessBC Campaign for Free Contraception  8.350610e+17  2018   \n",
       "174376                                 Barb🏇O'🇺🇸  8.423787e+08  2018   \n",
       "174385                           Melissa Yeomans  2.344416e+09  2018   \n",
       "\n",
       "                                                 hashtags  \\\n",
       "5                                                      []   \n",
       "21                                                     []   \n",
       "25                                                     []   \n",
       "35                                                     []   \n",
       "36                                                     []   \n",
       "...                                                   ...   \n",
       "174364                                [bcpoli, prochoice]   \n",
       "174365                  [EndAbortion, ProLife, ProChoice]   \n",
       "174367                                                 []   \n",
       "174376             [AbortionIsMurder, prochoice, ProLife]   \n",
       "174385  [ProLife, ProChoice, theaxe, writing, prolifeg...   \n",
       "\n",
       "                                              Clean_tweet  Check  \\\n",
       "5       here in kentucky abortion is the only reason t...      0   \n",
       "21      teaching and living the sacredness of all life...      0   \n",
       "25      yet he wouldn’t veto the abortion billhe’s way...      0   \n",
       "35        except for the recent abortion law in his state      0   \n",
       "36      judge allows illinois to spend taayer money it...      0   \n",
       "...                                                   ...    ...   \n",
       "174364       bc to cover cost of abortion pill mifegymiso      0   \n",
       "174365  women only have one brain two arms two legs et...      0   \n",
       "174367                                              yikes      0   \n",
       "174376  they say you can do this on your lunchbreak th...      0   \n",
       "174385                      this is life this is survival      0   \n",
       "\n",
       "                                                Tok_tweet  \\\n",
       "5       [kentucky, abortion, reason, vote, nothing, el...   \n",
       "21      [teaching, living, sacredness, life, end, abor...   \n",
       "25               [yet, ’, veto, abortion, billhe, ’, way]   \n",
       "35                 [except, recent, abortion, law, state]   \n",
       "36      [judge, allows, illinois, spend, taayer, money...   \n",
       "...                                                   ...   \n",
       "174364      [bc, cover, cost, abortion, pill, mifegymiso]   \n",
       "174365  [woman, one, brain, two, arm, two, leg, etc, b...   \n",
       "174367                                            [yikes]   \n",
       "174376  [say, lunchbreak, go, back, work, im, guessing...   \n",
       "174385                                   [life, survival]   \n",
       "\n",
       "                                                    cloud  \\\n",
       "5       kentucky abortion reason vote nothing else pro...   \n",
       "21      teaching living sacredness life end abortion m...   \n",
       "25                       yet ’ veto abortion billhe ’ way   \n",
       "35                       except recent abortion law state   \n",
       "36      judge allows illinois spend taayer money ’ abo...   \n",
       "...                                                   ...   \n",
       "174364             bc cover cost abortion pill mifegymiso   \n",
       "174365  woman one brain two arm two leg etc body baby ...   \n",
       "174367                                              yikes   \n",
       "174376  say lunchbreak go back work im guessing thats ...   \n",
       "174385                                      life survival   \n",
       "\n",
       "                                                sentiment sentimentclass  \n",
       "5       {'neg': 0.0, 'neu': 1.0, 'pos': 0.0, 'compound...        neutral  \n",
       "21      {'neg': 0.0, 'neu': 1.0, 'pos': 0.0, 'compound...        neutral  \n",
       "25      {'neg': 0.0, 'neu': 1.0, 'pos': 0.0, 'compound...        neutral  \n",
       "35      {'neg': 0.0, 'neu': 1.0, 'pos': 0.0, 'compound...        neutral  \n",
       "36      {'neg': 0.0, 'neu': 1.0, 'pos': 0.0, 'compound...        neutral  \n",
       "...                                                   ...            ...  \n",
       "174364  {'neg': 0.0, 'neu': 1.0, 'pos': 0.0, 'compound...        neutral  \n",
       "174365  {'neg': 0.0, 'neu': 1.0, 'pos': 0.0, 'compound...        neutral  \n",
       "174367  {'neg': 0.0, 'neu': 1.0, 'pos': 0.0, 'compound...        neutral  \n",
       "174376  {'neg': 0.03, 'neu': 0.938, 'pos': 0.032, 'com...        neutral  \n",
       "174385  {'neg': 0.0, 'neu': 1.0, 'pos': 0.0, 'compound...        neutral  \n",
       "\n",
       "[44472 rows x 15 columns]"
      ]
     },
     "execution_count": 245,
     "metadata": {},
     "output_type": "execute_result"
    }
   ],
   "source": [
    "df[df['sentimentclass'] =='neutral']"
   ]
  },
  {
   "cell_type": "code",
   "execution_count": 246,
   "id": "1914042c",
   "metadata": {},
   "outputs": [],
   "source": [
    "df['sentimentnum'] = 0\n",
    "df.loc[df['sentimentclass'] == 'positive', 'sentimentnum'] = 1\n",
    "df.loc[df['sentimentclass'] == 'negative', 'sentimentnum'] = 2"
   ]
  },
  {
   "cell_type": "code",
   "execution_count": 247,
   "id": "d12eca7c",
   "metadata": {},
   "outputs": [],
   "source": [
    "df.to_csv('df_final.csv', encoding='utf-8-sig', index=False)"
   ]
  }
 ],
 "metadata": {
  "kernelspec": {
   "display_name": "Python 3",
   "language": "python",
   "name": "python3"
  },
  "language_info": {
   "codemirror_mode": {
    "name": "ipython",
    "version": 3
   },
   "file_extension": ".py",
   "mimetype": "text/x-python",
   "name": "python",
   "nbconvert_exporter": "python",
   "pygments_lexer": "ipython3",
   "version": "3.7.10"
  }
 },
 "nbformat": 4,
 "nbformat_minor": 5
}
