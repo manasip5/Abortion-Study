{
 "cells": [
  {
   "cell_type": "code",
   "execution_count": 2,
   "metadata": {},
   "outputs": [
    {
     "name": "stderr",
     "output_type": "stream",
     "text": [
      "[nltk_data] Downloading package stopwords to\n",
      "[nltk_data]     /Users/manasip/nltk_data...\n",
      "[nltk_data]   Package stopwords is already up-to-date!\n",
      "[nltk_data] Downloading package wordnet to /Users/manasip/nltk_data...\n",
      "[nltk_data]   Package wordnet is already up-to-date!\n"
     ]
    }
   ],
   "source": [
    "import pandas as pd\n",
    "import re\n",
    "import seaborn as sns\n",
    "import matplotlib.pyplot as plt\n",
    "from bs4 import BeautifulSoup\n",
    "import html\n",
    "import preprocessor as pp\n",
    "import string\n",
    "import nltk\n",
    "nltk.download('stopwords')\n",
    "nltk.download('wordnet')\n",
    "from nltk.tokenize import TweetTokenizer\n",
    "from nltk.stem import WordNetLemmatizer\n",
    "from wordcloud import WordCloud\n",
    "\n",
    "from nltk.probability import FreqDist\n",
    "\n",
    "from gensim.corpora import Dictionary\n",
    "from gensim.models.ldamodel import LdaModel\n",
    "from gensim.models import CoherenceModel"
   ]
  },
  {
   "cell_type": "code",
   "execution_count": 45,
   "metadata": {},
   "outputs": [],
   "source": [
    "##Import file\n",
    "df_gen = pd.read_csv(\"df_gender.csv\")"
   ]
  },
  {
   "cell_type": "code",
   "execution_count": 46,
   "metadata": {},
   "outputs": [
    {
     "data": {
      "text/html": [
       "<div>\n",
       "<style scoped>\n",
       "    .dataframe tbody tr th:only-of-type {\n",
       "        vertical-align: middle;\n",
       "    }\n",
       "\n",
       "    .dataframe tbody tr th {\n",
       "        vertical-align: top;\n",
       "    }\n",
       "\n",
       "    .dataframe thead th {\n",
       "        text-align: right;\n",
       "    }\n",
       "</style>\n",
       "<table border=\"1\" class=\"dataframe\">\n",
       "  <thead>\n",
       "    <tr style=\"text-align: right;\">\n",
       "      <th></th>\n",
       "      <th>Tweet Id</th>\n",
       "      <th>Text</th>\n",
       "      <th>Username</th>\n",
       "      <th>Noisy</th>\n",
       "      <th>Location</th>\n",
       "      <th>Name</th>\n",
       "      <th>User_Id</th>\n",
       "      <th>Year</th>\n",
       "      <th>sentiment</th>\n",
       "      <th>sentimentclass</th>\n",
       "      <th>sentimentnum</th>\n",
       "      <th>Gender</th>\n",
       "    </tr>\n",
       "  </thead>\n",
       "  <tbody>\n",
       "    <tr>\n",
       "      <th>0</th>\n",
       "      <td>9.472559e+17</td>\n",
       "      <td>I just read ur twitter comments on ur acct u h...</td>\n",
       "      <td>kathy_tkat</td>\n",
       "      <td>abortion</td>\n",
       "      <td>Massachusetts, USA</td>\n",
       "      <td>Kathy</td>\n",
       "      <td>7.266530e+17</td>\n",
       "      <td>2017</td>\n",
       "      <td>{'neg': 0.046, 'neu': 0.86, 'pos': 0.093, 'com...</td>\n",
       "      <td>positive</td>\n",
       "      <td>2</td>\n",
       "      <td>female</td>\n",
       "    </tr>\n",
       "    <tr>\n",
       "      <th>1</th>\n",
       "      <td>9.472487e+17</td>\n",
       "      <td>I live in a country where abortion is illegal ...</td>\n",
       "      <td>belindacree</td>\n",
       "      <td>abortion</td>\n",
       "      <td>Northern Ireland</td>\n",
       "      <td>Belinda</td>\n",
       "      <td>1.393754e+08</td>\n",
       "      <td>2017</td>\n",
       "      <td>{'neg': 0.27, 'neu': 0.669, 'pos': 0.061, 'com...</td>\n",
       "      <td>negative</td>\n",
       "      <td>1</td>\n",
       "      <td>female</td>\n",
       "    </tr>\n",
       "    <tr>\n",
       "      <th>2</th>\n",
       "      <td>9.472429e+17</td>\n",
       "      <td>If the administration manages to outlaw aborti...</td>\n",
       "      <td>Bouteloua_spp</td>\n",
       "      <td>abortion</td>\n",
       "      <td>None of your god damn business</td>\n",
       "      <td>Michelle</td>\n",
       "      <td>2.054931e+08</td>\n",
       "      <td>2017</td>\n",
       "      <td>{'neg': 0.152, 'neu': 0.848, 'pos': 0.0, 'comp...</td>\n",
       "      <td>negative</td>\n",
       "      <td>1</td>\n",
       "      <td>female</td>\n",
       "    </tr>\n",
       "  </tbody>\n",
       "</table>\n",
       "</div>"
      ],
      "text/plain": [
       "       Tweet Id                                               Text  \\\n",
       "0  9.472559e+17  I just read ur twitter comments on ur acct u h...   \n",
       "1  9.472487e+17  I live in a country where abortion is illegal ...   \n",
       "2  9.472429e+17  If the administration manages to outlaw aborti...   \n",
       "\n",
       "        Username     Noisy                        Location      Name  \\\n",
       "0     kathy_tkat  abortion              Massachusetts, USA     Kathy   \n",
       "1    belindacree  abortion                Northern Ireland   Belinda   \n",
       "2  Bouteloua_spp  abortion  None of your god damn business  Michelle   \n",
       "\n",
       "        User_Id  Year                                          sentiment  \\\n",
       "0  7.266530e+17  2017  {'neg': 0.046, 'neu': 0.86, 'pos': 0.093, 'com...   \n",
       "1  1.393754e+08  2017  {'neg': 0.27, 'neu': 0.669, 'pos': 0.061, 'com...   \n",
       "2  2.054931e+08  2017  {'neg': 0.152, 'neu': 0.848, 'pos': 0.0, 'comp...   \n",
       "\n",
       "  sentimentclass  sentimentnum  Gender  \n",
       "0       positive             2  female  \n",
       "1       negative             1  female  \n",
       "2       negative             1  female  "
      ]
     },
     "execution_count": 46,
     "metadata": {},
     "output_type": "execute_result"
    }
   ],
   "source": [
    "df_gen.head(3)"
   ]
  },
  {
   "cell_type": "code",
   "execution_count": 47,
   "metadata": {},
   "outputs": [],
   "source": [
    "df_gen.rename(columns={\"Tweet Id\": \"id\", \"Text\": \"tweet\", \"Username\": \"user\", \\\n",
    "                       \"Gender\":\"gender\", \"Noisy\":\"noisy\"}, \\\n",
    "                   inplace=True)"
   ]
  },
  {
   "cell_type": "code",
   "execution_count": 48,
   "metadata": {},
   "outputs": [
    {
     "name": "stdout",
     "output_type": "stream",
     "text": [
      "8584 8584\n"
     ]
    }
   ],
   "source": [
    "##Sanity check\n",
    "print(df_gen.id.nunique(), df_gen.shape[0])"
   ]
  },
  {
   "cell_type": "code",
   "execution_count": 49,
   "metadata": {},
   "outputs": [],
   "source": [
    "df_gen.drop_duplicates(subset=['id'], inplace=True)"
   ]
  },
  {
   "cell_type": "code",
   "execution_count": 50,
   "metadata": {},
   "outputs": [
    {
     "data": {
      "text/plain": [
       "(8584, 12)"
      ]
     },
     "execution_count": 50,
     "metadata": {},
     "output_type": "execute_result"
    }
   ],
   "source": [
    "#Sanity check\n",
    "df_gen.shape"
   ]
  },
  {
   "cell_type": "markdown",
   "metadata": {},
   "source": [
    "------------Pre-processing tweets------------"
   ]
  },
  {
   "cell_type": "code",
   "execution_count": 51,
   "metadata": {},
   "outputs": [],
   "source": [
    "df_gen[\"clean_tweet\"] = df_gen.tweet"
   ]
  },
  {
   "cell_type": "code",
   "execution_count": 52,
   "metadata": {},
   "outputs": [],
   "source": [
    "#Step 1: Decode html escape characters: &amp &quote etc \n",
    "df_gen.clean_tweet = df_gen.clean_tweet.apply(lambda x: re.sub(r'&[a-z]+;', '', x))"
   ]
  },
  {
   "cell_type": "code",
   "execution_count": 53,
   "metadata": {},
   "outputs": [
    {
     "name": "stdout",
     "output_type": "stream",
     "text": [
      "0\n"
     ]
    }
   ],
   "source": [
    "#Sanity check\n",
    "df_gen['check'] = df_gen.clean_tweet.str.contains(\"&\", case=False, na=False).astype(int) \n",
    "# Checked for &gt, &amp &#62 &quote\n",
    "print(sum(df_gen.check))"
   ]
  },
  {
   "cell_type": "code",
   "execution_count": 54,
   "metadata": {},
   "outputs": [],
   "source": [
    "#Step 2: Remove @mentions\n",
    "df_gen.clean_tweet = df_gen.clean_tweet.apply(lambda x: re.sub('@[^\\s]+','',x))\n",
    "df_gen.clean_tweet = df_gen.clean_tweet.apply(lambda x: re.sub('@[^\\w]+','',x))\n",
    "df_gen.clean_tweet = df_gen.clean_tweet.apply(lambda x: re.sub('@','',x))"
   ]
  },
  {
   "cell_type": "code",
   "execution_count": 55,
   "metadata": {},
   "outputs": [
    {
     "name": "stdout",
     "output_type": "stream",
     "text": [
      "0\n"
     ]
    }
   ],
   "source": [
    "#Sanity check\n",
    "df_gen.check = df_gen.clean_tweet.str.contains(\"@\", case=False, na=False).astype(int) \n",
    "print(sum(df_gen.check))"
   ]
  },
  {
   "cell_type": "code",
   "execution_count": 56,
   "metadata": {},
   "outputs": [],
   "source": [
    "#Step 3 Remove \\n \\t \\r\n",
    "df_gen.clean_tweet = df_gen.clean_tweet.apply(lambda x: x.replace('\\n', '').replace('\\t', '').replace('\\r', ''))"
   ]
  },
  {
   "cell_type": "code",
   "execution_count": 57,
   "metadata": {},
   "outputs": [
    {
     "name": "stdout",
     "output_type": "stream",
     "text": [
      "n 0\n",
      "t 0\n",
      "r 0\n"
     ]
    }
   ],
   "source": [
    "#Sanity check\n",
    "df_gen.check = df_gen.clean_tweet.str.contains(\"\\n\", case=False, na=False).astype(int) \n",
    "print('n', sum(df_gen.check))\n",
    "\n",
    "df_gen.check = df_gen.clean_tweet.str.contains(\"\\t\", case=False, na=False).astype(int) \n",
    "print('t', sum(df_gen.check))\n",
    "\n",
    "df_gen.check = df_gen.clean_tweet.str.contains(\"\\r\", case=False, na=False).astype(int) \n",
    "print('r', sum(df_gen.check))"
   ]
  },
  {
   "cell_type": "code",
   "execution_count": 58,
   "metadata": {},
   "outputs": [],
   "source": [
    "#Step 4: Tweet-preprocessor to remove, urls, emojis, hashtags, reserved words, mentions (if any), smileys\n",
    "df_gen.clean_tweet = df_gen.clean_tweet.apply(lambda x: pp.clean(x))"
   ]
  },
  {
   "cell_type": "code",
   "execution_count": 59,
   "metadata": {},
   "outputs": [
    {
     "name": "stdout",
     "output_type": "stream",
     "text": [
      "check # 0\n",
      "check http 0\n",
      "check www 0\n"
     ]
    }
   ],
   "source": [
    "#Sanity check\n",
    "df_gen.check = df_gen.clean_tweet.str.contains(\"#\", case=False, na=False).astype(int) \n",
    "print(\"check #\",sum(df_gen.check))\n",
    "df_gen.check = df_gen.clean_tweet.str.contains(\"http\", case=False, na=False).astype(int) \n",
    "print(\"check http\",sum(df_gen.check))\n",
    "df_gen.check = df_gen.clean_tweet.str.contains(\"http\", case=False, na=False).astype(int) \n",
    "print(\"check www\",sum(df_gen.check))"
   ]
  },
  {
   "cell_type": "code",
   "execution_count": 60,
   "metadata": {},
   "outputs": [],
   "source": [
    "#Step 5: Remove Placeholders\n",
    "df_gen.clean_tweet = df_gen.clean_tweet.apply(lambda x: re.sub(r'{link}', '', x))\n",
    "df_gen.clean_tweet = df_gen.clean_tweet.apply(lambda x: re.sub(r\"\\[video\\]\", '', x))"
   ]
  },
  {
   "cell_type": "code",
   "execution_count": 61,
   "metadata": {},
   "outputs": [
    {
     "name": "stdout",
     "output_type": "stream",
     "text": [
      "check link 0\n",
      "check video 0\n"
     ]
    }
   ],
   "source": [
    "#Sanity check\n",
    "df_gen.check = df_gen.clean_tweet.str.contains(\"{link}\", case=False, na=False).astype(int) \n",
    "print(\"check link\",sum(df_gen.check))\n",
    "df_gen.check = df_gen.clean_tweet.str.contains(\"\\[video\\]\", case=False, na=False).astype(int) \n",
    "print(\"check video\",sum(df_gen.check))"
   ]
  },
  {
   "cell_type": "code",
   "execution_count": 62,
   "metadata": {},
   "outputs": [],
   "source": [
    "#Step 6: Remove punctuations, digits\n",
    "#Create helper function\n",
    "def remove_punctuations(text):\n",
    "    for punctuation in string.punctuation:\n",
    "        text = text.replace(punctuation, '')\n",
    "    return text\n",
    "\n",
    "def remove_digits(text):\n",
    "    for digit in string.digits:\n",
    "        text = text.replace(digit, '')\n",
    "    return text\n",
    "\n",
    "df_gen.clean_tweet = df_gen.clean_tweet.apply(remove_punctuations)\n",
    "\n",
    "df_gen.clean_tweet = df_gen.clean_tweet.apply(remove_digits)"
   ]
  },
  {
   "cell_type": "code",
   "execution_count": 63,
   "metadata": {},
   "outputs": [
    {
     "name": "stdout",
     "output_type": "stream",
     "text": [
      "check ! 0\n",
      "check ? 0\n",
      "check . 0\n",
      "check 1 0\n"
     ]
    }
   ],
   "source": [
    "#Sanity check\n",
    "df_gen.check = df_gen.clean_tweet.str.contains(\"\\!\", case=False, na=False).astype(int)\n",
    "print(\"check !\",sum(df_gen.check))\n",
    "df_gen.check = df_gen.clean_tweet.str.contains(\"\\?\", case=False, na=False).astype(int)\n",
    "print(\"check ?\",sum(df_gen.check))\n",
    "df_gen.check = df_gen.clean_tweet.str.contains(\"\\.\", case=False, na=False).astype(int)\n",
    "print(\"check .\",sum(df_gen.check))\n",
    "\n",
    "df_gen.check = df_gen.clean_tweet.str.contains(\"1\", case=False, na=False).astype(int)\n",
    "print(\"check 1\",sum(df_gen.check))"
   ]
  },
  {
   "cell_type": "code",
   "execution_count": 64,
   "metadata": {},
   "outputs": [],
   "source": [
    "#Step 7 Lowercase before tokenization\n",
    "df_gen.clean_tweet = df_gen.clean_tweet.str.lower()"
   ]
  },
  {
   "cell_type": "code",
   "execution_count": 65,
   "metadata": {},
   "outputs": [],
   "source": [
    "#Step 8 Tokenization\n",
    "tknzr = TweetTokenizer(strip_handles=True, reduce_len=True)"
   ]
  },
  {
   "cell_type": "code",
   "execution_count": 66,
   "metadata": {},
   "outputs": [],
   "source": [
    "df_gen[\"tok_tweet\"] = df_gen.clean_tweet.apply(lambda x: tknzr.tokenize(x))"
   ]
  },
  {
   "cell_type": "code",
   "execution_count": 67,
   "metadata": {},
   "outputs": [],
   "source": [
    "#Step 8 Remove stopwords \n",
    "#Create helper function\n",
    "\n",
    "stopword = nltk.corpus.stopwords.words('english')\n",
    "\n",
    "def remove_stopwords(text):\n",
    "    text = [word for word in text if word not in stopword]\n",
    "    return text\n",
    "\n",
    "df_gen.tok_tweet = df_gen.tok_tweet.apply(lambda x: remove_stopwords(x))"
   ]
  },
  {
   "cell_type": "code",
   "execution_count": 68,
   "metadata": {},
   "outputs": [],
   "source": [
    "#Step 9 Lemmatization\n",
    "#Create helper function\n",
    "\n",
    "lem = nltk.WordNetLemmatizer()\n",
    "\n",
    "def lemmat(text):\n",
    "    text = [lem.lemmatize(word) for word in text]\n",
    "    return text\n",
    "\n",
    "df_gen.tok_tweet = df_gen.tok_tweet.apply(lambda x: lemmat(x))"
   ]
  },
  {
   "cell_type": "code",
   "execution_count": 69,
   "metadata": {},
   "outputs": [],
   "source": [
    "#Drop words less than 3 words\n",
    "tokens3 = df_gen[df_gen.tok_tweet.apply(lambda x: len(x) <= 3)].index"
   ]
  },
  {
   "cell_type": "code",
   "execution_count": 70,
   "metadata": {},
   "outputs": [],
   "source": [
    "df_gen.drop(tokens3, inplace = True)\n",
    "df_gen.reset_index(inplace=True)"
   ]
  },
  {
   "cell_type": "code",
   "execution_count": 71,
   "metadata": {},
   "outputs": [
    {
     "name": "stdout",
     "output_type": "stream",
     "text": [
      "108246 tokens total, with a vocabulary size of 10996\n",
      "Max tweet length is 39\n"
     ]
    }
   ],
   "source": [
    "all_words = [word for tokens in df_gen.tok_tweet for word in tokens]\n",
    "tweet_lengths = [len(tokens) for tokens in df_gen.tok_tweet]\n",
    "vocab = sorted(list(set(all_words)))\n",
    "\n",
    "print('{} tokens total, with a vocabulary size of {}'.format(len(all_words), len(vocab)))\n",
    "print('Max tweet length is {}'.format(max(tweet_lengths)))"
   ]
  },
  {
   "cell_type": "code",
   "execution_count": 72,
   "metadata": {},
   "outputs": [
    {
     "data": {
      "text/html": [
       "<div>\n",
       "<style scoped>\n",
       "    .dataframe tbody tr th:only-of-type {\n",
       "        vertical-align: middle;\n",
       "    }\n",
       "\n",
       "    .dataframe tbody tr th {\n",
       "        vertical-align: top;\n",
       "    }\n",
       "\n",
       "    .dataframe thead th {\n",
       "        text-align: right;\n",
       "    }\n",
       "</style>\n",
       "<table border=\"1\" class=\"dataframe\">\n",
       "  <thead>\n",
       "    <tr style=\"text-align: right;\">\n",
       "      <th></th>\n",
       "      <th>index</th>\n",
       "      <th>id</th>\n",
       "      <th>tweet</th>\n",
       "      <th>user</th>\n",
       "      <th>noisy</th>\n",
       "      <th>Location</th>\n",
       "      <th>Name</th>\n",
       "      <th>User_Id</th>\n",
       "      <th>Year</th>\n",
       "      <th>sentiment</th>\n",
       "      <th>sentimentclass</th>\n",
       "      <th>sentimentnum</th>\n",
       "      <th>gender</th>\n",
       "      <th>clean_tweet</th>\n",
       "      <th>check</th>\n",
       "      <th>tok_tweet</th>\n",
       "    </tr>\n",
       "  </thead>\n",
       "  <tbody>\n",
       "    <tr>\n",
       "      <th>0</th>\n",
       "      <td>0</td>\n",
       "      <td>9.472559e+17</td>\n",
       "      <td>I just read ur twitter comments on ur acct u h...</td>\n",
       "      <td>kathy_tkat</td>\n",
       "      <td>abortion</td>\n",
       "      <td>Massachusetts, USA</td>\n",
       "      <td>Kathy</td>\n",
       "      <td>7.266530e+17</td>\n",
       "      <td>2017</td>\n",
       "      <td>{'neg': 0.046, 'neu': 0.86, 'pos': 0.093, 'com...</td>\n",
       "      <td>positive</td>\n",
       "      <td>2</td>\n",
       "      <td>female</td>\n",
       "      <td>i just read ur twitter comments on ur acct u h...</td>\n",
       "      <td>0</td>\n",
       "      <td>[read, ur, twitter, comment, ur, acct, u, huge...</td>\n",
       "    </tr>\n",
       "    <tr>\n",
       "      <th>1</th>\n",
       "      <td>1</td>\n",
       "      <td>9.472487e+17</td>\n",
       "      <td>I live in a country where abortion is illegal ...</td>\n",
       "      <td>belindacree</td>\n",
       "      <td>abortion</td>\n",
       "      <td>Northern Ireland</td>\n",
       "      <td>Belinda</td>\n",
       "      <td>1.393754e+08</td>\n",
       "      <td>2017</td>\n",
       "      <td>{'neg': 0.27, 'neu': 0.669, 'pos': 0.061, 'com...</td>\n",
       "      <td>negative</td>\n",
       "      <td>1</td>\n",
       "      <td>female</td>\n",
       "      <td>i live in a country where abortion is illegal ...</td>\n",
       "      <td>0</td>\n",
       "      <td>[live, country, abortion, illegal, woman, trag...</td>\n",
       "    </tr>\n",
       "    <tr>\n",
       "      <th>2</th>\n",
       "      <td>2</td>\n",
       "      <td>9.472429e+17</td>\n",
       "      <td>If the administration manages to outlaw aborti...</td>\n",
       "      <td>Bouteloua_spp</td>\n",
       "      <td>abortion</td>\n",
       "      <td>None of your god damn business</td>\n",
       "      <td>Michelle</td>\n",
       "      <td>2.054931e+08</td>\n",
       "      <td>2017</td>\n",
       "      <td>{'neg': 0.152, 'neu': 0.848, 'pos': 0.0, 'comp...</td>\n",
       "      <td>negative</td>\n",
       "      <td>1</td>\n",
       "      <td>female</td>\n",
       "      <td>if the administration manages to outlaw aborti...</td>\n",
       "      <td>0</td>\n",
       "      <td>[administration, manages, outlaw, abortion, go...</td>\n",
       "    </tr>\n",
       "    <tr>\n",
       "      <th>3</th>\n",
       "      <td>3</td>\n",
       "      <td>9.472395e+17</td>\n",
       "      <td>I dont put my hat in the abortion discussion m...</td>\n",
       "      <td>DerekTheBard</td>\n",
       "      <td>abortion</td>\n",
       "      <td>Elmira, NY</td>\n",
       "      <td>Derek</td>\n",
       "      <td>1.539154e+09</td>\n",
       "      <td>2017</td>\n",
       "      <td>{'neg': 0.238, 'neu': 0.71, 'pos': 0.051, 'com...</td>\n",
       "      <td>negative</td>\n",
       "      <td>1</td>\n",
       "      <td>male</td>\n",
       "      <td>i dont put my hat in the abortion discussion m...</td>\n",
       "      <td>0</td>\n",
       "      <td>[dont, put, hat, abortion, discussion, much, t...</td>\n",
       "    </tr>\n",
       "    <tr>\n",
       "      <th>4</th>\n",
       "      <td>4</td>\n",
       "      <td>9.472300e+17</td>\n",
       "      <td>To those saying Life begins at conception I sa...</td>\n",
       "      <td>Deborahtaxi</td>\n",
       "      <td>abortion</td>\n",
       "      <td>New York, USA</td>\n",
       "      <td>Debbie</td>\n",
       "      <td>1.434785e+08</td>\n",
       "      <td>2017</td>\n",
       "      <td>{'neg': 0.044, 'neu': 0.785, 'pos': 0.17, 'com...</td>\n",
       "      <td>positive</td>\n",
       "      <td>2</td>\n",
       "      <td>female</td>\n",
       "      <td>to those saying life begins at conception i sa...</td>\n",
       "      <td>0</td>\n",
       "      <td>[saying, life, begin, conception, say, take, c...</td>\n",
       "    </tr>\n",
       "  </tbody>\n",
       "</table>\n",
       "</div>"
      ],
      "text/plain": [
       "   index            id                                              tweet  \\\n",
       "0      0  9.472559e+17  I just read ur twitter comments on ur acct u h...   \n",
       "1      1  9.472487e+17  I live in a country where abortion is illegal ...   \n",
       "2      2  9.472429e+17  If the administration manages to outlaw aborti...   \n",
       "3      3  9.472395e+17  I dont put my hat in the abortion discussion m...   \n",
       "4      4  9.472300e+17  To those saying Life begins at conception I sa...   \n",
       "\n",
       "            user     noisy                        Location      Name  \\\n",
       "0     kathy_tkat  abortion              Massachusetts, USA     Kathy   \n",
       "1    belindacree  abortion                Northern Ireland   Belinda   \n",
       "2  Bouteloua_spp  abortion  None of your god damn business  Michelle   \n",
       "3   DerekTheBard  abortion                      Elmira, NY     Derek   \n",
       "4    Deborahtaxi  abortion                   New York, USA    Debbie   \n",
       "\n",
       "        User_Id  Year                                          sentiment  \\\n",
       "0  7.266530e+17  2017  {'neg': 0.046, 'neu': 0.86, 'pos': 0.093, 'com...   \n",
       "1  1.393754e+08  2017  {'neg': 0.27, 'neu': 0.669, 'pos': 0.061, 'com...   \n",
       "2  2.054931e+08  2017  {'neg': 0.152, 'neu': 0.848, 'pos': 0.0, 'comp...   \n",
       "3  1.539154e+09  2017  {'neg': 0.238, 'neu': 0.71, 'pos': 0.051, 'com...   \n",
       "4  1.434785e+08  2017  {'neg': 0.044, 'neu': 0.785, 'pos': 0.17, 'com...   \n",
       "\n",
       "  sentimentclass  sentimentnum  gender  \\\n",
       "0       positive             2  female   \n",
       "1       negative             1  female   \n",
       "2       negative             1  female   \n",
       "3       negative             1    male   \n",
       "4       positive             2  female   \n",
       "\n",
       "                                         clean_tweet  check  \\\n",
       "0  i just read ur twitter comments on ur acct u h...      0   \n",
       "1  i live in a country where abortion is illegal ...      0   \n",
       "2  if the administration manages to outlaw aborti...      0   \n",
       "3  i dont put my hat in the abortion discussion m...      0   \n",
       "4  to those saying life begins at conception i sa...      0   \n",
       "\n",
       "                                           tok_tweet  \n",
       "0  [read, ur, twitter, comment, ur, acct, u, huge...  \n",
       "1  [live, country, abortion, illegal, woman, trag...  \n",
       "2  [administration, manages, outlaw, abortion, go...  \n",
       "3  [dont, put, hat, abortion, discussion, much, t...  \n",
       "4  [saying, life, begin, conception, say, take, c...  "
      ]
     },
     "execution_count": 72,
     "metadata": {},
     "output_type": "execute_result"
    }
   ],
   "source": [
    "df_gen.head()"
   ]
  },
  {
   "cell_type": "markdown",
   "metadata": {},
   "source": [
    "-------------LDA Modelling--------------------"
   ]
  },
  {
   "cell_type": "code",
   "execution_count": 78,
   "metadata": {},
   "outputs": [],
   "source": [
    "#Create 4 dataframes\n",
    "#Profile spilt by male and female\n",
    "df_lf = df_gen[(df_gen.noisy==\"prolife\") & (df_gen.gender==\"female\")]\n",
    "df_lm = df_gen[(df_gen.noisy==\"prolife\") & (df_gen.gender==\"male\")]\n",
    "\n",
    "#Prochoice spilt by male and female\n",
    "df_cf = df_gen[(df_gen.noisy==\"prochoice\") & (df_gen.gender==\"female\")]\n",
    "df_cm = df_gen[(df_gen.noisy==\"prochoice\") & (df_gen.gender==\"male\")]"
   ]
  },
  {
   "cell_type": "code",
   "execution_count": 79,
   "metadata": {},
   "outputs": [
    {
     "name": "stdout",
     "output_type": "stream",
     "text": [
      "prolife female:  gender: ['female'] label: ['prolife']\n",
      "prolife male:  gender: ['male'] label: ['prolife']\n",
      "prochoice female:  gender: ['female'] label: ['prochoice']\n",
      "prochoice male:  gender: ['female'] label: ['prochoice']\n"
     ]
    }
   ],
   "source": [
    "##Sanity check\n",
    "print(\"prolife female: \", \"gender:\", df_lf.gender.unique(), \"label:\", df_lf.noisy.unique())\n",
    "print(\"prolife male: \", \"gender:\", df_lm.gender.unique(), \"label:\", df_lm.noisy.unique())\n",
    "print(\"prochoice female: \", \"gender:\", df_cf.gender.unique(), \"label:\", df_cf.noisy.unique())\n",
    "print(\"prochoice male: \", \"gender:\", df_cf.gender.unique(), \"label:\", df_cf.noisy.unique())"
   ]
  },
  {
   "cell_type": "code",
   "execution_count": 80,
   "metadata": {},
   "outputs": [],
   "source": [
    "#Create dictionary\n",
    "txt_dict_lf = Dictionary(df_lf.tok_tweet)\n",
    "txt_dict_lm = Dictionary(df_lm.tok_tweet)\n",
    "txt_dict_cf = Dictionary(df_cf.tok_tweet)\n",
    "txt_dict_cm = Dictionary(df_cm.tok_tweet)"
   ]
  },
  {
   "cell_type": "code",
   "execution_count": 81,
   "metadata": {},
   "outputs": [],
   "source": [
    "txt_out_lf = txt_dict_lf.token2id\n",
    "txt_out_lm = txt_dict_lm.token2id\n",
    "txt_out_cf = txt_dict_cf.token2id\n",
    "txt_out_cm = txt_dict_cm.token2id"
   ]
  },
  {
   "cell_type": "code",
   "execution_count": 82,
   "metadata": {},
   "outputs": [],
   "source": [
    "#Create BOW\n",
    "tweets_bow_lf = [txt_dict_lf.doc2bow(tweet) for tweet in df_lf.tok_tweet]\n",
    "tweets_bow_lm = [txt_dict_lm.doc2bow(tweet) for tweet in df_lm.tok_tweet]\n",
    "tweets_bow_cf = [txt_dict_cf.doc2bow(tweet) for tweet in df_cf.tok_tweet]\n",
    "tweets_bow_cm = [txt_dict_cm.doc2bow(tweet) for tweet in df_cm.tok_tweet]"
   ]
  },
  {
   "cell_type": "code",
   "execution_count": 86,
   "metadata": {},
   "outputs": [],
   "source": [
    "##Model\n",
    "#Female Prolife\n",
    "k = 5\n",
    "tweets_lda_lf = LdaModel(tweets_bow_lf,\n",
    "                      num_topics = k,\n",
    "                      id2word = txt_dict_lf,\n",
    "                      random_state = 10,\n",
    "                      passes=100)"
   ]
  },
  {
   "cell_type": "code",
   "execution_count": 87,
   "metadata": {},
   "outputs": [
    {
     "data": {
      "text/plain": [
       "[(0,\n",
       "  '0.099*\"pro\" + 0.085*\"life\" + 0.012*\"child\" + 0.011*\"prolife\" + 0.011*\"people\" + 0.010*\"woman\" + 0.009*\"birth\" + 0.009*\"choice\" + 0.008*\"abortion\" + 0.008*\"baby\"'),\n",
       " (1,\n",
       "  '0.023*\"prolife\" + 0.014*\"life\" + 0.014*\"pro\" + 0.012*\"birth\" + 0.010*\"woman\" + 0.009*\"child\" + 0.009*\"healthcare\" + 0.009*\"cut\" + 0.008*\"abortion\" + 0.006*\"food\"'),\n",
       " (2,\n",
       "  '0.047*\"prolife\" + 0.011*\"abortion\" + 0.008*\"people\" + 0.008*\"amp\" + 0.008*\"vote\" + 0.007*\"baby\" + 0.007*\"would\" + 0.006*\"life\" + 0.006*\"see\" + 0.005*\"trump\"'),\n",
       " (3,\n",
       "  '0.062*\"prolife\" + 0.019*\"abortion\" + 0.014*\"amp\" + 0.012*\"right\" + 0.011*\"life\" + 0.011*\"woman\" + 0.007*\"human\" + 0.006*\"adoption\" + 0.006*\"issue\" + 0.005*\"defundpp\"'),\n",
       " (4,\n",
       "  '0.044*\"prolife\" + 0.024*\"life\" + 0.022*\"pro\" + 0.012*\"amp\" + 0.010*\"vote\" + 0.007*\"child\" + 0.007*\"would\" + 0.007*\"u\" + 0.005*\"trump\" + 0.005*\"good\"')]"
      ]
     },
     "execution_count": 87,
     "metadata": {},
     "output_type": "execute_result"
    }
   ],
   "source": [
    "tweets_lda_lf.show_topics()"
   ]
  },
  {
   "cell_type": "code",
   "execution_count": 88,
   "metadata": {},
   "outputs": [],
   "source": [
    "from gensim.models.coherencemodel import CoherenceModel"
   ]
  },
  {
   "cell_type": "code",
   "execution_count": 92,
   "metadata": {},
   "outputs": [
    {
     "data": {
      "text/plain": [
       "0.3159526015867854"
      ]
     },
     "execution_count": 92,
     "metadata": {},
     "output_type": "execute_result"
    }
   ],
   "source": [
    "cm = CoherenceModel(model=tweets_lda_lf, texts=df_lf.tok_tweet.to_list(), coherence='c_v')\n",
    "cm.get_coherence()"
   ]
  },
  {
   "cell_type": "code",
   "execution_count": 93,
   "metadata": {},
   "outputs": [
    {
     "name": "stderr",
     "output_type": "stream",
     "text": [
      "/Users/manasip/anaconda3/lib/python3.7/site-packages/sklearn/decomposition/_lda.py:29: DeprecationWarning: `np.float` is a deprecated alias for the builtin `float`. To silence this warning, use `float` by itself. Doing this will not modify any behavior and is safe. If you specifically wanted the numpy scalar type, use `np.float64` here.\n",
      "Deprecated in NumPy 1.20; for more details and guidance: https://numpy.org/devdocs/release/1.20.0-notes.html#deprecations\n",
      "  EPS = np.finfo(np.float).eps\n"
     ]
    }
   ],
   "source": [
    "import pyLDAvis.gensim_models as gensimvis\n",
    "import pickle \n",
    "import pyLDAvis"
   ]
  },
  {
   "cell_type": "code",
   "execution_count": 94,
   "metadata": {},
   "outputs": [
    {
     "data": {
      "text/html": [
       "\n",
       "<link rel=\"stylesheet\" type=\"text/css\" href=\"https://cdn.jsdelivr.net/gh/bmabey/pyLDAvis@3.3.1/pyLDAvis/js/ldavis.v1.0.0.css\">\n",
       "\n",
       "\n",
       "<div id=\"ldavis_el405981406688871460646846362220\"></div>\n",
       "<script type=\"text/javascript\">\n",
       "\n",
       "var ldavis_el405981406688871460646846362220_data = {\"mdsDat\": {\"x\": [-0.1532065690104691, -0.007887711880447259, 0.11551135182718925, 0.06593294146055778, -0.0203500123968304], \"y\": [-0.043307837738407316, -0.04264308889506693, -0.01732111468474557, -0.03325139912735995, 0.13652344044557968], \"topics\": [1, 2, 3, 4, 5], \"cluster\": [1, 1, 1, 1, 1], \"Freq\": [45.700896450764006, 16.704317080373883, 14.4552587001759, 12.32540103811011, 10.814126730576097]}, \"tinfo\": {\"Term\": [\"pro\", \"prolife\", \"birth\", \"life\", \"abortion\", \"amp\", \"healthcare\", \"cut\", \"vote\", \"woman\", \"right\", \"choice\", \"adoption\", \"help\", \"kid\", \"child\", \"would\", \"food\", \"people\", \"defundpp\", \"human\", \"u\", \"see\", \"trump\", \"chip\", \"health\", \"control\", \"penalty\", \"gun\", \"baby\", \"penalty\", \"stance\", \"happens\", \"forced\", \"kill\", \"arent\", \"gun\", \"yall\", \"eye\", \"yeah\", \"youre\", \"tear\", \"comic\", \"taking\", \"lead\", \"sick\", \"using\", \"hypocrisy\", \"stop\", \"punishment\", \"yemen\", \"dude\", \"immigration\", \"choosing\", \"pro\", \"murdered\", \"death\", \"damn\", \"choice\", \"mean\", \"anti\", \"im\", \"life\", \"call\", \"as\", \"dont\", \"born\", \"say\", \"people\", \"really\", \"birth\", \"fetus\", \"child\", \"care\", \"think\", \"woman\", \"baby\", \"want\", \"help\", \"make\", \"like\", \"get\", \"abortion\", \"support\", \"prolife\", \"amp\", \"right\", \"gop\", \"military\", \"supreme\", \"hispanic\", \"witness\", \"tonight\", \"lord\", \"affect\", \"needed\", \"push\", \"franklin\", \"court\", \"hand\", \"solid\", \"psychological\", \"benefit\", \"attack\", \"disgusted\", \"defense\", \"consensus\", \"january\", \"marchforlife\", \"came\", \"highly\", \"attitude\", \"apparently\", \"poc\", \"fully\", \"helpful\", \"level\", \"lied\", \"strong\", \"judge\", \"name\", \"pedophile\", \"bullshit\", \"mind\", \"side\", \"claim\", \"religion\", \"border\", \"unborn\", \"prolife\", \"vote\", \"voice\", \"good\", \"u\", \"point\", \"conception\", \"amp\", \"would\", \"little\", \"trump\", \"christian\", \"done\", \"life\", \"voting\", \"great\", \"pro\", \"one\", \"even\", \"child\", \"make\", \"know\", \"want\", \"conservative\", \"gop\", \"voted\", \"let\", \"abortion\", \"party\", \"republican\", \"choice\", \"need\", \"right\", \"people\", \"efl\", \"equipped\", \"defundplannedparenthood\", \"lack\", \"defundpp\", \"hollywood\", \"science\", \"shut\", \"alsen\", \"comment\", \"voteprolife\", \"campus\", \"minority\", \"psalm\", \"teacher\", \"different\", \"apha\", \"trumptrain\", \"fearfully\", \"knoweth\", \"marvellous\", \"thee\", \"thy\", \"wonderfully\", \"quiet\", \"gentleman\", \"immoral\", \"payer\", \"duck\", \"repro\", \"protecting\", \"adoption\", \"via\", \"ad\", \"human\", \"gay\", \"demand\", \"prolife\", \"stand\", \"day\", \"please\", \"ccot\", \"election\", \"right\", \"abortion\", \"amp\", \"issue\", \"group\", \"woman\", \"electionday\", \"pregnancy\", \"choose\", \"little\", \"prochoice\", \"better\", \"vote\", \"life\", \"support\", \"need\", \"unborn\", \"baby\", \"child\", \"live\", \"catholic\", \"tax\", \"family\", \"wasnt\", \"worse\", \"remain\", \"hold\", \"sooo\", \"scotus\", \"hillary\", \"referendum\", \"sanctity\", \"follower\", \"wolf\", \"duty\", \"often\", \"iona\", \"abortionismurder\", \"repealtheth\", \"presentation\", \"vvs\", \"kkk\", \"purpose\", \"woot\", \"stuck\", \"upcoming\", \"patricia\", \"flip\", \"troll\", \"coup\", \"abortionkills\", \"min\", \"sexist\", \"clinton\", \"wanted\", \"cancelled\", \"must\", \"forget\", \"idea\", \"majority\", \"committee\", \"parenthood\", \"planned\", \"single\", \"change\", \"non\", \"catholic\", \"prolife\", \"president\", \"see\", \"hate\", \"god\", \"every\", \"would\", \"believe\", \"vote\", \"abortion\", \"r\", \"people\", \"fact\", \"baby\", \"amp\", \"keep\", \"trump\", \"like\", \"get\", \"much\", \"womb\", \"want\", \"never\", \"one\", \"right\", \"life\", \"christian\", \"care\", \"conservative\", \"woman\", \"food\", \"medicaid\", \"stamp\", \"condition\", \"pill\", \"afford\", \"ww\", \"medicare\", \"shelter\", \"existing\", \"mental\", \"otherwise\", \"neither\", \"welfare\", \"bob\", \"stork\", \"contraception\", \"decade\", \"eat\", \"rare\", \"supported\", \"congress\", \"early\", \"cut\", \"chip\", \"study\", \"imo\", \"hospital\", \"grandparent\", \"proper\", \"affordable\", \"there\", \"program\", \"healthcare\", \"probirth\", \"access\", \"mother\", \"birth\", \"plan\", \"health\", \"fund\", \"kid\", \"control\", \"cannot\", \"education\", \"prolife\", \"woman\", \"child\", \"help\", \"b\", \"away\", \"abortion\", \"need\", \"life\", \"care\", \"pro\", \"republican\", \"baby\", \"would\", \"never\", \"get\", \"u\", \"want\", \"like\", \"gop\"], \"Freq\": [1121.0, 659.0, 130.0, 1034.0, 201.0, 176.0, 42.0, 26.0, 102.0, 181.0, 112.0, 101.0, 28.0, 41.0, 54.0, 180.0, 82.0, 15.0, 153.0, 19.0, 33.0, 72.0, 45.0, 70.0, 16.0, 25.0, 40.0, 40.0, 58.0, 131.0, 40.2355117234224, 17.977990625958203, 15.29562075107731, 14.41455089417314, 34.67909302269473, 13.525456644636463, 55.48602843671913, 11.744099015373596, 9.95089149286413, 9.075064967142351, 38.630588577822536, 7.297642037866538, 7.29701091245829, 9.667256102182897, 7.250991008968999, 18.421504466337222, 6.400046675854101, 12.636235582924733, 29.191930208161164, 5.518143733411042, 5.514938203430542, 5.513583191856367, 5.513001969387375, 5.5129485438877, 999.8204786604016, 5.472049269059568, 65.08714259611756, 10.859808364060447, 89.23996323631634, 33.2301911231348, 40.160222865418845, 43.10681177795622, 859.7768527715425, 26.447463464042624, 10.776055967558925, 66.00777080651736, 63.65536738531059, 45.14578716665199, 112.2108991017705, 36.941121633813886, 93.80073962835327, 34.53670643384658, 118.79571052958308, 58.03818451737014, 45.67403502370239, 105.22501364149655, 77.2008615277922, 62.21728444298156, 31.112178872150583, 38.66209435820232, 46.229477047180765, 44.6767324148679, 78.71370729243569, 42.69186355419465, 115.7481039777481, 57.35668649514208, 45.355393601772555, 38.457081341866996, 7.45943299002671, 5.8433273865572275, 3.4090898635705917, 3.4090632543047987, 3.408190727895821, 3.4077231344267696, 3.407489230396817, 3.4069830105741956, 3.404521868079221, 3.403745692963315, 8.190641021833118, 5.847086589123011, 2.5972797905877454, 2.5972686318633804, 2.5972686318633804, 2.5972645546371704, 2.5972645546371704, 2.5972478165506234, 2.5972355848719926, 2.5972355848719926, 2.5972355848719926, 2.596935157677559, 2.5964782937511655, 2.596050184999097, 2.5958162809691445, 2.595210705581507, 2.59457744797381, 2.590509449170319, 2.5892146079623077, 2.5891154669881447, 6.665636531622134, 10.49447211253173, 12.224552497480515, 4.215054052531456, 4.216841594338339, 8.280767463436531, 9.644780745420977, 12.267335905058172, 5.02781175872189, 9.70456575711337, 17.509084014845136, 162.2518762703629, 37.96476138615389, 6.660018543086216, 18.073488859757827, 24.55840212502299, 6.925533522436863, 5.035204842795207, 45.84634351107508, 24.679161840097734, 7.797498561742962, 19.428743401479398, 17.490006029635158, 6.396697969800057, 87.64401341253166, 9.469193925725417, 8.038644603807938, 80.60993125292869, 16.272601218534568, 10.884715879377302, 26.863219475282758, 14.1583199451654, 14.407731168530967, 16.853697798370018, 11.68975003158054, 12.854727722162135, 9.499517330004773, 9.49068820394206, 14.702603034958305, 10.463677466738819, 10.551052853604629, 11.432003241114545, 10.279006587046982, 10.696329144472022, 9.91257124617861, 8.927236804535042, 8.927236804535042, 6.534609933935072, 5.732797692877757, 17.453232674181343, 4.142910812942964, 4.1420896542628265, 4.139070568369186, 3.347050950975007, 3.346444088341201, 3.3458078853474986, 3.345634814363806, 3.3437926854386664, 3.3427015211680895, 3.3413849189423597, 6.446965450764104, 5.739917744011598, 2.550252011791885, 2.550237713008898, 2.550237713008898, 2.550237713008898, 2.550237713008898, 2.550237713008898, 2.550237713008898, 2.5500703986780966, 2.5500258310428108, 2.549583682961081, 2.5491900021827245, 2.548922596371011, 2.54790199752297, 4.939027681607735, 20.70164579194826, 4.917757777667665, 13.068924235889416, 21.064759114850137, 5.732739383554925, 4.043397597098471, 199.0213628632676, 13.519491143924455, 9.729969738657966, 13.898941476334207, 4.002380516757257, 9.067874434442396, 39.52201444792198, 59.91270590613098, 43.87417179411885, 19.387512613213243, 10.830850496520817, 33.98672305897301, 6.943787621874263, 9.761421118879039, 8.092090572062796, 7.005782688144426, 8.394452265718982, 8.276387400289881, 15.251696967807753, 36.31979716971647, 12.216554840761036, 9.959683215622878, 8.049076861660787, 10.28423959165131, 9.848462453385809, 7.3986597634778954, 7.331881104353741, 7.553332484530618, 7.4736455526398995, 4.053735404158283, 3.2734442077194537, 3.2722674440785138, 3.2720872561044305, 3.2621810343025253, 6.3938926750259535, 9.518958261246581, 2.495519363892821, 2.49533711753239, 2.4940427091948387, 2.4939809576044234, 2.4936487657154713, 2.4862552002938236, 4.057589653424666, 2.312948095093986, 4.060344091032011, 1.7155945602237892, 1.715592976849676, 1.7155879100525138, 1.7155812598812383, 1.715554975870959, 1.715499399439585, 1.715413580562649, 1.7153877715646038, 1.715314936355396, 1.7152212006078937, 1.7151911164997427, 1.7151816162550633, 1.715115906229365, 1.7150595381109346, 3.9438093396736553, 4.8371515477469496, 3.247802097305616, 7.7826333754455534, 4.634944539895339, 4.837455555576686, 3.969248461526179, 3.9463740890622376, 7.846666291283173, 7.846666291283173, 5.464567340205429, 10.145413262293165, 4.033134756920916, 10.776261809829089, 127.62775639258886, 6.96029029595837, 15.107850236772551, 8.550766792093489, 12.010248591220423, 11.230296236841822, 18.733474214899623, 10.72466914772416, 20.611265977520482, 29.40054654588155, 9.343579311019605, 22.757179978976357, 8.330307280814404, 20.36245836946808, 22.007904548016786, 8.36944258874622, 12.378537609855869, 11.44773530366254, 11.250598893071082, 8.852179154983984, 7.651702269975043, 11.479191247145272, 8.693750541313774, 9.362315693576075, 10.643374920653939, 17.66946707800921, 9.071107860170414, 9.345134817748425, 8.408985140499954, 8.491761405740142, 14.771763002961203, 7.077059161054085, 6.3084363734471465, 3.9996536853895908, 3.995239548194807, 7.737174804538219, 3.2317971966674772, 3.231205662829264, 3.230163463004399, 3.2297194653184125, 3.22617998689427, 3.224614603313014, 3.2176131654599667, 4.410955026137185, 2.4622430697342397, 2.4622364014335743, 2.4612369898713133, 2.460978871066381, 2.4607385343965578, 2.4605056995649828, 2.4593242989637227, 2.458345725841042, 2.437403094063057, 20.367317469757108, 12.377113996461674, 1.6926686600531442, 1.6926658815945335, 1.6926643534422976, 1.6926612971378259, 1.6926607414461037, 4.428880807555696, 4.698487983151105, 7.350671762582647, 21.02333377540705, 7.693385185450491, 5.492298053755561, 9.704609126443357, 27.66010226995317, 5.400927886651695, 9.260400833294337, 4.914064696911549, 14.207152428685346, 11.49649154225831, 4.6261969356350425, 6.078486137601943, 54.49179710268172, 24.132062204219018, 22.352459464079818, 10.341325147200083, 8.01375591124643, 8.22001923174388, 18.94007662785719, 10.944880820130091, 33.11625035441692, 12.495345190030129, 32.435025649484025, 10.505266430447966, 14.141855317184081, 10.139351211105796, 7.647863475264866, 8.438677256103567, 8.232034953851619, 8.49655588311432, 8.083357966519078, 7.665404440165798], \"Total\": [1121.0, 659.0, 130.0, 1034.0, 201.0, 176.0, 42.0, 26.0, 102.0, 181.0, 112.0, 101.0, 28.0, 41.0, 54.0, 180.0, 82.0, 15.0, 153.0, 19.0, 33.0, 72.0, 45.0, 70.0, 16.0, 25.0, 40.0, 40.0, 58.0, 131.0, 40.86869808486116, 18.61249713297748, 15.940551275771107, 15.051081924646143, 36.28017319551486, 14.161074508900496, 58.38804423630183, 12.38045229514675, 10.5985398129793, 9.70997364597997, 41.46372571214264, 7.930146445479826, 7.929977407707764, 10.559501054267008, 7.924360430671557, 20.252727482140124, 7.038486885320301, 14.0504891730687, 32.468125115155864, 6.149852397532273, 6.14921510626749, 6.148914513938599, 6.148906652027058, 6.148934992449167, 1121.0281582145983, 6.144310062884806, 73.71208946026017, 12.302443915682312, 101.19772938673879, 37.71494466700942, 45.61452902016389, 49.097339617354706, 1034.5263807862168, 30.67499269185101, 12.260792689455652, 79.959070999826, 77.3823198645268, 56.569230823415126, 153.85232203664086, 46.06469030728365, 130.0464794726572, 43.39606243349827, 180.2481187489298, 86.77550696565433, 65.25092225262996, 181.50824301694192, 131.64408733148426, 100.3137419323526, 41.940302315716146, 57.54373893048564, 75.3668075266704, 74.33277974941711, 201.6696394072637, 71.91324803266399, 659.1408966066492, 176.6553641404711, 112.87095257045408, 67.66681139699779, 8.115268054199213, 6.491749360430668, 4.05647680148825, 4.056455405614602, 4.0563646331130885, 4.056280100135737, 4.056226283570084, 4.056222771525992, 4.055911889584929, 4.0558017906941535, 9.823522722286285, 7.271456862622748, 3.244664632464984, 3.244655804497117, 3.244655912009696, 3.2446526591410847, 3.2446526591410847, 3.2446394968071592, 3.2446291321001683, 3.2446291321001683, 3.2446291321001683, 3.2446070623415095, 3.24452907925959, 3.244494132694742, 3.2444095117512624, 3.244375964049629, 3.2443226552544853, 3.243932509649813, 3.243771844976269, 3.2437301580033977, 8.880051306648195, 15.574535233466692, 18.563324781952954, 5.636838390086308, 5.647211150137762, 12.826812320821228, 15.499153714832788, 20.758777497289127, 7.239088644582339, 16.79978182441722, 35.40569374305988, 659.1408966066492, 102.32900853361093, 11.219764335217443, 43.64129836870525, 72.09064480417149, 12.517112875099949, 8.05288280978294, 176.6553641404711, 82.56514788495541, 15.294645657606308, 70.38509057531185, 59.49195895966526, 11.430493464066613, 1034.5263807862168, 23.84537995180802, 18.177170571871915, 1121.0281582145983, 64.73972146145819, 31.588871255427733, 180.2481187489298, 57.54373893048564, 65.21652553519257, 100.3137419323526, 43.766268127123055, 67.66681139699779, 30.04990365009463, 31.892326324742697, 201.6696394072637, 52.34677497172718, 58.97535799258852, 101.19772938673879, 60.99820369382965, 112.87095257045408, 153.85232203664086, 9.577566897501253, 9.577566897501253, 7.186061564182498, 6.388978715859281, 19.9001818595179, 4.794704343988739, 4.794594761412309, 4.79426953574338, 3.997722727630417, 3.997632411783525, 3.9975270550964717, 3.9975357800957694, 3.997444732346619, 3.9973797397410578, 3.9971049469038538, 7.952091474298123, 7.168426460142948, 3.200590407014613, 3.200631096489647, 3.200631096489647, 3.200631096489647, 3.200631096489647, 3.200631096489647, 3.200631096489647, 3.2006060372186997, 3.200588320068781, 3.2005288178766818, 3.2004969622187756, 3.2004826255527283, 3.2004054095976735, 6.3710140779862865, 28.47917176112393, 6.370756131768015, 19.599901520979866, 33.87506157342234, 7.927888240937889, 5.5604150521551805, 659.1408966066492, 24.71589122890888, 16.601876366548776, 26.42072072344404, 5.697538844539182, 16.367381732503944, 112.87095257045408, 201.6696394072637, 176.6553641404711, 60.65316198790793, 25.780331849562284, 181.50824301694192, 13.545956893532027, 25.12199606456732, 19.74280819376124, 15.294645657606308, 23.78970067548097, 23.40525032322061, 102.32900853361093, 1034.5263807862168, 71.91324803266399, 60.99820369382965, 35.40569374305988, 131.64408733148426, 180.2481187489298, 24.662255827117946, 25.406687006105674, 39.86709901622429, 38.262662819437075, 4.70916182340709, 3.9291885324727844, 3.929085572868974, 3.929074496205566, 3.9291870096443353, 7.845599186855715, 11.707900184755976, 3.1493528498296586, 3.1493060657534833, 3.1491696452738855, 3.14919124688246, 3.1492236307334736, 3.1488713609815004, 5.505916234756737, 3.1739684210576997, 5.597236442199292, 2.3693425390277842, 2.369341350742577, 2.3693372544387103, 2.369332015408915, 2.3693110299834683, 2.3693382213814234, 2.3693281805676567, 2.369308701494428, 2.3693076451935444, 2.369279178637858, 2.3693008714500445, 2.369292380676234, 2.3692552706594383, 2.369272631863394, 5.61225222910086, 7.0829495563305285, 4.741697275911436, 12.876439772265762, 7.29621830663142, 7.881203240198542, 6.318395925310878, 6.336781217065942, 14.94918337975206, 14.94918337975206, 9.628024655321548, 20.716130603487194, 7.086616923764624, 25.406687006105674, 659.1408966066492, 14.43385187463963, 45.03485865950255, 19.6972569489404, 36.67010447611344, 34.843979896461214, 82.56514788495541, 33.25053271176549, 102.32900853361093, 201.6696394072637, 28.698568668951758, 153.85232203664086, 23.490611680746234, 131.64408733148426, 176.6553641404711, 26.72962250332845, 70.38509057531185, 75.3668075266704, 74.33277974941711, 39.72419470085645, 28.038789592732225, 100.3137419323526, 44.69899126775251, 64.73972146145819, 112.87095257045408, 1034.5263807862168, 59.49195895966526, 86.77550696565433, 43.766268127123055, 181.50824301694192, 15.430667623269068, 7.73519139236263, 6.965735474790006, 4.657037529626256, 4.656755403310743, 9.305290519766599, 3.88763264719501, 3.88757641621394, 3.8874902258910966, 3.8874498376721025, 3.8872084687330184, 3.8873742343847373, 3.8870146506829304, 5.438702194988526, 3.118077142300578, 3.118071705759367, 3.1179675596589833, 3.117981790003654, 3.11793255521419, 3.117937839966479, 3.1177857009955723, 3.117829129160659, 3.117682268556271, 26.700303790780197, 16.3396510702388, 2.348503764356186, 2.3485015977323442, 2.3485004501463647, 2.3484979415194753, 2.3484973755289067, 6.347834815855319, 7.01767643679852, 12.01739417952463, 42.27758303560982, 13.447779271975882, 10.387587973982404, 24.32254168382911, 130.0464794726572, 10.571039637346832, 25.94837319069551, 9.56355448400095, 54.673476506803254, 40.22014891463082, 8.883670134437256, 14.040822420060762, 659.1408966066492, 181.50824301694192, 180.2481187489298, 41.940302315716146, 25.032443915857023, 27.645252901216626, 201.6696394072637, 60.99820369382965, 1034.5263807862168, 86.77550696565433, 1121.0281582145983, 58.97535799258852, 131.64408733148426, 82.56514788495541, 44.69899126775251, 74.33277974941711, 72.09064480417149, 100.3137419323526, 75.3668075266704, 67.66681139699779], \"Category\": [\"Default\", \"Default\", \"Default\", \"Default\", \"Default\", \"Default\", \"Default\", \"Default\", \"Default\", \"Default\", \"Default\", \"Default\", \"Default\", \"Default\", \"Default\", \"Default\", \"Default\", \"Default\", \"Default\", \"Default\", \"Default\", \"Default\", \"Default\", \"Default\", \"Default\", \"Default\", \"Default\", \"Default\", \"Default\", \"Default\", \"Topic1\", \"Topic1\", \"Topic1\", \"Topic1\", \"Topic1\", \"Topic1\", \"Topic1\", \"Topic1\", \"Topic1\", \"Topic1\", \"Topic1\", \"Topic1\", \"Topic1\", \"Topic1\", \"Topic1\", \"Topic1\", \"Topic1\", \"Topic1\", \"Topic1\", \"Topic1\", \"Topic1\", \"Topic1\", \"Topic1\", \"Topic1\", \"Topic1\", \"Topic1\", \"Topic1\", \"Topic1\", \"Topic1\", \"Topic1\", \"Topic1\", \"Topic1\", \"Topic1\", \"Topic1\", \"Topic1\", \"Topic1\", \"Topic1\", \"Topic1\", \"Topic1\", \"Topic1\", \"Topic1\", \"Topic1\", \"Topic1\", \"Topic1\", \"Topic1\", \"Topic1\", \"Topic1\", \"Topic1\", \"Topic1\", \"Topic1\", \"Topic1\", \"Topic1\", \"Topic1\", \"Topic1\", \"Topic1\", \"Topic1\", \"Topic1\", \"Topic1\", \"Topic2\", \"Topic2\", \"Topic2\", \"Topic2\", \"Topic2\", \"Topic2\", \"Topic2\", \"Topic2\", \"Topic2\", \"Topic2\", \"Topic2\", \"Topic2\", \"Topic2\", \"Topic2\", \"Topic2\", \"Topic2\", \"Topic2\", \"Topic2\", \"Topic2\", \"Topic2\", \"Topic2\", \"Topic2\", \"Topic2\", \"Topic2\", \"Topic2\", \"Topic2\", \"Topic2\", \"Topic2\", \"Topic2\", \"Topic2\", \"Topic2\", \"Topic2\", \"Topic2\", \"Topic2\", \"Topic2\", \"Topic2\", \"Topic2\", \"Topic2\", \"Topic2\", \"Topic2\", \"Topic2\", \"Topic2\", \"Topic2\", \"Topic2\", \"Topic2\", \"Topic2\", \"Topic2\", \"Topic2\", \"Topic2\", \"Topic2\", \"Topic2\", \"Topic2\", \"Topic2\", \"Topic2\", \"Topic2\", \"Topic2\", \"Topic2\", \"Topic2\", \"Topic2\", \"Topic2\", \"Topic2\", \"Topic2\", \"Topic2\", \"Topic2\", \"Topic2\", \"Topic2\", \"Topic2\", \"Topic2\", \"Topic2\", \"Topic2\", \"Topic2\", \"Topic2\", \"Topic2\", \"Topic2\", \"Topic2\", \"Topic3\", \"Topic3\", \"Topic3\", \"Topic3\", \"Topic3\", \"Topic3\", \"Topic3\", \"Topic3\", \"Topic3\", \"Topic3\", \"Topic3\", \"Topic3\", \"Topic3\", \"Topic3\", \"Topic3\", \"Topic3\", \"Topic3\", \"Topic3\", \"Topic3\", \"Topic3\", \"Topic3\", \"Topic3\", \"Topic3\", \"Topic3\", \"Topic3\", \"Topic3\", \"Topic3\", \"Topic3\", \"Topic3\", \"Topic3\", \"Topic3\", \"Topic3\", \"Topic3\", \"Topic3\", \"Topic3\", \"Topic3\", \"Topic3\", \"Topic3\", \"Topic3\", \"Topic3\", \"Topic3\", \"Topic3\", \"Topic3\", \"Topic3\", \"Topic3\", \"Topic3\", \"Topic3\", \"Topic3\", \"Topic3\", \"Topic3\", \"Topic3\", \"Topic3\", \"Topic3\", \"Topic3\", \"Topic3\", \"Topic3\", \"Topic3\", \"Topic3\", \"Topic3\", \"Topic3\", \"Topic3\", \"Topic3\", \"Topic3\", \"Topic3\", \"Topic3\", \"Topic3\", \"Topic4\", \"Topic4\", \"Topic4\", \"Topic4\", \"Topic4\", \"Topic4\", \"Topic4\", \"Topic4\", \"Topic4\", \"Topic4\", \"Topic4\", \"Topic4\", \"Topic4\", \"Topic4\", \"Topic4\", \"Topic4\", \"Topic4\", \"Topic4\", \"Topic4\", \"Topic4\", \"Topic4\", \"Topic4\", \"Topic4\", \"Topic4\", \"Topic4\", \"Topic4\", \"Topic4\", \"Topic4\", \"Topic4\", \"Topic4\", \"Topic4\", \"Topic4\", \"Topic4\", \"Topic4\", \"Topic4\", \"Topic4\", \"Topic4\", \"Topic4\", \"Topic4\", \"Topic4\", \"Topic4\", \"Topic4\", \"Topic4\", \"Topic4\", \"Topic4\", \"Topic4\", \"Topic4\", \"Topic4\", \"Topic4\", \"Topic4\", \"Topic4\", \"Topic4\", \"Topic4\", \"Topic4\", \"Topic4\", \"Topic4\", \"Topic4\", \"Topic4\", \"Topic4\", \"Topic4\", \"Topic4\", \"Topic4\", \"Topic4\", \"Topic4\", \"Topic4\", \"Topic4\", \"Topic4\", \"Topic4\", \"Topic4\", \"Topic4\", \"Topic4\", \"Topic4\", \"Topic4\", \"Topic4\", \"Topic5\", \"Topic5\", \"Topic5\", \"Topic5\", \"Topic5\", \"Topic5\", \"Topic5\", \"Topic5\", \"Topic5\", \"Topic5\", \"Topic5\", \"Topic5\", \"Topic5\", \"Topic5\", \"Topic5\", \"Topic5\", \"Topic5\", \"Topic5\", \"Topic5\", \"Topic5\", \"Topic5\", \"Topic5\", \"Topic5\", \"Topic5\", \"Topic5\", \"Topic5\", \"Topic5\", \"Topic5\", \"Topic5\", \"Topic5\", \"Topic5\", \"Topic5\", \"Topic5\", \"Topic5\", \"Topic5\", \"Topic5\", \"Topic5\", \"Topic5\", \"Topic5\", \"Topic5\", \"Topic5\", \"Topic5\", \"Topic5\", \"Topic5\", \"Topic5\", \"Topic5\", \"Topic5\", \"Topic5\", \"Topic5\", \"Topic5\", \"Topic5\", \"Topic5\", \"Topic5\", \"Topic5\", \"Topic5\", \"Topic5\", \"Topic5\", \"Topic5\", \"Topic5\", \"Topic5\", \"Topic5\", \"Topic5\", \"Topic5\", \"Topic5\", \"Topic5\"], \"logprob\": [30.0, 29.0, 28.0, 27.0, 26.0, 25.0, 24.0, 23.0, 22.0, 21.0, 20.0, 19.0, 18.0, 17.0, 16.0, 15.0, 14.0, 13.0, 12.0, 11.0, 10.0, 9.0, 8.0, 7.0, 6.0, 5.0, 4.0, 3.0, 2.0, 1.0, -5.5242, -6.3298, -6.4914, -6.5507, -5.6728, -6.6143, -5.2028, -6.7556, -6.9213, -7.0134, -5.5649, -7.2314, -7.2315, -6.9502, -7.2378, -6.3054, -7.3626, -6.6824, -5.845, -7.5109, -7.5115, -7.5117, -7.5118, -7.5118, -2.3113, -7.5193, -5.0432, -6.8339, -4.7276, -5.7155, -5.526, -5.4552, -2.4622, -5.9438, -6.8416, -5.0291, -5.0654, -5.409, -4.4985, -5.6096, -4.6777, -5.6769, -4.4415, -5.1578, -5.3974, -4.5628, -4.8725, -5.0883, -5.7813, -5.5641, -5.3853, -5.4195, -4.8531, -5.4649, -4.4675, -5.1696, -5.4044, -5.5694, -6.203, -6.4472, -6.986, -6.986, -6.9863, -6.9864, -6.9865, -6.9866, -6.9874, -6.9876, -6.1095, -6.4465, -7.258, -7.258, -7.258, -7.258, -7.258, -7.258, -7.258, -7.258, -7.258, -7.2581, -7.2583, -7.2585, -7.2586, -7.2588, -7.259, -7.2606, -7.2611, -7.2612, -6.3155, -5.8616, -5.709, -6.7738, -6.7734, -6.0985, -5.9461, -5.7055, -6.5975, -5.9399, -5.3498, -3.1233, -4.5758, -6.3163, -5.318, -5.0114, -6.2773, -6.596, -4.3872, -5.0065, -6.1587, -5.2457, -5.3508, -6.3567, -3.7392, -5.9644, -6.1282, -3.8228, -5.423, -5.8251, -4.9217, -5.5622, -5.5447, -5.3879, -5.7538, -5.6588, -5.9612, -5.9622, -5.5244, -5.8646, -5.8562, -5.7761, -5.8824, -5.8426, -5.9187, -5.8788, -5.8788, -6.1907, -6.3217, -5.2083, -6.6465, -6.6467, -6.6474, -6.8598, -6.86, -6.8602, -6.8602, -6.8608, -6.8611, -6.8615, -6.2043, -6.3204, -7.1317, -7.1317, -7.1317, -7.1317, -7.1317, -7.1317, -7.1317, -7.1317, -7.1318, -7.1319, -7.1321, -7.1322, -7.1326, -6.4707, -5.0376, -6.475, -5.4976, -5.0203, -6.3217, -6.6708, -2.7745, -5.4637, -5.7927, -5.436, -6.681, -5.8631, -4.391, -3.975, -4.2865, -5.1032, -5.6855, -4.5419, -6.13, -5.7894, -5.977, -6.1211, -5.9403, -5.9545, -5.3432, -4.4755, -5.5651, -5.7693, -5.9823, -5.7373, -5.7805, -6.0666, -6.0756, -6.0459, -6.0565, -6.5088, -6.7226, -6.723, -6.723, -6.7261, -6.0531, -5.6552, -6.994, -6.994, -6.9946, -6.9946, -6.9947, -6.9977, -6.5079, -7.0699, -6.5072, -7.3687, -7.3687, -7.3687, -7.3687, -7.3687, -7.3688, -7.3688, -7.3688, -7.3689, -7.3689, -7.3689, -7.3689, -7.369, -7.369, -6.5363, -6.3321, -6.7305, -5.8566, -6.3748, -6.3321, -6.5299, -6.5357, -5.8484, -5.8484, -6.2102, -5.5914, -6.5139, -5.5311, -3.0593, -5.9682, -5.1933, -5.7624, -5.4227, -5.4899, -4.9782, -5.5359, -4.8826, -4.5275, -5.6738, -4.7836, -5.7886, -4.8948, -4.8171, -5.7839, -5.3925, -5.4707, -5.488, -5.7278, -5.8735, -5.4679, -5.7459, -5.6718, -5.5435, -5.0366, -5.7034, -5.6736, -5.7792, -5.7694, -5.0849, -5.8208, -5.9358, -6.3914, -6.3926, -5.7316, -6.6046, -6.6048, -6.6051, -6.6053, -6.6064, -6.6068, -6.609, -6.2936, -6.8766, -6.8766, -6.877, -6.8771, -6.8772, -6.8773, -6.8778, -6.8782, -6.8867, -4.7637, -5.2618, -7.2514, -7.2514, -7.2514, -7.2514, -7.2514, -6.2895, -6.2304, -5.7829, -4.732, -5.7373, -6.0743, -5.5051, -4.4577, -6.0911, -5.5519, -6.1856, -5.1239, -5.3356, -6.2459, -5.9729, -3.7796, -4.5941, -4.6707, -5.4415, -5.6965, -5.6711, -4.8364, -5.3848, -4.2776, -5.2523, -4.2984, -5.4258, -5.1285, -5.4612, -5.7432, -5.6448, -5.6696, -5.638, -5.6879, -5.7409], \"loglift\": [30.0, 29.0, 28.0, 27.0, 26.0, 25.0, 24.0, 23.0, 22.0, 21.0, 20.0, 19.0, 18.0, 17.0, 16.0, 15.0, 14.0, 13.0, 12.0, 11.0, 10.0, 9.0, 8.0, 7.0, 6.0, 5.0, 4.0, 3.0, 2.0, 1.0, 0.7674, 0.7484, 0.7418, 0.7398, 0.7379, 0.7371, 0.7321, 0.7303, 0.72, 0.7154, 0.7123, 0.6999, 0.6999, 0.6948, 0.6942, 0.6883, 0.688, 0.677, 0.6767, 0.6747, 0.6742, 0.674, 0.6739, 0.6739, 0.6686, 0.6672, 0.6586, 0.6583, 0.6573, 0.6565, 0.6557, 0.6529, 0.598, 0.6348, 0.654, 0.5913, 0.5878, 0.5575, 0.4674, 0.5623, 0.4563, 0.5547, 0.3661, 0.3808, 0.4263, 0.2379, 0.2494, 0.3054, 0.4844, 0.3854, 0.2943, 0.274, -0.1578, 0.2616, -0.9565, -0.3419, -0.1287, 0.218, 1.7052, 1.6843, 1.6156, 1.6156, 1.6154, 1.6153, 1.6152, 1.6151, 1.6144, 1.6142, 1.6077, 1.5715, 1.567, 1.567, 1.567, 1.567, 1.567, 1.567, 1.5669, 1.5669, 1.5669, 1.5668, 1.5667, 1.5665, 1.5665, 1.5662, 1.566, 1.5646, 1.5641, 1.5641, 1.5027, 1.3947, 1.3718, 1.4988, 1.4974, 1.3519, 1.3151, 1.2635, 1.425, 1.2407, 1.0854, 0.3877, 0.798, 1.2679, 0.9079, 0.7126, 1.1976, 1.3199, 0.4406, 0.5819, 1.1158, 0.5023, 0.5653, 1.209, -0.6789, 0.866, 0.9736, -0.8429, 0.4086, 0.7241, -0.1141, 0.3873, 0.2796, 0.0058, 0.4694, 0.1286, 0.6379, 0.5774, -0.8291, 0.1795, 0.0686, -0.3912, 0.0088, -0.5668, -0.9527, 1.8638, 1.8638, 1.8391, 1.8257, 1.8029, 1.788, 1.7878, 1.7872, 1.7565, 1.7563, 1.7561, 1.7561, 1.7556, 1.7553, 1.7549, 1.7243, 1.7119, 1.707, 1.707, 1.707, 1.707, 1.707, 1.707, 1.707, 1.7069, 1.7069, 1.7067, 1.7066, 1.7065, 1.7061, 1.6795, 1.6152, 1.6752, 1.5288, 1.459, 1.6099, 1.6155, 0.7366, 1.3308, 1.3998, 1.2918, 1.581, 1.3436, 0.8847, 0.7204, 0.5412, 0.7936, 1.0669, 0.2588, 1.2659, 0.9888, 1.0422, 1.1533, 0.8924, 0.8946, 0.0306, -1.4152, 0.1614, 0.1218, 0.4528, -0.6154, -0.9729, 0.7301, 0.6913, 0.2705, 0.301, 1.9436, 1.9109, 1.9106, 1.9105, 1.9075, 1.8889, 1.8865, 1.8608, 1.8607, 1.8603, 1.8602, 1.8601, 1.8572, 1.7883, 1.777, 1.7725, 1.7707, 1.7707, 1.7707, 1.7707, 1.7706, 1.7706, 1.7706, 1.7705, 1.7705, 1.7705, 1.7704, 1.7704, 1.7704, 1.7704, 1.7407, 1.7121, 1.7151, 1.59, 1.6398, 1.6054, 1.6286, 1.6199, 1.4489, 1.4489, 1.5271, 1.3796, 1.5298, 1.2358, 0.4517, 1.3642, 1.0013, 1.259, 0.9773, 0.9612, 0.6102, 0.962, 0.4912, 0.1679, 0.9714, 0.1824, 1.0568, 0.2271, 0.0107, 0.9323, 0.3555, 0.2089, 0.2054, 0.5922, 0.7948, -0.0743, 0.4562, 0.1598, -0.2678, -1.9764, 0.2128, -0.135, 0.4439, -0.9687, 2.1807, 2.1354, 2.1252, 2.0721, 2.0711, 2.0398, 2.0396, 2.0394, 2.0391, 2.039, 2.0379, 2.0374, 2.0353, 2.0149, 1.9882, 1.9882, 1.9878, 1.9877, 1.9876, 1.9875, 1.9871, 1.9867, 1.9782, 1.9536, 1.9466, 1.8968, 1.8968, 1.8968, 1.8968, 1.8968, 1.8643, 1.8231, 1.7328, 1.5257, 1.6659, 1.5871, 1.3055, 0.6764, 1.5528, 1.194, 1.5585, 0.8767, 0.972, 1.5718, 1.3871, -0.2686, 0.2066, 0.1369, 0.8242, 1.0853, 1.0114, -0.141, 0.5063, -1.2174, 0.2863, -1.3184, 0.4991, -0.0066, 0.1272, 0.4588, 0.0486, 0.0544, -0.2443, -0.0082, 0.0464]}, \"token.table\": {\"Topic\": [1, 2, 3, 4, 5, 4, 4, 1, 3, 4, 5, 1, 2, 3, 1, 2, 3, 2, 3, 5, 1, 5, 3, 1, 2, 3, 4, 5, 1, 3, 4, 3, 4, 2, 1, 1, 4, 2, 2, 1, 2, 3, 4, 5, 1, 3, 4, 5, 1, 2, 3, 4, 5, 1, 2, 3, 4, 5, 2, 1, 2, 3, 5, 1, 2, 3, 5, 5, 1, 2, 1, 2, 4, 5, 2, 4, 1, 2, 3, 2, 3, 2, 4, 1, 3, 5, 1, 2, 3, 4, 5, 2, 3, 4, 1, 3, 1, 2, 3, 4, 5, 1, 2, 3, 4, 5, 2, 4, 5, 1, 2, 1, 3, 4, 1, 1, 2, 3, 4, 5, 2, 3, 4, 5, 1, 4, 1, 3, 2, 4, 2, 3, 4, 5, 5, 2, 1, 2, 3, 4, 5, 5, 1, 2, 3, 4, 5, 4, 1, 2, 1, 2, 5, 1, 2, 3, 4, 5, 1, 2, 4, 5, 5, 2, 3, 3, 4, 3, 5, 3, 5, 2, 1, 2, 3, 4, 1, 2, 4, 5, 3, 1, 4, 5, 5, 1, 2, 5, 3, 1, 2, 3, 2, 3, 4, 3, 1, 2, 3, 4, 5, 1, 3, 4, 5, 5, 1, 1, 2, 3, 4, 5, 1, 2, 3, 4, 5, 3, 1, 2, 3, 4, 4, 4, 5, 1, 1, 4, 2, 2, 1, 3, 4, 5, 3, 5, 3, 1, 2, 3, 4, 5, 1, 2, 3, 4, 1, 2, 3, 4, 5, 1, 2, 3, 4, 5, 5, 1, 2, 3, 4, 1, 2, 3, 4, 1, 2, 5, 2, 4, 1, 1, 2, 3, 4, 1, 4, 5, 1, 2, 5, 1, 5, 2, 2, 4, 5, 2, 4, 3, 5, 1, 2, 3, 4, 5, 1, 4, 2, 4, 5, 1, 3, 5, 1, 3, 5, 3, 4, 1, 2, 3, 4, 5, 2, 1, 2, 3, 1, 2, 3, 4, 5, 1, 2, 3, 5, 1, 4, 4, 1, 2, 3, 4, 5, 3, 3, 1, 1, 2, 3, 4, 5, 2, 2, 1, 2, 3, 4, 5, 1, 2, 3, 4, 5, 2, 3, 1, 2, 3, 4, 5, 2, 2, 3, 4, 1, 2, 5, 2, 3, 1, 2, 5, 5, 5, 5, 2, 4, 2, 4, 3, 2, 3, 4, 5, 1, 2, 4, 5, 1, 1, 3, 4, 5, 2, 3, 1, 2, 3, 4, 5, 2, 5, 1, 2, 3, 4, 5, 2, 3, 4, 5, 4, 1, 2, 3, 4, 5, 5, 3, 4, 5, 1, 2, 3, 4, 5, 4, 3, 2, 5, 1, 1, 2, 3, 4, 5, 5, 1, 3, 5, 3, 4, 5, 1, 2, 3, 4, 2, 1, 2, 3, 1, 3, 4, 4, 1, 2, 4, 1, 2, 4, 5, 1, 2, 4, 5, 1, 2, 3, 4, 5, 1, 3, 5, 1, 2, 3, 4, 5, 5, 3, 4, 3, 2, 1, 4, 2, 3, 1, 3, 4, 5, 1, 2, 4, 5, 4, 2, 4, 4, 1, 4, 3, 1, 2, 3, 4, 5, 1, 2, 3, 4, 5, 4, 1, 2, 4, 5, 3, 3, 4, 1, 2, 3, 4, 4, 5, 3, 1, 3, 1, 2, 3, 1, 3, 4, 5, 2, 4, 5, 1, 1, 2, 3, 4, 1, 4, 5, 5, 2, 3, 4, 4, 5, 1, 2, 3, 4, 5, 5, 2, 1, 1, 2, 3, 5, 3, 1, 3, 2, 4, 5, 1, 2, 3, 4, 5, 3, 2, 4, 1, 2, 4, 5, 3, 1, 2, 4, 5, 1, 2, 3, 5, 4, 1, 3, 4, 2, 3, 4, 1, 2, 3, 4, 5, 1, 2, 3, 4, 5, 3, 1, 2, 3, 4, 4, 1, 2, 3, 4, 5, 3, 4, 4, 3, 5, 2, 4, 1, 2, 3, 4, 5, 1, 2, 3, 4, 5, 3, 4, 4, 1, 2, 3, 4, 5, 5, 1, 1, 1, 1, 2, 5], \"Freq\": [0.39172976275552657, 0.07437906887763163, 0.2975162755105265, 0.14379953316342114, 0.09421348724500006, 0.6301259920328747, 0.8441338925967289, 0.19253747886509961, 0.09626873943254981, 0.09626873943254981, 0.48134369716274905, 0.2040826580540914, 0.1020413290270457, 0.663268638675797, 0.17556690348787993, 0.07022676139515197, 0.7373809946490957, 0.7396037080454871, 0.10746574734832488, 0.8597259787865991, 0.15753402995021984, 0.6301361198008794, 0.7504272318000903, 0.3226621522495931, 0.2603940176049348, 0.2490725385786333, 0.12453626928931665, 0.04528591610520605, 0.8769135812477207, 0.08769135812477206, 0.021922839531193016, 0.837003773891035, 0.13950062898183915, 0.9246674900729978, 0.9886255447071296, 0.8971687458234294, 0.08156079507485722, 0.9245981974520969, 0.9246433734519732, 0.5787612092814627, 0.03617257558009142, 0.07234515116018284, 0.03617257558009142, 0.28938060464073134, 0.2796370990994526, 0.19974078507103757, 0.19974078507103757, 0.3195852561136601, 0.5849104320660555, 0.0759623937748124, 0.0759623937748124, 0.1519247875496248, 0.10634735128473737, 0.4511205919624965, 0.12029882452333239, 0.060149412261666195, 0.3308217674391641, 0.030074706130833097, 0.9245972705136061, 0.4699800193585957, 0.08545091261065375, 0.341803650442615, 0.08545091261065375, 0.722818490597924, 0.030758233642464855, 0.03844779205308107, 0.21530763549725399, 0.6414209491059484, 0.416672077837703, 0.5952458254824329, 0.8270623071529101, 0.05169139419705688, 0.06461424274632109, 0.06461424274632109, 0.7083142269086965, 0.17707855672717412, 0.8475959639562376, 0.0325998447675476, 0.0977995343026428, 0.9246111909264644, 0.750462326050307, 0.21089494790824298, 0.632684843724729, 0.3376982659870044, 0.1125660886623348, 0.5628304433116741, 0.6683913701933928, 0.03457196742379618, 0.046095956565061574, 0.10371590227138854, 0.13828786969518472, 0.2755180161159059, 0.2755180161159059, 0.43295688246785213, 0.17551438038170675, 0.702057521526827, 0.09654312565799983, 0.19308625131599966, 0.048271562828999914, 0.48271562828999914, 0.14481468848699974, 0.660201065209212, 0.1497935189970481, 0.055479081110017814, 0.011095816222003563, 0.12205397844203919, 0.18360245191919852, 0.0612008173063995, 0.7344098076767941, 0.8794663728064119, 0.1086980910210172, 0.35455948977977775, 0.4052108454626031, 0.20260542273130155, 0.9757787336128846, 0.47065184084766176, 0.28575290337179465, 0.01680899431598792, 0.1512809488438913, 0.06723597726395168, 0.5780687230530348, 0.0481723935877529, 0.1926895743510116, 0.1445171807632587, 0.1781815854274622, 0.7127263417098488, 0.8827263483999531, 0.750444185702798, 0.31561765058476177, 0.6312353011695235, 0.6208956616040426, 0.24835826464161703, 0.12417913232080852, 0.858915131036321, 0.6414719720507627, 0.9246049017806155, 0.36557834799911576, 0.27418376099933683, 0.09139458699977894, 0.18278917399955788, 0.09139458699977894, 0.641443492189105, 0.5718526813219562, 0.024863160057476356, 0.04972632011495271, 0.07458948017242907, 0.27349476063223993, 0.8441308675060643, 0.10179647650545305, 0.8143718120436244, 0.1123582721570352, 0.1123582721570352, 0.749055147713568, 0.8941312860591832, 0.08128466236901666, 0.6023415534011001, 0.36140493204066, 0.06023415534011, 0.8818092184870563, 0.05426518267612654, 0.040698887007094904, 0.02713259133806327, 0.6414405646665615, 0.9246019482140024, 0.9741079919061806, 0.8542635499518918, 0.10050159411198727, 0.719370759643136, 0.179842689910784, 0.7545184835200326, 0.1257530805866721, 0.9245981974520969, 0.17497057378032588, 0.5249117213409776, 0.08748528689016294, 0.17497057378032588, 0.8254222963663951, 0.03751919528938159, 0.06253199214896932, 0.07503839057876319, 0.9373586271170259, 0.9757819833726695, 0.6350771601234898, 0.6415021890367794, 0.6414506935550464, 0.49854629526535293, 0.07122089932362186, 0.4273253959417311, 0.9396958639201008, 0.2443885079099982, 0.18329138093249864, 0.5498741427974959, 0.2214682966717878, 0.5167593589008381, 0.2214682966717878, 0.9396958639201008, 0.411537338415227, 0.3482239017359613, 0.03165671833963285, 0.0633134366792657, 0.15828359169816422, 0.48788915762537605, 0.11479744885302966, 0.3156929843458316, 0.08609808663977225, 0.7717141378720584, 0.9435262004444885, 0.25542119045447503, 0.12771059522723752, 0.1702807936363167, 0.3405615872726334, 0.12771059522723752, 0.41816221927638947, 0.23521624834296906, 0.18294597093342038, 0.052270277409548684, 0.10454055481909737, 0.9373151449069863, 0.8065247867507632, 0.04608713067147218, 0.04608713067147218, 0.09217426134294436, 0.8441284541740562, 0.6350880470988595, 0.9720901497081286, 0.9301656897551667, 0.2741146051211531, 0.6852865128028827, 0.7396811172783047, 0.9246922451258719, 0.20912726574056098, 0.20912726574056098, 0.10456363287028049, 0.5228181643514024, 0.7568219704482344, 0.2522739901494115, 0.937327672287303, 0.6053856744184637, 0.053812059948307886, 0.08071808992246182, 0.14798316485784668, 0.10762411989661577, 0.463592897889714, 0.16362102278460494, 0.027270170464100824, 0.3272420455692099, 0.43536743200162703, 0.4124533566331203, 0.09165630147402674, 0.022914075368506686, 0.04582815073701337, 0.5615751535424938, 0.19211781568558997, 0.07389146757138076, 0.05911317405710461, 0.11822634811420922, 0.8516081554263584, 0.3300843756885156, 0.44011250091802084, 0.055014062614752605, 0.1650421878442578, 0.42668186213385634, 0.07757852038797387, 0.42668186213385634, 0.11636778058196082, 0.941973664632607, 0.017126793902411036, 0.017126793902411036, 0.8251441373243401, 0.13752402288739002, 0.940996314399697, 0.35537943268677114, 0.05076849038382445, 0.1015369807676489, 0.4569164134544201, 0.5780709214317395, 0.03853806142878263, 0.3468425528590437, 0.331144757925447, 0.1655723789627235, 0.49671713688817054, 0.7391458403575569, 0.2384341420508248, 0.924803457246974, 0.9246334141916853, 0.854124124923809, 0.1708248249847618, 0.7395580319599887, 0.7635385897867798, 0.8342537334997343, 0.8516072457534998, 0.14760120772512172, 0.05904048309004869, 0.6199250724455112, 0.11808096618009738, 0.05904048309004869, 0.9252346903990911, 0.07117189926146855, 0.2537683573237754, 0.6344208933094385, 0.1268841786618877, 0.8758112014851525, 0.0814708094404793, 0.020367702360119824, 0.975783230994738, 0.9373450984860314, 0.8516068296190009, 0.18162281396280308, 0.7264912558512123, 0.5275899714244024, 0.08243593303506289, 0.313256545533239, 0.04946155982103773, 0.016487186607012577, 0.9246049017806155, 0.12841474689417268, 0.6420737344708635, 0.12841474689417268, 0.22447006123086335, 0.11223503061543168, 0.22447006123086335, 0.2992934149744845, 0.11223503061543168, 0.5670025390857034, 0.16461364037972034, 0.018290404486635593, 0.25606566281289833, 0.9647142479553233, 0.02756326422729495, 0.844117905229914, 0.46000610663950814, 0.21466951643177046, 0.09200122132790163, 0.12266829510386884, 0.09200122132790163, 0.9373151449069863, 0.9391172309130215, 0.8833520460409925, 0.4703325761583815, 0.2821995456950289, 0.06271101015445087, 0.0940665152316763, 0.06271101015445087, 0.9248492629486854, 0.9248611486988115, 0.8312982790699057, 0.08506307971878105, 0.03479853261222861, 0.017399266306114304, 0.0318986548945429, 0.6103482621805596, 0.09287908337530255, 0.026536880964372157, 0.14595284530404687, 0.10614752385748863, 0.5230588651147634, 0.457676506975418, 0.32438232966521324, 0.20273895604075828, 0.2838345384570616, 0.16219116483260662, 0.040547791208151655, 0.7395938953770992, 0.1582680179939496, 0.1582680179939496, 0.6330720719757984, 0.6777453242500115, 0.24329319332051697, 0.06951234094871914, 0.9246049017806155, 0.9373151449069863, 0.8749847120647177, 0.05302937648877078, 0.05302937648877078, 0.9049549836493349, 0.7716890110475721, 0.7717620560180063, 0.8625716308135846, 0.844147114398246, 0.6236935413028485, 0.31184677065142424, 0.7504794189459402, 0.12334237264333915, 0.2466847452866783, 0.20557062107223192, 0.41114124214446385, 0.6293393783879778, 0.05034715027103822, 0.226562176219672, 0.10069430054207644, 0.8137610160989267, 0.23298365488119038, 0.07766121829373013, 0.621289746349841, 0.07766121829373013, 0.6464359235726058, 0.3232179617863029, 0.3770602838641721, 0.16393925385398786, 0.16393925385398786, 0.11475747769779152, 0.18033317923938666, 0.7396043484247216, 0.771800538357352, 0.447437390257814, 0.1118593475644535, 0.08948747805156279, 0.2013468256160163, 0.17897495610312558, 0.1411110563415032, 0.1411110563415032, 0.5644442253660128, 0.1411110563415032, 0.6351482073172408, 0.49428695826333935, 0.24714347913166967, 0.09267880467437613, 0.1390182070115642, 0.015446467445729355, 0.7717291464928424, 0.40135971628568734, 0.5351462883809165, 0.06689328604761456, 0.6686180766418508, 0.19103373618338595, 0.03820674723667719, 0.05731012085501578, 0.03820674723667719, 0.844128077839123, 0.9373544282073685, 0.709617647906126, 0.1774044119765315, 0.9787441703413854, 0.7279708132928051, 0.06499739404400046, 0.012999478808800091, 0.14949400630120105, 0.04549817583080032, 0.8589671678173565, 0.37839229983286093, 0.09459807495821523, 0.4729903747910762, 0.40135971628568734, 0.5351462883809165, 0.06689328604761456, 0.34064172942920445, 0.11354724314306815, 0.5298871346676514, 0.03784908104768938, 0.9246770513782876, 0.3195625093352895, 0.5592343913367567, 0.07989062733382238, 0.4776690502282617, 0.39805754185688474, 0.11941726255706543, 0.8441160225066752, 0.06928157561025039, 0.4156894536615024, 0.4849710292717528, 0.8920382531627453, 0.07225509850618238, 0.007136306025301963, 0.028545224101207852, 0.1487234404693006, 0.0743617202346503, 0.1487234404693006, 0.5948937618772024, 0.29424498002257765, 0.1681399885843301, 0.3362799771686602, 0.12610499143824758, 0.042034997146082526, 0.24963814577301904, 0.08321271525767301, 0.5824890068037111, 0.17598665262189683, 0.24577446314437318, 0.30190813682549544, 0.19419216841036893, 0.08192482104812439, 0.8516083606649033, 0.7848044186994437, 0.15696088373988876, 0.7504916208421905, 0.9245973011503955, 0.9756331716851605, 0.8441197717301882, 0.7396610384223636, 0.937322483652807, 0.5923640372487239, 0.069689886735144, 0.31360449030814797, 0.6414496063274635, 0.8032182514021947, 0.08683440555699402, 0.06512580416774552, 0.04341720277849701, 0.6350511026759594, 0.6906946779470575, 0.276277871178823, 0.7635364372604981, 0.17865959573561901, 0.7146383829424761, 0.9373812427023529, 0.5595557385874137, 0.1865185795291379, 0.0169562345026489, 0.0678249380105956, 0.1865185795291379, 0.39868539225724164, 0.09745642921843685, 0.35438701533977035, 0.09745642921843685, 0.06201772768445981, 0.6350605365888731, 0.7954854493332373, 0.14141963543701996, 0.03535490885925499, 0.017677454429627495, 0.8342728007365003, 0.12745999077742468, 0.7647599446645481, 0.46630544926932754, 0.15543514975644251, 0.022205021393777502, 0.33307532090666253, 0.8441409287824478, 0.771706120318884, 0.8343293947447566, 0.8887691801449117, 0.04937606556360621, 0.12903930348700182, 0.6451965174350092, 0.25807860697400364, 0.20772692962461112, 0.10386346481230556, 0.5193173240615279, 0.10386346481230556, 0.9245947855390184, 0.7635167256321445, 0.8613591517672268, 0.9670921570275348, 0.2832185954845305, 0.12137939806479879, 0.566437190969061, 0.04045979935493293, 0.8931836962295994, 0.06159887560204133, 0.030799437801020665, 0.6414220674610577, 0.7882837337616886, 0.1126119619659555, 0.1126119619659555, 0.8441175607397733, 0.8516060439648799, 0.5979426764379883, 0.055622574552371004, 0.166867723657113, 0.0834338618285565, 0.09733950546664925, 0.6414809072225071, 0.9242501006850263, 0.9470144421226306, 0.5769168203244469, 0.15050004008463833, 0.20066672011285108, 0.07525002004231916, 0.7505432156150394, 0.8827075323419773, 0.9373151449069863, 0.14249730790611975, 0.14249730790611975, 0.7124865395305987, 0.7049708787548356, 0.09195272331584813, 0.07662726942987343, 0.07662726942987343, 0.04597636165792406, 0.9373151449069863, 0.7395784825432784, 0.8441385962585619, 0.48305684800703774, 0.2699435327098152, 0.170490652237778, 0.07103777176574085, 0.9373270611025433, 0.47162846292134436, 0.3467856345009885, 0.08322855228023725, 0.11097140304031632, 0.2259523583425939, 0.5083928062708363, 0.2259523583425939, 0.028244044792824236, 0.8441211379678222, 0.852455946535014, 0.7848361947284894, 0.1569672389456979, 0.6238990223732126, 0.0891284317676018, 0.2673852953028054, 0.2443099992685702, 0.3713511988882267, 0.14658599956114213, 0.20522039938559897, 0.039089599882971234, 0.43261369990978527, 0.299501792245236, 0.033277976916137327, 0.1331119076645493, 0.09983393074841199, 0.7504639640087692, 0.25162106924385846, 0.37743160386578767, 0.25162106924385846, 0.12581053462192923, 0.8441164458524216, 0.6180608838399251, 0.16946830685933428, 0.009968723932902017, 0.10965596326192219, 0.07974979146321613, 0.28236823996755134, 0.7059205999188783, 0.8494080581639453, 0.18386739412234165, 0.7354695764893666, 0.739561932776989, 0.6350836907666052, 0.5784861241271524, 0.05509391658353832, 0.1873193163840303, 0.04407513326683066, 0.13222539980049197, 0.3566487764005349, 0.17832438820026744, 0.14265951056021395, 0.2853190211204279, 0.03566487764005349, 0.9373151449069863, 0.8441272482549304, 0.7635164297173566, 0.27856790170166873, 0.3027911975018138, 0.07266988740043533, 0.2301213101013785, 0.12111647900072553, 0.7716778492856182, 0.9692699195411552, 0.9268820213251654, 0.975734284182805, 0.9405811786126798, 0.02411746611827384, 0.04823493223654768], \"Term\": [\"abortion\", \"abortion\", \"abortion\", \"abortion\", \"abortion\", \"abortionismurder\", \"abortionkills\", \"access\", \"access\", \"access\", \"access\", \"ad\", \"ad\", \"ad\", \"adoption\", \"adoption\", \"adoption\", \"affect\", \"afford\", \"afford\", \"affordable\", \"affordable\", \"alsen\", \"amp\", \"amp\", \"amp\", \"amp\", \"amp\", \"anti\", \"anti\", \"anti\", \"apha\", \"apha\", \"apparently\", \"arent\", \"as\", \"as\", \"attack\", \"attitude\", \"away\", \"away\", \"away\", \"away\", \"away\", \"b\", \"b\", \"b\", \"b\", \"baby\", \"baby\", \"baby\", \"baby\", \"baby\", \"believe\", \"believe\", \"believe\", \"believe\", \"believe\", \"benefit\", \"better\", \"better\", \"better\", \"better\", \"birth\", \"birth\", \"birth\", \"birth\", \"bob\", \"border\", \"border\", \"born\", \"born\", \"born\", \"born\", \"bullshit\", \"bullshit\", \"call\", \"call\", \"call\", \"came\", \"campus\", \"cancelled\", \"cancelled\", \"cannot\", \"cannot\", \"cannot\", \"care\", \"care\", \"care\", \"care\", \"care\", \"catholic\", \"catholic\", \"catholic\", \"ccot\", \"ccot\", \"change\", \"change\", \"change\", \"change\", \"change\", \"child\", \"child\", \"child\", \"child\", \"child\", \"chip\", \"chip\", \"chip\", \"choice\", \"choice\", \"choose\", \"choose\", \"choose\", \"choosing\", \"christian\", \"christian\", \"christian\", \"christian\", \"christian\", \"claim\", \"claim\", \"claim\", \"claim\", \"clinton\", \"clinton\", \"comic\", \"comment\", \"committee\", \"committee\", \"conception\", \"conception\", \"conception\", \"condition\", \"congress\", \"consensus\", \"conservative\", \"conservative\", \"conservative\", \"conservative\", \"conservative\", \"contraception\", \"control\", \"control\", \"control\", \"control\", \"control\", \"coup\", \"court\", \"court\", \"cut\", \"cut\", \"cut\", \"damn\", \"damn\", \"day\", \"day\", \"day\", \"death\", \"death\", \"death\", \"death\", \"decade\", \"defense\", \"defundplannedparenthood\", \"defundpp\", \"defundpp\", \"demand\", \"demand\", \"different\", \"different\", \"disgusted\", \"done\", \"done\", \"done\", \"done\", \"dont\", \"dont\", \"dont\", \"dont\", \"duck\", \"dude\", \"duty\", \"early\", \"eat\", \"education\", \"education\", \"education\", \"efl\", \"election\", \"election\", \"election\", \"electionday\", \"electionday\", \"electionday\", \"equipped\", \"even\", \"even\", \"even\", \"even\", \"even\", \"every\", \"every\", \"every\", \"every\", \"existing\", \"eye\", \"fact\", \"fact\", \"fact\", \"fact\", \"fact\", \"family\", \"family\", \"family\", \"family\", \"family\", \"fearfully\", \"fetus\", \"fetus\", \"fetus\", \"fetus\", \"flip\", \"follower\", \"food\", \"forced\", \"forget\", \"forget\", \"franklin\", \"fully\", \"fund\", \"fund\", \"fund\", \"fund\", \"gay\", \"gay\", \"gentleman\", \"get\", \"get\", \"get\", \"get\", \"get\", \"god\", \"god\", \"god\", \"god\", \"good\", \"good\", \"good\", \"good\", \"good\", \"gop\", \"gop\", \"gop\", \"gop\", \"gop\", \"grandparent\", \"great\", \"great\", \"great\", \"great\", \"group\", \"group\", \"group\", \"group\", \"gun\", \"gun\", \"gun\", \"hand\", \"hand\", \"happens\", \"hate\", \"hate\", \"hate\", \"hate\", \"health\", \"health\", \"health\", \"healthcare\", \"healthcare\", \"healthcare\", \"help\", \"help\", \"helpful\", \"highly\", \"hillary\", \"hillary\", \"hispanic\", \"hold\", \"hollywood\", \"hospital\", \"human\", \"human\", \"human\", \"human\", \"human\", \"hypocrisy\", \"hypocrisy\", \"idea\", \"idea\", \"idea\", \"im\", \"im\", \"im\", \"immigration\", \"immoral\", \"imo\", \"iona\", \"iona\", \"issue\", \"issue\", \"issue\", \"issue\", \"issue\", \"january\", \"judge\", \"judge\", \"judge\", \"keep\", \"keep\", \"keep\", \"keep\", \"keep\", \"kid\", \"kid\", \"kid\", \"kid\", \"kill\", \"kill\", \"kkk\", \"know\", \"know\", \"know\", \"know\", \"know\", \"knoweth\", \"lack\", \"lead\", \"let\", \"let\", \"let\", \"let\", \"let\", \"level\", \"lied\", \"life\", \"life\", \"life\", \"life\", \"life\", \"like\", \"like\", \"like\", \"like\", \"like\", \"little\", \"little\", \"live\", \"live\", \"live\", \"live\", \"live\", \"lord\", \"majority\", \"majority\", \"majority\", \"make\", \"make\", \"make\", \"marchforlife\", \"marvellous\", \"mean\", \"mean\", \"mean\", \"medicaid\", \"medicare\", \"mental\", \"military\", \"min\", \"mind\", \"mind\", \"minority\", \"mother\", \"mother\", \"mother\", \"mother\", \"much\", \"much\", \"much\", \"much\", \"murdered\", \"must\", \"must\", \"must\", \"must\", \"name\", \"name\", \"need\", \"need\", \"need\", \"need\", \"need\", \"needed\", \"neither\", \"never\", \"never\", \"never\", \"never\", \"never\", \"non\", \"non\", \"non\", \"non\", \"often\", \"one\", \"one\", \"one\", \"one\", \"one\", \"otherwise\", \"parenthood\", \"parenthood\", \"parenthood\", \"party\", \"party\", \"party\", \"party\", \"party\", \"patricia\", \"payer\", \"pedophile\", \"pedophile\", \"penalty\", \"people\", \"people\", \"people\", \"people\", \"people\", \"pill\", \"plan\", \"plan\", \"plan\", \"planned\", \"planned\", \"planned\", \"please\", \"please\", \"please\", \"please\", \"poc\", \"point\", \"point\", \"point\", \"pregnancy\", \"pregnancy\", \"pregnancy\", \"presentation\", \"president\", \"president\", \"president\", \"pro\", \"pro\", \"pro\", \"pro\", \"probirth\", \"probirth\", \"probirth\", \"probirth\", \"prochoice\", \"prochoice\", \"prochoice\", \"prochoice\", \"prochoice\", \"program\", \"program\", \"program\", \"prolife\", \"prolife\", \"prolife\", \"prolife\", \"prolife\", \"proper\", \"protecting\", \"protecting\", \"psalm\", \"psychological\", \"punishment\", \"purpose\", \"push\", \"quiet\", \"r\", \"r\", \"r\", \"rare\", \"really\", \"really\", \"really\", \"really\", \"referendum\", \"religion\", \"religion\", \"remain\", \"repealtheth\", \"repealtheth\", \"repro\", \"republican\", \"republican\", \"republican\", \"republican\", \"republican\", \"right\", \"right\", \"right\", \"right\", \"right\", \"sanctity\", \"say\", \"say\", \"say\", \"say\", \"science\", \"scotus\", \"scotus\", \"see\", \"see\", \"see\", \"see\", \"sexist\", \"shelter\", \"shut\", \"sick\", \"sick\", \"side\", \"side\", \"side\", \"single\", \"single\", \"single\", \"single\", \"solid\", \"sooo\", \"stamp\", \"stance\", \"stand\", \"stand\", \"stand\", \"stand\", \"stop\", \"stop\", \"stop\", \"stork\", \"strong\", \"strong\", \"strong\", \"stuck\", \"study\", \"support\", \"support\", \"support\", \"support\", \"support\", \"supported\", \"supreme\", \"taking\", \"tax\", \"tax\", \"tax\", \"tax\", \"teacher\", \"tear\", \"thee\", \"there\", \"there\", \"there\", \"think\", \"think\", \"think\", \"think\", \"think\", \"thy\", \"tonight\", \"troll\", \"trump\", \"trump\", \"trump\", \"trump\", \"trumptrain\", \"u\", \"u\", \"u\", \"u\", \"unborn\", \"unborn\", \"unborn\", \"unborn\", \"upcoming\", \"using\", \"via\", \"via\", \"voice\", \"voice\", \"voice\", \"vote\", \"vote\", \"vote\", \"vote\", \"vote\", \"voted\", \"voted\", \"voted\", \"voted\", \"voted\", \"voteprolife\", \"voting\", \"voting\", \"voting\", \"voting\", \"vvs\", \"want\", \"want\", \"want\", \"want\", \"want\", \"wanted\", \"wanted\", \"wasnt\", \"welfare\", \"welfare\", \"witness\", \"wolf\", \"woman\", \"woman\", \"woman\", \"woman\", \"woman\", \"womb\", \"womb\", \"womb\", \"womb\", \"womb\", \"wonderfully\", \"woot\", \"worse\", \"would\", \"would\", \"would\", \"would\", \"would\", \"ww\", \"yall\", \"yeah\", \"yemen\", \"youre\", \"youre\", \"youre\"]}, \"R\": 30, \"lambda.step\": 0.01, \"plot.opts\": {\"xlab\": \"PC1\", \"ylab\": \"PC2\"}, \"topic.order\": [1, 5, 4, 3, 2]};\n",
       "\n",
       "function LDAvis_load_lib(url, callback){\n",
       "  var s = document.createElement('script');\n",
       "  s.src = url;\n",
       "  s.async = true;\n",
       "  s.onreadystatechange = s.onload = callback;\n",
       "  s.onerror = function(){console.warn(\"failed to load library \" + url);};\n",
       "  document.getElementsByTagName(\"head\")[0].appendChild(s);\n",
       "}\n",
       "\n",
       "if(typeof(LDAvis) !== \"undefined\"){\n",
       "   // already loaded: just create the visualization\n",
       "   !function(LDAvis){\n",
       "       new LDAvis(\"#\" + \"ldavis_el405981406688871460646846362220\", ldavis_el405981406688871460646846362220_data);\n",
       "   }(LDAvis);\n",
       "}else if(typeof define === \"function\" && define.amd){\n",
       "   // require.js is available: use it to load d3/LDAvis\n",
       "   require.config({paths: {d3: \"https://d3js.org/d3.v5\"}});\n",
       "   require([\"d3\"], function(d3){\n",
       "      window.d3 = d3;\n",
       "      LDAvis_load_lib(\"https://cdn.jsdelivr.net/gh/bmabey/pyLDAvis@3.3.1/pyLDAvis/js/ldavis.v3.0.0.js\", function(){\n",
       "        new LDAvis(\"#\" + \"ldavis_el405981406688871460646846362220\", ldavis_el405981406688871460646846362220_data);\n",
       "      });\n",
       "    });\n",
       "}else{\n",
       "    // require.js not available: dynamically load d3 & LDAvis\n",
       "    LDAvis_load_lib(\"https://d3js.org/d3.v5.js\", function(){\n",
       "         LDAvis_load_lib(\"https://cdn.jsdelivr.net/gh/bmabey/pyLDAvis@3.3.1/pyLDAvis/js/ldavis.v3.0.0.js\", function(){\n",
       "                 new LDAvis(\"#\" + \"ldavis_el405981406688871460646846362220\", ldavis_el405981406688871460646846362220_data);\n",
       "            })\n",
       "         });\n",
       "}\n",
       "</script>"
      ],
      "text/plain": [
       "PreparedData(topic_coordinates=              x         y  topics  cluster       Freq\n",
       "topic                                                \n",
       "0     -0.153207 -0.043308       1        1  45.700896\n",
       "4     -0.007888 -0.042643       2        1  16.704317\n",
       "3      0.115511 -0.017321       3        1  14.455259\n",
       "2      0.065933 -0.033251       4        1  12.325401\n",
       "1     -0.020350  0.136523       5        1  10.814127, topic_info=         Term         Freq        Total Category  logprob  loglift\n",
       "7         pro  1121.000000  1121.000000  Default  30.0000  30.0000\n",
       "26    prolife   659.000000   659.000000  Default  29.0000  29.0000\n",
       "47      birth   130.000000   130.000000  Default  28.0000  28.0000\n",
       "6        life  1034.000000  1034.000000  Default  27.0000  27.0000\n",
       "21   abortion   201.000000   201.000000  Default  26.0000  26.0000\n",
       "..        ...          ...          ...      ...      ...      ...\n",
       "136       get     8.438677    74.332780   Topic5  -5.6448   0.0486\n",
       "28          u     8.232035    72.090645   Topic5  -5.6696   0.0544\n",
       "215      want     8.496556   100.313742   Topic5  -5.6380  -0.2443\n",
       "248      like     8.083358    75.366808   Topic5  -5.6879  -0.0082\n",
       "504       gop     7.665404    67.666811   Topic5  -5.7409   0.0464\n",
       "\n",
       "[368 rows x 6 columns], token_table=      Topic      Freq      Term\n",
       "term                           \n",
       "21        1  0.391730  abortion\n",
       "21        2  0.074379  abortion\n",
       "21        3  0.297516  abortion\n",
       "21        4  0.143800  abortion\n",
       "21        5  0.094213  abortion\n",
       "...     ...       ...       ...\n",
       "301       1  0.926882      yeah\n",
       "3516      1  0.975734     yemen\n",
       "1879      1  0.940581     youre\n",
       "1879      2  0.024117     youre\n",
       "1879      5  0.048235     youre\n",
       "\n",
       "[655 rows x 3 columns], R=30, lambda_step=0.01, plot_opts={'xlab': 'PC1', 'ylab': 'PC2'}, topic_order=[1, 5, 4, 3, 2])"
      ]
     },
     "execution_count": 94,
     "metadata": {},
     "output_type": "execute_result"
    }
   ],
   "source": [
    "pyLDAvis.enable_notebook()\n",
    "vis=gensimvis.prepare(tweets_lda_lf, tweets_bow_lf, dictionary=txt_dict_lf)\n",
    "vis"
   ]
  },
  {
   "cell_type": "code",
   "execution_count": 95,
   "metadata": {},
   "outputs": [],
   "source": [
    "##Model\n",
    "#Male Prolife\n",
    "k = 5\n",
    "tweets_lda_lm = LdaModel(tweets_bow_lm,\n",
    "                      num_topics = k,\n",
    "                      id2word = txt_dict_lm,\n",
    "                      random_state = 10,\n",
    "                      passes=100)"
   ]
  },
  {
   "cell_type": "code",
   "execution_count": 96,
   "metadata": {},
   "outputs": [
    {
     "data": {
      "text/plain": [
       "[(0,\n",
       "  '0.059*\"pro\" + 0.050*\"life\" + 0.024*\"prolife\" + 0.014*\"conservative\" + 0.014*\"abortion\" + 0.012*\"trump\" + 0.011*\"justice\" + 0.010*\"marriage\" + 0.010*\"late\" + 0.009*\"pray\"'),\n",
       " (1,\n",
       "  '0.065*\"pro\" + 0.058*\"life\" + 0.024*\"prolife\" + 0.011*\"people\" + 0.011*\"choice\" + 0.011*\"praytoendabortion\" + 0.009*\"birth\" + 0.009*\"day\" + 0.008*\"born\" + 0.007*\"tcot\"'),\n",
       " (2,\n",
       "  '0.049*\"prolife\" + 0.011*\"u\" + 0.010*\"holylove\" + 0.009*\"unitedhearts\" + 0.009*\"ourlady\" + 0.009*\"guadalupe\" + 0.009*\"apparition\" + 0.009*\"feast\" + 0.009*\"praytoendabortion\" + 0.008*\"maranathasns\"'),\n",
       " (3,\n",
       "  '0.047*\"prolife\" + 0.023*\"abortion\" + 0.020*\"life\" + 0.013*\"pro\" + 0.011*\"alert\" + 0.010*\"woman\" + 0.008*\"ohio\" + 0.005*\"bill\" + 0.005*\"sign\" + 0.005*\"via\"'),\n",
       " (4,\n",
       "  '0.040*\"life\" + 0.039*\"prolife\" + 0.038*\"pro\" + 0.014*\"human\" + 0.012*\"child\" + 0.011*\"right\" + 0.009*\"unitedhearts\" + 0.009*\"baby\" + 0.009*\"vote\" + 0.008*\"jesus\"')]"
      ]
     },
     "execution_count": 96,
     "metadata": {},
     "output_type": "execute_result"
    }
   ],
   "source": [
    "tweets_lda_lm.show_topics()"
   ]
  },
  {
   "cell_type": "code",
   "execution_count": 97,
   "metadata": {},
   "outputs": [
    {
     "data": {
      "text/plain": [
       "0.3776528707315047"
      ]
     },
     "execution_count": 97,
     "metadata": {},
     "output_type": "execute_result"
    }
   ],
   "source": [
    "cm = CoherenceModel(model=tweets_lda_lm, texts=df_lm.tok_tweet.to_list(), coherence='c_v')\n",
    "cm.get_coherence()"
   ]
  },
  {
   "cell_type": "code",
   "execution_count": 98,
   "metadata": {},
   "outputs": [
    {
     "data": {
      "text/html": [
       "\n",
       "<link rel=\"stylesheet\" type=\"text/css\" href=\"https://cdn.jsdelivr.net/gh/bmabey/pyLDAvis@3.3.1/pyLDAvis/js/ldavis.v1.0.0.css\">\n",
       "\n",
       "\n",
       "<div id=\"ldavis_el405981406688923538727925282439\"></div>\n",
       "<script type=\"text/javascript\">\n",
       "\n",
       "var ldavis_el405981406688923538727925282439_data = {\"mdsDat\": {\"x\": [0.04960551400170875, 0.10528913369667747, 0.07314009275316238, -0.039884792718787844, -0.18814994773276078], \"y\": [-0.12223247089762533, 0.026258263204448837, 0.017399725021791712, 0.11337702419420133, -0.0348025415228166], \"topics\": [1, 2, 3, 4, 5], \"cluster\": [1, 1, 1, 1, 1], \"Freq\": [25.656217117226397, 23.492399465545336, 22.855247303257084, 15.703609776394586, 12.292526337576591]}, \"tinfo\": {\"Term\": [\"pro\", \"life\", \"prolife\", \"justice\", \"late\", \"unitedhearts\", \"conservative\", \"scotus\", \"abortion\", \"constitutional\", \"marriage\", \"alert\", \"antonin\", \"scalia\", \"successor\", \"jesus\", \"rip\", \"ccot\", \"praytoendabortion\", \"born\", \"mw\", \"message\", \"guadalupe\", \"ourlady\", \"apparition\", \"feast\", \"holylove\", \"ohio\", \"human\", \"maranathasns\", \"jesus\", \"championed\", \"recent\", \"rerun\", \"word\", \"confront\", \"counsel\", \"faithfully\", \"knowledgeably\", \"lovingly\", \"among\", \"flesh\", \"within\", \"bearing\", \"divine\", \"dwells\", \"growing\", \"immaculatemary\", \"joyful\", \"novena\", \"rosary\", \"votetrumpence\", \"comic\", \"message\", \"zootopia\", \"value\", \"heaven\", \"amend\", \"lawmaker\", \"leading\", \"mystery\", \"sin\", \"made\", \"human\", \"unborn\", \"child\", \"read\", \"unitedhearts\", \"prolife\", \"life\", \"right\", \"vote\", \"support\", \"pro\", \"baby\", \"womb\", \"amp\", \"would\", \"people\", \"u\", \"trump\", \"abortion\", \"one\", \"end\", \"god\", \"holylove\", \"woman\", \"like\", \"justice\", \"late\", \"scotus\", \"constitutional\", \"antonin\", \"scalia\", \"successor\", \"rip\", \"supreme\", \"prayer\", \"gorsuch\", \"honest\", \"send\", \"bless\", \"promote\", \"appointed\", \"platform\", \"irony\", \"situation\", \"affordable\", \"sacred\", \"nation\", \"court\", \"except\", \"conservative\", \"thermometer\", \"meat\", \"winning\", \"deserves\", \"passed\", \"amendment\", \"lost\", \"hypocrite\", \"name\", \"im\", \"republican\", \"judge\", \"penalty\", \"pray\", \"marriage\", \"mw\", \"ccot\", \"trump\", \"sense\", \"pro\", \"life\", \"holylove\", \"death\", \"god\", \"abortion\", \"anti\", \"vote\", \"prolife\", \"make\", \"like\", \"also\", \"born\", \"washington\", \"devotion\", \"blessing\", \"participate\", \"rosaryiftheunborn\", \"ur\", \"tuesday\", \"monday\", \"friday\", \"thursday\", \"adopted\", \"wednesday\", \"saudi\", \"local\", \"pay\", \"insurance\", \"slaughter\", \"especially\", \"beam\", \"intention\", \"infant\", \"alliance\", \"ministry\", \"camp\", \"company\", \"nah\", \"social\", \"bio\", \"petition\", \"update\", \"profamily\", \"control\", \"mean\", \"still\", \"birth\", \"kid\", \"tcot\", \"there\", \"day\", \"praytoendabortion\", \"choice\", \"going\", \"pro\", \"life\", \"said\", \"people\", \"care\", \"article\", \"campaign\", \"marriage\", \"ccot\", \"mw\", \"prolife\", \"want\", \"baby\", \"woman\", \"right\", \"one\", \"like\", \"dont\", \"child\", \"get\", \"say\", \"ohio\", \"something\", \"follow\", \"vigil\", \"blah\", \"peace\", \"votetoendabortion\", \"daily\", \"charity\", \"lovetoendabortion\", \"nov\", \"prayerful\", \"worktoendabortion\", \"constantcontact\", \"disposal\", \"sanctity\", \"heartbeat\", \"sun\", \"contact\", \"override\", \"veto\", \"budget\", \"defunds\", \"return\", \"fetal\", \"humane\", \"encourage\", \"alert\", \"horror\", \"continue\", \"senator\", \"roe\", \"bill\", \"info\", \"sign\", \"crisis\", \"v\", \"near\", \"used\", \"abortion\", \"via\", \"prolife\", \"movement\", \"woman\", \"even\", \"prochoice\", \"life\", \"gov\", \"youre\", \"think\", \"please\", \"help\", \"pro\", \"amp\", \"tell\", \"know\", \"people\", \"party\", \"human\", \"dont\", \"thing\", \"democrat\", \"thats\", \"guadalupe\", \"ourlady\", \"apparition\", \"feast\", \"maranathasns\", \"promised\", \"pm\", \"event\", \"parenthood\", \"planned\", \"december\", \"et\", \"wed\", \"flyer\", \"print\", \"join\", \"wk\", \"feedly\", \"since\", \"govt\", \"sec\", \"fairly\", \"treating\", \"next\", \"decides\", \"rule\", \"therefore\", \"imo\", \"reproductive\", \"bit\", \"plan\", \"number\", \"changed\", \"u\", \"prolife\", \"unitedhearts\", \"holylove\", \"praytoendabortion\", \"prochoice\", \"issue\", \"woman\", \"make\", \"right\", \"say\", \"tcot\", \"abortion\"], \"Freq\": [813.0, 774.0, 692.0, 50.0, 46.0, 81.0, 80.0, 44.0, 201.0, 42.0, 77.0, 41.0, 41.0, 41.0, 41.0, 44.0, 41.0, 71.0, 84.0, 38.0, 70.0, 46.0, 23.0, 23.0, 22.0, 22.0, 93.0, 25.0, 100.0, 21.0, 43.83342367851388, 33.56184393434882, 30.993286979237958, 30.993286979237958, 18.14937797493634, 13.86955950111309, 13.86955950111309, 13.86955950111309, 13.86955950111309, 13.86955950111309, 13.866771798994545, 13.013384682448788, 13.013158392294088, 13.012727478063328, 12.157199030745165, 12.157199030745165, 12.157199030745165, 12.157199030745165, 12.157199030745165, 12.157199030745165, 12.157199030745165, 11.300982083594617, 9.585795393635008, 42.98422894818526, 7.873548670179954, 21.108697102399656, 7.018987974374446, 7.017861338285087, 14.646023612784159, 6.1638513219783855, 12.16072337953752, 13.87273959998925, 19.662125251766724, 70.02752979812828, 40.46530657190007, 59.5068671845319, 36.87731969188992, 48.69015445769348, 199.86395191705142, 206.10397515317825, 55.672211999187915, 45.68093835111871, 35.446089832277266, 195.18369375574918, 46.058260332687205, 18.30107422821606, 31.66713091309445, 30.07037221266049, 34.481453420262426, 27.671869901464934, 29.409354597359783, 36.37134935003216, 21.466688127135757, 17.700480898904516, 19.904297845782445, 19.30338193263335, 18.64484749067917, 18.512945607580562, 49.79546046732771, 45.51899434668086, 43.80695569936299, 42.097121361485215, 41.241681771209024, 41.241681771209024, 41.241681771209024, 40.38603497584546, 15.568467761435002, 7.010585743293575, 4.448246577620423, 4.445923786547918, 4.440806206644046, 4.43713079619136, 3.5930742598638443, 3.592124478033841, 3.5915177418604536, 3.5900816342602284, 3.589757876311214, 3.589479306705721, 3.588499766698277, 3.5880316264809355, 19.382111561264878, 8.461547633758103, 65.53773472165042, 2.737427464500284, 2.7374249846521637, 2.737370979070881, 2.737360784139721, 2.737048598815267, 12.145822165780599, 6.1583462592470495, 6.133020948089742, 6.0820633756855935, 40.93951944177902, 34.62850436394273, 19.496382962639654, 17.196617004390998, 43.86336838655402, 45.52666975215129, 41.27619684842211, 41.25806860758673, 55.72512339909839, 9.780296146160161, 278.1066828757225, 235.34646555708537, 41.5118331189499, 23.61075739291819, 28.251955166452277, 64.74566461915822, 20.404545226104155, 32.55918903826403, 113.43528035243327, 21.252047098086546, 20.55701731007586, 17.842665934487943, 37.526399187367716, 29.038272831034686, 12.054992510024167, 8.66078742341647, 8.66078742341647, 8.660785278891495, 8.658838050213815, 7.808089980790196, 6.113308349640995, 6.1133072773785075, 6.112860143921132, 6.112050585742912, 6.102786773980345, 5.263522099668851, 11.20908034442012, 11.158755849084445, 4.411970101445072, 4.410577232473537, 4.4084753299320045, 4.351858530252828, 8.668661582994966, 3.565821501962483, 3.5657944273346684, 3.5657944273346684, 3.565026687393468, 3.5639477232652106, 3.563850415444451, 3.563742384998814, 3.5578631697787024, 3.55582667524892, 28.19900654832946, 32.61844790672327, 19.276884094620943, 20.223198630524166, 13.514388935346384, 42.915989332241566, 20.468549443911925, 33.14837503982418, 8.545988320826062, 41.125375313515804, 48.65721723733489, 48.6761834162175, 15.105402364247489, 300.45333610296626, 268.1293057410684, 16.379769174690537, 50.3074163387701, 29.389050636739025, 13.431137403538123, 12.915409170299464, 31.579084576661582, 29.871521576658882, 29.005365095286876, 109.1783498093841, 23.259955366491482, 30.998199241094763, 31.20603373456254, 32.15493027853617, 22.559557798569525, 21.518843417773326, 18.52494072438981, 22.060014295320357, 17.556610495088936, 17.707061789264444, 24.68259457059759, 14.869763489876316, 13.238444159449195, 9.972173366773982, 7.519895731770941, 7.516133196839966, 5.884876857745643, 5.884527642637501, 5.884220421751223, 5.067615149804962, 5.067615149804962, 5.067615149804962, 5.067615149804962, 5.067598941508804, 5.067598941508804, 5.0639638627248935, 11.5224165895941, 4.25018546497682, 3.432734046297011, 3.432734046297011, 3.432734046297011, 3.4327299942229716, 3.4327299942229716, 3.4327299942229716, 3.431851799267475, 3.4299856349870446, 3.42950196469486, 34.678689909020044, 3.424997531844267, 7.496308977156656, 7.408645670642694, 7.369931418527391, 17.19761961290013, 5.072591833466355, 17.042510639107725, 5.040331061814704, 8.089508304113386, 7.328105173549656, 5.883914305976049, 71.25798820128887, 15.539602271737026, 149.21721688130873, 10.27274516792228, 30.995581523147962, 13.2364078080591, 12.633065771410825, 64.78787802577803, 7.717426237054536, 10.984498603648861, 13.225213769339454, 7.810372711375433, 11.482182441343571, 40.03605929576897, 13.589428918835559, 9.280331822878113, 11.158167550024212, 15.05358619705423, 10.975167045505973, 14.025595641942164, 11.176060772242456, 9.313807848371283, 9.62204470012108, 8.734925604107648, 22.37535003849973, 22.37535003849973, 21.581891447067864, 21.581891447067864, 20.78802454603406, 20.7866150705155, 19.994582102439562, 19.994196861176714, 19.985248652442664, 19.985248652442664, 19.201646008888147, 19.201646008888147, 19.201646008888147, 16.821236785500872, 16.821236785500872, 11.26626654370472, 5.71171729909701, 4.91059713554399, 10.474997137652752, 9.679568510062373, 4.118789083774208, 3.332229944210726, 3.3298717832469764, 20.00921204309214, 3.3283948328365676, 6.412837366100213, 2.538751167982156, 2.5386747541089116, 2.536919541858197, 2.5353656008660663, 9.687469416201616, 4.862461585776247, 5.597916568684996, 26.677233106361026, 121.29910326142675, 23.445188093767097, 24.202184868429068, 21.090312061504555, 11.549268927693733, 12.76697042287737, 17.7324534809161, 13.1390581187745, 16.129080498360608, 13.239751418914054, 11.831029081622606, 14.2305954072094], \"Total\": [813.0, 774.0, 692.0, 50.0, 46.0, 81.0, 80.0, 44.0, 201.0, 42.0, 77.0, 41.0, 41.0, 41.0, 41.0, 44.0, 41.0, 71.0, 84.0, 38.0, 70.0, 46.0, 23.0, 23.0, 22.0, 22.0, 93.0, 25.0, 100.0, 21.0, 44.49891537730792, 34.22499693477042, 31.656440048970516, 31.656440048970516, 18.813507515695555, 14.532708416999368, 14.532708416999368, 14.532708416999368, 14.532708416999368, 14.532708416999368, 14.532353107476274, 13.676530614966351, 13.676502885671143, 13.676443590154072, 12.820344609915054, 12.820344609915054, 12.820344609915054, 12.820344609915054, 12.820344609915054, 12.820344609915054, 12.820344609915054, 11.96413360023286, 10.251328522648514, 46.023280840806116, 8.53896188422953, 23.092857537723265, 7.683048908306138, 7.682918987335514, 16.202192585427852, 6.82700173000006, 13.637398932677135, 16.166938712803507, 23.760564114445895, 100.73668820764934, 57.038103746899424, 102.05683500387852, 56.97531713401973, 81.9650589767852, 692.9939022216042, 774.5311426506208, 117.10017545131313, 91.16919004614317, 62.43930195108541, 813.939361233039, 95.26308434569728, 24.735751756933027, 68.11751395298546, 62.67861251669476, 113.57528966824957, 78.16331511310429, 103.22838472426764, 201.66913559762847, 64.19295881157876, 34.04600160807637, 59.47064335748266, 93.87150442144562, 98.75413282583077, 73.45846511647626, 50.461083887240704, 46.183068173005175, 44.471662260355124, 42.760566947476946, 41.90493713452329, 41.90493713452329, 41.90493713452329, 41.04929032764815, 16.235001709784978, 7.678312009468515, 5.111940925489094, 5.111631741296077, 5.110955970220737, 5.110550932684064, 4.256330999743932, 4.25621338611984, 4.25611496325528, 4.2559462997627735, 4.2559020001551975, 4.255836707073365, 4.255821089054056, 4.255704271416927, 23.081366925856848, 10.235984503689831, 80.97633582829046, 3.400680614373423, 3.4006785949994063, 3.40063746523552, 3.400627554071649, 3.400606718214424, 15.192322185683881, 7.671315121045101, 7.6713835416374545, 7.670281947384269, 55.66107142730047, 47.38182885220981, 26.479765546535575, 23.82044126258119, 72.52729816029222, 77.60121315832524, 70.77584120204635, 71.62473016209668, 103.22838472426764, 13.669659582997998, 813.939361233039, 774.5311426506208, 93.87150442144562, 45.87456553112235, 59.47064335748266, 201.66913559762847, 41.72148111331853, 91.16919004614317, 692.9939022216042, 53.66456529220298, 73.45846511647626, 37.88395859506873, 38.19605518335572, 29.704886444623952, 12.72167306482968, 9.325345139030539, 9.325345139030539, 9.325344527320558, 9.325099463599578, 8.475780841634295, 6.777865431843294, 6.777864673601413, 6.777811585613667, 6.777714902992015, 6.776629186079038, 5.928632718597966, 12.66591241722554, 12.727792218137282, 5.079221201576562, 5.079059591542287, 5.078737103726784, 5.075141588205216, 10.142497731975284, 4.230377846177857, 4.230356005456547, 4.230356005456547, 4.230297919041509, 4.230127730640458, 4.230146700135397, 4.230153308059509, 4.229997449496015, 4.229109612766176, 33.76039503628215, 39.948956558278404, 23.778965653973756, 25.361860366937016, 16.942252272189606, 58.34201536163131, 27.755999594728927, 47.582591825310175, 11.035825886857877, 67.4391297174351, 84.00741373001532, 84.84863254938432, 21.827356167097847, 813.939361233039, 774.5311426506208, 24.532881090453387, 113.57528966824957, 55.227096442235485, 19.388306977695297, 19.380072147782933, 77.60121315832524, 71.62473016209668, 70.77584120204635, 692.9939022216042, 50.69192728772844, 95.26308434569728, 98.75413282583077, 117.10017545131313, 64.19295881157876, 73.45846511647626, 51.17178180882374, 102.05683500387852, 46.33659946531429, 67.73761200221816, 25.3564517019545, 15.546998210638673, 13.91244982492279, 10.643070055355155, 8.19079249192635, 8.190430950866036, 6.555918194247701, 6.55588571226969, 6.555863418271844, 5.738511943967146, 5.738511943967146, 5.738511943967146, 5.738511943967146, 5.73849900765037, 5.73849900765037, 5.738156031727464, 13.068296944208985, 4.921082242384902, 4.103634876951025, 4.103634876951025, 4.103634876951025, 4.103631800657685, 4.103631800657685, 4.103631800657685, 4.103531517333719, 4.103350575775497, 4.1033266846894, 41.51855233887727, 4.103010013270266, 8.983076019851593, 9.828358007299634, 9.772795033193045, 28.257404062459777, 6.586622530336426, 29.04878701228862, 6.595009110443002, 12.174251685080328, 10.75086716477063, 8.142375529377304, 201.66913559762847, 28.535261290629254, 692.9939022216042, 18.2521318227642, 98.75413282583077, 33.43210332062584, 32.730517301355874, 774.5311426506208, 13.30970070670065, 27.6538365356008, 43.68830095277908, 14.791366986085228, 36.77082134940204, 813.939361233039, 68.11751395298546, 23.319174911531313, 42.6969627301556, 113.57528966824957, 41.07051356504765, 100.73668820764934, 51.17178180882374, 35.343942256398584, 45.57688460038671, 28.313421470654486, 23.051201777590933, 23.051201777590933, 22.257729540501487, 22.257729540501487, 21.464232983244063, 21.464157002850758, 20.670772201365004, 20.670741431823444, 20.670636312240354, 20.670636318042334, 19.87733247475241, 19.87733247475241, 19.87733247475241, 17.49692323461103, 17.49692323461103, 11.942592144911684, 6.388276563840972, 5.594418822469171, 12.003881830763698, 11.203560197919552, 4.80099394089606, 4.007918127613759, 4.007746405584376, 24.091385769011925, 4.0077117893215, 8.04379355434288, 3.2144396441234617, 3.2144368409300834, 3.2143231193139945, 3.2142721092086273, 13.751012227149348, 7.302317334406949, 8.949194757150966, 78.16331511310429, 692.9939022216042, 81.9650589767852, 93.87150442144562, 84.00741373001532, 32.730517301355874, 40.504440234388966, 98.75413282583077, 53.66456529220298, 117.10017545131313, 67.73761200221816, 47.582591825310175, 201.66913559762847], \"Category\": [\"Default\", \"Default\", \"Default\", \"Default\", \"Default\", \"Default\", \"Default\", \"Default\", \"Default\", \"Default\", \"Default\", \"Default\", \"Default\", \"Default\", \"Default\", \"Default\", \"Default\", \"Default\", \"Default\", \"Default\", \"Default\", \"Default\", \"Default\", \"Default\", \"Default\", \"Default\", \"Default\", \"Default\", \"Default\", \"Default\", \"Topic1\", \"Topic1\", \"Topic1\", \"Topic1\", \"Topic1\", \"Topic1\", \"Topic1\", \"Topic1\", \"Topic1\", \"Topic1\", \"Topic1\", \"Topic1\", \"Topic1\", \"Topic1\", \"Topic1\", \"Topic1\", \"Topic1\", \"Topic1\", \"Topic1\", \"Topic1\", \"Topic1\", \"Topic1\", \"Topic1\", \"Topic1\", \"Topic1\", \"Topic1\", \"Topic1\", \"Topic1\", \"Topic1\", \"Topic1\", \"Topic1\", \"Topic1\", \"Topic1\", \"Topic1\", \"Topic1\", \"Topic1\", \"Topic1\", \"Topic1\", \"Topic1\", \"Topic1\", \"Topic1\", \"Topic1\", \"Topic1\", \"Topic1\", \"Topic1\", \"Topic1\", \"Topic1\", \"Topic1\", \"Topic1\", \"Topic1\", \"Topic1\", \"Topic1\", \"Topic1\", \"Topic1\", \"Topic1\", \"Topic1\", \"Topic1\", \"Topic1\", \"Topic2\", \"Topic2\", \"Topic2\", \"Topic2\", \"Topic2\", \"Topic2\", \"Topic2\", \"Topic2\", \"Topic2\", \"Topic2\", \"Topic2\", \"Topic2\", \"Topic2\", \"Topic2\", \"Topic2\", \"Topic2\", \"Topic2\", \"Topic2\", \"Topic2\", \"Topic2\", \"Topic2\", \"Topic2\", \"Topic2\", \"Topic2\", \"Topic2\", \"Topic2\", \"Topic2\", \"Topic2\", \"Topic2\", \"Topic2\", \"Topic2\", \"Topic2\", \"Topic2\", \"Topic2\", \"Topic2\", \"Topic2\", \"Topic2\", \"Topic2\", \"Topic2\", \"Topic2\", \"Topic2\", \"Topic2\", \"Topic2\", \"Topic2\", \"Topic2\", \"Topic2\", \"Topic2\", \"Topic2\", \"Topic2\", \"Topic2\", \"Topic2\", \"Topic2\", \"Topic2\", \"Topic2\", \"Topic2\", \"Topic2\", \"Topic3\", \"Topic3\", \"Topic3\", \"Topic3\", \"Topic3\", \"Topic3\", \"Topic3\", \"Topic3\", \"Topic3\", \"Topic3\", \"Topic3\", \"Topic3\", \"Topic3\", \"Topic3\", \"Topic3\", \"Topic3\", \"Topic3\", \"Topic3\", \"Topic3\", \"Topic3\", \"Topic3\", \"Topic3\", \"Topic3\", \"Topic3\", \"Topic3\", \"Topic3\", \"Topic3\", \"Topic3\", \"Topic3\", \"Topic3\", \"Topic3\", \"Topic3\", \"Topic3\", \"Topic3\", \"Topic3\", \"Topic3\", \"Topic3\", \"Topic3\", \"Topic3\", \"Topic3\", \"Topic3\", \"Topic3\", \"Topic3\", \"Topic3\", \"Topic3\", \"Topic3\", \"Topic3\", \"Topic3\", \"Topic3\", \"Topic3\", \"Topic3\", \"Topic3\", \"Topic3\", \"Topic3\", \"Topic3\", \"Topic3\", \"Topic3\", \"Topic3\", \"Topic3\", \"Topic3\", \"Topic3\", \"Topic3\", \"Topic3\", \"Topic3\", \"Topic4\", \"Topic4\", \"Topic4\", \"Topic4\", \"Topic4\", \"Topic4\", \"Topic4\", \"Topic4\", \"Topic4\", \"Topic4\", \"Topic4\", \"Topic4\", \"Topic4\", \"Topic4\", \"Topic4\", \"Topic4\", \"Topic4\", \"Topic4\", \"Topic4\", \"Topic4\", \"Topic4\", \"Topic4\", \"Topic4\", \"Topic4\", \"Topic4\", \"Topic4\", \"Topic4\", \"Topic4\", \"Topic4\", \"Topic4\", \"Topic4\", \"Topic4\", \"Topic4\", \"Topic4\", \"Topic4\", \"Topic4\", \"Topic4\", \"Topic4\", \"Topic4\", \"Topic4\", \"Topic4\", \"Topic4\", \"Topic4\", \"Topic4\", \"Topic4\", \"Topic4\", \"Topic4\", \"Topic4\", \"Topic4\", \"Topic4\", \"Topic4\", \"Topic4\", \"Topic4\", \"Topic4\", \"Topic4\", \"Topic4\", \"Topic4\", \"Topic4\", \"Topic4\", \"Topic4\", \"Topic4\", \"Topic4\", \"Topic4\", \"Topic5\", \"Topic5\", \"Topic5\", \"Topic5\", \"Topic5\", \"Topic5\", \"Topic5\", \"Topic5\", \"Topic5\", \"Topic5\", \"Topic5\", \"Topic5\", \"Topic5\", \"Topic5\", \"Topic5\", \"Topic5\", \"Topic5\", \"Topic5\", \"Topic5\", \"Topic5\", \"Topic5\", \"Topic5\", \"Topic5\", \"Topic5\", \"Topic5\", \"Topic5\", \"Topic5\", \"Topic5\", \"Topic5\", \"Topic5\", \"Topic5\", \"Topic5\", \"Topic5\", \"Topic5\", \"Topic5\", \"Topic5\", \"Topic5\", \"Topic5\", \"Topic5\", \"Topic5\", \"Topic5\", \"Topic5\", \"Topic5\", \"Topic5\", \"Topic5\", \"Topic5\"], \"logprob\": [30.0, 29.0, 28.0, 27.0, 26.0, 25.0, 24.0, 23.0, 22.0, 21.0, 20.0, 19.0, 18.0, 17.0, 16.0, 15.0, 14.0, 13.0, 12.0, 11.0, 10.0, 9.0, 8.0, 7.0, 6.0, 5.0, 4.0, 3.0, 2.0, 1.0, -4.7702, -5.0372, -5.1168, -5.1168, -5.6519, -5.9209, -5.9209, -5.9209, -5.9209, -5.9209, -5.9211, -5.9846, -5.9846, -5.9846, -6.0527, -6.0527, -6.0527, -6.0527, -6.0527, -6.0527, -6.0527, -6.1257, -6.2903, -4.7897, -6.4871, -5.5009, -6.602, -6.6021, -5.8664, -6.7319, -6.0524, -5.9206, -5.5719, -4.3017, -4.8501, -4.4645, -4.943, -4.6651, -3.2529, -3.2222, -4.5311, -4.7289, -4.9826, -3.2766, -4.7207, -5.6436, -5.0953, -5.147, -5.0102, -5.2302, -5.1693, -4.9568, -5.4841, -5.677, -5.5596, -5.5903, -5.625, -5.6321, -4.5545, -4.6443, -4.6827, -4.7225, -4.743, -4.743, -4.743, -4.764, -5.7172, -6.515, -6.97, -6.9705, -6.9716, -6.9725, -7.1835, -7.1837, -7.1839, -7.1843, -7.1844, -7.1845, -7.1847, -7.1849, -5.4981, -6.3269, -4.2798, -7.4554, -7.4554, -7.4555, -7.4555, -7.4556, -5.9655, -6.6447, -6.6488, -6.6571, -4.7504, -4.9178, -5.4922, -5.6178, -4.6814, -4.6442, -4.7422, -4.7426, -4.442, -6.1821, -2.8345, -3.0014, -4.7365, -5.3008, -5.1213, -4.292, -5.4467, -4.9794, -3.7312, -5.406, -5.4393, -5.5809, -4.8099, -5.0664, -5.9455, -6.2762, -6.2762, -6.2762, -6.2764, -6.3798, -6.6245, -6.6245, -6.6246, -6.6247, -6.6262, -6.7742, -6.0182, -6.0227, -6.9506, -6.951, -6.9514, -6.9644, -6.2753, -7.1636, -7.1636, -7.1636, -7.1638, -7.1641, -7.1641, -7.1642, -7.1658, -7.1664, -5.0957, -4.9501, -5.4761, -5.4281, -5.8312, -4.6757, -5.4161, -4.934, -6.2895, -4.7183, -4.5502, -4.5498, -5.7199, -2.7297, -2.8435, -5.6389, -4.5168, -5.0543, -5.8374, -5.8765, -4.9825, -5.0381, -5.0675, -3.742, -5.2882, -5.001, -4.9944, -4.9644, -5.3188, -5.366, -5.5159, -5.3412, -5.5695, -5.561, -4.8536, -5.3604, -5.4766, -5.7599, -6.0421, -6.0426, -6.2873, -6.2874, -6.2874, -6.4368, -6.4368, -6.4368, -6.4368, -6.4368, -6.4368, -6.4375, -5.6154, -6.6127, -6.8263, -6.8263, -6.8263, -6.8263, -6.8263, -6.8263, -6.8266, -6.8271, -6.8273, -4.5136, -6.8286, -6.0453, -6.057, -6.0623, -5.2149, -6.4358, -5.224, -6.4422, -5.9691, -6.068, -6.2875, -3.7934, -5.3163, -3.0543, -5.7302, -4.6258, -5.4767, -5.5234, -3.8886, -6.0162, -5.6632, -5.4776, -6.0042, -5.6189, -4.3699, -5.4504, -5.8318, -5.6475, -5.3481, -5.664, -5.4188, -5.6459, -5.8282, -5.7956, -5.8924, -4.7068, -4.7068, -4.7429, -4.7429, -4.7804, -4.7805, -4.8193, -4.8193, -4.8198, -4.8198, -4.8598, -4.8598, -4.8598, -4.9921, -4.9921, -5.393, -6.0723, -6.2234, -5.4658, -5.5448, -6.3992, -6.6111, -6.6118, -4.8186, -6.6123, -5.9565, -6.8831, -6.8831, -6.8838, -6.8844, -5.5439, -6.2332, -6.0924, -4.531, -3.0165, -4.6601, -4.6283, -4.766, -5.3682, -5.2679, -4.9394, -5.2392, -5.0342, -5.2316, -5.3441, -5.1594], \"loglift\": [30.0, 29.0, 28.0, 27.0, 26.0, 25.0, 24.0, 23.0, 22.0, 21.0, 20.0, 19.0, 18.0, 17.0, 16.0, 15.0, 14.0, 13.0, 12.0, 11.0, 10.0, 9.0, 8.0, 7.0, 6.0, 5.0, 4.0, 3.0, 2.0, 1.0, 1.3453, 1.3408, 1.3392, 1.3392, 1.3244, 1.3137, 1.3137, 1.3137, 1.3137, 1.3137, 1.3135, 1.3107, 1.3107, 1.3106, 1.3073, 1.3073, 1.3073, 1.3073, 1.3073, 1.3073, 1.3073, 1.3034, 1.2933, 1.2921, 1.2793, 1.2705, 1.27, 1.2698, 1.2594, 1.2582, 1.2458, 1.2073, 1.1711, 0.9968, 1.0171, 0.8209, 0.9254, 0.8396, 0.117, 0.0365, 0.6168, 0.6693, 0.7942, -0.0676, 0.6336, 1.0591, 0.5944, 0.6259, 0.1683, 0.322, 0.1048, -0.3525, 0.265, 0.7063, 0.2658, -0.2213, -0.3067, -0.0179, 1.4352, 1.434, 1.4334, 1.4329, 1.4325, 1.4325, 1.4325, 1.4322, 1.4066, 1.3575, 1.3094, 1.309, 1.3079, 1.3072, 1.2791, 1.2789, 1.2787, 1.2784, 1.2783, 1.2782, 1.2779, 1.2778, 1.2738, 1.2581, 1.237, 1.2315, 1.2315, 1.2315, 1.2315, 1.2314, 1.2247, 1.2288, 1.2247, 1.2165, 1.1413, 1.1349, 1.1423, 1.1227, 0.9456, 0.9152, 0.9093, 0.8969, 0.832, 1.1137, 0.3746, 0.2573, 0.6325, 0.7843, 0.7042, 0.3123, 0.7332, 0.4188, -0.3613, 0.5222, 0.175, 0.6956, 1.4583, 1.4533, 1.4222, 1.4021, 1.4021, 1.4021, 1.4019, 1.3939, 1.3728, 1.3728, 1.3727, 1.3726, 1.3713, 1.357, 1.3538, 1.3444, 1.3352, 1.3349, 1.3345, 1.3222, 1.319, 1.3051, 1.3051, 1.3051, 1.3049, 1.3046, 1.3046, 1.3046, 1.3029, 1.3026, 1.296, 1.2733, 1.2661, 1.2496, 1.2499, 1.1689, 1.1714, 1.1145, 1.2203, 0.9814, 0.9299, 0.9203, 1.1079, 0.4794, 0.4152, 1.072, 0.6617, 0.8452, 1.1089, 1.0702, 0.5769, 0.6015, 0.584, -0.372, 0.697, 0.3533, 0.324, 0.1835, 0.4303, 0.2482, 0.4599, -0.0558, 0.5055, 0.1343, 1.8243, 1.8067, 1.8016, 1.7862, 1.7658, 1.7654, 1.7433, 1.7432, 1.7432, 1.7269, 1.7269, 1.7269, 1.7269, 1.7269, 1.7269, 1.7263, 1.7254, 1.7047, 1.6728, 1.6728, 1.6728, 1.6728, 1.6728, 1.6728, 1.6725, 1.672, 1.6719, 1.6713, 1.6707, 1.6703, 1.5687, 1.5691, 1.3547, 1.5901, 1.318, 1.5824, 1.4425, 1.468, 1.5264, 0.811, 1.2435, 0.3157, 1.2765, 0.6925, 0.9247, 0.8993, -0.6299, 1.3063, 0.928, 0.6563, 1.2127, 0.6874, -1.1608, 0.2393, 0.9299, 0.5093, -0.1696, 0.5316, -0.1203, 0.3299, 0.5177, 0.2959, 0.6753, 2.0664, 2.0664, 2.0653, 2.0653, 2.0642, 2.0641, 2.0629, 2.0629, 2.0625, 2.0625, 2.0616, 2.0616, 2.0616, 2.0568, 2.0568, 2.0379, 1.9842, 1.9658, 1.9599, 1.95, 1.9429, 1.9115, 1.9109, 1.9105, 1.9104, 1.8696, 1.8602, 1.8602, 1.8595, 1.8589, 1.7459, 1.6895, 1.627, 1.0212, 0.3534, 0.8446, 0.7407, 0.7141, 1.0545, 0.9416, 0.3789, 0.689, 0.1138, 0.4638, 0.7044, -0.5551]}, \"token.table\": {\"Topic\": [1, 2, 3, 4, 5, 3, 2, 4, 5, 3, 2, 3, 4, 5, 1, 2, 5, 1, 1, 2, 3, 4, 5, 1, 2, 3, 4, 2, 5, 2, 1, 3, 4, 1, 2, 3, 5, 3, 1, 1, 2, 3, 4, 3, 2, 3, 4, 5, 5, 4, 2, 3, 3, 4, 3, 2, 3, 4, 5, 1, 2, 3, 4, 2, 3, 1, 2, 3, 5, 4, 1, 2, 3, 4, 5, 1, 2, 3, 4, 5, 1, 3, 1, 1, 2, 3, 4, 4, 2, 4, 4, 5, 1, 2, 3, 1, 1, 2, 1, 4, 4, 1, 2, 3, 5, 1, 2, 3, 5, 5, 5, 4, 1, 2, 3, 4, 5, 2, 3, 4, 1, 1, 2, 3, 4, 5, 1, 4, 1, 2, 3, 4, 5, 3, 5, 1, 2, 3, 4, 5, 5, 2, 3, 5, 1, 5, 5, 4, 1, 5, 4, 3, 1, 2, 3, 4, 5, 1, 2, 3, 4, 5, 3, 4, 2, 1, 3, 4, 3, 5, 1, 5, 4, 5, 1, 1, 2, 3, 4, 5, 1, 2, 3, 5, 2, 4, 1, 2, 3, 4, 5, 4, 2, 3, 2, 3, 4, 5, 1, 5, 3, 3, 4, 3, 3, 4, 2, 2, 3, 4, 5, 1, 5, 1, 1, 2, 3, 2, 2, 3, 5, 1, 2, 3, 4, 5, 1, 2, 1, 4, 1, 1, 2, 3, 4, 1, 2, 3, 4, 5, 3, 5, 2, 3, 4, 1, 1, 2, 5, 1, 2, 3, 5, 5, 2, 3, 2, 3, 5, 2, 1, 5, 3, 3, 1, 3, 4, 5, 2, 3, 1, 4, 3, 2, 3, 2, 1, 3, 4, 2, 5, 4, 1, 1, 3, 5, 4, 1, 2, 3, 4, 5, 5, 4, 5, 3, 1, 2, 3, 4, 5, 2, 2, 3, 4, 1, 2, 3, 5, 1, 2, 3, 4, 3, 3, 5, 5, 2, 1, 3, 4, 5, 5, 1, 2, 3, 4, 2, 4, 1, 3, 4, 5, 5, 1, 2, 3, 4, 1, 2, 4, 5, 1, 3, 1, 2, 3, 4, 5, 5, 2, 1, 2, 3, 4, 5, 1, 5, 2, 3, 5, 1, 4, 1, 2, 3, 4, 5, 2, 4, 5, 1, 3, 2, 5, 2, 1, 2, 3, 4, 4, 3, 1, 2, 3, 4, 5, 2, 2, 5, 3, 4, 5, 2, 1, 2, 3, 4, 1, 4, 1, 5, 2, 3, 3, 4, 1, 3, 4, 2, 4, 1, 2, 3, 4, 5, 2, 1, 3, 5, 1, 2, 3, 4, 5, 1, 2, 3, 4, 5, 2, 3, 5, 2, 1, 2, 3, 4, 5, 1, 2, 3, 4, 5, 3, 5, 1, 2, 3, 5, 3, 1, 2, 3, 4, 5, 1, 2, 4, 5, 1, 3, 5, 3, 4, 3, 4, 5, 4, 5, 1, 2, 4, 1, 4, 5, 4, 1, 2, 3, 4, 4, 1, 1, 2, 3, 4, 5, 3, 5, 3, 2, 1, 5, 1, 3, 4, 5, 1, 2, 3, 4, 1, 4, 1, 2, 3, 4, 5, 1, 2, 3, 4, 1], \"Freq\": [0.17851021125923516, 0.32231010366250795, 0.07437925469134798, 0.35206180553904715, 0.06942063771192479, 0.8852541137945041, 0.9398856853111506, 0.8429966371256782, 0.14451370922154483, 0.945546898379375, 0.47513514077018926, 0.29036036380400454, 0.13198198354727478, 0.10558558683781984, 0.9111120410795384, 0.7898726641874348, 0.1974681660468587, 0.963367728299803, 0.46977639292717466, 0.11744409823179366, 0.11744409823179366, 0.2055271719056389, 0.08808307367384524, 0.11984234180036997, 0.4793693672014799, 0.3595270254011099, 0.023968468360073995, 0.9784049995918558, 0.9884206724665018, 0.9398025045089631, 0.10315495841389559, 0.6705072296903213, 0.20630991682779118, 0.48287330098479714, 0.14696143943015566, 0.32541461588105897, 0.041988982694330185, 0.7881553510341706, 0.9505395108242134, 0.10616686491684944, 0.17694477486141574, 0.0707779099445663, 0.6016122345288135, 0.9456270477128969, 0.15426275462398337, 0.7370331609812539, 0.06856122427732594, 0.03428061213866297, 0.9333372838613274, 0.9767064674005093, 0.782694479066506, 0.9651117321471748, 0.994867135299324, 0.7310597406714688, 0.9455598817272687, 0.15479818532787032, 0.6707921364207713, 0.051599395109290104, 0.10319879021858021, 0.28971285891763515, 0.10864232209411319, 0.5251045567882138, 0.054321161047056594, 0.5724279855185677, 0.41884974550139104, 0.9934259472630709, 0.11174189713559843, 0.22348379427119686, 0.6704513828135905, 0.9152112570370826, 0.5879077084618565, 0.10778307988467369, 0.21556615976934737, 0.07838769446158086, 0.019596923615395216, 0.141428325235715, 0.2121424878535725, 0.577498994712503, 0.04714277507857167, 0.023571387539285834, 0.9754833217867082, 0.945597923917627, 0.9633441749662959, 0.08644500801868132, 0.8150529327475667, 0.024698573719623234, 0.0740957211588697, 0.8713079837313157, 0.9822133567964345, 0.7310591926319189, 0.7792430994161447, 0.11132044277373496, 0.1261619215762088, 0.04205397385873627, 0.7990255033159892, 0.9633441749662959, 0.12997497113740075, 0.823174817203538, 0.15162981328055022, 0.758149066402751, 0.9152081447622981, 0.22242279909080792, 0.029656373212107724, 0.6079556508482084, 0.13345367945448475, 0.17438857256473891, 0.5231657176942167, 0.239784287276516, 0.06539571471177709, 0.9558626653819484, 0.7485568218736347, 0.7310597406714688, 0.24135041472112087, 0.37299609547809587, 0.13164568075697503, 0.2194094679282917, 0.04388189358565834, 0.8821901111775771, 0.9432721575887045, 0.8713079837313157, 0.9360122808804522, 0.19542020321589942, 0.1367941422511296, 0.3712983861102089, 0.21496222353748937, 0.09771010160794971, 0.9360122808804522, 0.7311141009546706, 0.5286964445108308, 0.2349761975603692, 0.1762321481702769, 0.02937202469504615, 0.02937202469504615, 0.7875973727926958, 0.9558626653819484, 0.05982273926409248, 0.11964547852818495, 0.3888478052166011, 0.3888478052166011, 0.02991136963204624, 0.9675511672362748, 0.7815564782377492, 0.09769455977971865, 0.7485182841761654, 0.9633441749662959, 0.9884206724665018, 0.8937478867184963, 0.7310776065268918, 0.95053346246847, 0.9715993933363063, 0.9344148703926878, 0.8852345523168884, 0.28055576261549525, 0.12948727505330548, 0.38846182515991645, 0.12948727505330548, 0.086324850035537, 0.33630038067317425, 0.47082053294244397, 0.08407509516829356, 0.03363003806731742, 0.06726007613463485, 0.6872110339506313, 0.2748844135802525, 0.7824816558531128, 0.30053267824318813, 0.07513316956079703, 0.6010653564863763, 0.08925734162482522, 0.8925734162482523, 0.9360122808804522, 0.9543970944450778, 0.91825278008529, 0.0765210650071075, 0.9110966341021604, 0.46232309685071665, 0.027195476285336275, 0.08158642885600882, 0.29915023913869904, 0.1087819051413451, 0.20240434109479674, 0.447420122420077, 0.09587574051858792, 0.25566864138290113, 0.7825289853501423, 0.7311705285381154, 0.6948808943937926, 0.009926869919911324, 0.10919556911902456, 0.13897617887875854, 0.04963434959955662, 0.7311098441626637, 0.7821274959639551, 0.1303545826606592, 0.7366009842902601, 0.035931755331232204, 0.1257611436593127, 0.1077952659936966, 0.9360122808804522, 0.9332894526967788, 0.9455420166815587, 0.15182287969201766, 0.7591143984600882, 0.7875223073093218, 0.8873553869897904, 0.0985950429988656, 0.9398614827971302, 0.34564111783758855, 0.12344325637056734, 0.19750921019290776, 0.3209524665634751, 0.9887881452148306, 0.9210730691064176, 0.9360122808804522, 0.11329405446312567, 0.7175290115997959, 0.11329405446312567, 0.9908625845558325, 0.10808474001310055, 0.7205649334206703, 0.14411298668413405, 0.281050436206432, 0.140525218103216, 0.210787827154824, 0.25762956652256264, 0.11710434841934667, 0.9633441749662959, 0.9960360326793494, 0.9258006236446605, 0.061720041576310704, 0.8788631140422968, 0.2659673558057606, 0.3034093622056007, 0.3460157832812808, 0.0839217384824002, 0.25864956434732833, 0.28587583427862606, 0.2994889692442749, 0.08167880979389315, 0.09529194475954202, 0.8684727667183366, 0.07895206970166697, 0.7821344717726301, 0.13035574529543836, 0.8713060195433525, 0.9633441749662959, 0.8417308572164937, 0.04208654286082468, 0.12625962858247405, 0.20497697018703345, 0.39131967035706383, 0.14907416013602431, 0.24224551022103952, 0.9783717879131081, 0.5927742380283266, 0.41236468732405335, 0.11828785257058466, 0.7885856838038977, 0.07885856838038978, 0.8821768703491732, 0.9343097496403265, 0.0651844011376972, 0.945546898379375, 0.885234453285428, 0.2739406031334905, 0.1095762412533962, 0.547881206266981, 0.0547881206266981, 0.5792937152517315, 0.4097443351780539, 0.8799331939499331, 0.07332776616249442, 0.9455936835173989, 0.7822398239280016, 0.13037330398800026, 0.9399149341427827, 0.0930157525596527, 0.1860315051193054, 0.651110267917569, 0.16603445058544902, 0.8301722529272451, 0.8713060195433525, 0.9360122808804522, 0.1369428298176272, 0.1369428298176272, 0.6847141490881361, 0.9859423666156324, 0.327138682945584, 0.15578032521218288, 0.35829474798802063, 0.06231213008487315, 0.09346819512730972, 0.9543970944450778, 0.7310591926319189, 0.9675560876738357, 0.9651117321471748, 0.04869673706009037, 0.19478694824036147, 0.4139222650107681, 0.267832053830497, 0.07304510559013555, 0.8821955164445558, 0.07856822164137674, 0.8642504380551441, 0.9767495810649743, 0.04198075043936611, 0.7136727574692239, 0.20990375219683055, 0.04198075043936611, 0.2993608917865242, 0.12326624955915703, 0.440236605568418, 0.1320709816705254, 0.9458255676148531, 0.29088767677063, 0.7272191919265749, 0.9675560874022553, 0.9398242374873749, 0.1352140070543495, 0.1352140070543495, 0.540856028217398, 0.2028210105815242, 0.9675497269850079, 0.22060659097817872, 0.6066681251899915, 0.12409120742522553, 0.04136373580840851, 0.9116587071960538, 0.8713060195433525, 0.07142226779273218, 0.5832818536406461, 0.09522969039030957, 0.24997793727456263, 0.9715993933363063, 0.2395755866930848, 0.34154878513167986, 0.3685778256816689, 0.04914371009088919, 0.18331515951174557, 0.061105053170581854, 0.39718284560878203, 0.36663031902349114, 0.17522360039086998, 0.8260541161283871, 0.28860282804630566, 0.1630605978461627, 0.1572885412852366, 0.2150091068944977, 0.17460471096801491, 0.9783752512251419, 0.9397765352931072, 0.6494040202175101, 0.0351029200117573, 0.24572044008230112, 0.0351029200117573, 0.0351029200117573, 0.9792636175149497, 0.9333224721478108, 0.7386798029508238, 0.12663082336299838, 0.12663082336299838, 0.9792636175149497, 0.7310597406714688, 0.4782230238697053, 0.04269848427408083, 0.27327029935411734, 0.06831757483852934, 0.13663514967705867, 0.9744382833595197, 0.7162741033885067, 0.20464974382528764, 0.9360122808804522, 0.9651117954551285, 0.12431945116991416, 0.745916707019485, 0.9398891345052014, 0.12228486287195214, 0.08152324191463475, 0.652185935317078, 0.12228486287195214, 0.8713600627717257, 0.8433647752061163, 0.2509683984644058, 0.162391316653439, 0.2657312454329002, 0.1328656227164501, 0.19191701059042793, 0.9784049995918558, 0.9893940942078165, 0.8331608098745982, 0.10174639540575227, 0.7122247678402659, 0.10174639540575227, 0.7826324514056113, 0.21946413382022548, 0.7315471127340849, 0.41309814399216027, 0.5852223706555604, 0.8659648093372565, 0.12370925847675093, 0.0833063848926926, 0.833063848926926, 0.9398712657984452, 0.7875473653943438, 0.9455922064051416, 0.9648164743297927, 0.1180480592467014, 0.8263364147269098, 0.0590240296233507, 0.9784049995918558, 0.8128293336673605, 0.5605443832062504, 0.048046661417678604, 0.17617109186482155, 0.12812443044714295, 0.09609332283535721, 0.9855249963020737, 0.04203217864513547, 0.6935309476447353, 0.25219307187081286, 0.2572989834658775, 0.12864949173293874, 0.08576632782195916, 0.3859484751988162, 0.08576632782195916, 0.07063787759006465, 0.21191363277019398, 0.2472325715652263, 0.31787044915529095, 0.1412757551801293, 0.1812279407544586, 0.8155257333950637, 0.9332886388097242, 0.8821763464996113, 0.08488017488928777, 0.3395206995571511, 0.2829339162976259, 0.2546405246678633, 0.02829339162976259, 0.25178365283395787, 0.29756249880376845, 0.11444711492452632, 0.29756249880376845, 0.04577884596981053, 0.8852414860181979, 0.7485503563348752, 0.2809304831947301, 0.542486450307065, 0.14530887061796383, 0.019374516082395175, 0.9438658395581456, 0.3582243148142232, 0.10234980423263519, 0.1791121574071116, 0.025587451058158798, 0.3454305892851438, 0.7012855858163831, 0.19285353609950537, 0.08766069822704789, 0.01753213964540958, 0.5978157108857589, 0.10980288567289449, 0.28060737449739703, 0.8293741814901313, 0.14810253240895202, 0.965137158604195, 0.736885688746765, 0.24562856291558832, 0.6571245779158716, 0.3285622889579358, 0.9093720846671104, 0.04330343260319573, 0.7310591926319189, 0.14017744429463372, 0.5607097771785349, 0.3153992496629259, 0.939578518978968, 0.5045564184207205, 0.3619643871279082, 0.05484308895877397, 0.08774894233403835, 0.9152036102684328, 0.9194146745223495, 0.17754306221019792, 0.19727006912244213, 0.4537211589816169, 0.11836204147346528, 0.039454013824488425, 0.9762703538376419, 0.9558626653819484, 0.8853959446867129, 0.8821875400329471, 0.9505353896879651, 0.9392204517195292, 0.19239701120670707, 0.31391091302146945, 0.31391091302146945, 0.18227085272214352, 0.7276916495960101, 0.08085462773289001, 0.12128194159933502, 0.040427313866445005, 0.956759391356616, 0.8713060195433525, 0.47863216487138016, 0.20740727144426474, 0.15954405495712673, 0.07977202747856336, 0.0638176219828507, 0.10848404329496493, 0.25312943435491814, 0.25312943435491814, 0.3977748254148714, 0.9368820365359718], \"Term\": [\"abortion\", \"abortion\", \"abortion\", \"abortion\", \"abortion\", \"adopted\", \"affordable\", \"alert\", \"alert\", \"alliance\", \"also\", \"also\", \"also\", \"also\", \"amend\", \"amendment\", \"amendment\", \"among\", \"amp\", \"amp\", \"amp\", \"amp\", \"amp\", \"anti\", \"anti\", \"anti\", \"anti\", \"antonin\", \"apparition\", \"appointed\", \"article\", \"article\", \"article\", \"baby\", \"baby\", \"baby\", \"baby\", \"beam\", \"bearing\", \"bill\", \"bill\", \"bill\", \"bill\", \"bio\", \"birth\", \"birth\", \"birth\", \"birth\", \"bit\", \"blah\", \"bless\", \"blessing\", \"born\", \"budget\", \"camp\", \"campaign\", \"campaign\", \"campaign\", \"campaign\", \"care\", \"care\", \"care\", \"care\", \"ccot\", \"ccot\", \"championed\", \"changed\", \"changed\", \"changed\", \"charity\", \"child\", \"child\", \"child\", \"child\", \"child\", \"choice\", \"choice\", \"choice\", \"choice\", \"choice\", \"comic\", \"company\", \"confront\", \"conservative\", \"conservative\", \"conservative\", \"conservative\", \"constantcontact\", \"constitutional\", \"contact\", \"continue\", \"continue\", \"control\", \"control\", \"control\", \"counsel\", \"court\", \"court\", \"crisis\", \"crisis\", \"daily\", \"day\", \"day\", \"day\", \"day\", \"death\", \"death\", \"death\", \"death\", \"december\", \"decides\", \"defunds\", \"democrat\", \"democrat\", \"democrat\", \"democrat\", \"democrat\", \"deserves\", \"devotion\", \"disposal\", \"divine\", \"dont\", \"dont\", \"dont\", \"dont\", \"dont\", \"dwells\", \"encourage\", \"end\", \"end\", \"end\", \"end\", \"end\", \"especially\", \"et\", \"even\", \"even\", \"even\", \"even\", \"even\", \"event\", \"except\", \"except\", \"fairly\", \"faithfully\", \"feast\", \"feedly\", \"fetal\", \"flesh\", \"flyer\", \"follow\", \"friday\", \"get\", \"get\", \"get\", \"get\", \"get\", \"god\", \"god\", \"god\", \"god\", \"god\", \"going\", \"going\", \"gorsuch\", \"gov\", \"gov\", \"gov\", \"govt\", \"govt\", \"growing\", \"guadalupe\", \"heartbeat\", \"heartbeat\", \"heaven\", \"help\", \"help\", \"help\", \"help\", \"help\", \"holylove\", \"holylove\", \"holylove\", \"holylove\", \"honest\", \"horror\", \"human\", \"human\", \"human\", \"human\", \"human\", \"humane\", \"hypocrite\", \"hypocrite\", \"im\", \"im\", \"im\", \"im\", \"immaculatemary\", \"imo\", \"infant\", \"info\", \"info\", \"insurance\", \"intention\", \"intention\", \"irony\", \"issue\", \"issue\", \"issue\", \"issue\", \"jesus\", \"join\", \"joyful\", \"judge\", \"judge\", \"judge\", \"justice\", \"kid\", \"kid\", \"kid\", \"know\", \"know\", \"know\", \"know\", \"know\", \"knowledgeably\", \"late\", \"lawmaker\", \"lawmaker\", \"leading\", \"life\", \"life\", \"life\", \"life\", \"like\", \"like\", \"like\", \"like\", \"like\", \"local\", \"local\", \"lost\", \"lost\", \"lovetoendabortion\", \"lovingly\", \"made\", \"made\", \"made\", \"make\", \"make\", \"make\", \"make\", \"maranathasns\", \"marriage\", \"marriage\", \"mean\", \"mean\", \"mean\", \"meat\", \"message\", \"message\", \"ministry\", \"monday\", \"movement\", \"movement\", \"movement\", \"movement\", \"mw\", \"mw\", \"mystery\", \"mystery\", \"nah\", \"name\", \"name\", \"nation\", \"near\", \"near\", \"near\", \"next\", \"next\", \"nov\", \"novena\", \"number\", \"number\", \"number\", \"ohio\", \"one\", \"one\", \"one\", \"one\", \"one\", \"ourlady\", \"override\", \"parenthood\", \"participate\", \"party\", \"party\", \"party\", \"party\", \"party\", \"passed\", \"pay\", \"pay\", \"peace\", \"penalty\", \"penalty\", \"penalty\", \"penalty\", \"people\", \"people\", \"people\", \"people\", \"petition\", \"plan\", \"plan\", \"planned\", \"platform\", \"please\", \"please\", \"please\", \"please\", \"pm\", \"pray\", \"pray\", \"pray\", \"pray\", \"prayer\", \"prayerful\", \"praytoendabortion\", \"praytoendabortion\", \"praytoendabortion\", \"praytoendabortion\", \"print\", \"pro\", \"pro\", \"pro\", \"pro\", \"prochoice\", \"prochoice\", \"prochoice\", \"prochoice\", \"profamily\", \"profamily\", \"prolife\", \"prolife\", \"prolife\", \"prolife\", \"prolife\", \"promised\", \"promote\", \"read\", \"read\", \"read\", \"read\", \"read\", \"recent\", \"reproductive\", \"republican\", \"republican\", \"republican\", \"rerun\", \"return\", \"right\", \"right\", \"right\", \"right\", \"right\", \"rip\", \"roe\", \"roe\", \"rosary\", \"rosaryiftheunborn\", \"rule\", \"rule\", \"sacred\", \"said\", \"said\", \"said\", \"said\", \"sanctity\", \"saudi\", \"say\", \"say\", \"say\", \"say\", \"say\", \"scalia\", \"scotus\", \"sec\", \"senator\", \"senator\", \"senator\", \"send\", \"sense\", \"sense\", \"sign\", \"sign\", \"sin\", \"sin\", \"since\", \"since\", \"situation\", \"slaughter\", \"social\", \"something\", \"still\", \"still\", \"still\", \"successor\", \"sun\", \"support\", \"support\", \"support\", \"support\", \"support\", \"supreme\", \"tcot\", \"tcot\", \"tcot\", \"tell\", \"tell\", \"tell\", \"tell\", \"tell\", \"thats\", \"thats\", \"thats\", \"thats\", \"thats\", \"there\", \"there\", \"therefore\", \"thermometer\", \"thing\", \"thing\", \"thing\", \"thing\", \"thing\", \"think\", \"think\", \"think\", \"think\", \"think\", \"thursday\", \"treating\", \"trump\", \"trump\", \"trump\", \"trump\", \"tuesday\", \"u\", \"u\", \"u\", \"u\", \"u\", \"unborn\", \"unborn\", \"unborn\", \"unborn\", \"unitedhearts\", \"unitedhearts\", \"unitedhearts\", \"update\", \"update\", \"ur\", \"used\", \"used\", \"v\", \"v\", \"value\", \"value\", \"veto\", \"via\", \"via\", \"via\", \"vigil\", \"vote\", \"vote\", \"vote\", \"vote\", \"votetoendabortion\", \"votetrumpence\", \"want\", \"want\", \"want\", \"want\", \"want\", \"washington\", \"wed\", \"wednesday\", \"winning\", \"within\", \"wk\", \"woman\", \"woman\", \"woman\", \"woman\", \"womb\", \"womb\", \"womb\", \"womb\", \"word\", \"worktoendabortion\", \"would\", \"would\", \"would\", \"would\", \"would\", \"youre\", \"youre\", \"youre\", \"youre\", \"zootopia\"]}, \"R\": 30, \"lambda.step\": 0.01, \"plot.opts\": {\"xlab\": \"PC1\", \"ylab\": \"PC2\"}, \"topic.order\": [5, 1, 2, 4, 3]};\n",
       "\n",
       "function LDAvis_load_lib(url, callback){\n",
       "  var s = document.createElement('script');\n",
       "  s.src = url;\n",
       "  s.async = true;\n",
       "  s.onreadystatechange = s.onload = callback;\n",
       "  s.onerror = function(){console.warn(\"failed to load library \" + url);};\n",
       "  document.getElementsByTagName(\"head\")[0].appendChild(s);\n",
       "}\n",
       "\n",
       "if(typeof(LDAvis) !== \"undefined\"){\n",
       "   // already loaded: just create the visualization\n",
       "   !function(LDAvis){\n",
       "       new LDAvis(\"#\" + \"ldavis_el405981406688923538727925282439\", ldavis_el405981406688923538727925282439_data);\n",
       "   }(LDAvis);\n",
       "}else if(typeof define === \"function\" && define.amd){\n",
       "   // require.js is available: use it to load d3/LDAvis\n",
       "   require.config({paths: {d3: \"https://d3js.org/d3.v5\"}});\n",
       "   require([\"d3\"], function(d3){\n",
       "      window.d3 = d3;\n",
       "      LDAvis_load_lib(\"https://cdn.jsdelivr.net/gh/bmabey/pyLDAvis@3.3.1/pyLDAvis/js/ldavis.v3.0.0.js\", function(){\n",
       "        new LDAvis(\"#\" + \"ldavis_el405981406688923538727925282439\", ldavis_el405981406688923538727925282439_data);\n",
       "      });\n",
       "    });\n",
       "}else{\n",
       "    // require.js not available: dynamically load d3 & LDAvis\n",
       "    LDAvis_load_lib(\"https://d3js.org/d3.v5.js\", function(){\n",
       "         LDAvis_load_lib(\"https://cdn.jsdelivr.net/gh/bmabey/pyLDAvis@3.3.1/pyLDAvis/js/ldavis.v3.0.0.js\", function(){\n",
       "                 new LDAvis(\"#\" + \"ldavis_el405981406688923538727925282439\", ldavis_el405981406688923538727925282439_data);\n",
       "            })\n",
       "         });\n",
       "}\n",
       "</script>"
      ],
      "text/plain": [
       "PreparedData(topic_coordinates=              x         y  topics  cluster       Freq\n",
       "topic                                                \n",
       "4      0.049606 -0.122232       1        1  25.656217\n",
       "0      0.105289  0.026258       2        1  23.492399\n",
       "1      0.073140  0.017400       3        1  22.855247\n",
       "3     -0.039885  0.113377       4        1  15.703610\n",
       "2     -0.188150 -0.034803       5        1  12.292526, topic_info=         Term        Freq       Total Category  logprob  loglift\n",
       "10        pro  813.000000  813.000000  Default  30.0000  30.0000\n",
       "8        life  774.000000  774.000000  Default  29.0000  29.0000\n",
       "21    prolife  692.000000  692.000000  Default  28.0000  28.0000\n",
       "184   justice   50.000000   50.000000  Default  27.0000  27.0000\n",
       "185      late   46.000000   46.000000  Default  26.0000  26.0000\n",
       "..        ...         ...         ...      ...      ...      ...\n",
       "31       make   13.139058   53.664565   Topic5  -5.2392   0.6890\n",
       "11      right   16.129080  117.100175   Topic5  -5.0342   0.1138\n",
       "572       say   13.239751   67.737612   Topic5  -5.2316   0.4638\n",
       "115      tcot   11.831029   47.582592   Topic5  -5.3441   0.7044\n",
       "15   abortion   14.230595  201.669136   Topic5  -5.1594  -0.5551\n",
       "\n",
       "[317 rows x 6 columns], token_table=      Topic      Freq      Term\n",
       "term                           \n",
       "15        1  0.178510  abortion\n",
       "15        2  0.322310  abortion\n",
       "15        3  0.074379  abortion\n",
       "15        4  0.352062  abortion\n",
       "15        5  0.069421  abortion\n",
       "...     ...       ...       ...\n",
       "1487      1  0.108484     youre\n",
       "1487      2  0.253129     youre\n",
       "1487      3  0.253129     youre\n",
       "1487      4  0.397775     youre\n",
       "1746      1  0.936882  zootopia\n",
       "\n",
       "[514 rows x 3 columns], R=30, lambda_step=0.01, plot_opts={'xlab': 'PC1', 'ylab': 'PC2'}, topic_order=[5, 1, 2, 4, 3])"
      ]
     },
     "execution_count": 98,
     "metadata": {},
     "output_type": "execute_result"
    }
   ],
   "source": [
    "pyLDAvis.enable_notebook()\n",
    "vis=gensimvis.prepare(tweets_lda_lm, tweets_bow_lm, dictionary=txt_dict_lm)\n",
    "vis"
   ]
  },
  {
   "cell_type": "code",
   "execution_count": 99,
   "metadata": {},
   "outputs": [],
   "source": [
    "##Model\n",
    "#Female Prochoice\n",
    "k = 5\n",
    "tweets_lda_cf = LdaModel(tweets_bow_cf,\n",
    "                      num_topics = k,\n",
    "                      id2word = txt_dict_cf,\n",
    "                      random_state = 10,\n",
    "                      passes=100)"
   ]
  },
  {
   "cell_type": "code",
   "execution_count": 100,
   "metadata": {},
   "outputs": [
    {
     "data": {
      "text/plain": [
       "[(0,\n",
       "  '0.062*\"prochoice\" + 0.017*\"abortion\" + 0.015*\"child\" + 0.013*\"life\" + 0.012*\"amp\" + 0.012*\"prolife\" + 0.011*\"pro\" + 0.010*\"want\" + 0.008*\"people\" + 0.007*\"woman\"'),\n",
       " (1,\n",
       "  '0.067*\"prochoice\" + 0.025*\"abortion\" + 0.017*\"woman\" + 0.006*\"right\" + 0.006*\"amp\" + 0.006*\"u\" + 0.006*\"life\" + 0.006*\"control\" + 0.005*\"prolife\" + 0.004*\"support\"'),\n",
       " (2,\n",
       "  '0.082*\"prochoice\" + 0.029*\"woman\" + 0.018*\"abortion\" + 0.018*\"choice\" + 0.015*\"body\" + 0.013*\"right\" + 0.010*\"pro\" + 0.010*\"prolife\" + 0.008*\"make\" + 0.007*\"amp\"'),\n",
       " (3,\n",
       "  '0.058*\"prochoice\" + 0.017*\"one\" + 0.015*\"abortion\" + 0.010*\"prolife\" + 0.008*\"like\" + 0.007*\"nation\" + 0.007*\"voteprochoice\" + 0.006*\"vote\" + 0.006*\"let\" + 0.005*\"must\"'),\n",
       " (4,\n",
       "  '0.068*\"prochoice\" + 0.017*\"abortion\" + 0.013*\"woman\" + 0.010*\"right\" + 0.008*\"people\" + 0.007*\"need\" + 0.007*\"get\" + 0.006*\"womensrights\" + 0.006*\"amp\" + 0.006*\"v\"')]"
      ]
     },
     "execution_count": 100,
     "metadata": {},
     "output_type": "execute_result"
    }
   ],
   "source": [
    "tweets_lda_cf.show_topics()"
   ]
  },
  {
   "cell_type": "code",
   "execution_count": 101,
   "metadata": {},
   "outputs": [
    {
     "data": {
      "text/plain": [
       "0.30972257339213"
      ]
     },
     "execution_count": 101,
     "metadata": {},
     "output_type": "execute_result"
    }
   ],
   "source": [
    "cm = CoherenceModel(model=tweets_lda_cf, texts=df_cf.tok_tweet.to_list(), coherence='c_v')\n",
    "cm.get_coherence()"
   ]
  },
  {
   "cell_type": "code",
   "execution_count": 102,
   "metadata": {},
   "outputs": [
    {
     "data": {
      "text/html": [
       "\n",
       "<link rel=\"stylesheet\" type=\"text/css\" href=\"https://cdn.jsdelivr.net/gh/bmabey/pyLDAvis@3.3.1/pyLDAvis/js/ldavis.v1.0.0.css\">\n",
       "\n",
       "\n",
       "<div id=\"ldavis_el405981406688923554087428016423\"></div>\n",
       "<script type=\"text/javascript\">\n",
       "\n",
       "var ldavis_el405981406688923554087428016423_data = {\"mdsDat\": {\"x\": [0.07443428648171033, 0.05590491159439277, 0.02902914761254816, -0.045295557255799396, -0.11407278843285189], \"y\": [0.054205219311101276, -0.007031805884277307, -0.010911696795891209, -0.10848549849223348, 0.07222378186130066], \"topics\": [1, 2, 3, 4, 5], \"cluster\": [1, 1, 1, 1, 1], \"Freq\": [42.8503098384193, 16.41158832245813, 16.346623499196824, 15.56889131466774, 8.82258702525801]}, \"tinfo\": {\"Term\": [\"prochoice\", \"body\", \"one\", \"choice\", \"child\", \"abortion\", \"pro\", \"decision\", \"want\", \"prolife\", \"v\", \"nation\", \"voteprochoice\", \"must\", \"like\", \"right\", \"life\", \"people\", \"let\", \"amp\", \"u\", \"need\", \"wade\", \"mean\", \"vote\", \"pledged\", \"consent\", \"murder\", \"state\", \"tell\", \"body\", \"decision\", \"exactly\", \"tell\", \"rape\", \"choice\", \"politician\", \"cannot\", \"allow\", \"government\", \"welcome\", \"doesnt\", \"flip\", \"fun\", \"private\", \"ending\", \"risk\", \"wife\", \"defend\", \"deciding\", \"who\", \"telling\", \"congress\", \"long\", \"god\", \"able\", \"theyre\", \"hve\", \"statement\", \"speaking\", \"vpdebate\", \"win\", \"make\", \"shouldnt\", \"thing\", \"im\", \"man\", \"woman\", \"choose\", \"personal\", \"believe\", \"everyone\", \"say\", \"trump\", \"pro\", \"dont\", \"right\", \"protect\", \"prochoice\", \"fetus\", \"time\", \"prolife\", \"abortion\", \"go\", \"think\", \"men\", \"would\", \"life\", \"amp\", \"want\", \"one\", \"vote\", \"get\", \"baby\", \"know\", \"support\", \"like\", \"save\", \"willing\", \"listen\", \"likely\", \"unborn\", \"child\", \"murder\", \"chooses\", \"faith\", \"among\", \"youll\", \"suffer\", \"biology\", \"wanting\", \"providing\", \"born\", \"gift\", \"askaboutabortion\", \"screen\", \"referral\", \"irrelevant\", \"ruthbaderginsburg\", \"guncontolnow\", \"outright\", \"intellectually\", \"city\", \"whenever\", \"facebook\", \"describes\", \"verse\", \"value\", \"live\", \"change\", \"carry\", \"petition\", \"hope\", \"quality\", \"lot\", \"crazy\", \"center\", \"world\", \"unwanted\", \"r\", \"die\", \"want\", \"another\", \"life\", \"prochoice\", \"amp\", \"help\", \"care\", \"pro\", \"baby\", \"birth\", \"prolife\", \"people\", \"u\", \"abortion\", \"stop\", \"get\", \"womensrights\", \"think\", \"pregnancy\", \"keep\", \"woman\", \"one\", \"vote\", \"support\", \"choice\", \"right\", \"hv\", \"eye\", \"resistance\", \"ballot\", \"three\", \"seriously\", \"rule\", \"house\", \"anyway\", \"passed\", \"ignore\", \"federal\", \"biggest\", \"weird\", \"fetal\", \"killed\", \"foe\", \"surprised\", \"supreme\", \"probirth\", \"court\", \"depression\", \"poster\", \"strong\", \"inhumane\", \"unlike\", \"decrease\", \"tucker\", \"guessing\", \"punish\", \"parenthood\", \"planned\", \"legal\", \"standwithpp\", \"boy\", \"local\", \"yo\", \"million\", \"safe\", \"texas\", \"matter\", \"prochoice\", \"abortion\", \"control\", \"u\", \"yes\", \"took\", \"via\", \"c\", \"big\", \"woman\", \"repealtheth\", \"state\", \"hell\", \"trustwomen\", \"anti\", \"trying\", \"since\", \"support\", \"birth\", \"amp\", \"still\", \"know\", \"right\", \"life\", \"say\", \"prolife\", \"child\", \"judge\", \"year\", \"baby\", \"get\", \"trump\", \"want\", \"like\", \"let\", \"wade\", \"v\", \"overturned\", \"bodily\", \"tweet\", \"joke\", \"rt\", \"protecting\", \"abt\", \"alex\", \"depended\", \"hide\", \"within\", \"level\", \"reality\", \"greater\", \"sick\", \"sarcasm\", \"murdering\", \"ed\", \"autonomy\", \"choosing\", \"hillary\", \"car\", \"egg\", \"dumptrump\", \"wildlife\", \"refusal\", \"skill\", \"counry\", \"battle\", \"roe\", \"banning\", \"shame\", \"dems\", \"guide\", \"gop\", \"prochoice\", \"gt\", \"need\", \"womensrights\", \"mean\", \"people\", \"scotus\", \"mybodymychoice\", \"answer\", \"abortion\", \"right\", \"group\", \"get\", \"like\", \"woman\", \"way\", \"kid\", \"men\", \"help\", \"amp\", \"debatenight\", \"think\", \"vote\", \"life\", \"support\", \"prolife\", \"year\", \"u\", \"nation\", \"pledged\", \"majority\", \"lifeatallcosts\", \"voteprochoice\", \"review\", \"chart\", \"docu\", \"series\", \"aiming\", \"crowdfunding\", \"space\", \"rapist\", \"safesex\", \"antiguns\", \"fcuk\", \"mission\", \"askabout\", \"tennessee\", \"radically\", \"utter\", \"rvw\", \"driven\", \"nearly\", \"mindset\", \"determine\", \"hb\", \"spread\", \"sue\", \"effect\", \"walk\", \"consent\", \"p\", \"one\", \"unconstitutional\", \"good\", \"must\", \"speak\", \"honest\", \"misinformation\", \"name\", \"happen\", \"ready\", \"info\", \"prochoice\", \"center\", \"let\", \"ohio\", \"like\", \"abortion\", \"sex\", \"prolife\", \"vote\", \"pregnancy\", \"roevwade\", \"death\", \"need\", \"fake\", \"hear\", \"change\", \"state\", \"via\", \"amp\", \"feminist\", \"woman\", \"see\", \"people\", \"life\", \"get\", \"time\"], \"Freq\": [1389.0, 122.0, 87.0, 160.0, 60.0, 360.0, 129.0, 58.0, 91.0, 162.0, 19.0, 12.0, 14.0, 24.0, 79.0, 170.0, 133.0, 89.0, 41.0, 146.0, 58.0, 65.0, 13.0, 42.0, 75.0, 9.0, 14.0, 15.0, 48.0, 40.0, 121.95528941792683, 57.09799014209048, 11.479435632830034, 38.4062123126426, 9.739263031821551, 148.59591295308078, 7.132250256510596, 7.130087141079812, 7.125902825314801, 19.947930830456755, 5.392358579584032, 12.34981206010164, 5.391390360205139, 5.389449562280564, 5.388995240230838, 5.384819158447539, 5.369360584312094, 4.522398694916654, 4.5195298788180125, 4.518467695177236, 4.518303499894873, 4.516996718562079, 10.562439369811946, 9.739963404618889, 20.82619831831912, 15.565948163072875, 3.6525569921044285, 3.6525245405294484, 3.6524976590009195, 3.652490878074804, 8.002459582388644, 9.237317569284256, 69.51821727638095, 7.080412498118381, 25.83097320735615, 32.511634611717334, 16.58698611288562, 242.04711834232782, 37.96948967229728, 13.730031791427411, 30.785553743880197, 18.817223025173647, 38.64145232662, 36.71542907134684, 86.08608892725125, 33.255626200644336, 107.17276199173402, 16.35756800833008, 678.9945444509665, 24.005685453044567, 31.891470483285733, 83.3513452997618, 149.80294880012528, 23.301439778190588, 41.717497402160134, 27.994435434075527, 29.39038982010001, 58.367995606449206, 61.51170657499028, 44.28179954563008, 40.766249712629886, 36.45227876547883, 40.92699253489703, 34.72810236917636, 30.218069661734702, 30.76666208372294, 31.158853413565296, 5.751642464566749, 4.959708317864694, 3.360581796771033, 3.358701138400213, 11.064890811395982, 49.28798886879677, 12.964499718468542, 2.560337173214139, 2.5603332775911576, 2.5592510364257044, 2.5591068983753864, 2.558749614096219, 2.558058048264061, 2.555468943028163, 2.5551867886207833, 10.483623051256458, 2.3764659945540254, 4.162226804036875, 1.7600836453761446, 1.7600832743644321, 1.760081790317582, 1.760080491776588, 1.760079749753163, 1.7600758541301815, 1.7600754831184688, 1.7600756686243253, 1.7600754831184688, 1.7600745555891877, 1.7600686194017872, 1.760063610743668, 8.595583773427467, 10.563881788958026, 9.429408110567978, 3.3592624791212726, 3.366389614118994, 6.561747280901724, 3.3118375359552785, 8.003082520655928, 4.161046615779314, 7.205690049639117, 7.856454981746532, 6.561696081285395, 8.500832576211012, 6.100133766147165, 33.34974716776825, 9.644368586691343, 40.414415665474316, 196.22063890629795, 39.72230667216929, 12.873135858187494, 14.4671090265941, 34.294488424463616, 22.036412815216398, 15.179911569177255, 37.06398400713471, 24.066278740394633, 18.126409419662657, 53.19574838551313, 9.936267245689123, 16.849180822618614, 13.05554599272366, 14.766960692661694, 11.36598462467713, 9.45881449890319, 23.311707699214733, 13.189445603822968, 12.31898014995289, 11.109763936003187, 11.659671560129311, 11.459377919025723, 8.126003099279822, 6.532437288081225, 4.140891621270465, 3.3466526501844593, 3.346641194349202, 3.3466264126262892, 3.3451312413536596, 3.343845231460246, 3.339000891318649, 5.739100371635972, 2.549710841063848, 2.549696798427081, 2.549693287767889, 2.549114583315853, 2.5489972533902328, 2.548424461627362, 2.5480722870789645, 2.5480270180525437, 9.660444975171808, 4.142318427074623, 11.201989468923395, 1.7527775314339116, 1.7527754989470112, 1.7527710644301373, 1.7527682928570911, 1.752767738542482, 1.7527653365125087, 1.7527651517409721, 1.7527612715387075, 1.752760162909489, 9.723688576654217, 9.723688576654217, 8.123703063194592, 3.3466969953531978, 3.3507911630569702, 5.738636225536511, 4.903446708379033, 3.8094761549887055, 6.533890331443553, 7.289301411868366, 6.911352712314044, 211.09948777215305, 78.75075814156385, 17.79356103951727, 19.26846509186109, 10.397384075558643, 4.107308655441806, 11.753347733570774, 4.8484775458401375, 6.26984884956911, 54.54539123739826, 8.683257054110971, 13.473243322385166, 6.424119039834676, 8.09696440461763, 9.665818131450612, 7.794901375066887, 5.6324742611198655, 14.270035836104357, 11.488954446691006, 20.39610951867599, 10.45879548248601, 12.808757575941558, 20.475151825607597, 18.14662544763404, 10.727190920844418, 15.13262771119758, 10.853180718833219, 7.953133067073082, 8.531153125338276, 10.37334973318858, 10.396667161997373, 9.272586608576747, 10.087229530885434, 9.45656067103558, 8.621544100036184, 12.784918748122797, 18.154156046316146, 4.8911670992392065, 6.98267564902883, 4.105813371730999, 3.316522255158415, 3.3153826050475312, 3.3127619025380692, 3.3124106453389768, 2.527203861598927, 2.5264105412314377, 2.5260149369310567, 2.52592624272848, 2.525153336106028, 2.5249965374264733, 2.525001464882172, 2.5245808713421765, 2.524285048019694, 2.52355384879012, 2.5187539789979105, 10.199258191822983, 2.4942451663137315, 8.73292903087199, 4.897402794425902, 4.900799219246788, 4.106393403658959, 1.7373080758198889, 1.7373077238587675, 1.7373077238587675, 1.7373050841503577, 3.312459215973721, 12.749408686669042, 3.317703436681616, 3.316857322145926, 6.185989829296992, 5.1857729882027765, 10.91929603031716, 204.08780414650792, 4.9026178023607265, 21.070269379826403, 18.529569041088195, 14.890620482091387, 23.56073360379419, 8.541562137824078, 9.557086823968529, 6.632498266656517, 52.517019934901725, 31.26861176881167, 6.231447015961924, 20.387076239358084, 17.39161960634298, 37.819106613808295, 9.656784035120191, 7.275196872270732, 11.485691576592622, 9.428647763726387, 18.22903366311349, 8.125195650895703, 12.608879057986794, 11.225016499531376, 11.062186614201325, 9.190016011694366, 10.213234567951204, 7.479446950203998, 7.5029410589753684, 12.211429802147066, 8.662564176886757, 7.7951295710986965, 2.9806916344039216, 11.31251328913404, 2.271968969990037, 2.271958000267416, 2.2715800434607507, 2.2715800434607507, 2.2715800434607507, 2.2704553477178555, 1.5618916445572226, 1.5618906473097116, 1.561887954741432, 1.561884863274148, 1.561884863274148, 1.5618787800643308, 1.561878979513833, 1.5618539486013072, 1.5617858365963067, 1.5616668649682455, 1.5614384952882285, 1.561447071616823, 1.5607609653292613, 1.5602630396470236, 1.5602495768056253, 1.5599126068716616, 1.5592821469952132, 1.5588522335932251, 1.5577190612464864, 2.9774892731966283, 7.867615902581574, 4.40480954632773, 28.46507554021169, 3.69629869728518, 6.409714635626936, 9.087827214281612, 2.2747955683351893, 2.2735456183049134, 2.274166903504261, 3.65603582627644, 2.8241201850873363, 2.2280739240967664, 2.2357371728702238, 98.70529927390236, 4.539561619002843, 9.554884495963085, 4.057726724804505, 12.865375256378247, 26.28371548182276, 5.5288722365031076, 16.29486157879487, 10.680380430261257, 6.753889882307117, 5.125855397684429, 4.414121843585361, 7.402196500212152, 3.691998964916792, 3.7046943246307085, 3.919040710148036, 5.696145348309637, 4.883549782049961, 7.085639823899357, 4.415574234860368, 8.026499769426644, 4.5807898256022215, 5.464235439628741, 5.413333533273747, 4.998404772385786, 4.494243500911388], \"Total\": [1389.0, 122.0, 87.0, 160.0, 60.0, 360.0, 129.0, 58.0, 91.0, 162.0, 19.0, 12.0, 14.0, 24.0, 79.0, 170.0, 133.0, 89.0, 41.0, 146.0, 58.0, 65.0, 13.0, 42.0, 75.0, 9.0, 14.0, 15.0, 48.0, 40.0, 122.58088941481586, 58.16182503426953, 12.100928803984814, 40.65843451083581, 10.361040997447393, 160.72550222519487, 7.751702258930942, 7.75131026336801, 7.750943692786092, 22.177876224205317, 6.011816192975539, 13.77057869853015, 6.011666960509732, 6.011338736842379, 6.011232011662028, 6.01060492433212, 6.009529487921754, 5.141861275309946, 5.14140520249468, 5.141266434001675, 5.1412700390350095, 5.140916453366065, 12.02584837590972, 11.160833946623004, 24.04171491268952, 18.005775094257015, 4.271996973569812, 4.2719713812737075, 4.271951032675312, 4.271946337009229, 9.417759458165209, 10.978607466882249, 86.74532937043539, 8.45227839963275, 32.19920615323564, 40.932024748092324, 20.50128878657953, 365.74982366217574, 50.034744892523904, 16.96302674188362, 40.63511761155857, 23.834243519862497, 52.631819439218916, 50.07295286140993, 129.24882065051844, 45.01875078123245, 170.51864264536002, 20.808056464524086, 1389.1077745498278, 33.05683863214403, 47.54831823509838, 162.05605316484016, 360.55019074392675, 33.80381944039869, 74.35610754484982, 44.33703477368058, 48.34620600767009, 133.40455686703262, 146.9447962528484, 91.46420988977388, 87.60855901346517, 75.01824446162797, 93.55832153125688, 72.97029212309067, 56.682357521284786, 65.48278134482842, 79.8162502849511, 6.393682930201521, 5.594295548324362, 3.99395538276438, 3.9937362321227527, 13.49198693900747, 60.74942661617225, 15.987004433352508, 3.193705936165239, 3.1937028554425475, 3.193503732047672, 3.193569816589929, 3.1935473877407783, 3.1933963651600785, 3.1931517726931498, 3.193146751351468, 13.5782934178409, 3.172658465918203, 5.5904554442494, 2.393448926574285, 2.3934487081063214, 2.3934474766911578, 2.3934466476373073, 2.393445916535701, 2.3934428596403863, 2.3934424561049763, 2.3934427256191952, 2.393442552446457, 2.3934417814430304, 2.3934374738492257, 2.3934332486108727, 12.157083633862381, 15.145054380558243, 13.922942939056458, 4.790160142476931, 4.861951171203275, 10.353927315792971, 4.86671661226381, 13.15674011395951, 6.379746007007171, 12.237802106342254, 13.721799961573474, 11.157376359796817, 15.321659897147947, 10.347684161185455, 91.46420988977388, 19.02498346953333, 133.40455686703262, 1389.1077745498278, 146.9447962528484, 31.378844985429588, 37.17351908959707, 129.24882065051844, 72.97029212309067, 42.983566824495085, 162.05605316484016, 89.31231498331414, 58.11797202407102, 360.55019074392675, 26.658640182899504, 93.55832153125688, 55.360521450143665, 74.35610754484982, 40.39603035177403, 25.955275712667813, 365.74982366217574, 87.60855901346517, 75.01824446162797, 65.48278134482842, 160.72550222519487, 170.51864264536002, 8.762009706228024, 7.16815866722029, 4.777303234265105, 3.9806832579110063, 3.9806741134084627, 3.9806627896852675, 3.9805269214094503, 3.9803644400929836, 3.9798523826019716, 7.160553901496451, 3.183742721966223, 3.1837317008270074, 3.1837292908489947, 3.1836661683571625, 3.1836610618479795, 3.1835827039047397, 3.1835958568455656, 3.183623418934841, 12.659036719193024, 5.487269216016276, 14.957198119354523, 2.386806687592321, 2.386805174619602, 2.3868016596910904, 2.38679945467292, 2.386799045035755, 2.3867972757046476, 2.386797076946747, 2.3867939441097783, 2.386793159889698, 13.515080291564175, 13.515080291564175, 11.601760358308038, 4.7699103238854725, 4.7801371341984895, 8.660595456581762, 7.316574153336705, 5.563819267872157, 10.086946539988695, 12.084405323230413, 12.162563810860208, 1389.1077745498278, 360.55019074392675, 50.4007535957772, 58.11797202407102, 24.446999385243732, 6.359313702786729, 29.922296751707584, 8.189853564138197, 12.180347045057628, 365.74982366217574, 20.594533369565173, 48.36960456903242, 12.945443464221812, 20.648738703102207, 29.100301208223247, 19.48501826570853, 10.568830101960334, 65.48278134482842, 42.983566824495085, 146.9447962528484, 36.28906306281065, 56.682357521284786, 170.51864264536002, 133.40455686703262, 52.631819439218916, 162.05605316484016, 60.74942661617225, 21.09315537018253, 28.211248653287583, 72.97029212309067, 93.55832153125688, 50.07295286140993, 91.46420988977388, 79.8162502849511, 41.805883091997835, 13.431540869416793, 19.655694068956542, 5.532440773953059, 7.930102648307447, 4.742282169395811, 3.9524425995815458, 3.9523454749527316, 3.95195041543604, 3.9520672287249545, 3.162643233515125, 3.1625119508045008, 3.162517685648572, 3.16250599607489, 3.1624166760881263, 3.162304916154417, 3.162462955869028, 3.162412573545421, 3.162330326508351, 3.1623134598608535, 3.161971065074654, 12.823441077597218, 3.159986939446238, 11.075817105941871, 6.2421467062026945, 6.3286578364638295, 5.452107960400549, 2.372745593575975, 2.3727453262136824, 2.3727453262136824, 2.3727433070626756, 4.661852200323526, 20.163962948033486, 4.748792444630158, 4.752082005198019, 9.749950277361556, 8.110272661618577, 23.82806335589023, 1389.1077745498278, 7.998285003577415, 65.23817253189583, 55.360521450143665, 42.711311964052385, 89.31231498331414, 19.820378631374044, 23.849918015719414, 13.880139299147396, 360.55019074392675, 170.51864264536002, 12.916655521073082, 93.55832153125688, 79.8162502849511, 365.74982366217574, 28.916843965959117, 17.030061814299728, 44.33703477368058, 31.378844985429588, 146.9447962528484, 23.370573551090494, 74.35610754484982, 75.01824446162797, 133.40455686703262, 65.48278134482842, 162.05605316484016, 28.211248653287583, 58.11797202407102, 12.86428447862007, 9.3139672644324, 9.410612442456454, 3.633442361056657, 14.544823349562495, 2.923369519300381, 2.923360819560294, 2.9233690232350553, 2.9233690232350553, 2.9233690383710513, 2.923371745472895, 2.213292283506155, 2.213291552107006, 2.2132892747135378, 2.213286938383085, 2.213286938383085, 2.2132822729234767, 2.2132826095629046, 2.213262811249828, 2.21329257092015, 2.213281971524312, 2.213265431920348, 2.2132822041009677, 2.213284728111401, 2.2132889751362934, 2.21327865708088, 2.213326913913617, 2.213339392893446, 2.213319203245398, 2.213242696061937, 4.501155940047311, 14.159727437456059, 7.4534024111376675, 87.60855901346517, 6.739093645193007, 14.022291492593245, 24.607188629562753, 3.712391551722778, 3.712414157202838, 3.719449448958288, 7.610219159022689, 5.236694762243666, 3.728390014796005, 3.8000537120640265, 1389.1077745498278, 12.237802106342254, 41.805883091997835, 10.991141310901746, 79.8162502849511, 360.55019074392675, 20.507881694680872, 162.05605316484016, 75.01824446162797, 40.39603035177403, 21.967571825472508, 16.269568202555288, 65.23817253189583, 11.154597669363866, 11.808828742067714, 13.922942939056458, 48.36960456903242, 29.922296751707584, 146.9447962528484, 23.521178425642177, 365.74982366217574, 32.17248937129867, 89.31231498331414, 133.40455686703262, 93.55832153125688, 47.54831823509838], \"Category\": [\"Default\", \"Default\", \"Default\", \"Default\", \"Default\", \"Default\", \"Default\", \"Default\", \"Default\", \"Default\", \"Default\", \"Default\", \"Default\", \"Default\", \"Default\", \"Default\", \"Default\", \"Default\", \"Default\", \"Default\", \"Default\", \"Default\", \"Default\", \"Default\", \"Default\", \"Default\", \"Default\", \"Default\", \"Default\", \"Default\", \"Topic1\", \"Topic1\", \"Topic1\", \"Topic1\", \"Topic1\", \"Topic1\", \"Topic1\", \"Topic1\", \"Topic1\", \"Topic1\", \"Topic1\", \"Topic1\", \"Topic1\", \"Topic1\", \"Topic1\", \"Topic1\", \"Topic1\", \"Topic1\", \"Topic1\", \"Topic1\", \"Topic1\", \"Topic1\", \"Topic1\", \"Topic1\", \"Topic1\", \"Topic1\", \"Topic1\", \"Topic1\", \"Topic1\", \"Topic1\", \"Topic1\", \"Topic1\", \"Topic1\", \"Topic1\", \"Topic1\", \"Topic1\", \"Topic1\", \"Topic1\", \"Topic1\", \"Topic1\", \"Topic1\", \"Topic1\", \"Topic1\", \"Topic1\", \"Topic1\", \"Topic1\", \"Topic1\", \"Topic1\", \"Topic1\", \"Topic1\", \"Topic1\", \"Topic1\", \"Topic1\", \"Topic1\", \"Topic1\", \"Topic1\", \"Topic1\", \"Topic1\", \"Topic1\", \"Topic1\", \"Topic1\", \"Topic1\", \"Topic1\", \"Topic1\", \"Topic1\", \"Topic1\", \"Topic1\", \"Topic2\", \"Topic2\", \"Topic2\", \"Topic2\", \"Topic2\", \"Topic2\", \"Topic2\", \"Topic2\", \"Topic2\", \"Topic2\", \"Topic2\", \"Topic2\", \"Topic2\", \"Topic2\", \"Topic2\", \"Topic2\", \"Topic2\", \"Topic2\", \"Topic2\", \"Topic2\", \"Topic2\", \"Topic2\", \"Topic2\", \"Topic2\", \"Topic2\", \"Topic2\", \"Topic2\", \"Topic2\", \"Topic2\", \"Topic2\", \"Topic2\", \"Topic2\", \"Topic2\", \"Topic2\", \"Topic2\", \"Topic2\", \"Topic2\", \"Topic2\", \"Topic2\", \"Topic2\", \"Topic2\", \"Topic2\", \"Topic2\", \"Topic2\", \"Topic2\", \"Topic2\", \"Topic2\", \"Topic2\", \"Topic2\", \"Topic2\", \"Topic2\", \"Topic2\", \"Topic2\", \"Topic2\", \"Topic2\", \"Topic2\", \"Topic2\", \"Topic2\", \"Topic2\", \"Topic2\", \"Topic2\", \"Topic2\", \"Topic2\", \"Topic2\", \"Topic2\", \"Topic2\", \"Topic2\", \"Topic2\", \"Topic2\", \"Topic2\", \"Topic3\", \"Topic3\", \"Topic3\", \"Topic3\", \"Topic3\", \"Topic3\", \"Topic3\", \"Topic3\", \"Topic3\", \"Topic3\", \"Topic3\", \"Topic3\", \"Topic3\", \"Topic3\", \"Topic3\", \"Topic3\", \"Topic3\", \"Topic3\", \"Topic3\", \"Topic3\", \"Topic3\", \"Topic3\", \"Topic3\", \"Topic3\", \"Topic3\", \"Topic3\", \"Topic3\", \"Topic3\", \"Topic3\", \"Topic3\", \"Topic3\", \"Topic3\", \"Topic3\", \"Topic3\", \"Topic3\", \"Topic3\", \"Topic3\", \"Topic3\", \"Topic3\", \"Topic3\", \"Topic3\", \"Topic3\", \"Topic3\", \"Topic3\", \"Topic3\", \"Topic3\", \"Topic3\", \"Topic3\", \"Topic3\", \"Topic3\", \"Topic3\", \"Topic3\", \"Topic3\", \"Topic3\", \"Topic3\", \"Topic3\", \"Topic3\", \"Topic3\", \"Topic3\", \"Topic3\", \"Topic3\", \"Topic3\", \"Topic3\", \"Topic3\", \"Topic3\", \"Topic3\", \"Topic3\", \"Topic3\", \"Topic3\", \"Topic3\", \"Topic3\", \"Topic3\", \"Topic3\", \"Topic3\", \"Topic3\", \"Topic3\", \"Topic4\", \"Topic4\", \"Topic4\", \"Topic4\", \"Topic4\", \"Topic4\", \"Topic4\", \"Topic4\", \"Topic4\", \"Topic4\", \"Topic4\", \"Topic4\", \"Topic4\", \"Topic4\", \"Topic4\", \"Topic4\", \"Topic4\", \"Topic4\", \"Topic4\", \"Topic4\", \"Topic4\", \"Topic4\", \"Topic4\", \"Topic4\", \"Topic4\", \"Topic4\", \"Topic4\", \"Topic4\", \"Topic4\", \"Topic4\", \"Topic4\", \"Topic4\", \"Topic4\", \"Topic4\", \"Topic4\", \"Topic4\", \"Topic4\", \"Topic4\", \"Topic4\", \"Topic4\", \"Topic4\", \"Topic4\", \"Topic4\", \"Topic4\", \"Topic4\", \"Topic4\", \"Topic4\", \"Topic4\", \"Topic4\", \"Topic4\", \"Topic4\", \"Topic4\", \"Topic4\", \"Topic4\", \"Topic4\", \"Topic4\", \"Topic4\", \"Topic4\", \"Topic4\", \"Topic4\", \"Topic4\", \"Topic4\", \"Topic4\", \"Topic4\", \"Topic4\", \"Topic5\", \"Topic5\", \"Topic5\", \"Topic5\", \"Topic5\", \"Topic5\", \"Topic5\", \"Topic5\", \"Topic5\", \"Topic5\", \"Topic5\", \"Topic5\", \"Topic5\", \"Topic5\", \"Topic5\", \"Topic5\", \"Topic5\", \"Topic5\", \"Topic5\", \"Topic5\", \"Topic5\", \"Topic5\", \"Topic5\", \"Topic5\", \"Topic5\", \"Topic5\", \"Topic5\", \"Topic5\", \"Topic5\", \"Topic5\", \"Topic5\", \"Topic5\", \"Topic5\", \"Topic5\", \"Topic5\", \"Topic5\", \"Topic5\", \"Topic5\", \"Topic5\", \"Topic5\", \"Topic5\", \"Topic5\", \"Topic5\", \"Topic5\", \"Topic5\", \"Topic5\", \"Topic5\", \"Topic5\", \"Topic5\", \"Topic5\", \"Topic5\", \"Topic5\", \"Topic5\", \"Topic5\", \"Topic5\", \"Topic5\", \"Topic5\", \"Topic5\", \"Topic5\", \"Topic5\", \"Topic5\", \"Topic5\", \"Topic5\", \"Topic5\", \"Topic5\", \"Topic5\", \"Topic5\", \"Topic5\", \"Topic5\", \"Topic5\"], \"logprob\": [30.0, 29.0, 28.0, 27.0, 26.0, 25.0, 24.0, 23.0, 22.0, 21.0, 20.0, 19.0, 18.0, 17.0, 16.0, 15.0, 14.0, 13.0, 12.0, 11.0, 10.0, 9.0, 8.0, 7.0, 6.0, 5.0, 4.0, 3.0, 2.0, 1.0, -4.2229, -4.9818, -6.586, -5.3783, -6.7504, -4.0253, -7.0619, -7.0622, -7.0628, -6.0334, -7.3416, -6.5129, -7.3417, -7.3421, -7.3422, -7.343, -7.3458, -7.5175, -7.5181, -7.5184, -7.5184, -7.5187, -6.6692, -6.7503, -5.9903, -6.2815, -7.7311, -7.7311, -7.7311, -7.7311, -6.9468, -6.8033, -4.785, -7.0692, -5.775, -5.545, -6.2179, -3.5374, -5.3898, -6.407, -5.5995, -6.0918, -5.3722, -5.4234, -4.5712, -5.5223, -4.3521, -6.2319, -2.5059, -5.8483, -5.5642, -4.6035, -4.0172, -5.878, -5.2956, -5.6945, -5.6459, -4.9598, -4.9073, -5.236, -5.3187, -5.4305, -5.3148, -5.479, -5.6181, -5.6001, -5.5875, -6.3173, -6.4655, -6.8547, -6.8553, -5.663, -4.1691, -5.5046, -7.1267, -7.1267, -7.1271, -7.1272, -7.1273, -7.1276, -7.1286, -7.1287, -5.717, -7.2012, -6.6408, -7.5015, -7.5015, -7.5015, -7.5015, -7.5015, -7.5015, -7.5015, -7.5015, -7.5015, -7.5015, -7.5015, -7.5015, -5.9156, -5.7094, -5.823, -6.8551, -6.853, -6.1856, -6.8693, -5.987, -6.6411, -6.092, -6.0055, -6.1856, -5.9267, -6.2585, -4.5598, -5.8005, -4.3676, -2.7876, -4.3849, -5.5117, -5.3949, -4.5318, -4.9741, -5.3469, -4.4542, -4.886, -5.1695, -4.0928, -5.7706, -5.2425, -5.4976, -5.3744, -5.6362, -5.8199, -4.9179, -5.4874, -5.5557, -5.659, -5.6107, -5.628, -5.9678, -6.1861, -6.6419, -6.8549, -6.8549, -6.8549, -6.8554, -6.8557, -6.8572, -6.3156, -7.1269, -7.1269, -7.1269, -7.1271, -7.1272, -7.1274, -7.1275, -7.1275, -5.7948, -6.6416, -5.6468, -7.5017, -7.5017, -7.5017, -7.5017, -7.5017, -7.5017, -7.5017, -7.5017, -7.5017, -5.7883, -5.7883, -5.9681, -6.8549, -6.8537, -6.3156, -6.4729, -6.7254, -6.1859, -6.0765, -6.1297, -2.7105, -3.6966, -5.184, -5.1044, -5.7213, -6.6501, -5.5987, -6.4842, -6.2271, -4.0638, -5.9015, -5.4622, -6.2028, -5.9714, -5.7943, -6.0094, -6.3343, -5.4047, -5.6215, -5.0475, -5.7154, -5.5127, -5.0436, -5.1644, -5.6901, -5.346, -5.6784, -5.9893, -5.9191, -5.7236, -5.7214, -5.8358, -5.7516, -5.8161, -5.9086, -5.4658, -5.1152, -6.4267, -6.0707, -6.6017, -6.8152, -6.8155, -6.8163, -6.8164, -7.087, -7.0873, -7.0875, -7.0875, -7.0878, -7.0879, -7.0879, -7.088, -7.0882, -7.0884, -7.0903, -5.6918, -7.1001, -5.847, -6.4254, -6.4247, -6.6016, -7.4618, -7.4618, -7.4618, -7.4618, -6.8164, -5.4686, -6.8148, -6.8151, -6.1918, -6.3682, -5.6236, -2.6956, -6.4243, -4.9662, -5.0947, -5.3134, -4.8545, -5.8692, -5.7568, -6.1221, -4.053, -4.5715, -6.1845, -4.9992, -5.1581, -4.3813, -5.7465, -6.0296, -5.573, -5.7704, -5.1111, -5.9191, -5.4797, -5.596, -5.6106, -5.796, -5.6904, -6.002, -5.9988, -4.9438, -5.2871, -5.3927, -6.354, -5.0202, -6.6255, -6.6255, -6.6257, -6.6257, -6.6257, -6.6262, -7.0003, -7.0003, -7.0003, -7.0003, -7.0003, -7.0003, -7.0003, -7.0003, -7.0003, -7.0004, -7.0005, -7.0005, -7.001, -7.0013, -7.0013, -7.0015, -7.0019, -7.0022, -7.0029, -6.3551, -5.3834, -5.9635, -4.0975, -6.1388, -5.5883, -5.2392, -6.6243, -6.6248, -6.6245, -6.1498, -6.408, -6.645, -6.6416, -2.854, -5.9333, -5.1891, -6.0455, -4.8916, -4.1772, -5.7362, -4.6553, -5.0777, -5.536, -5.8119, -5.9613, -5.4444, -6.14, -6.1366, -6.0803, -5.7064, -5.8603, -5.4881, -5.961, -5.3634, -5.9243, -5.7479, -5.7573, -5.837, -5.9434], \"loglift\": [30.0, 29.0, 28.0, 27.0, 26.0, 25.0, 24.0, 23.0, 22.0, 21.0, 20.0, 19.0, 18.0, 17.0, 16.0, 15.0, 14.0, 13.0, 12.0, 11.0, 10.0, 9.0, 8.0, 7.0, 6.0, 5.0, 4.0, 3.0, 2.0, 1.0, 0.8423, 0.829, 0.7947, 0.7905, 0.7856, 0.769, 0.7642, 0.7639, 0.7634, 0.7415, 0.7387, 0.7386, 0.7386, 0.7383, 0.7382, 0.7375, 0.7348, 0.7191, 0.7185, 0.7183, 0.7183, 0.7181, 0.7177, 0.7113, 0.7039, 0.7019, 0.6908, 0.6908, 0.6908, 0.6908, 0.6846, 0.6748, 0.6261, 0.6704, 0.6271, 0.6171, 0.6356, 0.4346, 0.5715, 0.636, 0.5699, 0.6111, 0.5385, 0.5372, 0.4411, 0.5446, 0.3831, 0.6068, 0.1317, 0.5275, 0.448, 0.1826, -0.0309, 0.4754, 0.2695, 0.3876, 0.3497, 0.0208, -0.0234, 0.1221, 0.0824, 0.1257, 0.0207, 0.105, 0.2184, 0.0921, -0.0932, 1.7014, 1.6868, 1.6345, 1.634, 1.6089, 1.5981, 1.5976, 1.5861, 1.5861, 1.5858, 1.5857, 1.5856, 1.5853, 1.5844, 1.5843, 1.5485, 1.5182, 1.5122, 1.4998, 1.4998, 1.4998, 1.4998, 1.4998, 1.4998, 1.4998, 1.4998, 1.4998, 1.4998, 1.4998, 1.4998, 1.4605, 1.4469, 1.4175, 1.4523, 1.4396, 1.3511, 1.4223, 1.3101, 1.3798, 1.2775, 1.2495, 1.2763, 1.2181, 1.2787, 0.7983, 1.1278, 0.613, -0.15, 0.499, 0.9162, 0.8635, 0.4804, 0.6098, 0.7663, 0.3319, 0.4959, 0.6421, -0.1065, 0.8203, 0.0929, 0.3625, 0.1907, 0.5391, 0.7978, -0.9458, -0.0863, 0.0006, 0.0332, -0.8164, -0.8929, 1.7358, 1.7183, 1.6682, 1.6377, 1.6377, 1.6377, 1.6372, 1.6369, 1.6356, 1.5899, 1.5891, 1.5891, 1.5891, 1.5889, 1.5888, 1.5886, 1.5885, 1.5884, 1.5408, 1.53, 1.522, 1.5024, 1.5024, 1.5024, 1.5024, 1.5024, 1.5024, 1.5024, 1.5024, 1.5024, 1.4819, 1.4819, 1.4548, 1.4568, 1.4559, 1.3996, 1.4109, 1.4324, 1.3769, 1.3056, 1.246, -0.0729, 0.2898, 0.77, 0.7071, 0.9562, 1.374, 0.8767, 1.2869, 1.1471, -0.0918, 0.9475, 0.533, 1.1105, 0.875, 0.709, 0.895, 1.1818, 0.2875, 0.4917, -0.1636, 0.5671, 0.3238, -0.3085, -0.1838, 0.2206, -0.5599, 0.0888, 0.8358, 0.6152, -0.1397, -0.386, 0.1247, -0.3935, -0.3219, 0.2324, 1.8106, 1.7804, 1.7367, 1.7327, 1.7158, 1.6845, 1.6842, 1.6835, 1.6833, 1.6356, 1.6353, 1.6352, 1.6351, 1.6349, 1.6348, 1.6348, 1.6346, 1.6345, 1.6343, 1.6325, 1.6309, 1.6233, 1.6222, 1.6173, 1.6042, 1.5764, 1.5482, 1.5482, 1.5482, 1.5482, 1.5182, 1.4015, 1.5013, 1.5003, 1.4049, 1.4127, 1.0796, -0.058, 1.3704, 0.7297, 0.7654, 0.8062, 0.5273, 1.0181, 0.9454, 1.1214, -0.0666, 0.1637, 1.131, 0.3362, 0.3362, -0.4092, 0.7631, 1.0094, 0.5092, 0.6575, -0.2271, 0.8034, 0.0854, -0.0397, -0.63, -0.1038, -0.9044, 0.5323, -0.1873, 2.3758, 2.3554, 2.2395, 2.2298, 2.1765, 2.1758, 2.1758, 2.1756, 2.1756, 2.1756, 2.1751, 2.0793, 2.0793, 2.0793, 2.0793, 2.0793, 2.0793, 2.0793, 2.0793, 2.0792, 2.0791, 2.079, 2.079, 2.0786, 2.0782, 2.0782, 2.078, 2.0776, 2.0773, 2.0766, 2.0146, 1.8402, 1.9019, 1.3037, 1.8273, 1.645, 1.4318, 1.9381, 1.9375, 1.9359, 1.6947, 1.8104, 1.913, 1.8974, -0.2164, 1.4362, 0.9519, 1.4314, 0.6027, -0.1908, 1.117, 0.1308, 0.4785, 0.6392, 0.9726, 1.1234, 0.2516, 1.3222, 1.2686, 1.1602, 0.2888, 0.6151, -0.6041, 0.7551, -1.3913, 0.4786, -0.3661, -0.7767, -0.5016, 0.0689]}, \"token.table\": {\"Topic\": [1, 4, 1, 2, 3, 4, 5, 4, 5, 4, 1, 2, 1, 2, 3, 4, 5, 1, 2, 3, 1, 2, 4, 1, 2, 3, 5, 5, 3, 5, 2, 3, 1, 4, 1, 2, 3, 4, 5, 3, 3, 4, 4, 5, 1, 2, 3, 4, 5, 1, 2, 3, 4, 3, 2, 1, 2, 3, 4, 4, 1, 2, 3, 4, 2, 3, 1, 3, 1, 4, 5, 1, 2, 3, 5, 2, 3, 2, 5, 2, 5, 5, 2, 3, 1, 2, 1, 2, 3, 4, 5, 2, 4, 2, 1, 2, 3, 4, 5, 1, 2, 3, 4, 4, 2, 3, 5, 2, 3, 4, 5, 1, 3, 5, 1, 3, 4, 1, 1, 4, 3, 1, 1, 4, 4, 3, 2, 5, 2, 4, 5, 1, 2, 1, 2, 3, 4, 5, 4, 5, 4, 5, 3, 4, 1, 1, 4, 1, 3, 2, 2, 1, 3, 5, 5, 3, 1, 2, 3, 4, 5, 3, 1, 2, 3, 4, 1, 3, 1, 1, 2, 3, 4, 5, 2, 1, 2, 3, 4, 1, 3, 1, 3, 5, 1, 2, 4, 5, 1, 5, 4, 1, 2, 3, 4, 1, 3, 4, 3, 1, 4, 2, 3, 4, 5, 5, 1, 2, 4, 5, 1, 3, 5, 1, 2, 3, 4, 5, 4, 3, 4, 4, 5, 2, 4, 3, 3, 1, 3, 1, 3, 4, 1, 5, 3, 2, 2, 4, 1, 2, 3, 5, 1, 2, 3, 4, 1, 3, 4, 3, 1, 2, 3, 4, 3, 5, 1, 2, 3, 4, 5, 4, 1, 2, 3, 4, 5, 5, 1, 2, 3, 4, 5, 2, 2, 2, 4, 3, 4, 5, 1, 2, 1, 2, 4, 5, 1, 2, 3, 4, 5, 1, 2, 3, 1, 3, 5, 1, 3, 4, 5, 1, 3, 4, 5, 3, 4, 5, 3, 5, 5, 2, 3, 4, 1, 2, 3, 5, 1, 2, 3, 4, 5, 1, 3, 5, 5, 5, 1, 2, 3, 4, 5, 1, 3, 4, 5, 1, 2, 4, 5, 2, 4, 2, 5, 3, 4, 3, 4, 1, 2, 3, 4, 5, 1, 4, 5, 1, 2, 3, 4, 5, 1, 3, 1, 2, 3, 4, 5, 1, 1, 2, 3, 4, 3, 5, 1, 2, 3, 4, 5, 1, 2, 3, 4, 5, 1, 5, 4, 2, 3, 1, 2, 1, 2, 3, 4, 5, 1, 5, 2, 5, 4, 2, 4, 1, 2, 3, 4, 3, 5, 1, 2, 3, 4, 1, 1, 2, 4, 1, 4, 5, 4, 3, 2, 5, 3, 4, 5, 5, 4, 2, 1, 2, 3, 4, 1, 2, 3, 4, 5, 2, 1, 2, 3, 4, 5, 5, 3, 1, 2, 3, 4, 5, 2, 4, 1, 5, 4, 1, 3, 5, 4, 5, 4, 5, 1, 5, 3, 4, 1, 2, 3, 5, 1, 1, 2, 3, 4, 1, 2, 3, 4, 3, 5, 2, 1, 2, 3, 4, 2, 3, 5, 3, 1, 3, 1, 5, 1, 2, 3, 4, 1, 1, 2, 4, 5, 1, 2, 3, 4, 3, 1, 2, 3, 4, 5, 1, 3, 5, 1, 2, 3, 4, 1, 2, 3, 1, 2, 3, 4, 3, 4, 1, 2, 3, 4, 5, 2, 4, 5, 2, 3, 5, 3, 2, 3, 4, 5, 4, 5, 1, 2, 3, 2, 1, 2, 3, 4, 5, 1, 2, 3, 4, 5, 4, 5, 1, 3, 4, 1, 5, 1, 2, 3, 4, 2, 1, 3, 4, 3, 1, 2, 1, 1, 4, 2, 1, 5, 4, 1, 2, 3, 4, 5, 1, 2, 3, 4, 5, 1, 2, 3, 4, 1, 2, 3, 4, 5, 1, 2, 3, 4, 5, 1, 2, 3, 4, 5, 1, 3, 2], \"Freq\": [0.8886037905195894, 0.11107547381494867, 0.4160308435574629, 0.1469975647236369, 0.21910957760693048, 0.1469975647236369, 0.07211201288329357, 0.7590963985113893, 0.6841421571306072, 0.9485736387235955, 0.9031158369160899, 0.9394070750236457, 0.42192715619079424, 0.27221106851018984, 0.13610553425509492, 0.12249498082958543, 0.04763693698928322, 0.4204997083341085, 0.5256246354176356, 0.05256246354176356, 0.36022693232676206, 0.14409077293070482, 0.5043177052574669, 0.37800296021993024, 0.17181952737269557, 0.34363905474539114, 0.13745562189815647, 0.9036333994096122, 0.7537968023926159, 0.903635166769315, 0.7155052106022209, 0.17887630265055524, 0.15596437710421082, 0.779821885521054, 0.4796472507052582, 0.3014925575861623, 0.1370420716300738, 0.0685210358150369, 0.013704207163007378, 0.7536394647923703, 0.2105798498586268, 0.6317395495758804, 0.6435210450884316, 0.2145070150294772, 0.7628869269270213, 0.09843702282929308, 0.07382776712196981, 0.02460925570732327, 0.04921851141464654, 0.24629840093245112, 0.0820994669774837, 0.49259680186490223, 0.1641989339549674, 0.9422911704908177, 0.9394386593314783, 0.20938234457711782, 0.34897057429519635, 0.255911754483144, 0.16285293467109163, 0.8827124074483498, 0.9952611747427438, 0.7364695762768478, 0.14729391525536958, 0.07364695762768479, 0.20919901917577, 0.62759705752731, 0.3663069158081686, 0.6105115263469476, 0.9030731272726065, 0.8010064862832528, 0.16020129725665055, 0.4573147879549938, 0.3766121783158773, 0.10760347951882207, 0.053801739759411035, 0.6262838633300344, 0.2087612877766781, 0.5719981365258588, 0.4085700975184706, 0.6464150603356505, 0.28729558237140024, 0.6841440805452206, 0.806591975091261, 0.18107166787763004, 0.9270464110370854, 0.07466145592244984, 0.7594722443698896, 0.07994444677577785, 0.07994444677577785, 0.05995833508183339, 0.019986111693944462, 0.9393475980453521, 0.6329140082934911, 0.8356164025118212, 0.9146963820062203, 0.08315421654602002, 0.14124565665787425, 0.2824913133157485, 0.564982626631497, 0.4365014098091433, 0.11904583903885728, 0.3571375171165718, 0.09920486586571439, 0.8429061812320057, 0.1337148832315066, 0.7354318577732862, 0.1337148832315066, 0.6269842084005561, 0.15674605210013903, 0.15674605210013903, 0.6841415236010201, 0.6146444623176542, 0.06146444623176543, 0.24585778492706173, 0.5990439203126338, 0.04278885145090241, 0.34231081160721927, 0.9725230279708104, 0.9800242679182612, 0.017193408209092303, 0.8379429708413528, 0.972496779202295, 0.30769387685655286, 0.6153877537131057, 0.9486130160668136, 0.8379396665833418, 0.8356182360525662, 0.9036367804846699, 0.5798398855761583, 0.38655992371743886, 0.6841421606728124, 0.8714230725307762, 0.07261858937756469, 0.7330278923189744, 0.13327779860344988, 0.08885186573563325, 0.044425932867816625, 0.9036353323106383, 0.7336611873889108, 0.1834152968472277, 0.9487752854971714, 0.9036514628778111, 0.15801138659105565, 0.7900569329552782, 0.8318630259258946, 0.7971723534739488, 0.2097821982826181, 0.9090211320289496, 0.9765408837852219, 0.8356167321497077, 0.9393485041626685, 0.44824566050755144, 0.17929826420302056, 0.3585965284060411, 0.9036333994096122, 0.9422904572080364, 0.5101785200914046, 0.04251487667428372, 0.12754463002285116, 0.12754463002285116, 0.17005950669713488, 0.9423113647212897, 0.726022239061382, 0.09075277988267275, 0.09075277988267275, 0.09075277988267275, 0.8317160669153315, 0.9423306647259305, 0.8317614792452017, 0.4382293240083654, 0.18170484166200518, 0.1068852009776501, 0.2137704019553002, 0.05344260048882505, 0.6303861639961229, 0.6803964871647868, 0.08874736789105915, 0.1774947357821183, 0.05916491192737277, 0.8734817826541955, 0.12478311180774222, 0.4278901207530365, 0.14263004025101217, 0.4278901207530365, 0.46164053854090625, 0.041967321685536935, 0.46164053854090625, 0.041967321685536935, 0.9017996041555888, 0.09017996041555888, 0.9486277125973847, 0.23225826492822407, 0.07741942164274136, 0.23225826492822407, 0.46451652985644815, 0.12502680256489077, 0.25005360512978153, 0.6251340128244538, 0.8379441404800263, 0.24660083371362973, 0.6165020842840744, 0.8356152884769676, 0.19096014669595696, 0.19096014669595696, 0.5728804400878709, 0.9036170786282939, 0.3387296138651261, 0.2540472103988446, 0.08468240346628153, 0.3387296138651261, 0.3862362856721621, 0.46348354280659454, 0.15449451426886485, 0.19121162690296703, 0.4142918582897619, 0.06373720896765567, 0.28681744035445056, 0.031868604483827834, 0.9486112958716173, 0.18057358485335182, 0.8125811318400832, 0.26936649782454813, 0.5387329956490963, 0.6760719663661164, 0.28974512844262135, 0.7536998295387038, 0.9130325425585424, 0.9363358606600455, 0.9422871952879576, 0.80621469871309, 0.12215374222925607, 0.07329224533755364, 0.26315417511739403, 0.5263083502347881, 0.8379422058624838, 0.8356164966066266, 0.8356147437857786, 0.7590243057084793, 0.33186120697215654, 0.23704371926582612, 0.3792699508253218, 0.09481748770633044, 0.23116687591461882, 0.34675031387192823, 0.15411125060974587, 0.23116687591461882, 0.2935984645576343, 0.2935984645576343, 0.411037850380688, 0.9423345579558617, 0.5292652125263968, 0.12349521625615927, 0.22934825876143863, 0.10585304250527937, 0.6895505296548543, 0.25858144862057036, 0.4305614107083752, 0.09568031349075005, 0.2152807053541876, 0.023920078372687514, 0.23920078372687514, 0.94864159510788, 0.43476775727991007, 0.29983983260683456, 0.13492792467307554, 0.08245595396687949, 0.03747997907585432, 0.8256632971955435, 0.38839208669070835, 0.11275899291020565, 0.11275899291020565, 0.21298920883038844, 0.16287410087029705, 0.7511762984921612, 0.7511350810142444, 0.7263097063633351, 0.26411262049575823, 0.6927930106053161, 0.23093100353510534, 0.11546550176755267, 0.8959903935337875, 0.08959903935337875, 0.3800333484352192, 0.6080533574963507, 0.10626300956656651, 0.8501040765325321, 0.8069598733215192, 0.023055996380614834, 0.05763999095153709, 0.08069598733215193, 0.034583994570922254, 0.8292161618214203, 0.04877742128361296, 0.14633226385083886, 0.32887802787339265, 0.5755365487784371, 0.08221950696834816, 0.5150860272921636, 0.04682600248110578, 0.35119501860829333, 0.09365200496221156, 0.6315262205270752, 0.09021803150386788, 0.24809958663563667, 0.02255450787596697, 0.7189306135621065, 0.17973265339052663, 0.9036325678515797, 0.26885699448881384, 0.5377139889776277, 0.9036353042118949, 0.8131604675657097, 0.18765241559208687, 0.9486725582643551, 0.48766237300198356, 0.08127706216699726, 0.04063853108349863, 0.36574677975148767, 0.1257865959129381, 0.2515731918258762, 0.1257865959129381, 0.41928865304312696, 0.08385773060862539, 0.131402260447966, 0.3942067813438979, 0.525609041791864, 0.9328151923213082, 0.9036343018128548, 0.32189742883635825, 0.13795604092986782, 0.10729914294545276, 0.32189742883635825, 0.10729914294545276, 0.3639294488946779, 0.18196472444733894, 0.09098236222366947, 0.3639294488946779, 0.46799080434251206, 0.14838732820616238, 0.05707204931006245, 0.3196034761363497, 0.8356163557213557, 0.903760239701108, 0.4025007418782435, 0.536667655837658, 0.7399142131802049, 0.22197426395406145, 0.837924004558654, 0.13965400075977566, 0.3247032618672795, 0.2687199408556796, 0.07837664941623988, 0.2687199408556796, 0.05598332101159991, 0.8253244077858125, 0.11790348682654464, 0.05895174341327232, 0.20567874188512508, 0.6170362256553753, 0.7399142131802049, 0.22197426395406145, 0.9662907056124882, 0.9030274597989253, 0.8379401977451932, 0.39607852208917216, 0.2723039839363059, 0.09901963052229304, 0.04950981526114652, 0.17328435341401283, 0.8317762465830302, 0.6653832473453601, 0.26305849313653773, 0.046422087024094894, 0.023211043512047447, 0.7289600423330378, 0.18224001058325945, 0.4888029657886304, 0.1410977633204294, 0.15189606153372756, 0.14685685570085508, 0.07126876820776791, 0.5121684650407601, 0.22831606272901353, 0.0925605659712217, 0.06170704398081447, 0.09873127036930315, 0.768932938416358, 0.1922332346040895, 0.7591188361782606, 0.9395120968775642, 0.8379444158003314, 0.2054773432831624, 0.6164320298494872, 0.13053415970761043, 0.5874037186842469, 0.26106831941522085, 0.06526707985380521, 0.9036310997820428, 0.9651539842824344, 0.903631515737745, 0.2682122835946695, 0.536424567189339, 0.9486751213251785, 0.8356143138669493, 0.8429054639384783, 0.38845259838819596, 0.1456697243955735, 0.43700917318672045, 0.048556574798524495, 0.837292464775961, 0.6841420445810212, 0.6274973711967415, 0.06450907554359026, 0.11728922826107319, 0.18179830380466344, 0.8320118921205469, 0.19837370314103384, 0.14878027735577537, 0.64471453520836, 0.5917813813598571, 0.13656493415996704, 0.22760822359994506, 0.7590429579124479, 0.753669064229753, 0.8356150332301334, 0.903642180081714, 0.6939662039695756, 0.0991380291385108, 0.1982760582770216, 0.9036324455414245, 0.9486674984116583, 0.9384262662851327, 0.740996614130708, 0.037999826365677336, 0.20899904501122535, 0.018999913182838668, 0.15135936884935408, 0.15135936884935408, 0.15135936884935408, 0.45407810654806224, 0.1009062458995694, 0.8356142375941885, 0.34190702102813303, 0.062164912914206005, 0.24865965165682402, 0.18649473874261802, 0.155412282285515, 0.6841421606728124, 0.7536433399416874, 0.29257044141990635, 0.14628522070995317, 0.2438087011832553, 0.09752348047330212, 0.29257044141990635, 0.21043407897973135, 0.6313022369391941, 0.8281790623820613, 0.11831129462600876, 0.9486428257640848, 0.37847140709150673, 0.5677071106372601, 0.09461785177287668, 0.8429054639384783, 0.9036312171258867, 0.269368138049969, 0.538736276099938, 0.9363413499244427, 0.9036119839648484, 0.6289426417468286, 0.20964754724894288, 0.49617937160820774, 0.10337070241837662, 0.2687638262877792, 0.12404484290205194, 0.9363403207117282, 0.4133476792728808, 0.13778255975762693, 0.27556511951525386, 0.13778255975762693, 0.15004516256481254, 0.3751129064120314, 0.3000903251296251, 0.15004516256481254, 0.8379414317395976, 0.9036202266114136, 0.939394233358253, 0.4734068920615306, 0.16798309073151085, 0.21379666093101382, 0.13744071059850888, 0.15798990431615512, 0.7899495215807756, 0.07899495215807756, 0.94232250653682, 0.9346154237658285, 0.049190285461359395, 0.9725892348875269, 0.9036432500623824, 0.16550255858724858, 0.08275127929362429, 0.57925895505537, 0.16550255858724858, 0.9363302513431973, 0.8074733232945652, 0.031056666280560204, 0.0931699988416806, 0.06211333256112041, 0.5648493632438547, 0.20173191544423383, 0.0672439718147446, 0.174834326718336, 0.753641196071497, 0.6729996178156897, 0.04206247611348061, 0.16824990445392243, 0.021031238056740304, 0.08412495222696122, 0.15724967295791492, 0.6289986918316597, 0.15724967295791492, 0.738921870703476, 0.039941722740728436, 0.17973775233327796, 0.039941722740728436, 0.4358619734312327, 0.19371643263610341, 0.38743286527220683, 0.2566074063579117, 0.153964443814747, 0.4105718501726587, 0.20528592508632934, 0.8379430406201319, 0.8434757479877287, 0.1892701967550429, 0.3097148674173429, 0.3269212489405286, 0.13765105218548573, 0.03441276304637143, 0.8152987435970056, 0.07411806759972779, 0.07411806759972779, 0.296775813677348, 0.148387906838674, 0.593551627354696, 0.8379423496752905, 0.6273876379417459, 0.17925361084049882, 0.2688804162607482, 0.9036354272666748, 0.9157651689557235, 0.050875842719762414, 0.16451313984788205, 0.7403091293154692, 0.08225656992394102, 0.8356197112080657, 0.10025968343585785, 0.2005193668717157, 0.4010387337434314, 0.16709947239309642, 0.16709947239309642, 0.47988326384275887, 0.1599610879475863, 0.05332036264919543, 0.14663099728528742, 0.14663099728528742, 0.20625895054890708, 0.756282818679326, 0.8494589435562606, 0.10618236794453258, 0.9678710824311008, 0.22216515342267595, 0.6664954602680279, 0.48106248392705353, 0.3607968629452902, 0.10933238271069398, 0.0437329530842776, 0.9395106194622742, 0.4495649668858603, 0.17290960264840782, 0.34581920529681565, 0.9423098532808991, 0.8316954210679648, 0.8356164629711711, 0.9725223460424333, 0.9724105206822418, 0.8429053689594219, 0.8937675810670445, 0.8197760988494344, 0.09108623320549271, 0.9486148022243808, 0.661654454339595, 0.06288451425541605, 0.15037601234990797, 0.10389615398720914, 0.021872874523622975, 0.30707803240816267, 0.2348243777238891, 0.10838048202641035, 0.34320485975029946, 0.018063413671068392, 0.14575347298465213, 0.5830138919386085, 0.14575347298465213, 0.14575347298465213, 0.5998402438321462, 0.1654731707123162, 0.12410487803423716, 0.020684146339039526, 0.06205243901711858, 0.24812797498008862, 0.14178741427433636, 0.3190216821172568, 0.24812797498008862, 0.07089370713716818, 0.3272385242022307, 0.08180963105055768, 0.40904815525278837, 0.12271444657583651, 0.04090481552527884, 0.2733519756767455, 0.6833799391918638, 0.9393876358724415], \"Term\": [\"able\", \"able\", \"abortion\", \"abortion\", \"abortion\", \"abortion\", \"abortion\", \"abt\", \"aiming\", \"alex\", \"allow\", \"among\", \"amp\", \"amp\", \"amp\", \"amp\", \"amp\", \"another\", \"another\", \"another\", \"answer\", \"answer\", \"answer\", \"anti\", \"anti\", \"anti\", \"anti\", \"antiguns\", \"anyway\", \"askabout\", \"askaboutabortion\", \"askaboutabortion\", \"autonomy\", \"autonomy\", \"baby\", \"baby\", \"baby\", \"baby\", \"baby\", \"ballot\", \"banning\", \"banning\", \"battle\", \"battle\", \"believe\", \"believe\", \"believe\", \"believe\", \"believe\", \"big\", \"big\", \"big\", \"big\", \"biggest\", \"biology\", \"birth\", \"birth\", \"birth\", \"birth\", \"bodily\", \"body\", \"born\", \"born\", \"born\", \"boy\", \"boy\", \"c\", \"c\", \"cannot\", \"car\", \"car\", \"care\", \"care\", \"care\", \"care\", \"carry\", \"carry\", \"center\", \"center\", \"change\", \"change\", \"chart\", \"child\", \"child\", \"choice\", \"choice\", \"choose\", \"choose\", \"choose\", \"choose\", \"choose\", \"chooses\", \"choosing\", \"city\", \"congress\", \"congress\", \"consent\", \"consent\", \"consent\", \"control\", \"control\", \"control\", \"control\", \"counry\", \"court\", \"court\", \"court\", \"crazy\", \"crazy\", \"crazy\", \"crowdfunding\", \"death\", \"death\", \"death\", \"debatenight\", \"debatenight\", \"debatenight\", \"deciding\", \"decision\", \"decision\", \"decrease\", \"defend\", \"dems\", \"dems\", \"depended\", \"depression\", \"describes\", \"determine\", \"die\", \"die\", \"docu\", \"doesnt\", \"doesnt\", \"dont\", \"dont\", \"dont\", \"dont\", \"driven\", \"dumptrump\", \"dumptrump\", \"ed\", \"effect\", \"egg\", \"egg\", \"ending\", \"everyone\", \"everyone\", \"exactly\", \"eye\", \"facebook\", \"faith\", \"fake\", \"fake\", \"fake\", \"fcuk\", \"federal\", \"feminist\", \"feminist\", \"feminist\", \"feminist\", \"feminist\", \"fetal\", \"fetus\", \"fetus\", \"fetus\", \"fetus\", \"flip\", \"foe\", \"fun\", \"get\", \"get\", \"get\", \"get\", \"get\", \"gift\", \"go\", \"go\", \"go\", \"go\", \"god\", \"god\", \"good\", \"good\", \"good\", \"gop\", \"gop\", \"gop\", \"gop\", \"government\", \"government\", \"greater\", \"group\", \"group\", \"group\", \"group\", \"gt\", \"gt\", \"gt\", \"guessing\", \"guide\", \"guide\", \"guncontolnow\", \"happen\", \"happen\", \"happen\", \"hb\", \"hear\", \"hear\", \"hear\", \"hear\", \"hell\", \"hell\", \"hell\", \"help\", \"help\", \"help\", \"help\", \"help\", \"hide\", \"hillary\", \"hillary\", \"honest\", \"honest\", \"hope\", \"hope\", \"house\", \"hv\", \"hve\", \"ignore\", \"im\", \"im\", \"im\", \"info\", \"info\", \"inhumane\", \"intellectually\", \"irrelevant\", \"joke\", \"judge\", \"judge\", \"judge\", \"judge\", \"keep\", \"keep\", \"keep\", \"keep\", \"kid\", \"kid\", \"kid\", \"killed\", \"know\", \"know\", \"know\", \"know\", \"legal\", \"legal\", \"let\", \"let\", \"let\", \"let\", \"let\", \"level\", \"life\", \"life\", \"life\", \"life\", \"life\", \"lifeatallcosts\", \"like\", \"like\", \"like\", \"like\", \"like\", \"likely\", \"listen\", \"live\", \"live\", \"local\", \"local\", \"local\", \"long\", \"long\", \"lot\", \"lot\", \"majority\", \"majority\", \"make\", \"make\", \"make\", \"make\", \"make\", \"man\", \"man\", \"man\", \"matter\", \"matter\", \"matter\", \"mean\", \"mean\", \"mean\", \"mean\", \"men\", \"men\", \"men\", \"men\", \"million\", \"million\", \"mindset\", \"misinformation\", \"misinformation\", \"mission\", \"murder\", \"murder\", \"murdering\", \"must\", \"must\", \"must\", \"must\", \"mybodymychoice\", \"mybodymychoice\", \"mybodymychoice\", \"mybodymychoice\", \"mybodymychoice\", \"name\", \"name\", \"name\", \"nation\", \"nearly\", \"need\", \"need\", \"need\", \"need\", \"need\", \"ohio\", \"ohio\", \"ohio\", \"ohio\", \"one\", \"one\", \"one\", \"one\", \"outright\", \"overturned\", \"p\", \"p\", \"parenthood\", \"parenthood\", \"passed\", \"passed\", \"people\", \"people\", \"people\", \"people\", \"people\", \"personal\", \"personal\", \"personal\", \"petition\", \"petition\", \"planned\", \"planned\", \"pledged\", \"politician\", \"poster\", \"pregnancy\", \"pregnancy\", \"pregnancy\", \"pregnancy\", \"pregnancy\", \"private\", \"pro\", \"pro\", \"pro\", \"pro\", \"probirth\", \"probirth\", \"prochoice\", \"prochoice\", \"prochoice\", \"prochoice\", \"prochoice\", \"prolife\", \"prolife\", \"prolife\", \"prolife\", \"prolife\", \"protect\", \"protect\", \"protecting\", \"providing\", \"punish\", \"quality\", \"quality\", \"r\", \"r\", \"r\", \"r\", \"radically\", \"rape\", \"rapist\", \"ready\", \"ready\", \"reality\", \"referral\", \"refusal\", \"repealtheth\", \"repealtheth\", \"repealtheth\", \"repealtheth\", \"resistance\", \"review\", \"right\", \"right\", \"right\", \"right\", \"risk\", \"roe\", \"roe\", \"roe\", \"roevwade\", \"roevwade\", \"roevwade\", \"rt\", \"rule\", \"ruthbaderginsburg\", \"rvw\", \"safe\", \"safe\", \"safe\", \"safesex\", \"sarcasm\", \"save\", \"say\", \"say\", \"say\", \"say\", \"scotus\", \"scotus\", \"scotus\", \"scotus\", \"scotus\", \"screen\", \"see\", \"see\", \"see\", \"see\", \"see\", \"series\", \"seriously\", \"sex\", \"sex\", \"sex\", \"sex\", \"sex\", \"shame\", \"shame\", \"shouldnt\", \"shouldnt\", \"sick\", \"since\", \"since\", \"since\", \"skill\", \"space\", \"speak\", \"speak\", \"speaking\", \"spread\", \"standwithpp\", \"standwithpp\", \"state\", \"state\", \"state\", \"state\", \"statement\", \"still\", \"still\", \"still\", \"still\", \"stop\", \"stop\", \"stop\", \"stop\", \"strong\", \"sue\", \"suffer\", \"support\", \"support\", \"support\", \"support\", \"supreme\", \"supreme\", \"supreme\", \"surprised\", \"tell\", \"tell\", \"telling\", \"tennessee\", \"texas\", \"texas\", \"texas\", \"texas\", \"theyre\", \"thing\", \"thing\", \"thing\", \"thing\", \"think\", \"think\", \"think\", \"think\", \"three\", \"time\", \"time\", \"time\", \"time\", \"time\", \"took\", \"took\", \"took\", \"trump\", \"trump\", \"trump\", \"trump\", \"trustwomen\", \"trustwomen\", \"trustwomen\", \"trying\", \"trying\", \"trying\", \"trying\", \"tucker\", \"tweet\", \"u\", \"u\", \"u\", \"u\", \"u\", \"unborn\", \"unborn\", \"unborn\", \"unconstitutional\", \"unconstitutional\", \"unconstitutional\", \"unlike\", \"unwanted\", \"unwanted\", \"unwanted\", \"utter\", \"v\", \"v\", \"value\", \"value\", \"value\", \"verse\", \"via\", \"via\", \"via\", \"via\", \"via\", \"vote\", \"vote\", \"vote\", \"vote\", \"vote\", \"voteprochoice\", \"voteprochoice\", \"vpdebate\", \"vpdebate\", \"wade\", \"walk\", \"walk\", \"want\", \"want\", \"want\", \"want\", \"wanting\", \"way\", \"way\", \"way\", \"weird\", \"welcome\", \"whenever\", \"who\", \"wife\", \"wildlife\", \"willing\", \"win\", \"win\", \"within\", \"woman\", \"woman\", \"woman\", \"woman\", \"woman\", \"womensrights\", \"womensrights\", \"womensrights\", \"womensrights\", \"womensrights\", \"world\", \"world\", \"world\", \"world\", \"would\", \"would\", \"would\", \"would\", \"would\", \"year\", \"year\", \"year\", \"year\", \"year\", \"yes\", \"yes\", \"yes\", \"yes\", \"yes\", \"yo\", \"yo\", \"youll\"]}, \"R\": 30, \"lambda.step\": 0.01, \"plot.opts\": {\"xlab\": \"PC1\", \"ylab\": \"PC2\"}, \"topic.order\": [3, 1, 2, 5, 4]};\n",
       "\n",
       "function LDAvis_load_lib(url, callback){\n",
       "  var s = document.createElement('script');\n",
       "  s.src = url;\n",
       "  s.async = true;\n",
       "  s.onreadystatechange = s.onload = callback;\n",
       "  s.onerror = function(){console.warn(\"failed to load library \" + url);};\n",
       "  document.getElementsByTagName(\"head\")[0].appendChild(s);\n",
       "}\n",
       "\n",
       "if(typeof(LDAvis) !== \"undefined\"){\n",
       "   // already loaded: just create the visualization\n",
       "   !function(LDAvis){\n",
       "       new LDAvis(\"#\" + \"ldavis_el405981406688923554087428016423\", ldavis_el405981406688923554087428016423_data);\n",
       "   }(LDAvis);\n",
       "}else if(typeof define === \"function\" && define.amd){\n",
       "   // require.js is available: use it to load d3/LDAvis\n",
       "   require.config({paths: {d3: \"https://d3js.org/d3.v5\"}});\n",
       "   require([\"d3\"], function(d3){\n",
       "      window.d3 = d3;\n",
       "      LDAvis_load_lib(\"https://cdn.jsdelivr.net/gh/bmabey/pyLDAvis@3.3.1/pyLDAvis/js/ldavis.v3.0.0.js\", function(){\n",
       "        new LDAvis(\"#\" + \"ldavis_el405981406688923554087428016423\", ldavis_el405981406688923554087428016423_data);\n",
       "      });\n",
       "    });\n",
       "}else{\n",
       "    // require.js not available: dynamically load d3 & LDAvis\n",
       "    LDAvis_load_lib(\"https://d3js.org/d3.v5.js\", function(){\n",
       "         LDAvis_load_lib(\"https://cdn.jsdelivr.net/gh/bmabey/pyLDAvis@3.3.1/pyLDAvis/js/ldavis.v3.0.0.js\", function(){\n",
       "                 new LDAvis(\"#\" + \"ldavis_el405981406688923554087428016423\", ldavis_el405981406688923554087428016423_data);\n",
       "            })\n",
       "         });\n",
       "}\n",
       "</script>"
      ],
      "text/plain": [
       "PreparedData(topic_coordinates=              x         y  topics  cluster       Freq\n",
       "topic                                                \n",
       "2      0.074434  0.054205       1        1  42.850310\n",
       "0      0.055905 -0.007032       2        1  16.411588\n",
       "1      0.029029 -0.010912       3        1  16.346623\n",
       "4     -0.045296 -0.108485       4        1  15.568891\n",
       "3     -0.114073  0.072224       5        1   8.822587, topic_info=          Term         Freq        Total Category  logprob  loglift\n",
       "5    prochoice  1389.000000  1389.000000  Default  30.0000  30.0000\n",
       "22        body   122.000000   122.000000  Default  29.0000  29.0000\n",
       "203        one    87.000000    87.000000  Default  28.0000  28.0000\n",
       "14      choice   160.000000   160.000000  Default  27.0000  27.0000\n",
       "13       child    60.000000    60.000000  Default  26.0000  26.0000\n",
       "..         ...          ...          ...      ...      ...      ...\n",
       "308        see     4.580790    32.172489   Topic5  -5.9243   0.4786\n",
       "179     people     5.464235    89.312315   Topic5  -5.7479  -0.3661\n",
       "33        life     5.413334   133.404557   Topic5  -5.7573  -0.7767\n",
       "16         get     4.998405    93.558322   Topic5  -5.8370  -0.5016\n",
       "276       time     4.494244    47.548318   Topic5  -5.9434   0.0689\n",
       "\n",
       "[378 rows x 6 columns], token_table=      Topic      Freq      Term\n",
       "term                           \n",
       "356       1  0.888604      able\n",
       "356       4  0.111075      able\n",
       "9         1  0.416031  abortion\n",
       "9         2  0.146998  abortion\n",
       "9         3  0.219110  abortion\n",
       "...     ...       ...       ...\n",
       "616       4  0.122714       yes\n",
       "616       5  0.040905       yes\n",
       "566       1  0.273352        yo\n",
       "566       3  0.683380        yo\n",
       "3416      2  0.939388     youll\n",
       "\n",
       "[622 rows x 3 columns], R=30, lambda_step=0.01, plot_opts={'xlab': 'PC1', 'ylab': 'PC2'}, topic_order=[3, 1, 2, 5, 4])"
      ]
     },
     "execution_count": 102,
     "metadata": {},
     "output_type": "execute_result"
    }
   ],
   "source": [
    "pyLDAvis.enable_notebook()\n",
    "vis=gensimvis.prepare(tweets_lda_cf, tweets_bow_cf, dictionary=txt_dict_cf)\n",
    "vis"
   ]
  },
  {
   "cell_type": "code",
   "execution_count": 103,
   "metadata": {},
   "outputs": [],
   "source": [
    "##Model\n",
    "#Male Prochoice\n",
    "k = 5\n",
    "tweets_lda_cm = LdaModel(tweets_bow_cm,\n",
    "                      num_topics = k,\n",
    "                      id2word = txt_dict_cm,\n",
    "                      random_state = 10,\n",
    "                      passes=100)"
   ]
  },
  {
   "cell_type": "code",
   "execution_count": 104,
   "metadata": {},
   "outputs": [
    {
     "data": {
      "text/plain": [
       "[(0,\n",
       "  '0.066*\"prochoice\" + 0.020*\"prolife\" + 0.018*\"life\" + 0.013*\"woman\" + 0.010*\"abortion\" + 0.009*\"dont\" + 0.009*\"choice\" + 0.008*\"right\" + 0.008*\"like\" + 0.008*\"people\"'),\n",
       " (1,\n",
       "  '0.056*\"prochoice\" + 0.015*\"choice\" + 0.015*\"abortion\" + 0.011*\"pro\" + 0.009*\"prolife\" + 0.007*\"life\" + 0.007*\"people\" + 0.006*\"amp\" + 0.005*\"th\" + 0.005*\"woman\"'),\n",
       " (2,\n",
       "  '0.047*\"prochoice\" + 0.013*\"woman\" + 0.011*\"help\" + 0.011*\"abortion\" + 0.009*\"choice\" + 0.009*\"adoption\" + 0.008*\"many\" + 0.008*\"group\" + 0.007*\"amp\" + 0.007*\"would\"'),\n",
       " (3,\n",
       "  '0.070*\"prochoice\" + 0.021*\"abortion\" + 0.019*\"woman\" + 0.015*\"prolife\" + 0.011*\"right\" + 0.010*\"u\" + 0.007*\"say\" + 0.007*\"one\" + 0.006*\"body\" + 0.006*\"like\"'),\n",
       " (4,\n",
       "  '0.055*\"prochoice\" + 0.019*\"advocate\" + 0.014*\"human\" + 0.013*\"abortion\" + 0.012*\"woman\" + 0.008*\"science\" + 0.008*\"make\" + 0.008*\"unborn\" + 0.008*\"dont\" + 0.008*\"prominent\"')]"
      ]
     },
     "execution_count": 104,
     "metadata": {},
     "output_type": "execute_result"
    }
   ],
   "source": [
    "tweets_lda_cm.show_topics()"
   ]
  },
  {
   "cell_type": "code",
   "execution_count": 105,
   "metadata": {},
   "outputs": [
    {
     "data": {
      "text/plain": [
       "0.3131768363188442"
      ]
     },
     "execution_count": 105,
     "metadata": {},
     "output_type": "execute_result"
    }
   ],
   "source": [
    "cm = CoherenceModel(model=tweets_lda_cm, texts=df_cm.tok_tweet.to_list(), coherence='c_v')\n",
    "cm.get_coherence()"
   ]
  },
  {
   "cell_type": "code",
   "execution_count": 106,
   "metadata": {},
   "outputs": [
    {
     "data": {
      "text/html": [
       "\n",
       "<link rel=\"stylesheet\" type=\"text/css\" href=\"https://cdn.jsdelivr.net/gh/bmabey/pyLDAvis@3.3.1/pyLDAvis/js/ldavis.v1.0.0.css\">\n",
       "\n",
       "\n",
       "<div id=\"ldavis_el405981406688923543845468881015\"></div>\n",
       "<script type=\"text/javascript\">\n",
       "\n",
       "var ldavis_el405981406688923543845468881015_data = {\"mdsDat\": {\"x\": [0.014839703294360622, -0.025372778588046728, 0.1380248849353398, -0.08659204654359899, -0.04089976309805479], \"y\": [0.04305192925678336, -0.09954869979675937, -0.010554231682694986, -0.02263865289465133, 0.08968965511732231], \"topics\": [1, 2, 3, 4, 5], \"cluster\": [1, 1, 1, 1, 1], \"Freq\": [25.550314025024274, 23.99213550423935, 23.04982556675882, 14.708044174504398, 12.699680729473158]}, \"tinfo\": {\"Term\": [\"advocate\", \"life\", \"help\", \"pro\", \"prominent\", \"human\", \"adoption\", \"choice\", \"unborn\", \"group\", \"science\", \"many\", \"u\", \"home\", \"exist\", \"parent\", \"organization\", \"concede\", \"maternity\", \"prochoice\", \"th\", \"dont\", \"govt\", \"pill\", \"much\", \"value\", \"prolife\", \"changed\", \"lot\", \"love\", \"x\", \"enough\", \"live\", \"innocent\", \"second\", \"racism\", \"bias\", \"violent\", \"personally\", \"dislike\", \"adopted\", \"key\", \"vegan\", \"notmypresident\", \"abortionismurder\", \"solution\", \"far\", \"thinking\", \"gorsuch\", \"self\", \"state\", \"might\", \"dna\", \"mind\", \"corporation\", \"laziest\", \"reduces\", \"meant\", \"certificate\", \"conceive\", \"life\", \"went\", \"complex\", \"end\", \"create\", \"especially\", \"business\", \"v\", \"killing\", \"prolife\", \"dont\", \"prochoice\", \"every\", \"plannedparenthood\", \"like\", \"child\", \"movement\", \"tcot\", \"people\", \"stand\", \"pro\", \"right\", \"woman\", \"choice\", \"care\", \"side\", \"baby\", \"want\", \"get\", \"abortion\", \"birth\", \"believe\", \"human\", \"amp\", \"kill\", \"argument\", \"one\", \"body\", \"think\", \"come\", \"thing\", \"petition\", \"marchforlife\", \"auto\", \"selection\", \"court\", \"area\", \"typical\", \"education\", \"happy\", \"stupidity\", \"language\", \"rep\", \"hrc\", \"askaboutabortion\", \"goal\", \"voteprochoice\", \"south\", \"vulgar\", \"check\", \"supreme\", \"carrying\", \"specie\", \"talked\", \"search\", \"throw\", \"board\", \"prevent\", \"wish\", \"debate\", \"lol\", \"stance\", \"u\", \"sign\", \"ur\", \"send\", \"ppl\", \"decide\", \"body\", \"via\", \"evidence\", \"prochoice\", \"abortion\", \"need\", \"vote\", \"say\", \"right\", \"woman\", \"party\", \"roe\", \"prolife\", \"one\", \"let\", \"choose\", \"always\", \"hate\", \"like\", \"would\", \"issue\", \"think\", \"way\", \"trump\", \"agree\", \"also\", \"choice\", \"want\", \"amp\", \"people\", \"know\", \"argument\", \"prominent\", \"concede\", \"pill\", \"cannot\", \"new\", \"standing\", \"reguritated\", \"rotation\", \"equal\", \"conclusive\", \"overwhelmingly\", \"acceptable\", \"agrees\", \"proof\", \"advocate\", \"contingent\", \"scientifically\", \"using\", \"seem\", \"fertilization\", \"standard\", \"escaping\", \"research\", \"simple\", \"seen\", \"admit\", \"changed\", \"unborn\", \"science\", \"advocating\", \"govt\", \"lot\", \"sense\", \"bernie\", \"value\", \"human\", \"scientific\", \"rule\", \"wk\", \"make\", \"since\", \"even\", \"prochoice\", \"thing\", \"isnt\", \"dont\", \"disagree\", \"mother\", \"point\", \"question\", \"abortion\", \"woman\", \"know\", \"work\", \"ive\", \"prolife\", \"argument\", \"say\", \"trump\", \"one\", \"want\", \"people\", \"fetus\", \"right\", \"exist\", \"maternity\", \"place\", \"charity\", \"home\", \"adoption\", \"resource\", \"parent\", \"organization\", \"foster\", \"agency\", \"list\", \"perfectly\", \"extensive\", \"remind\", \"passed\", \"group\", \"center\", \"palin\", \"highly\", \"surprise\", \"propaganda\", \"military\", \"bother\", \"provider\", \"durrr\", \"hurrr\", \"podcast\", \"encouraging\", \"equally\", \"voting\", \"help\", \"many\", \"specifically\", \"free\", \"crowd\", \"population\", \"parenthood\", \"shooting\", \"doctor\", \"saying\", \"beat\", \"view\", \"stage\", \"men\", \"would\", \"prochoice\", \"birth\", \"amp\", \"baby\", \"woman\", \"choice\", \"see\", \"tell\", \"love\", \"abortion\", \"child\", \"choose\", \"pro\", \"think\", \"support\", \"prolife\", \"say\", \"trump\", \"im\", \"th\", \"fighting\", \"creating\", \"confused\", \"college\", \"trickery\", \"semantics\", \"trumppence\", \"womensrighttoprivacy\", \"nc\", \"goose\", \"commitment\", \"devil\", \"blacklivesmatter\", \"amendment\", \"escort\", \"charter\", \"near\", \"include\", \"song\", \"city\", \"reminds\", \"miscarriage\", \"rant\", \"requirement\", \"bit\", \"contraceptive\", \"towards\", \"clearly\", \"outcome\", \"feminism\", \"watch\", \"much\", \"private\", \"pro\", \"choice\", \"told\", \"share\", \"photo\", \"womensmarch\", \"changing\", \"bluewave\", \"lead\", \"prochoice\", \"campaign\", \"person\", \"youre\", \"uniteblue\", \"abortion\", \"lie\", \"always\", \"people\", \"school\", \"thats\", \"good\", \"health\", \"amp\", \"still\", \"life\", \"prolife\", \"love\", \"need\", \"murder\", \"baby\", \"catholic\", \"im\", \"want\", \"one\", \"god\", \"u\", \"woman\", \"think\", \"mean\", \"like\", \"human\", \"right\"], \"Freq\": [63.0, 82.0, 30.0, 56.0, 22.0, 64.0, 18.0, 89.0, 27.0, 18.0, 28.0, 23.0, 43.0, 13.0, 12.0, 14.0, 12.0, 14.0, 9.0, 753.0, 8.0, 61.0, 15.0, 11.0, 12.0, 20.0, 150.0, 12.0, 16.0, 19.0, 8.285375622449651, 5.847740027930046, 10.706187012763667, 8.287139794467944, 3.4117164576526506, 3.4117112623627355, 3.4116975319536746, 3.4105193144193704, 5.832770542224127, 2.5993024405498035, 2.5993018839115987, 2.5992825871204857, 2.59927627855416, 2.599238612702276, 2.5973415896990124, 2.596677705866297, 2.59674784228015, 2.5957227002522716, 2.594827997110474, 2.5920451771766957, 8.113185902242604, 4.219866440557727, 4.188866145634673, 6.549871213907414, 1.7868654157344759, 1.7868613337209711, 1.7868613337209711, 1.786858921622082, 1.7868585505299452, 1.786858364983877, 58.23984119482954, 3.409046449728456, 3.4125770203178636, 7.102395491662011, 3.9764322253771667, 3.4002719761540874, 8.980946270540732, 11.334319829020414, 9.506113635971268, 63.7874430158013, 29.538316591064188, 209.8092716673762, 10.363637056583942, 9.008176269354013, 26.739563445300636, 18.661119188904188, 8.105518396512275, 6.377158995971769, 24.108419258407608, 9.057463984778012, 22.701647561423908, 26.773181424156597, 40.641669416331595, 27.139389988425147, 8.687085829260504, 9.578703711032777, 17.158426112034796, 15.957117740611164, 12.781122719168058, 33.419221907497075, 10.976391814692164, 9.445570696038466, 14.189098239043503, 12.47595138955851, 9.625148860688975, 9.94562625657251, 10.565520827392547, 9.648264932073817, 9.54943122109861, 9.13104932895039, 9.198102709331012, 5.7826827836980295, 7.387271296095573, 3.3730513532348834, 3.3730513532348834, 3.3723328262610743, 3.371926868974708, 3.371505230934791, 3.3713125318967134, 6.568400741087834, 2.569850052558505, 2.56984848448315, 2.569835242957929, 2.5698331521907893, 2.5698204333573536, 2.5698172972066433, 2.5698134641335533, 2.5696425439198514, 2.5691968620578236, 2.5690876194747543, 2.568837075879134, 2.5677052739339685, 2.5670311757618864, 2.5669642712134038, 2.5648721102285594, 2.5644473360379325, 2.5631575069430954, 4.979487058400691, 4.932469190032099, 9.779339585659633, 4.840358004447362, 6.513755057269835, 29.64768018732962, 11.19296091209379, 5.781100072972985, 4.176847477162616, 8.039431048576802, 6.578258708153331, 19.283878495339923, 9.804898517024782, 4.070191869967883, 208.46585317925206, 64.34200949436205, 11.837257289361162, 11.33832080058576, 20.163342966679203, 32.13842780744899, 57.27569046809603, 7.537612088837604, 8.698284043595821, 44.47620359938822, 20.133538384174923, 9.526404152431292, 11.87323242261821, 7.78794660774368, 7.090330789947501, 19.001656989858045, 14.767825654292436, 8.992363683373878, 13.231847756363894, 9.33878846619346, 11.905761971628399, 8.197798993291997, 9.016654216007375, 14.068655002666414, 11.019996625051288, 11.388607931839065, 11.218149777675144, 8.992928190501699, 8.329232978786246, 21.973559817881373, 13.892943165464828, 10.66352307765208, 6.61494982368861, 5.008940584722191, 5.008926524167843, 4.95600393670621, 4.200988658759464, 4.200984306683118, 4.200980958932083, 4.200979619831669, 4.200963550626701, 4.200474109425384, 4.200208297993206, 55.63300704559064, 4.19786018541726, 4.197508336783481, 4.196531797806573, 3.393026019993424, 3.3930220026921822, 3.3930156419652158, 3.393002585736179, 3.3920883149285217, 3.390101089914148, 3.379903170711343, 3.3755751981733, 10.66227369696582, 23.001071652048594, 24.05333675736858, 3.3418623409255783, 12.433848641568801, 12.405928397936933, 5.8230091866009595, 5.820353080929793, 15.164650672927984, 41.01522087793217, 5.752058959815872, 6.630054876358512, 5.010879936896764, 23.121138073368524, 11.167742591137403, 18.240652704509756, 159.4640410361614, 14.479092859579819, 7.395976122851967, 22.44068089349728, 6.540742904696678, 11.1337542139795, 12.34880237427576, 7.735308854610624, 37.604494628666515, 35.27967972172297, 11.918580210567578, 7.1645547979553745, 7.44751073273449, 21.38806628296924, 10.840247507038491, 11.861112716300834, 10.602681719892267, 11.7131608679598, 10.255592918535731, 10.271334043902282, 8.571812744825523, 9.660121746438898, 11.384037725420322, 9.136595482052359, 6.1376201241727895, 5.39192436995128, 12.102223162256225, 16.538886143014512, 4.643494289018462, 12.139441621182623, 10.292524408964265, 3.1434727755121497, 6.7800514667104315, 6.040824958592459, 2.3965301255864286, 2.3965245714852963, 2.3963703383692367, 2.3940312073154217, 14.188276898351772, 6.07876630514316, 1.6475274381887932, 1.6475248747575013, 1.647524661138227, 1.64752455432859, 1.6475202819431034, 1.6475145142226968, 1.6475110963143076, 1.6475056490228124, 1.6475056490228124, 1.6475051149746267, 1.6473794000316888, 1.6467969670802525, 5.396717559228494, 20.168602315025232, 14.87178765457989, 3.1463042989932744, 6.140924387107987, 2.862782175916942, 3.144689550898682, 3.148234349136765, 2.397202385442717, 3.1472978422381415, 5.9502640579139126, 2.397897288942083, 3.900942583276409, 4.2424505902708045, 5.7480875136411935, 12.742442690827547, 86.73198880561694, 8.375535802383133, 13.185080625716795, 11.735588401739095, 23.9204967492682, 16.600466598461576, 7.627395816424844, 6.351689707924056, 6.490787043921077, 19.534380361199748, 8.60940020257008, 7.307907684227457, 8.77479620742876, 7.6431686091636095, 6.901378669753785, 6.781522449033406, 6.231665155215511, 6.171634293984373, 6.165021068489944, 7.258945746394001, 2.2975523710342043, 2.2934312079752583, 2.2860976662816346, 1.5794922301084284, 1.5794907545096069, 1.5794879877618162, 1.5794879877618162, 1.5794879877618162, 1.5794876188621108, 1.5794874344122583, 1.5794837454152042, 1.5794837454152042, 1.5794826387160879, 1.5794824542662351, 1.5794820853665297, 1.5794783963694756, 1.5794767363208013, 1.579475814071538, 1.5794700961261041, 1.5794689894269878, 1.579466960478608, 1.57881474579945, 1.5785247906310005, 1.5784017625792475, 1.5779686743251007, 1.5777679928853596, 1.5767505674978493, 1.5752834533694484, 1.5744831254585696, 3.6624134034915463, 3.019142882140718, 6.952209330345755, 3.018763837693413, 17.92883850969409, 23.961735755978655, 2.2966736519359268, 2.298498229878866, 2.2984036071044294, 2.3019446753766237, 2.2999319585839273, 2.299175345288139, 2.2982940438919237, 89.06626541638808, 3.6251486308502283, 5.478366471318476, 4.994019603105336, 2.7301973921851, 23.073003244097414, 3.7321668042882874, 4.737184988006805, 10.755346166659214, 3.020202177644792, 4.410810196141258, 6.233386120379347, 3.0200321148805997, 9.366789968324218, 5.933959820893431, 11.04686399426063, 14.06183849418011, 5.068892594013706, 4.981366712109607, 3.6639454439680983, 6.523952186740814, 3.7416187525402065, 5.178624762584438, 5.619379121509427, 5.9056238967217665, 3.7113162240390207, 5.140522218712143, 7.2247981762633655, 4.845099218829296, 3.972469179089037, 4.970411866457863, 4.188955757808464, 4.0815502396797285], \"Total\": [63.0, 82.0, 30.0, 56.0, 22.0, 64.0, 18.0, 89.0, 27.0, 18.0, 28.0, 23.0, 43.0, 13.0, 12.0, 14.0, 12.0, 14.0, 9.0, 753.0, 8.0, 61.0, 15.0, 11.0, 12.0, 20.0, 150.0, 12.0, 16.0, 19.0, 8.901825902892444, 6.464538307118248, 12.141563012322402, 9.619815683918604, 4.027367720385874, 4.027363953596801, 4.027353430675255, 4.027262156555835, 7.181704102063177, 3.214949655781563, 3.2149493356469065, 3.2149350626379674, 3.2149304567845767, 3.21490273338602, 3.2147687553149082, 3.214558681840482, 3.214717306954553, 3.214753630511984, 3.2145325670735723, 3.2138244804051115, 10.510740909710211, 5.5575362601405764, 5.5857099303479405, 8.80167006228122, 2.402512011626665, 2.4025089305354967, 2.4025089305354967, 2.40250720294994, 2.402506888092475, 2.4025067737846815, 82.49351062018849, 4.744793234634112, 4.776132611349936, 10.44491177524418, 5.645601903876341, 4.77499265589869, 13.619801093483924, 18.580366770725565, 15.37174166286843, 150.4950738413723, 61.93900913204981, 753.5374201047947, 17.77180399572336, 15.119681284693218, 59.66774138025179, 38.74902179861556, 13.731992945071168, 10.116059377082644, 59.8474372334933, 16.60139742073906, 56.129908245263344, 77.43937278093017, 164.34233453168218, 89.48033089609372, 16.53606444757472, 19.200247562806876, 47.60542432317921, 45.935949149959036, 31.87077914843474, 177.9731096358228, 25.711397238044135, 20.77042400371779, 64.95183066233432, 53.53787103646487, 24.524047081925513, 32.08192794171004, 54.46315866668287, 36.84890431748979, 42.39390515673359, 20.694532146501498, 27.297985073391512, 6.400178459298872, 8.724316776218469, 3.9905459705352886, 3.9905459705352886, 3.9904873090944486, 3.990461592180054, 3.9904217333332213, 3.990272524256471, 8.009949507243395, 3.187340631941387, 3.1873394656913323, 3.187329692778562, 3.1873280963986494, 3.18731859910033, 3.1873168356587085, 3.1873135398703316, 3.1873146712251588, 3.187254214652436, 3.187268435501553, 3.187242611075028, 3.187171324827971, 3.1871410310245296, 3.1870820973103586, 3.187010289782889, 3.1870429011176626, 3.1865958706431825, 6.345655059033243, 6.403888851847663, 12.853144855601544, 6.410328497345084, 8.631612309752668, 43.635759878826136, 16.063287915169532, 7.897731631222383, 5.542492372633314, 11.928146028487447, 9.449643981337777, 36.84890431748979, 16.553140961756785, 5.605904058914044, 753.5374201047947, 177.9731096358228, 21.674653308247798, 20.625380396492595, 42.82006876217263, 77.43937278093017, 164.34233453168218, 12.608744772528558, 15.291458829392969, 150.4950738413723, 54.46315866668287, 18.342154110291585, 25.845206468428117, 13.896726503370065, 12.375584162065127, 59.66774138025179, 42.97823780633373, 19.282302800494843, 42.39390515673359, 21.57118376892719, 36.25568849648232, 16.71259715837557, 22.224998230388845, 89.48033089609372, 45.935949149959036, 53.53787103646487, 59.8474372334933, 28.09027863094339, 32.08192794171004, 22.592324405216083, 14.512659528774291, 11.281074854160712, 7.2405553191126995, 5.625481292315023, 5.6254710341498315, 5.621461172737915, 4.817527517938292, 4.817524436590118, 4.8175218915495535, 4.817521047676043, 4.817509074180401, 4.817475796570303, 4.817446640904607, 63.82997597697871, 4.817243827408844, 4.8171607708398385, 4.817000706013511, 4.009565663514912, 4.009562458352423, 4.009558061819972, 4.009548742179005, 4.0094329192139195, 4.009425923339698, 4.009253415014458, 4.0081485804736285, 12.716862007160195, 27.4607811110462, 28.814697672513706, 4.005585819320673, 15.307140846365899, 16.018058647936318, 7.1824784153262335, 7.182369286883019, 20.92562430572337, 64.95183066233432, 7.245414019345615, 8.7712584162275, 6.343466390910364, 40.60484759037338, 16.797494576673106, 32.7879907322102, 753.5374201047947, 27.297985073391512, 11.26974851738978, 61.93900913204981, 9.57885983583229, 22.324522938861328, 26.381113196909283, 12.695984848527115, 177.9731096358228, 164.34233453168218, 28.09027863094339, 11.2999733852238, 12.861870672077549, 150.4950738413723, 32.08192794171004, 42.82006876217263, 36.25568849648232, 54.46315866668287, 45.935949149959036, 59.8474372334933, 23.80125313307597, 77.43937278093017, 12.012827245131493, 9.76579130329703, 6.769820354684426, 6.02081689730999, 13.566714270427433, 18.688090497021264, 5.271865662092545, 14.198031704635403, 12.091339244707065, 3.7737724138932953, 8.232102599476898, 7.590274907817832, 3.024861782433491, 3.0248664544150445, 3.024860492875895, 3.0246850630995477, 18.177741409037278, 8.388817895344095, 2.2758574008129506, 2.2758556284891163, 2.2758553586548333, 2.2758553644233763, 2.275852372659546, 2.2758482647975082, 2.2758458036616265, 2.2758415813835122, 2.2758415813835122, 2.275841116983616, 2.2758418144261774, 2.2758426687029516, 7.545845695061329, 30.578776271073913, 23.053480993521838, 4.581223942601769, 11.60242770949908, 4.603428664004172, 5.294278433243284, 5.379612395538857, 3.7426820097022993, 5.388252141473836, 13.243047976954928, 3.8274594398749553, 7.582537756619331, 8.539580643480539, 13.24443657997804, 42.97823780633373, 753.5374201047947, 25.711397238044135, 53.53787103646487, 47.60542432317921, 164.34233453168218, 89.48033089609372, 24.186381913000737, 18.054590118689276, 19.076971357253335, 177.9731096358228, 38.74902179861556, 25.845206468428117, 56.129908245263344, 42.39390515673359, 28.257903032094376, 150.4950738413723, 42.82006876217263, 36.25568849648232, 32.81362746291403, 8.77851382521956, 2.9320717974096464, 2.9322220267314916, 2.932518995373904, 2.2140103527762367, 2.2140092471801687, 2.2140072431866695, 2.2140072431866695, 2.2140072431866695, 2.2140069125860027, 2.2140068959177293, 2.2140042439158902, 2.214004253045691, 2.2140032452437515, 2.2140033137391866, 2.214003127479364, 2.2140003995428503, 2.2139990406345222, 2.2139986570906216, 2.2139944184255524, 2.213993563833143, 2.2139920677388627, 2.21398944374896, 2.2140038027092768, 2.214035952004373, 2.21403237269633, 2.214041833452263, 2.2139690631259645, 2.2141270140102773, 2.214242238654949, 5.183959525603554, 4.4615394983371655, 12.866759282960812, 5.201165257627501, 56.129908245263344, 89.48033089609372, 3.6807828050161304, 3.734678963498168, 3.734685119992652, 3.7433302252662894, 3.743635799813978, 3.7437398158210784, 3.7431602561818815, 753.5374201047947, 7.476369008803139, 13.746058849596228, 12.937762786543267, 5.312014427521632, 177.9731096358228, 8.987991248929275, 13.896726503370065, 59.8474372334933, 6.762057125315552, 13.121298229959647, 24.276544363758674, 6.811924759182853, 53.53787103646487, 24.170330293747543, 82.49351062018849, 150.4950738413723, 19.076971357253335, 21.674653308247798, 11.296751210122377, 47.60542432317921, 12.434850372329048, 32.81362746291403, 45.935949149959036, 54.46315866668287, 13.182733365173819, 43.635759878826136, 164.34233453168218, 42.39390515673359, 16.99216477656106, 59.66774138025179, 64.95183066233432, 77.43937278093017], \"Category\": [\"Default\", \"Default\", \"Default\", \"Default\", \"Default\", \"Default\", \"Default\", \"Default\", \"Default\", \"Default\", \"Default\", \"Default\", \"Default\", \"Default\", \"Default\", \"Default\", \"Default\", \"Default\", \"Default\", \"Default\", \"Default\", \"Default\", \"Default\", \"Default\", \"Default\", \"Default\", \"Default\", \"Default\", \"Default\", \"Default\", \"Topic1\", \"Topic1\", \"Topic1\", \"Topic1\", \"Topic1\", \"Topic1\", \"Topic1\", \"Topic1\", \"Topic1\", \"Topic1\", \"Topic1\", \"Topic1\", \"Topic1\", \"Topic1\", \"Topic1\", \"Topic1\", \"Topic1\", \"Topic1\", \"Topic1\", \"Topic1\", \"Topic1\", \"Topic1\", \"Topic1\", \"Topic1\", \"Topic1\", \"Topic1\", \"Topic1\", \"Topic1\", \"Topic1\", \"Topic1\", \"Topic1\", \"Topic1\", \"Topic1\", \"Topic1\", \"Topic1\", \"Topic1\", \"Topic1\", \"Topic1\", \"Topic1\", \"Topic1\", \"Topic1\", \"Topic1\", \"Topic1\", \"Topic1\", \"Topic1\", \"Topic1\", \"Topic1\", \"Topic1\", \"Topic1\", \"Topic1\", \"Topic1\", \"Topic1\", \"Topic1\", \"Topic1\", \"Topic1\", \"Topic1\", \"Topic1\", \"Topic1\", \"Topic1\", \"Topic1\", \"Topic1\", \"Topic1\", \"Topic1\", \"Topic1\", \"Topic1\", \"Topic1\", \"Topic1\", \"Topic1\", \"Topic1\", \"Topic1\", \"Topic1\", \"Topic2\", \"Topic2\", \"Topic2\", \"Topic2\", \"Topic2\", \"Topic2\", \"Topic2\", \"Topic2\", \"Topic2\", \"Topic2\", \"Topic2\", \"Topic2\", \"Topic2\", \"Topic2\", \"Topic2\", \"Topic2\", \"Topic2\", \"Topic2\", \"Topic2\", \"Topic2\", \"Topic2\", \"Topic2\", \"Topic2\", \"Topic2\", \"Topic2\", \"Topic2\", \"Topic2\", \"Topic2\", \"Topic2\", \"Topic2\", \"Topic2\", \"Topic2\", \"Topic2\", \"Topic2\", \"Topic2\", \"Topic2\", \"Topic2\", \"Topic2\", \"Topic2\", \"Topic2\", \"Topic2\", \"Topic2\", \"Topic2\", \"Topic2\", \"Topic2\", \"Topic2\", \"Topic2\", \"Topic2\", \"Topic2\", \"Topic2\", \"Topic2\", \"Topic2\", \"Topic2\", \"Topic2\", \"Topic2\", \"Topic2\", \"Topic2\", \"Topic2\", \"Topic2\", \"Topic2\", \"Topic2\", \"Topic2\", \"Topic2\", \"Topic2\", \"Topic2\", \"Topic2\", \"Topic2\", \"Topic2\", \"Topic2\", \"Topic3\", \"Topic3\", \"Topic3\", \"Topic3\", \"Topic3\", \"Topic3\", \"Topic3\", \"Topic3\", \"Topic3\", \"Topic3\", \"Topic3\", \"Topic3\", \"Topic3\", \"Topic3\", \"Topic3\", \"Topic3\", \"Topic3\", \"Topic3\", \"Topic3\", \"Topic3\", \"Topic3\", \"Topic3\", \"Topic3\", \"Topic3\", \"Topic3\", \"Topic3\", \"Topic3\", \"Topic3\", \"Topic3\", \"Topic3\", \"Topic3\", \"Topic3\", \"Topic3\", \"Topic3\", \"Topic3\", \"Topic3\", \"Topic3\", \"Topic3\", \"Topic3\", \"Topic3\", \"Topic3\", \"Topic3\", \"Topic3\", \"Topic3\", \"Topic3\", \"Topic3\", \"Topic3\", \"Topic3\", \"Topic3\", \"Topic3\", \"Topic3\", \"Topic3\", \"Topic3\", \"Topic3\", \"Topic3\", \"Topic3\", \"Topic3\", \"Topic3\", \"Topic3\", \"Topic3\", \"Topic3\", \"Topic3\", \"Topic3\", \"Topic3\", \"Topic4\", \"Topic4\", \"Topic4\", \"Topic4\", \"Topic4\", \"Topic4\", \"Topic4\", \"Topic4\", \"Topic4\", \"Topic4\", \"Topic4\", \"Topic4\", \"Topic4\", \"Topic4\", \"Topic4\", \"Topic4\", \"Topic4\", \"Topic4\", \"Topic4\", \"Topic4\", \"Topic4\", \"Topic4\", \"Topic4\", \"Topic4\", \"Topic4\", \"Topic4\", \"Topic4\", \"Topic4\", \"Topic4\", \"Topic4\", \"Topic4\", \"Topic4\", \"Topic4\", \"Topic4\", \"Topic4\", \"Topic4\", \"Topic4\", \"Topic4\", \"Topic4\", \"Topic4\", \"Topic4\", \"Topic4\", \"Topic4\", \"Topic4\", \"Topic4\", \"Topic4\", \"Topic4\", \"Topic4\", \"Topic4\", \"Topic4\", \"Topic4\", \"Topic4\", \"Topic4\", \"Topic4\", \"Topic4\", \"Topic4\", \"Topic4\", \"Topic4\", \"Topic4\", \"Topic4\", \"Topic4\", \"Topic4\", \"Topic4\", \"Topic4\", \"Topic4\", \"Topic5\", \"Topic5\", \"Topic5\", \"Topic5\", \"Topic5\", \"Topic5\", \"Topic5\", \"Topic5\", \"Topic5\", \"Topic5\", \"Topic5\", \"Topic5\", \"Topic5\", \"Topic5\", \"Topic5\", \"Topic5\", \"Topic5\", \"Topic5\", \"Topic5\", \"Topic5\", \"Topic5\", \"Topic5\", \"Topic5\", \"Topic5\", \"Topic5\", \"Topic5\", \"Topic5\", \"Topic5\", \"Topic5\", \"Topic5\", \"Topic5\", \"Topic5\", \"Topic5\", \"Topic5\", \"Topic5\", \"Topic5\", \"Topic5\", \"Topic5\", \"Topic5\", \"Topic5\", \"Topic5\", \"Topic5\", \"Topic5\", \"Topic5\", \"Topic5\", \"Topic5\", \"Topic5\", \"Topic5\", \"Topic5\", \"Topic5\", \"Topic5\", \"Topic5\", \"Topic5\", \"Topic5\", \"Topic5\", \"Topic5\", \"Topic5\", \"Topic5\", \"Topic5\", \"Topic5\", \"Topic5\", \"Topic5\", \"Topic5\", \"Topic5\", \"Topic5\", \"Topic5\", \"Topic5\", \"Topic5\", \"Topic5\", \"Topic5\", \"Topic5\", \"Topic5\", \"Topic5\", \"Topic5\", \"Topic5\", \"Topic5\"], \"logprob\": [30.0, 29.0, 28.0, 27.0, 26.0, 25.0, 24.0, 23.0, 22.0, 21.0, 20.0, 19.0, 18.0, 17.0, 16.0, 15.0, 14.0, 13.0, 12.0, 11.0, 10.0, 9.0, 8.0, 7.0, 6.0, 5.0, 4.0, 3.0, 2.0, 1.0, -5.9525, -6.301, -5.6962, -5.9523, -6.8398, -6.8398, -6.8398, -6.8402, -6.3035, -7.1118, -7.1118, -7.1118, -7.1118, -7.1118, -7.1126, -7.1128, -7.1128, -7.1132, -7.1135, -7.1146, -5.9736, -6.6272, -6.6346, -6.1876, -7.4866, -7.4866, -7.4866, -7.4866, -7.4866, -7.4866, -4.0025, -6.8406, -6.8396, -6.1066, -6.6867, -6.8432, -5.8719, -5.6392, -5.8151, -3.9115, -4.6814, -2.7208, -5.7287, -5.8689, -4.7809, -5.1406, -5.9745, -6.2143, -4.8845, -5.8635, -4.9446, -4.7796, -4.3622, -4.7661, -5.9052, -5.8075, -5.2246, -5.2971, -5.5191, -4.5579, -5.6713, -5.8215, -5.4146, -5.5432, -5.8027, -5.7699, -5.7094, -5.8003, -5.8106, -5.8554, -5.848, -6.2493, -6.0044, -6.7883, -6.7883, -6.7885, -6.7886, -6.7888, -6.7888, -6.1218, -7.0603, -7.0603, -7.0603, -7.0603, -7.0603, -7.0603, -7.0603, -7.0604, -7.0605, -7.0606, -7.0607, -7.0611, -7.0614, -7.0614, -7.0622, -7.0624, -7.0629, -6.3988, -6.4083, -5.7238, -6.4271, -6.1302, -4.6147, -5.5888, -6.2495, -6.5746, -5.9198, -6.1203, -5.0448, -5.7212, -6.6004, -2.6643, -3.8399, -5.5329, -5.5759, -5.0003, -4.5341, -3.9562, -5.9842, -5.841, -4.2092, -5.0017, -5.7501, -5.5298, -5.9515, -6.0454, -5.0596, -5.3117, -5.8077, -5.4215, -5.7699, -5.5271, -5.9003, -5.805, -5.3602, -5.6044, -5.5715, -5.5866, -5.8077, -5.8843, -4.8742, -5.3327, -5.5972, -6.0747, -6.3528, -6.3528, -6.3635, -6.5287, -6.5287, -6.5287, -6.5287, -6.5287, -6.5289, -6.5289, -3.9453, -6.5295, -6.5296, -6.5298, -6.7423, -6.7423, -6.7423, -6.7423, -6.7426, -6.7432, -6.7462, -6.7475, -5.5973, -4.8285, -4.7838, -6.7575, -5.4436, -5.4459, -6.2022, -6.2027, -5.2451, -4.2501, -6.2145, -6.0724, -6.3524, -4.8233, -5.551, -5.0604, -2.8922, -5.2913, -5.9631, -4.8532, -6.086, -5.5541, -5.4505, -5.9183, -4.3369, -4.4007, -5.486, -5.9949, -5.9562, -4.9012, -5.5808, -5.4908, -5.6029, -5.5033, -5.6362, -5.6347, -5.8156, -5.696, -5.0826, -5.3025, -5.7003, -5.8299, -5.0214, -4.7091, -5.9793, -5.0183, -5.1834, -6.3695, -5.6008, -5.7162, -6.6408, -6.6408, -6.6408, -6.6418, -4.8624, -5.71, -7.0155, -7.0155, -7.0155, -7.0155, -7.0155, -7.0155, -7.0155, -7.0155, -7.0155, -7.0155, -7.0156, -7.016, -5.829, -4.5107, -4.8153, -6.3686, -5.6998, -6.463, -6.3691, -6.3679, -6.6405, -6.3682, -5.7314, -6.6402, -6.1536, -6.0696, -5.7659, -4.9698, -3.052, -5.3895, -4.9357, -5.0522, -4.3401, -4.7054, -5.483, -5.6661, -5.6444, -4.5426, -5.3619, -5.5258, -5.3429, -5.481, -5.5831, -5.6006, -5.6851, -5.6948, -5.6959, -5.3857, -6.5361, -6.5379, -6.5411, -6.9109, -6.9109, -6.9109, -6.9109, -6.9109, -6.9109, -6.9109, -6.9109, -6.9109, -6.9109, -6.9109, -6.9109, -6.9109, -6.9109, -6.9109, -6.9109, -6.9109, -6.9109, -6.9113, -6.9115, -6.9116, -6.9118, -6.912, -6.9126, -6.9135, -6.914, -6.0698, -6.263, -5.4289, -6.2631, -4.4816, -4.1915, -6.5365, -6.5357, -6.5358, -6.5342, -6.5351, -6.5354, -6.5358, -2.8786, -6.0801, -5.6672, -5.7597, -6.3636, -4.2293, -6.051, -5.8125, -4.9926, -6.2626, -5.8839, -5.538, -6.2627, -5.1308, -5.5873, -4.9658, -4.7245, -5.7448, -5.7623, -6.0694, -5.4925, -6.0485, -5.7234, -5.6417, -5.5921, -6.0566, -5.7308, -5.3904, -5.79, -5.9886, -5.7645, -5.9355, -5.9615], \"loglift\": [30.0, 29.0, 28.0, 27.0, 26.0, 25.0, 24.0, 23.0, 22.0, 21.0, 20.0, 19.0, 18.0, 17.0, 16.0, 15.0, 14.0, 13.0, 12.0, 11.0, 10.0, 9.0, 8.0, 7.0, 6.0, 5.0, 4.0, 3.0, 2.0, 1.0, 1.2928, 1.2642, 1.2387, 1.2154, 1.1986, 1.1986, 1.1986, 1.1983, 1.1565, 1.152, 1.152, 1.1519, 1.1519, 1.1519, 1.1513, 1.1511, 1.151, 1.1506, 1.1504, 1.1495, 1.1056, 1.0892, 1.0767, 1.069, 1.0685, 1.0685, 1.0685, 1.0685, 1.0685, 1.0685, 1.0164, 1.0339, 1.0284, 0.9788, 1.014, 1.025, 0.9481, 0.8703, 0.8839, 0.5061, 0.6241, 0.0859, 0.8252, 0.8467, 0.5619, 0.6339, 0.8373, 0.9031, 0.4553, 0.7586, 0.4593, 0.3024, -0.0326, 0.1715, 0.7208, 0.6691, 0.3441, 0.3072, 0.4508, -0.308, 0.5133, 0.5765, -0.1567, -0.0921, 0.4292, 0.1934, -0.2754, 0.0245, -0.126, 0.5463, 0.2767, 1.326, 1.2611, 1.2593, 1.2593, 1.2591, 1.259, 1.2589, 1.2589, 1.229, 1.2121, 1.2121, 1.2121, 1.2121, 1.2121, 1.2121, 1.2121, 1.212, 1.2119, 1.2118, 1.2117, 1.2113, 1.2111, 1.2111, 1.2103, 1.2101, 1.2097, 1.185, 1.1664, 1.1541, 1.1465, 1.1459, 1.041, 1.0662, 1.1155, 1.1446, 1.0329, 1.0652, 0.7799, 0.9038, 1.1073, 0.1424, 0.41, 0.8226, 0.8291, 0.6743, 0.548, 0.3734, 0.913, 0.8633, 0.2085, 0.4323, 0.7723, 0.6496, 0.8484, 0.8705, 0.2832, 0.3592, 0.6646, 0.2631, 0.5903, 0.3139, 0.7151, 0.5253, -0.4226, -0.0001, -0.1203, -0.2468, 0.2885, 0.0789, 1.4397, 1.4239, 1.4112, 1.3771, 1.3514, 1.3514, 1.3415, 1.3306, 1.3306, 1.3306, 1.3306, 1.3306, 1.3305, 1.3304, 1.3301, 1.3299, 1.3298, 1.3296, 1.3006, 1.3006, 1.3006, 1.3005, 1.3003, 1.2997, 1.2968, 1.2957, 1.2913, 1.2903, 1.2869, 1.2864, 1.2596, 1.212, 1.2577, 1.2572, 1.1455, 1.0078, 1.2367, 1.1876, 1.2317, 0.9044, 1.0593, 0.8811, -0.0854, 0.8334, 1.0463, 0.4522, 1.086, 0.7718, 0.7084, 0.972, -0.087, -0.0711, 0.6102, 1.0119, 0.9211, -0.4836, 0.3825, 0.1838, 0.238, -0.0693, -0.0319, -0.2949, 0.4463, -0.614, 1.863, 1.8502, 1.8187, 1.8065, 1.8025, 1.7946, 1.7899, 1.7601, 1.7557, 1.734, 1.7227, 1.6884, 1.6839, 1.6839, 1.6839, 1.6829, 1.669, 1.5947, 1.5937, 1.5937, 1.5937, 1.5937, 1.5937, 1.5937, 1.5937, 1.5937, 1.5937, 1.5937, 1.5936, 1.5933, 1.5816, 1.5006, 1.4784, 1.541, 1.2805, 1.4418, 1.3959, 1.381, 1.4713, 1.3791, 1.1167, 1.4492, 1.2521, 1.2172, 1.0821, 0.701, -0.2452, 0.7952, 0.5155, 0.5165, -0.0104, 0.2322, 0.7627, 0.8721, 0.8387, -0.2927, 0.4125, 0.6536, 0.061, 0.2036, 0.5071, -1.183, -0.0106, 0.1461, 0.2448, 1.8735, 1.8197, 1.8179, 1.8146, 1.7259, 1.7259, 1.7259, 1.7259, 1.7259, 1.7259, 1.7259, 1.7259, 1.7259, 1.7259, 1.7259, 1.7259, 1.7259, 1.7259, 1.7259, 1.7259, 1.7259, 1.7259, 1.7255, 1.7253, 1.7252, 1.7249, 1.7248, 1.7242, 1.7232, 1.7226, 1.7161, 1.6731, 1.448, 1.5196, 0.9223, 0.746, 1.5919, 1.5782, 1.5781, 1.5774, 1.5764, 1.5761, 1.5758, -0.0718, 1.3397, 1.1436, 1.1117, 1.398, 0.0206, 1.1847, 0.9874, 0.3472, 1.2576, 0.9734, 0.704, 1.2502, 0.3204, 0.6592, 0.053, -0.3069, 0.7382, 0.5932, 0.9376, 0.0761, 0.8626, 0.2173, -0.0374, -0.158, 0.7961, -0.0751, -1.0608, -0.1054, 0.6102, -0.4217, -0.6776, -0.8794]}, \"token.table\": {\"Topic\": [1, 2, 3, 4, 5, 1, 3, 3, 1, 4, 5, 1, 3, 3, 4, 5, 1, 2, 3, 5, 3, 1, 2, 3, 4, 1, 2, 5, 5, 1, 2, 3, 4, 5, 2, 1, 2, 3, 4, 2, 2, 1, 2, 3, 4, 5, 2, 4, 1, 2, 3, 4, 3, 4, 1, 1, 2, 4, 5, 5, 5, 1, 5, 2, 1, 2, 3, 4, 4, 1, 2, 4, 2, 4, 5, 3, 1, 2, 3, 4, 2, 1, 2, 3, 5, 1, 2, 4, 1, 3, 5, 1, 5, 4, 5, 2, 1, 2, 3, 4, 5, 1, 2, 3, 4, 5, 1, 2, 4, 5, 5, 5, 5, 1, 2, 3, 4, 5, 5, 1, 4, 3, 1, 3, 5, 3, 5, 1, 2, 1, 3, 5, 3, 4, 1, 2, 2, 4, 5, 1, 3, 5, 1, 1, 4, 1, 2, 4, 1, 2, 3, 4, 5, 4, 2, 4, 1, 2, 3, 4, 1, 3, 4, 3, 5, 1, 4, 1, 2, 3, 4, 5, 1, 2, 3, 1, 2, 4, 4, 1, 3, 5, 3, 1, 2, 3, 4, 5, 5, 4, 2, 3, 4, 1, 2, 3, 5, 2, 1, 2, 3, 4, 5, 1, 2, 3, 5, 5, 1, 2, 3, 1, 4, 5, 2, 3, 2, 4, 5, 2, 3, 4, 5, 2, 3, 4, 5, 4, 2, 4, 2, 1, 2, 3, 5, 4, 1, 2, 3, 4, 5, 5, 1, 5, 1, 2, 3, 1, 2, 4, 2, 3, 1, 1, 2, 3, 4, 5, 1, 3, 1, 2, 3, 5, 2, 1, 1, 5, 1, 2, 3, 5, 1, 4, 5, 1, 3, 4, 5, 1, 2, 3, 4, 5, 1, 4, 1, 2, 1, 2, 2, 3, 5, 1, 2, 4, 5, 1, 2, 3, 4, 5, 1, 2, 3, 4, 2, 5, 4, 1, 2, 3, 4, 5, 1, 1, 2, 4, 1, 5, 4, 1, 3, 5, 5, 1, 3, 4, 5, 1, 2, 3, 1, 3, 5, 1, 2, 4, 5, 5, 5, 2, 3, 4, 5, 3, 1, 1, 2, 3, 4, 5, 2, 4, 5, 3, 4, 4, 5, 2, 4, 1, 2, 4, 5, 4, 1, 2, 3, 4, 5, 4, 2, 3, 4, 5, 1, 5, 2, 2, 5, 3, 4, 1, 2, 3, 4, 5, 4, 1, 2, 3, 4, 2, 4, 5, 1, 2, 3, 4, 2, 4, 2, 4, 5, 1, 2, 4, 5, 1, 2, 3, 4, 5, 1, 2, 3, 4, 5, 3, 3, 4, 4, 2, 3, 5, 1, 5, 1, 3, 4, 5, 2, 5, 3, 4, 1, 2, 3, 4, 5, 1, 2, 3, 3, 1, 3, 5, 1, 2, 3, 4, 5, 1, 2, 3, 4, 3, 4, 5, 1, 3, 4, 5, 1, 3, 3, 2, 1, 1, 2, 3, 4, 5, 3, 3, 2, 1, 5, 2, 4, 3, 4, 2, 5, 4, 5, 1, 2, 4, 2, 3, 3, 2, 3, 4, 1, 5, 2, 2, 3, 4, 1, 2, 4, 2, 5, 1, 2, 4, 5, 3, 3, 1, 2, 3, 1, 2, 3, 4, 5, 2, 1, 2, 3, 4, 5, 2, 4, 2, 1, 5, 1, 2, 3, 4, 1, 5, 1, 2, 3, 4, 5, 1, 2, 3, 5, 1, 2, 3, 4, 5, 1, 2, 4, 5, 5, 5, 1, 2, 3, 4, 5, 5, 2, 1, 2, 3, 5, 1, 3, 1, 5, 2, 4, 3, 1, 2, 3, 1, 2, 3, 4, 1, 2, 3, 4, 5, 1, 4, 5, 1, 1, 2, 3, 4, 5, 2, 3, 4, 5, 2, 1, 2, 3, 4, 5, 1, 5, 1, 2, 3, 4, 1, 5, 2, 3, 3, 5, 1, 2, 3, 4, 5, 1, 5, 5, 1, 3, 1, 2, 3, 4, 5, 1, 1, 2, 4, 5], \"Freq\": [0.18542126991839497, 0.359604887114463, 0.2135154017242124, 0.11237652722326968, 0.12923300630676013, 0.9331930936059287, 0.8303046114512025, 0.7484752473037066, 0.9331406771286942, 0.9096702524374904, 0.1070200296985283, 0.12533296272718836, 0.8773307390903184, 0.7489541194023862, 0.850329537977917, 0.12147564828255958, 0.05983510465330919, 0.47868083722647353, 0.35901062791985516, 0.11967020930661838, 0.8303103469347397, 0.1349831378568129, 0.4049494135704387, 0.2699662757136258, 0.1799775171424172, 0.07195939272155152, 0.5756751417724122, 0.3597969636077576, 0.9033410147079859, 0.22414040318911355, 0.2054620362566874, 0.13074856852698288, 0.24281877012153966, 0.16810530239183516, 0.7517927264051303, 0.31170196561033037, 0.2493615724882643, 0.3428721621713634, 0.09351058968309911, 0.9412300360706948, 0.7517768300756056, 0.35710216307687975, 0.10503004796378816, 0.14704206714930343, 0.2520721151130916, 0.14704206714930343, 0.2612699143410571, 0.5225398286821142, 0.4333084388835322, 0.19258152839268097, 0.19258152839268097, 0.14443614629451074, 0.8353789342129274, 0.13922982236882123, 0.7449060658917631, 0.42782583529625284, 0.1555730310168192, 0.3111460620336384, 0.1166797732626144, 0.9033291584460107, 0.90334104265498, 0.2671125797188124, 0.5342251594376248, 0.9414435095575768, 0.2713784896788274, 0.515619130389772, 0.1356892448394137, 0.08141354690364822, 0.8787932090797576, 0.6608026019047988, 0.22026753396826626, 0.14684502264551083, 0.2675095353968051, 0.2675095353968051, 0.5350190707936102, 0.9667766754743642, 0.5442649324773281, 0.060473881386369784, 0.060473881386369784, 0.3628432883182187, 0.9412735288593017, 0.24125742652085486, 0.32167656869447314, 0.16083828434723657, 0.32167656869447314, 0.1192063068331729, 0.1192063068331729, 0.7152378409990374, 0.8324637943443923, 0.8649932659335675, 0.15727150289701228, 0.26712000137665376, 0.5342400027533075, 0.8304520940063672, 0.9033422037380674, 0.941244849848336, 0.490334958615106, 0.02580710308500558, 0.20645682468004464, 0.2322639277650502, 0.05161420617001116, 0.30174229050798795, 0.15645896544858634, 0.08940512311347791, 0.18998588661614055, 0.2682153693404337, 0.1934594721117001, 0.46430273306808023, 0.2708432609563801, 0.07738378884468003, 0.9033449928089896, 0.9032905462715775, 0.9033381427020517, 0.4348974857844993, 0.3382536000546106, 0.04832194286494437, 0.14496582859483312, 0.04832194286494437, 0.9033406351844282, 0.6281232629242416, 0.20937442097474718, 0.9646750116504945, 0.8324638339518142, 0.8303024023650886, 0.6820075174807161, 0.8303503296306194, 0.9033252984572037, 0.832462019053908, 0.7517878814356592, 0.7085161277938407, 0.17712903194846016, 0.6820765896194337, 0.21722938987180399, 0.651688169615412, 0.23340591222642035, 0.7780197074214011, 0.7407686484088066, 0.21164818525965906, 0.9033406314593585, 0.20879311674636522, 0.7307759086122783, 0.10439655837318261, 0.9331405842094569, 0.7161130903463931, 0.17902827258659829, 0.18558893937106521, 0.18558893937106521, 0.5567668181131956, 0.48434743177828393, 0.08072457196304732, 0.3551881166374082, 0.06457965757043785, 0.016144914392609462, 0.8787957898124769, 0.751828348004628, 0.8787956998251536, 0.6701827790054603, 0.09574039700078005, 0.09574039700078005, 0.09574039700078005, 0.9281405283643018, 0.830301963726256, 0.87879536995404, 0.7482138746540435, 0.9033410907043271, 0.6282732176130179, 0.20942440587100597, 0.1829938299362069, 0.1524948582801724, 0.5489814898086206, 0.06099794331206896, 0.06099794331206896, 0.5626890777327062, 0.2813445388663531, 0.11253781554654124, 0.1783833596670073, 0.7135334386680292, 0.9156878539527847, 0.6611862143800872, 0.9332080284353325, 0.1929027406678243, 0.7716109626712973, 0.7482113151151, 0.21007297271468586, 0.25208756725762305, 0.37813135088643457, 0.12604378362881152, 0.08402918908587435, 0.6821115368890046, 0.7949604986658387, 0.2585665754714296, 0.2585665754714296, 0.5171331509428592, 0.40789715053572717, 0.25101363109890906, 0.25101363109890906, 0.12550681554945453, 0.9412305568235119, 0.22757040720594474, 0.37928401200990786, 0.07585680240198157, 0.07585680240198157, 0.3034272096079263, 0.2883441685567891, 0.08238404815908261, 0.37072821671587175, 0.24715214447724781, 0.903339553136748, 0.933261660102303, 0.13065797329975076, 0.7839478397985046, 0.16503700501034274, 0.7701726900482662, 0.05501233500344758, 0.8739131243798606, 0.1248447320542658, 0.5656298650900938, 0.16160853288288396, 0.24241279932432594, 0.29360277318152833, 0.14680138659076417, 0.14680138659076417, 0.44040415977229247, 0.19621452300155381, 0.09810726150077691, 0.6540484100051793, 0.03270242050025897, 0.8787903656822688, 0.07370981507141994, 0.8845177808570394, 0.941227231482598, 0.21554434813056972, 0.07698012433234633, 0.6312370195252398, 0.06158409946587706, 0.8787957898124769, 0.27427628993995873, 0.1828508599599725, 0.21332600328663456, 0.1828508599599725, 0.1523757166333104, 0.9033429146827787, 0.8316167651084582, 0.10395209563855727, 0.08873312465286608, 0.2661993739585982, 0.6211318725700625, 0.46674923079047553, 0.46674923079047553, 0.05186102564338617, 0.3887459396442805, 0.5442443155019927, 0.9331448198951784, 0.4077630403576459, 0.12232891210729376, 0.20388152017882294, 0.2446578242145875, 0.040776304035764585, 0.6505443702684475, 0.32527218513422373, 0.21359702688710905, 0.32039554033066353, 0.4271940537742181, 0.03559950448118484, 0.9412238741094687, 0.8324630866426035, 0.2671539371974486, 0.5343078743948972, 0.27259611766071434, 0.5451922353214287, 0.10903844706428574, 0.10903844706428574, 0.22251913076108712, 0.3337786961416307, 0.44503826152217424, 0.7030856071459973, 0.08485515948313761, 0.07273299384268937, 0.13334382204493053, 0.45250581596400397, 0.31843001864133613, 0.0837973733266674, 0.06703789866133392, 0.0837973733266674, 0.1317475338040813, 0.7904852028244879, 0.9059789080562497, 0.08236171891420452, 0.15599824570833806, 0.7799912285416903, 0.1248590758692015, 0.7491544552152091, 0.06242953793460075, 0.3145153330493792, 0.05241922217489653, 0.3145153330493792, 0.26209611087448265, 0.1723932095649477, 0.1231380068321055, 0.5664348314276852, 0.0492552027328422, 0.0738828040992633, 0.13013219135292486, 0.08675479423528323, 0.13013219135292486, 0.6506609567646243, 0.8023550931897879, 0.11462215616996971, 0.9215843059191229, 0.17655196023865014, 0.23540261365153353, 0.11770130682576677, 0.23540261365153353, 0.23540261365153353, 0.8324636852469296, 0.15100680107626868, 0.3775170026906717, 0.45302040322880605, 0.719743392173355, 0.17993584804333876, 0.8787916228778994, 0.7953036128902267, 0.11361480184146094, 0.11361480184146094, 0.9033466738727487, 0.3583503227329454, 0.49273169375779996, 0.08958758068323636, 0.08958758068323636, 0.5825811323964775, 0.21846792464867903, 0.21846792464867903, 0.23315894344684282, 0.23315894344684282, 0.5440375347092999, 0.1770420506568219, 0.08852102532841095, 0.44260512664205476, 0.3540841013136438, 0.9033395463359062, 0.9033427581914439, 0.5536420735012944, 0.046136839458441194, 0.1384105183753236, 0.230684197292206, 0.8888128393263891, 0.9331542036546534, 0.20197139257604438, 0.3672207137746261, 0.22033242826477567, 0.11016621413238784, 0.11016621413238784, 0.0827038245939337, 0.8270382459393371, 0.9032435408760464, 0.8303025478071523, 0.8787896813243165, 0.8451875759709858, 0.1408645959951643, 0.37177399651665183, 0.5576609947749778, 0.15862007171066878, 0.6344802868426751, 0.15862007171066878, 0.07931003585533439, 0.6612258659255251, 0.4010196778579606, 0.1838006856848986, 0.1670915324408169, 0.050127459732245076, 0.1838006856848986, 0.6611872356002352, 0.36374062229093895, 0.14549624891637558, 0.07274812445818779, 0.36374062229093895, 0.8354563087995098, 0.13924271813325162, 0.9374738592300579, 0.26776019071775653, 0.5355203814355131, 0.9750843906458926, 0.886286442719009, 0.5952506425589388, 0.13227792056865306, 0.13227792056865306, 0.06613896028432653, 0.13227792056865306, 0.8787959691363632, 0.2274354366783483, 0.1516236244522322, 0.4548708733566966, 0.11371771833917416, 0.1888831523708507, 0.5666494571125521, 0.1888831523708507, 0.08383532508838722, 0.6706826007070977, 0.08383532508838722, 0.16767065017677443, 0.7879407174649905, 0.1575881434929981, 0.19226460811517218, 0.19226460811517218, 0.5767938243455165, 0.4097637198959952, 0.12471069735965071, 0.16034232517669378, 0.32068465035338756, 0.2786855627830602, 0.2760314145660787, 0.21100478325003133, 0.11545544743869639, 0.11810959565567791, 0.42526308912581756, 0.2923683737739996, 0.13953945111940888, 0.046513150373136296, 0.09302630074627259, 0.9737820511695854, 0.8303153720554528, 0.878790467647636, 0.8787941594207235, 0.2362951780261486, 0.6301204747363963, 0.15753011868409908, 0.7449041195595765, 0.9033408152021237, 0.8324630866426035, 0.8894484630167366, 0.6611875174773744, 0.9033456032399377, 0.9412267600672157, 0.9033276980843036, 0.7482354887703604, 0.9484308441227172, 0.3486598487358731, 0.41322648739066437, 0.12913327730958263, 0.06456663865479131, 0.051653310923833046, 0.2615839367994943, 0.5885638577988622, 0.13079196839974716, 0.8303014326551971, 0.11400872629062249, 0.7980610840343575, 0.11400872629062249, 0.0700606067837567, 0.4670707118917113, 0.2802424271350268, 0.1401212135675134, 0.04670707118917113, 0.07551131746559883, 0.15102263493119766, 0.3020452698623953, 0.453067904793593, 0.2957679834606055, 0.2957679834606055, 0.4436519751909083, 0.06940902253185174, 0.832908270382221, 0.03470451126592587, 0.06940902253185174, 0.13801833785204687, 0.8281100271122812, 0.8303646463729355, 0.9413210900565906, 0.7449034228522249, 0.16538232193587862, 0.2067279024198483, 0.2067279024198483, 0.33076464387175725, 0.08269116096793931, 0.7482107170107062, 0.7482689891252937, 0.7517768300756056, 0.9334672812069195, 0.9033394114471621, 0.7216969787365798, 0.18042424468414495, 0.835366241713582, 0.13922770695226366, 0.26776063211155593, 0.5355212642231119, 0.5343761491933653, 0.26718807459668265, 0.5208266178489891, 0.36457863249429234, 0.10416532356979781, 0.6847913115976734, 0.24901502239915396, 0.7482367943341661, 0.23813075109158546, 0.65485956550186, 0.11906537554579273, 0.9332540783739441, 0.9033446441216725, 0.9412311959919673, 0.9412824756724456, 0.218282278388705, 0.654846835166115, 0.35130530704576474, 0.11710176901525492, 0.46840707606101967, 0.81097247522237, 0.2317064214921057, 0.5421230377122878, 0.24094357231657237, 0.060235893079143094, 0.12047178615828619, 0.7482121355385173, 0.8888144600953655, 0.7611261726192208, 0.0951407715774026, 0.0951407715774026, 0.3309843060799821, 0.24823822955998656, 0.12411911477999328, 0.08274607651999552, 0.24823822955998656, 0.9412235297150279, 0.28310664067726005, 0.24771831059260255, 0.14155332033863002, 0.24771831059260255, 0.07077666016931501, 0.9412524762236808, 0.8787904698750801, 0.9412998813340137, 0.5931163288338004, 0.2965581644169002, 0.22155030791086114, 0.3323254618662917, 0.11077515395543057, 0.3323254618662917, 0.11391449850282476, 0.7974014895197733, 0.38105985492987127, 0.07621197098597425, 0.1524239419719485, 0.07621197098597425, 0.304847883943897, 0.3296946633901077, 0.07326548075335727, 0.5128583652735009, 0.07326548075335727, 0.2358829639078829, 0.3066478530802478, 0.16511807473551804, 0.18870637112630634, 0.11794148195394145, 0.9331974841015166, 0.941311458012671, 0.27168133871882116, 0.5433626774376423, 0.9033549896023138, 0.9033385937964182, 0.13790939318350334, 0.3309825436404081, 0.3034006650037074, 0.16549127182020404, 0.08274563591010202, 0.9033394114471621, 0.7518002357846231, 0.1375019024914803, 0.6875095124574016, 0.06875095124574016, 0.11458491874290026, 0.14566228046553947, 0.837558112676852, 0.3765050014996134, 0.5647575022494201, 0.7597118109559442, 0.25323727031864807, 0.8303922386821383, 0.5920227590625999, 0.32292150494323635, 0.05382025082387273, 0.14336489827830223, 0.047788299426100744, 0.7168244913915112, 0.047788299426100744, 0.9331461567602491, 0.6041149545638075, 0.18123448636914222, 0.18123448636914222, 0.06041149545638074, 0.2637639355312223, 0.5275278710624446, 0.2637639355312223, 0.7449229484890642, 0.19393581709068558, 0.5333234969993853, 0.09696790854534279, 0.09696790854534279, 0.09696790854534279, 0.9412315300872621, 0.13252325059528963, 0.6626162529764481, 0.13252325059528963, 0.9412490494822812, 0.348311078710219, 0.23946386661327557, 0.21769442419388688, 0.06530832725816607, 0.13061665451633214, 0.22413787894799636, 0.672413636843989, 0.231790709937875, 0.417223277888175, 0.1854325679503, 0.139074425962725, 0.6322720193794369, 0.21075733979314562, 0.7807755749160746, 0.15615511498321494, 0.7882125784042248, 0.15764251568084495, 0.24947923562626495, 0.3468369861145635, 0.21297007919315303, 0.14603662573244777, 0.0425940158386306, 0.267141806846299, 0.534283613692598, 0.9033394114471621, 0.35398313461786785, 0.6194704855812687, 0.11633794811529352, 0.34901384434588056, 0.16287312736141094, 0.3024786650997632, 0.06980276886917611, 0.8986920309686784, 0.30917246404922893, 0.07729311601230723, 0.15458623202461447, 0.38646558006153614], \"Term\": [\"abortion\", \"abortion\", \"abortion\", \"abortion\", \"abortion\", \"abortionismurder\", \"acceptable\", \"admit\", \"adopted\", \"adoption\", \"adoption\", \"advocate\", \"advocate\", \"advocating\", \"agency\", \"agency\", \"agree\", \"agree\", \"agree\", \"agree\", \"agrees\", \"also\", \"also\", \"also\", \"also\", \"always\", \"always\", \"always\", \"amendment\", \"amp\", \"amp\", \"amp\", \"amp\", \"amp\", \"area\", \"argument\", \"argument\", \"argument\", \"argument\", \"askaboutabortion\", \"auto\", \"baby\", \"baby\", \"baby\", \"baby\", \"baby\", \"beat\", \"beat\", \"believe\", \"believe\", \"believe\", \"believe\", \"bernie\", \"bernie\", \"bias\", \"birth\", \"birth\", \"birth\", \"birth\", \"bit\", \"blacklivesmatter\", \"bluewave\", \"bluewave\", \"board\", \"body\", \"body\", \"body\", \"body\", \"bother\", \"business\", \"business\", \"business\", \"campaign\", \"campaign\", \"campaign\", \"cannot\", \"care\", \"care\", \"care\", \"care\", \"carrying\", \"catholic\", \"catholic\", \"catholic\", \"catholic\", \"center\", \"center\", \"center\", \"certificate\", \"changed\", \"changed\", \"changing\", \"changing\", \"charity\", \"charter\", \"check\", \"child\", \"child\", \"child\", \"child\", \"child\", \"choice\", \"choice\", \"choice\", \"choice\", \"choice\", \"choose\", \"choose\", \"choose\", \"choose\", \"city\", \"clearly\", \"college\", \"come\", \"come\", \"come\", \"come\", \"come\", \"commitment\", \"complex\", \"complex\", \"concede\", \"conceive\", \"conclusive\", \"confused\", \"contingent\", \"contraceptive\", \"corporation\", \"court\", \"create\", \"create\", \"creating\", \"crowd\", \"crowd\", \"debate\", \"debate\", \"decide\", \"decide\", \"devil\", \"disagree\", \"disagree\", \"disagree\", \"dislike\", \"dna\", \"dna\", \"doctor\", \"doctor\", \"doctor\", \"dont\", \"dont\", \"dont\", \"dont\", \"dont\", \"durrr\", \"education\", \"encouraging\", \"end\", \"end\", \"end\", \"end\", \"enough\", \"equal\", \"equally\", \"escaping\", \"escort\", \"especially\", \"especially\", \"even\", \"even\", \"even\", \"even\", \"even\", \"every\", \"every\", \"every\", \"evidence\", \"evidence\", \"exist\", \"extensive\", \"far\", \"feminism\", \"feminism\", \"fertilization\", \"fetus\", \"fetus\", \"fetus\", \"fetus\", \"fetus\", \"fighting\", \"foster\", \"free\", \"free\", \"free\", \"get\", \"get\", \"get\", \"get\", \"goal\", \"god\", \"god\", \"god\", \"god\", \"god\", \"good\", \"good\", \"good\", \"good\", \"goose\", \"gorsuch\", \"govt\", \"govt\", \"group\", \"group\", \"group\", \"happy\", \"happy\", \"hate\", \"hate\", \"hate\", \"health\", \"health\", \"health\", \"health\", \"help\", \"help\", \"help\", \"help\", \"highly\", \"home\", \"home\", \"hrc\", \"human\", \"human\", \"human\", \"human\", \"hurrr\", \"im\", \"im\", \"im\", \"im\", \"im\", \"include\", \"innocent\", \"innocent\", \"isnt\", \"isnt\", \"isnt\", \"issue\", \"issue\", \"issue\", \"ive\", \"ive\", \"key\", \"kill\", \"kill\", \"kill\", \"kill\", \"kill\", \"killing\", \"killing\", \"know\", \"know\", \"know\", \"know\", \"language\", \"laziest\", \"lead\", \"lead\", \"let\", \"let\", \"let\", \"let\", \"lie\", \"lie\", \"lie\", \"life\", \"life\", \"life\", \"life\", \"like\", \"like\", \"like\", \"like\", \"like\", \"list\", \"list\", \"live\", \"live\", \"lol\", \"lol\", \"lot\", \"lot\", \"lot\", \"love\", \"love\", \"love\", \"love\", \"make\", \"make\", \"make\", \"make\", \"make\", \"many\", \"many\", \"many\", \"many\", \"marchforlife\", \"marchforlife\", \"maternity\", \"mean\", \"mean\", \"mean\", \"mean\", \"mean\", \"meant\", \"men\", \"men\", \"men\", \"might\", \"might\", \"military\", \"mind\", \"mind\", \"mind\", \"miscarriage\", \"mother\", \"mother\", \"mother\", \"mother\", \"movement\", \"movement\", \"movement\", \"much\", \"much\", \"much\", \"murder\", \"murder\", \"murder\", \"murder\", \"nc\", \"near\", \"need\", \"need\", \"need\", \"need\", \"new\", \"notmypresident\", \"one\", \"one\", \"one\", \"one\", \"one\", \"organization\", \"organization\", \"outcome\", \"overwhelmingly\", \"palin\", \"parent\", \"parent\", \"parenthood\", \"parenthood\", \"party\", \"party\", \"party\", \"party\", \"passed\", \"people\", \"people\", \"people\", \"people\", \"people\", \"perfectly\", \"person\", \"person\", \"person\", \"person\", \"personally\", \"personally\", \"petition\", \"photo\", \"photo\", \"pill\", \"place\", \"plannedparenthood\", \"plannedparenthood\", \"plannedparenthood\", \"plannedparenthood\", \"plannedparenthood\", \"podcast\", \"point\", \"point\", \"point\", \"point\", \"population\", \"population\", \"population\", \"ppl\", \"ppl\", \"ppl\", \"ppl\", \"prevent\", \"prevent\", \"private\", \"private\", \"private\", \"pro\", \"pro\", \"pro\", \"pro\", \"prochoice\", \"prochoice\", \"prochoice\", \"prochoice\", \"prochoice\", \"prolife\", \"prolife\", \"prolife\", \"prolife\", \"prolife\", \"prominent\", \"proof\", \"propaganda\", \"provider\", \"question\", \"question\", \"question\", \"racism\", \"rant\", \"reduces\", \"reguritated\", \"remind\", \"reminds\", \"rep\", \"requirement\", \"research\", \"resource\", \"right\", \"right\", \"right\", \"right\", \"right\", \"roe\", \"roe\", \"roe\", \"rotation\", \"rule\", \"rule\", \"rule\", \"say\", \"say\", \"say\", \"say\", \"say\", \"saying\", \"saying\", \"saying\", \"saying\", \"school\", \"school\", \"school\", \"science\", \"science\", \"science\", \"science\", \"scientific\", \"scientific\", \"scientifically\", \"search\", \"second\", \"see\", \"see\", \"see\", \"see\", \"see\", \"seem\", \"seen\", \"selection\", \"self\", \"semantics\", \"send\", \"send\", \"sense\", \"sense\", \"share\", \"share\", \"shooting\", \"shooting\", \"side\", \"side\", \"side\", \"sign\", \"sign\", \"simple\", \"since\", \"since\", \"since\", \"solution\", \"song\", \"south\", \"specie\", \"specifically\", \"specifically\", \"stage\", \"stage\", \"stage\", \"stance\", \"stance\", \"stand\", \"stand\", \"stand\", \"stand\", \"standard\", \"standing\", \"state\", \"state\", \"state\", \"still\", \"still\", \"still\", \"still\", \"still\", \"stupidity\", \"support\", \"support\", \"support\", \"support\", \"support\", \"supreme\", \"surprise\", \"talked\", \"tcot\", \"tcot\", \"tell\", \"tell\", \"tell\", \"tell\", \"th\", \"th\", \"thats\", \"thats\", \"thats\", \"thats\", \"thats\", \"thing\", \"thing\", \"thing\", \"thing\", \"think\", \"think\", \"think\", \"think\", \"think\", \"thinking\", \"throw\", \"told\", \"told\", \"towards\", \"trickery\", \"trump\", \"trump\", \"trump\", \"trump\", \"trump\", \"trumppence\", \"typical\", \"u\", \"u\", \"u\", \"u\", \"unborn\", \"unborn\", \"uniteblue\", \"uniteblue\", \"ur\", \"ur\", \"using\", \"v\", \"v\", \"v\", \"value\", \"value\", \"value\", \"value\", \"vegan\", \"via\", \"via\", \"via\", \"via\", \"view\", \"view\", \"view\", \"violent\", \"vote\", \"vote\", \"vote\", \"vote\", \"vote\", \"voteprochoice\", \"voting\", \"voting\", \"voting\", \"vulgar\", \"want\", \"want\", \"want\", \"want\", \"want\", \"watch\", \"watch\", \"way\", \"way\", \"way\", \"way\", \"went\", \"went\", \"wish\", \"wish\", \"wk\", \"wk\", \"woman\", \"woman\", \"woman\", \"woman\", \"woman\", \"womensmarch\", \"womensmarch\", \"womensrighttoprivacy\", \"work\", \"work\", \"would\", \"would\", \"would\", \"would\", \"would\", \"x\", \"youre\", \"youre\", \"youre\", \"youre\"]}, \"R\": 30, \"lambda.step\": 0.01, \"plot.opts\": {\"xlab\": \"PC1\", \"ylab\": \"PC2\"}, \"topic.order\": [1, 4, 5, 3, 2]};\n",
       "\n",
       "function LDAvis_load_lib(url, callback){\n",
       "  var s = document.createElement('script');\n",
       "  s.src = url;\n",
       "  s.async = true;\n",
       "  s.onreadystatechange = s.onload = callback;\n",
       "  s.onerror = function(){console.warn(\"failed to load library \" + url);};\n",
       "  document.getElementsByTagName(\"head\")[0].appendChild(s);\n",
       "}\n",
       "\n",
       "if(typeof(LDAvis) !== \"undefined\"){\n",
       "   // already loaded: just create the visualization\n",
       "   !function(LDAvis){\n",
       "       new LDAvis(\"#\" + \"ldavis_el405981406688923543845468881015\", ldavis_el405981406688923543845468881015_data);\n",
       "   }(LDAvis);\n",
       "}else if(typeof define === \"function\" && define.amd){\n",
       "   // require.js is available: use it to load d3/LDAvis\n",
       "   require.config({paths: {d3: \"https://d3js.org/d3.v5\"}});\n",
       "   require([\"d3\"], function(d3){\n",
       "      window.d3 = d3;\n",
       "      LDAvis_load_lib(\"https://cdn.jsdelivr.net/gh/bmabey/pyLDAvis@3.3.1/pyLDAvis/js/ldavis.v3.0.0.js\", function(){\n",
       "        new LDAvis(\"#\" + \"ldavis_el405981406688923543845468881015\", ldavis_el405981406688923543845468881015_data);\n",
       "      });\n",
       "    });\n",
       "}else{\n",
       "    // require.js not available: dynamically load d3 & LDAvis\n",
       "    LDAvis_load_lib(\"https://d3js.org/d3.v5.js\", function(){\n",
       "         LDAvis_load_lib(\"https://cdn.jsdelivr.net/gh/bmabey/pyLDAvis@3.3.1/pyLDAvis/js/ldavis.v3.0.0.js\", function(){\n",
       "                 new LDAvis(\"#\" + \"ldavis_el405981406688923543845468881015\", ldavis_el405981406688923543845468881015_data);\n",
       "            })\n",
       "         });\n",
       "}\n",
       "</script>"
      ],
      "text/plain": [
       "PreparedData(topic_coordinates=              x         y  topics  cluster       Freq\n",
       "topic                                                \n",
       "0      0.014840  0.043052       1        1  25.550314\n",
       "3     -0.025373 -0.099549       2        1  23.992136\n",
       "4      0.138025 -0.010554       3        1  23.049826\n",
       "2     -0.086592 -0.022639       4        1  14.708044\n",
       "1     -0.040900  0.089690       5        1  12.699681, topic_info=           Term       Freq      Total Category  logprob  loglift\n",
       "1109   advocate  63.000000  63.000000  Default  30.0000  30.0000\n",
       "7          life  82.000000  82.000000  Default  29.0000  29.0000\n",
       "41         help  30.000000  30.000000  Default  28.0000  28.0000\n",
       "69          pro  56.000000  56.000000  Default  27.0000  27.0000\n",
       "1303  prominent  22.000000  22.000000  Default  26.0000  26.0000\n",
       "...         ...        ...        ...      ...      ...      ...\n",
       "12        think   4.845099  42.393905   Topic5  -5.7900  -0.1054\n",
       "34         mean   3.972469  16.992165   Topic5  -5.9886   0.6102\n",
       "124        like   4.970412  59.667741   Topic5  -5.7645  -0.4217\n",
       "337       human   4.188956  64.951831   Topic5  -5.9355  -0.6776\n",
       "37        right   4.081550  77.439373   Topic5  -5.9615  -0.8794\n",
       "\n",
       "[375 rows x 6 columns], token_table=      Topic      Freq      Term\n",
       "term                           \n",
       "40        1  0.185421  abortion\n",
       "40        2  0.359605  abortion\n",
       "40        3  0.213515  abortion\n",
       "40        4  0.112377  abortion\n",
       "40        5  0.129233  abortion\n",
       "...     ...       ...       ...\n",
       "3002      1  0.898692         x\n",
       "1441      1  0.309172     youre\n",
       "1441      2  0.077293     youre\n",
       "1441      4  0.154586     youre\n",
       "1441      5  0.386466     youre\n",
       "\n",
       "[639 rows x 3 columns], R=30, lambda_step=0.01, plot_opts={'xlab': 'PC1', 'ylab': 'PC2'}, topic_order=[1, 4, 5, 3, 2])"
      ]
     },
     "execution_count": 106,
     "metadata": {},
     "output_type": "execute_result"
    }
   ],
   "source": [
    "pyLDAvis.enable_notebook()\n",
    "vis=gensimvis.prepare(tweets_lda_cm, tweets_bow_cm, dictionary=txt_dict_cm)\n",
    "vis"
   ]
  },
  {
   "cell_type": "code",
   "execution_count": null,
   "metadata": {},
   "outputs": [],
   "source": []
  }
 ],
 "metadata": {
  "kernelspec": {
   "display_name": "Python 3",
   "language": "python",
   "name": "python3"
  },
  "language_info": {
   "codemirror_mode": {
    "name": "ipython",
    "version": 3
   },
   "file_extension": ".py",
   "mimetype": "text/x-python",
   "name": "python",
   "nbconvert_exporter": "python",
   "pygments_lexer": "ipython3",
   "version": "3.7.6"
  }
 },
 "nbformat": 4,
 "nbformat_minor": 4
}
